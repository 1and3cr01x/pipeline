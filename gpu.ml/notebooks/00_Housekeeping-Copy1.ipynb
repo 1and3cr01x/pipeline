{
 "cells": [
  {
   "cell_type": "markdown",
   "metadata": {},
   "source": [
    "# Housekeeping"
   ]
  },
  {
   "cell_type": "markdown",
   "metadata": {},
   "source": [
    "## Code, Notebooks, and Docker Images\n",
    "Please STAR this GitHub Repo!!\n",
    "\n",
    "https://github.com/fluxcapacitor/pipeline/"
   ]
  },
  {
   "cell_type": "markdown",
   "metadata": {},
   "source": [
    "## Advanced Spark and TensorFlow Meetup (Global)\n",
    "Join Us!!\n",
    "\n",
    "https://www.meetup.com/Advanced-Spark-and-TensorFlow-Meetup/"
   ]
  }
 ],
 "metadata": {
  "kernelspec": {
   "display_name": "Python [default]",
   "language": "python",
   "name": "python3"
  },
  "language_info": {
   "codemirror_mode": {
    "name": "ipython",
    "version": 3
   },
   "file_extension": ".py",
   "mimetype": "text/x-python",
   "name": "python",
   "nbconvert_exporter": "python",
   "pygments_lexer": "ipython3",
   "version": "3.5.3"
  }
 },
 "nbformat": 4,
 "nbformat_minor": 2
}
