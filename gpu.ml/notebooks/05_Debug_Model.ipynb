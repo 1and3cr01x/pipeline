{
 "cells": [
  {
   "cell_type": "markdown",
   "metadata": {},
   "source": [
    "## Open a Terminal through Jupyter Notebook \n",
    "### (Menu Bar -> Terminal -> New Terminal)\n",
    "![Jupyter Terminal](https://s3.amazonaws.com/fluxcapacitor.com/img/jupyter-terminal.png)"
   ]
  },
  {
   "cell_type": "markdown",
   "metadata": {},
   "source": [
    "## Run the following in the Terminal:\n",
    "```\n",
    "python /root/src/main/python/debug/debug_model_cpu.py\n",
    "```"
   ]
  },
  {
   "cell_type": "markdown",
   "metadata": {},
   "source": [
    "## Here's the Code\n",
    "Find the DebugWrapper\n",
    "```\n",
    "sess = tf.Session(config=config)\n",
    "sess = tf_debug.LocalCLIDebugWrapperSession(sess)\n",
    "```"
   ]
  },
  {
   "cell_type": "code",
   "execution_count": 2,
   "metadata": {},
   "outputs": [
    {
     "name": "stdout",
     "output_type": "stream",
     "text": [
      "from tensorflow.python import debug as tf_debug\r\n",
      "\r\n",
      "import tensorflow as tf\r\n",
      "from tensorflow.python.client import timeline\r\n",
      "import numpy as np\r\n",
      "\r\n",
      "tf.logging.set_verbosity(tf.logging.INFO)\r\n",
      "\r\n",
      "x_train = np.random.rand(100000).astype(np.float32)\r\n",
      "print(x_train)\r\n",
      "\r\n",
      "noise = np.random.normal(scale=0.01, size=len(x_train))\r\n",
      "\r\n",
      "y_train = x_train * 0.1 + 0.3 + noise\r\n",
      "print(y_train)\r\n",
      "\r\n",
      "x_test = np.random.rand(len(x_train)).astype(np.float32)\r\n",
      "print(x_test)\r\n",
      "\r\n",
      "noise = np.random.normal(scale=0.01, size=len(x_train))\r\n",
      "\r\n",
      "y_test = x_test * 0.1 + 0.3 + noise\r\n",
      "print(y_test)\r\n",
      "\r\n",
      "W = tf.get_variable(shape=[], name='weights')\r\n",
      "print(W)\r\n",
      "\r\n",
      "b = tf.get_variable(shape=[], name='bias')\r\n",
      "print(b)\r\n",
      "\r\n",
      "x_observed = tf.placeholder(shape=[None], dtype=tf.float32, name='x_observed')\r\n",
      "print(x_observed)\r\n",
      "\r\n",
      "y_pred = W * x_observed + b\r\n",
      "print (y_pred)\r\n",
      "\r\n",
      "init_op = tf.global_variables_initializer()\r\n",
      "print(init_op)\r\n",
      "\r\n",
      "config = tf.ConfigProto(\r\n",
      "  log_device_placement=True,\r\n",
      ")\r\n",
      "\r\n",
      "sess = tf.Session(config=config)\r\n",
      "sess = tf_debug.LocalCLIDebugWrapperSession(sess)\r\n",
      "\r\n",
      "with tf.device(\"/device:cpu:0\"):\r\n",
      "  sess.run(init_op)\r\n",
      "\r\n",
      "def test(x, y):\r\n",
      "  return sess.run(loss_op, feed_dict={x_observed: x, y_observed: y})\r\n",
      "\r\n",
      "y_observed = tf.placeholder(shape=[None], dtype=tf.float32, name='y_observed')\r\n",
      "print(y_observed)\r\n",
      "\r\n",
      "loss_op = tf.reduce_mean(tf.square(y_pred - y_observed))\r\n",
      "\r\n",
      "optimizer_op = tf.train.GradientDescentOptimizer(0.5)\r\n",
      "\r\n",
      "train_op = optimizer_op.minimize(loss_op)\r\n",
      "\r\n",
      "print(\"loss:\", loss_op)\r\n",
      "print(\"optimizer:\", optimizer_op)\r\n",
      "print(\"train:\", train_op)\r\n",
      "\r\n",
      "print(\"W: %f\" % sess.run(W))\r\n",
      "print(\"b: %f\" % sess.run(b))\r\n"
     ]
    }
   ],
   "source": [
    "!cat /root/src/main/python/debug/debug_model_cpu.py"
   ]
  },
  {
   "cell_type": "code",
   "execution_count": null,
   "metadata": {},
   "outputs": [],
   "source": []
  }
 ],
 "metadata": {
  "kernelspec": {
   "display_name": "Python [default]",
   "language": "python",
   "name": "python3"
  },
  "language_info": {
   "codemirror_mode": {
    "name": "ipython",
    "version": 3
   },
   "file_extension": ".py",
   "mimetype": "text/x-python",
   "name": "python",
   "nbconvert_exporter": "python",
   "pygments_lexer": "ipython3",
   "version": "3.5.3"
  }
 },
 "nbformat": 4,
 "nbformat_minor": 2
}
