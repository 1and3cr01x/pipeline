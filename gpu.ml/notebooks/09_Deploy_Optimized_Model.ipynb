{
 "cells": [
  {
   "cell_type": "markdown",
   "metadata": {},
   "source": [
    "# Deploy Optimized Model to TensorFlow Serving"
   ]
  },
  {
   "cell_type": "markdown",
   "metadata": {},
   "source": [
    "## Break Out of TensorFlow Serving Terminal\n",
    "`<ctrl-c>` in the load test terminal\n",
    "\n",
    "`<ctrl-c>` in the model server terminal"
   ]
  },
  {
   "cell_type": "markdown",
   "metadata": {},
   "source": [
    "## Open a Terminal through Jupyter Notebook \n",
    "### (Menu Bar -> Terminal -> New Terminal)\n",
    "![Jupyter Terminal](https://s3.amazonaws.com/fluxcapacitor.com/img/jupyter-terminal.png)"
   ]
  },
  {
   "cell_type": "markdown",
   "metadata": {},
   "source": [
    "### Start TensorFlow Serving in the Terminal\n",
    "Point to the optimized version of the model.\n",
    "```\n",
    "tensorflow_model_server \\\n",
    "  --port=9000 \\\n",
    "  --model_name=linear \\\n",
    "  --model_base_path=/root/models/linear_fully_optimized/cpu/ \\\n",
    "  --enable_batching=false\n",
    "```\n",
    "\n",
    "The params are as follows:\n",
    "* `port` (int)\n",
    "* `model_name` (anything)\n",
    "* `model_base_path` (/path/to/model/ above all versioned sub-directories)\n",
    "* `enable_batching` (true|false)"
   ]
  },
  {
   "cell_type": "markdown",
   "metadata": {},
   "source": [
    "## Predict\n",
    "\n",
    "```\n",
    "predict 9004 1.5\n",
    "```\n",
    "\n",
    "The params are as follows:\n",
    "* `1: port for http-grpc proxy`\n",
    "* `2: x_observed`"
   ]
  },
  {
   "cell_type": "markdown",
   "metadata": {},
   "source": [
    "## Start Load Test in the Terminal\n",
    "```\n",
    "loadtest high\n",
    "```\n",
    "\n",
    "The params are as follows:\n",
    "* `1: amount of load low|medium|high`\n",
    "\n",
    "Notice the throughput and avg/min/max latencies:\n",
    "```\n",
    "summary ... =  400.2/s Avg:   249 Min:   230 Max:   286 Err:     0 (0.00%)\n",
    "```"
   ]
  },
  {
   "cell_type": "markdown",
   "metadata": {},
   "source": [
    "## Run this Command to Watch GPU Every Second:\n",
    "```\n",
    "watch -n 1 nvidia-smi\n",
    "```"
   ]
  }
 ],
 "metadata": {
  "anaconda-cloud": {},
  "kernelspec": {
   "display_name": "Python [default]",
   "language": "python",
   "name": "python3"
  },
  "language_info": {
   "codemirror_mode": {
    "name": "ipython",
    "version": 3
   },
   "file_extension": ".py",
   "mimetype": "text/x-python",
   "name": "python",
   "nbconvert_exporter": "python",
   "pygments_lexer": "ipython3",
   "version": "3.5.3"
  }
 },
 "nbformat": 4,
 "nbformat_minor": 2
}
