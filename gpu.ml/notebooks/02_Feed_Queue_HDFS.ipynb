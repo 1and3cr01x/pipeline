{
 "cells": [
  {
   "cell_type": "markdown",
   "metadata": {},
   "source": [
    "# Feed Dataset through Queue to Tensorflow from HDFS"
   ]
  },
  {
   "cell_type": "markdown",
   "metadata": {},
   "source": [
    "## Populate HDFS with Sample Dataset"
   ]
  },
  {
   "cell_type": "code",
   "execution_count": null,
   "metadata": {},
   "outputs": [],
   "source": [
    "%%bash\n",
    "\n",
    "hadoop fs -copyFromLocal /root/datasets/linear /"
   ]
  },
  {
   "cell_type": "code",
   "execution_count": null,
   "metadata": {},
   "outputs": [],
   "source": [
    "%%bash\n",
    "\n",
    "hadoop fs -ls /linear"
   ]
  },
  {
   "cell_type": "markdown",
   "metadata": {},
   "source": [
    "## Feed TensorFlow from HDFS through a `FIFOQueue`\n",
    "`tf.train.string_input_producer()` uses `tf.FIFOQueue` internally."
   ]
  },
  {
   "cell_type": "code",
   "execution_count": null,
   "metadata": {},
   "outputs": [],
   "source": [
    "import tensorflow as tf\n",
    "import numpy as np\n",
    "\n",
    "hdfs_queue = tf.train.string_input_producer([\n",
    "    \"hdfs://127.0.0.1:39000/linear/training.csv\",\n",
    "])\n",
    "\n",
    "reader = tf.TextLineReader()\n",
    "_, value = reader.read(hdfs_queue)\n",
    "x_observed, y_observed = tf.decode_csv(value, [[0.0],[0.0]])\n",
    "\n",
    "with tf.Session() as sess:\n",
    "    coord = tf.train.Coordinator()\n",
    "    threads = tf.train.start_queue_runners(coord=coord,\n",
    "                                           sess=sess)\n",
    "    try:\n",
    "        n = 10\n",
    "        print(\"First %d:\\n\" % n)\n",
    "        for _ in range(n):\n",
    "            x, y = sess.run([x_observed, y_observed])\n",
    "            print(np.asarray([x, y]))\n",
    "    finally:\n",
    "        coord.request_stop()\n",
    "        coord.join(threads)"
   ]
  },
  {
   "cell_type": "markdown",
   "metadata": {},
   "source": [
    "## Feed Batched Data from HDFS to TensorFlow\n",
    "`tf.train.batch` uses `tf.FIFOQueue` internally - similar to `tf.train.string_input_producer()`\n",
    "\n",
    "`capacity` must be larger than `min_after_dequeue`.  The difference in size becomes the prefetch maximum.\n",
    "\n",
    "`capacity` = `batch_size` * `num_threads`"
   ]
  },
  {
   "cell_type": "code",
   "execution_count": null,
   "metadata": {},
   "outputs": [],
   "source": [
    "import tensorflow as tf\n",
    "\n",
    "hdfs_queue = tf.train.string_input_producer([\n",
    "    \"hdfs://127.0.0.1:39000/linear/training.csv\",\n",
    "])\n",
    "\n",
    "reader = tf.TextLineReader()\n",
    "_, value = reader.read(hdfs_queue)\n",
    "x_observed, y_observed = tf.decode_csv(value, [[0.0],[0.0]])\n",
    "\n",
    "x_observed_batch, y_observed_batch = \\\n",
    "    tf.train.batch([x_observed, y_observed], \n",
    "                            batch_size=10,\n",
    "                            capacity=80,\n",
    "                            num_threads=8)\n",
    "    \n",
    "with tf.Session() as sess:\n",
    "    coord = tf.train.Coordinator()\n",
    "    threads = tf.train.start_queue_runners(coord=coord,\n",
    "                                           sess=sess)\n",
    "    try:\n",
    "        print(\"Batch:\\n\")\n",
    "        x, y = sess.run([x_observed_batch, y_observed_batch])\n",
    "        print(x, y)\n",
    "    finally:\n",
    "        coord.request_stop()\n",
    "        coord.join(threads)"
   ]
  },
  {
   "cell_type": "markdown",
   "metadata": {},
   "source": [
    "## Feed Shuffled Batch Data from HDFS to TensorFlow\n",
    "`tf.train.shuffle_batch` uses `tf.RandomShuffleQueue` internally.\n",
    "\n",
    "`min_after_dequeue` defines the buffer size when randomly sampling.  Larger buffers require more RAM, but provide better shuffling characteristics.\n",
    "\n",
    "`capacity` must be larger than `min_after_dequeue`.  The difference in size becomes the prefetch maximum.\n",
    "\n",
    "`capacity` = `batch_size` * (`num_threads` + `some_safety_margin`) + `min_after_dequeue`"
   ]
  },
  {
   "cell_type": "code",
   "execution_count": null,
   "metadata": {},
   "outputs": [],
   "source": [
    "import tensorflow as tf\n",
    "\n",
    "shuffled_hdfs_queue = tf.train.string_input_producer([\n",
    "    \"hdfs://127.0.0.1:39000/linear/training.csv\",\n",
    "])\n",
    "\n",
    "reader = tf.TextLineReader()\n",
    "_, value = reader.read(shuffled_hdfs_queue)\n",
    "x_observed, y_observed = tf.decode_csv(value, [[0.0],[0.0]])\n",
    "\n",
    "x_observed_shuffled_batch, y_observed_shuffled_batch = \\\n",
    "    tf.train.shuffle_batch([x_observed, y_observed], \n",
    "                            batch_size=10,\n",
    "                            capacity=100,\n",
    "                            min_after_dequeue=10,\n",
    "                            num_threads=8)\n",
    "\n",
    "with tf.Session() as sess:\n",
    "    coord = tf.train.Coordinator()\n",
    "    threads = tf.train.start_queue_runners(coord=coord,\n",
    "                                           sess=sess)\n",
    "    try:\n",
    "        print(\"Shuffled batch:\\n\")\n",
    "        x, y = sess.run([x_observed_shuffled_batch, y_observed_shuffled_batch])\n",
    "        print(x, y)\n",
    "    finally:\n",
    "        coord.request_stop()\n",
    "        coord.join(threads)"
   ]
  },
  {
   "cell_type": "code",
   "execution_count": null,
   "metadata": {},
   "outputs": [],
   "source": []
  }
 ],
 "metadata": {
  "kernelspec": {
   "display_name": "Python [default]",
   "language": "python",
   "name": "python3"
  },
  "language_info": {
   "codemirror_mode": {
    "name": "ipython",
    "version": 3
   },
   "file_extension": ".py",
   "mimetype": "text/x-python",
   "name": "python",
   "nbconvert_exporter": "python",
   "pygments_lexer": "ipython3",
   "version": "3.5.3"
  }
 },
 "nbformat": 4,
 "nbformat_minor": 2
}
