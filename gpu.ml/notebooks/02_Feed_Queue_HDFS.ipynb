{
 "cells": [
  {
   "cell_type": "markdown",
   "metadata": {},
   "source": [
    "# Feed Dataset through Queue to Tensorflow from HDFS"
   ]
  },
  {
   "cell_type": "markdown",
   "metadata": {},
   "source": [
    "## Populate HDFS with Sample Dataset"
   ]
  },
  {
   "cell_type": "code",
   "execution_count": null,
   "metadata": {},
   "outputs": [],
   "source": [
    "%%bash\n",
    "\n",
    "hadoop fs -copyFromLocal /root/datasets/linear /"
   ]
  },
  {
   "cell_type": "code",
   "execution_count": null,
   "metadata": {},
   "outputs": [],
   "source": [
    "%%bash\n",
    "\n",
    "hadoop fs -ls /linear"
   ]
  },
  {
   "cell_type": "markdown",
   "metadata": {},
   "source": [
    "## Create Queue and Feed Tensorflow from HDFS"
   ]
  },
  {
   "cell_type": "markdown",
   "metadata": {},
   "source": [
    "### Show TensorFlow-HDFS Code"
   ]
  },
  {
   "cell_type": "code",
   "execution_count": null,
   "metadata": {},
   "outputs": [],
   "source": [
    "%%bash\n",
    "\n",
    "cat /root/src/main/python/queue/tensorflow_hdfs.py"
   ]
  },
  {
   "cell_type": "markdown",
   "metadata": {},
   "source": [
    "## Open a Terminal through Jupyter Notebook \n",
    "### (Menu Bar -> Terminal -> New Terminal)\n",
    "![Jupyter Terminal](https://s3.amazonaws.com/fluxcapacitor.com/img/jupyter-terminal.png)"
   ]
  },
  {
   "cell_type": "markdown",
   "metadata": {},
   "source": [
    "## Run the following in the Terminal\n",
    "```\n",
    "queue_hdfs\n",
    "```\n",
    "_Note:  This will error out in the notebook.  You must run from Terminal!_"
   ]
  },
  {
   "cell_type": "code",
   "execution_count": 11,
   "metadata": {},
   "outputs": [
    {
     "name": "stdout",
     "output_type": "stream",
     "text": [
      "#!/bin/bash\n",
      "\n",
      "echo \"Verifying the dataset in HDFS...\"\n",
      "hadoop fs -ls /linear\n",
      "\n",
      "echo \"Processing dataset from HDFS with TensorFlow...\"\n",
      "python /root/src/main/python/queue/tensorflow_hdfs.py\n"
     ]
    }
   ],
   "source": [
    "%%bash\n",
    "\n",
    "cat /root/scripts/queue_hdfs"
   ]
  },
  {
   "cell_type": "code",
   "execution_count": 12,
   "metadata": {},
   "outputs": [
    {
     "name": "stdout",
     "output_type": "stream",
     "text": [
      "import tensorflow as tf\n",
      "\n",
      "filename_queue = tf.train.string_input_producer([\n",
      "  \"hdfs://127.0.0.1:39000/linear/train.csv\",\n",
      "  \"hdfs://127.0.0.1:39000/linear/test.csv\",\n",
      "])\n",
      "\n",
      "reader = tf.TextLineReader()\n",
      "key, value = reader.read(filename_queue)\n",
      "\n",
      "x_observed, y_pred = tf.decode_csv(value, [[0.0],[0.0]])\n",
      "\n",
      "with tf.Session() as sess:\n",
      "  # Start populating the filename queue.\n",
      "  coord = tf.train.Coordinator()\n",
      "  threads = tf.train.start_queue_runners(coord=coord)\n",
      "  try:\n",
      "    for i in range(20):\n",
      "      # Retrieve and print a single instance:\n",
      "      example, label = sess.run([x_observed, y_pred])\n",
      "      print(example, label)\n",
      "  except tf.errors.OutOfRangeError:\n",
      "    print(\"Done!\")\n",
      "  finally:\n",
      "    coord.request_stop()\n",
      "    coord.join(threads)\n"
     ]
    }
   ],
   "source": [
    "%%bash\n",
    "\n",
    "cat /root/src/main/python/queue/tensorflow_hdfs.py "
   ]
  },
  {
   "cell_type": "code",
   "execution_count": null,
   "metadata": {},
   "outputs": [],
   "source": []
  }
 ],
 "metadata": {
  "kernelspec": {
   "display_name": "Python [default]",
   "language": "python",
   "name": "python3"
  },
  "language_info": {
   "codemirror_mode": {
    "name": "ipython",
    "version": 3
   },
   "file_extension": ".py",
   "mimetype": "text/x-python",
   "name": "python",
   "nbconvert_exporter": "python",
   "pygments_lexer": "ipython3",
   "version": "3.5.3"
  }
 },
 "nbformat": 4,
 "nbformat_minor": 2
}
