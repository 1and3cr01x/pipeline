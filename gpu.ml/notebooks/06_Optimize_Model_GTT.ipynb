{
 "cells": [
  {
   "cell_type": "markdown",
   "metadata": {},
   "source": [
    "## Types of Optimizations Applied for Inference\n",
    "* Remove training-only operations (checkpoint saving, drop out)\n",
    "* Strip out unreachable nodes\n",
    "* Remove debug operations (CheckNumerics)\n",
    "* Fold batch normalization Ops into the pre-calculated weights (super cool)\n",
    "* Fuse adjacent operators"
   ]
  },
  {
   "cell_type": "markdown",
   "metadata": {},
   "source": [
    "## Graph Transform Tool\n",
    "\n",
    "https://petewarden.com/2016/12/30/rewriting-tensorflow-graphs-with-the-gtt/\n",
    "\n",
    "https://github.com/tensorflow/tensorflow/tree/master/tensorflow/tools/graph_transforms"
   ]
  },
  {
   "cell_type": "markdown",
   "metadata": {},
   "source": [
    "## Summarize Model"
   ]
  },
  {
   "cell_type": "code",
   "execution_count": 59,
   "metadata": {},
   "outputs": [
    {
     "name": "stdout",
     "output_type": "stream",
     "text": [
      "/root/tensorflow/bazel-bin/tensorflow/tools/graph_transforms/summarize_graph\r\n"
     ]
    }
   ],
   "source": [
    "!which summarize_graph"
   ]
  },
  {
   "cell_type": "code",
   "execution_count": 60,
   "metadata": {},
   "outputs": [
    {
     "name": "stdout",
     "output_type": "stream",
     "text": [
      "total 116\r\n",
      "-rw-r--r-- 1 root root  7341 Mar 30 04:45 obfuscated_names_cpu.pb\r\n",
      "-rw-r--r-- 1 root root   307 Mar 30 04:44 optimized_cpu.pb\r\n",
      "-rw-r--r-- 1 root root 13361 Mar 30 04:45 quantized_cpu.pb\r\n",
      "-rw-r--r-- 1 root root 13361 Mar 30 04:45 rounded_weights_cpu.pb\r\n",
      "-rw-r--r-- 1 root root 34062 Mar 30 03:47 unoptimized_cpu.pb\r\n",
      "-rw-r--r-- 1 root root 34062 Mar 30 04:09 unoptimized_gpu.pb\r\n"
     ]
    }
   ],
   "source": [
    "!ls -l /root/models/optimize_me/"
   ]
  },
  {
   "cell_type": "code",
   "execution_count": 61,
   "metadata": {},
   "outputs": [
    {
     "name": "stdout",
     "output_type": "stream",
     "text": [
      "Found 2 possible inputs: (name=x_observed, type=float(1), shape=[]) (name=y_observed, type=float(1), shape=[]) \r\n",
      "Found 2 variables: (name=weights, type=float(1), shape=[]) (name=bias, type=float(1), shape=[]) \r\n",
      "Found 4 possible outputs: (name=gradients/sub_grad/tuple/control_dependency_1, op=Identity) (name=gradients/mul_grad/tuple/control_dependency_1, op=Identity) (name=Merge/MergeSummary, op=MergeSummary) (name=save/Identity, op=Identity) \r\n",
      "2017-03-30 04:50:36.965244: W tensorflow/tools/graph_transforms/summarize_graph_main.cc:183] Decoding Tensor failed for nodeweights\r\n",
      "2017-03-30 04:50:36.965378: W tensorflow/tools/graph_transforms/summarize_graph_main.cc:183] Decoding Tensor failed for nodebias\r\n",
      "Found 25 (25) const parameters, 0 (0) variable parameters, and 24 control_edges\r\n",
      "92 nodes assigned to device '/device:CPU:0'Op types used: 29 Const, 10 Identity, 7 NoOp, 7 Mul, 7 Reshape, 6 Sum, 6 Shape, 4 Assign, 3 Add, 3 Sub, 3 BroadcastGradientArgs, 2 RestoreV2, 2 VariableV2, 2 RandomUniform, 2 Prod, 2 ApplyGradientDescent, 2 Placeholder, 1 Pack, 1 Neg, 1 MergeV2Checkpoints, 1 RealDiv, 1 MergeSummary, 1 Mean, 1 SaveV2, 1 ScalarSummary, 1 Maximum, 1 ShardedFilename, 1 Square, 1 StringJoin, 1 FloorDiv, 1 Fill, 1 Tile, 1 Cast\r\n",
      "To use with tensorflow/tools/benchmark:benchmark_model try these arguments:\r\n",
      "bazel run tensorflow/tools/benchmark:benchmark_model -- --graph=/root/models/optimize_me/unoptimized_cpu.pb --show_flops --logtostderr --input_layer=x_observed,y_observed,weights,bias --input_layer_type=float,float,float,float --input_layer_shape=::: --output_layer=gradients/sub_grad/tuple/control_dependency_1,gradients/mul_grad/tuple/control_dependency_1,Merge/MergeSummary,save/Identity\r\n"
     ]
    }
   ],
   "source": [
    "!summarize_graph --in_graph=/root/models/optimize_me/unoptimized_cpu.pb"
   ]
  },
  {
   "cell_type": "code",
   "execution_count": 62,
   "metadata": {},
   "outputs": [
    {
     "name": "stdout",
     "output_type": "stream",
     "text": [
      "/bin/sh: 1: benchmark_model: not found\r\n"
     ]
    }
   ],
   "source": [
    "!benchmark_model --graph=/root/models/optimize_me/unoptimized_cpu.pb --show_flops --input_layer=x_observed,y_observed,bias,weights --input_layer_type=float,float,float,float --input_layer_shape=::: --output_layer=add"
   ]
  },
  {
   "cell_type": "code",
   "execution_count": 63,
   "metadata": {},
   "outputs": [
    {
     "name": "stdout",
     "output_type": "stream",
     "text": [
      "2017-03-30 04:50:37.510825: I tensorflow/tools/graph_transforms/transform_graph.cc:257] Applying strip_unused_nodes\r\n",
      "2017-03-30 04:50:37.511205: I tensorflow/tools/graph_transforms/transform_graph.cc:257] Applying remove_nodes\r\n",
      "2017-03-30 04:50:37.511708: I tensorflow/tools/graph_transforms/transform_graph.cc:257] Applying fold_constants\r\n",
      "2017-03-30 04:50:37.526511: I tensorflow/tools/graph_transforms/transform_graph.cc:257] Applying fold_batch_norms\r\n",
      "2017-03-30 04:50:37.526713: I tensorflow/tools/graph_transforms/transform_graph.cc:257] Applying fold_old_batch_norms\r\n"
     ]
    }
   ],
   "source": [
    "!transform_graph \\\n",
    "--in_graph=/root/models/optimize_me/unoptimized_cpu.pb \\\n",
    "--out_graph=/root/models/optimize_me/optimized_cpu.pb \\\n",
    "--inputs='x_observed,y_observed,weights,bias' \\\n",
    "--outputs='add' \\\n",
    "--transforms='strip_unused_nodes(type=float, shape=\"1,299,299,3\") \\\n",
    "remove_nodes(op=Identity, op=CheckNumerics) \\\n",
    "fold_constants(ignore_errors=true) \\\n",
    "fold_batch_norms \\\n",
    "fold_old_batch_norms'"
   ]
  },
  {
   "cell_type": "code",
   "execution_count": 64,
   "metadata": {},
   "outputs": [
    {
     "name": "stdout",
     "output_type": "stream",
     "text": [
      "Found 3 possible inputs: (name=bias, type=float(1), shape=[1,299,299,3]) (name=weights, type=float(1), shape=[1,299,299,3]) (name=x_observed, type=float(1), shape=[]) \r\n",
      "No variables spotted.\r\n",
      "Found 1 possible outputs: (name=add, op=Add) \r\n",
      "Found 0 (0) const parameters, 0 (0) variable parameters, and 0 control_edges\r\n",
      "3 nodes assigned to device '/device:CPU:0'Op types used: 3 Placeholder, 1 Add, 1 Mul\r\n",
      "To use with tensorflow/tools/benchmark:benchmark_model try these arguments:\r\n",
      "bazel run tensorflow/tools/benchmark:benchmark_model -- --graph=/root/models/optimize_me/optimized_cpu.pb --show_flops --logtostderr --input_layer=bias,weights,x_observed --input_layer_type=float,float,float --input_layer_shape=1,299,299,3:1,299,299,3: --output_layer=add\r\n"
     ]
    }
   ],
   "source": [
    "!summarize_graph --in_graph=/root/models/optimize_me/optimized_cpu.pb"
   ]
  },
  {
   "cell_type": "code",
   "execution_count": 65,
   "metadata": {},
   "outputs": [
    {
     "name": "stdout",
     "output_type": "stream",
     "text": [
      "/bin/sh: 1: benchmark_model: not found\r\n"
     ]
    }
   ],
   "source": [
    "!benchmark_model --graph=/root/models/optimize_me/optimized_cpu.pb --show_flops --input_layer=x_observed,y_observed,weights,bias --input_layer_type=float,float,float,float --input_layer_shape=::: --output_layer=Merge/MergeSummary"
   ]
  },
  {
   "cell_type": "code",
   "execution_count": 66,
   "metadata": {},
   "outputs": [
    {
     "name": "stdout",
     "output_type": "stream",
     "text": [
      "2017-03-30 04:50:38.362927: I tensorflow/tools/graph_transforms/transform_graph.cc:257] Applying round_weights\r\n"
     ]
    }
   ],
   "source": [
    "!transform_graph \\\n",
    "--in_graph=/root/models/optimize_me/unoptimized_cpu.pb \\\n",
    "--out_graph=/root/models/optimize_me/rounded_weights_cpu.pb \\\n",
    "--inputs='x_observed,y_observed,weights,bias' \\\n",
    "--outputs='add' \\\n",
    "--transforms=' \\\n",
    "round_weights(num_steps=256)'"
   ]
  },
  {
   "cell_type": "code",
   "execution_count": 67,
   "metadata": {},
   "outputs": [
    {
     "name": "stdout",
     "output_type": "stream",
     "text": [
      "Found 2 possible inputs: (name=x_observed, type=float(1), shape=[]) (name=y_observed, type=float(1), shape=[]) \r\n",
      "Found 2 variables: (name=weights, type=float(1), shape=[]) (name=bias, type=float(1), shape=[]) \r\n",
      "Found 4 possible outputs: (name=gradients/sub_grad/tuple/control_dependency_1, op=Identity) (name=gradients/mul_grad/tuple/control_dependency_1, op=Identity) (name=Merge/MergeSummary, op=MergeSummary) (name=save/Identity, op=Identity) \r\n",
      "2017-03-30 04:50:38.641961: W tensorflow/tools/graph_transforms/summarize_graph_main.cc:183] Decoding Tensor failed for nodeweights\r\n",
      "2017-03-30 04:50:38.642051: W tensorflow/tools/graph_transforms/summarize_graph_main.cc:183] Decoding Tensor failed for nodebias\r\n",
      "Found 25 (25) const parameters, 0 (0) variable parameters, and 24 control_edges\r\n",
      "92 nodes assigned to device '/device:CPU:0'Op types used: 29 Const, 10 Identity, 7 NoOp, 7 Mul, 7 Reshape, 6 Sum, 6 Shape, 4 Assign, 3 Add, 3 Sub, 3 BroadcastGradientArgs, 2 RestoreV2, 2 VariableV2, 2 RandomUniform, 2 Prod, 2 ApplyGradientDescent, 2 Placeholder, 1 Pack, 1 Neg, 1 MergeV2Checkpoints, 1 RealDiv, 1 MergeSummary, 1 Mean, 1 SaveV2, 1 ScalarSummary, 1 Maximum, 1 ShardedFilename, 1 Square, 1 StringJoin, 1 FloorDiv, 1 Fill, 1 Tile, 1 Cast\r\n",
      "To use with tensorflow/tools/benchmark:benchmark_model try these arguments:\r\n",
      "bazel run tensorflow/tools/benchmark:benchmark_model -- --graph=/root/models/optimize_me/rounded_weights_cpu.pb --show_flops --logtostderr --input_layer=x_observed,y_observed,weights,bias --input_layer_type=float,float,float,float --input_layer_shape=::: --output_layer=gradients/sub_grad/tuple/control_dependency_1,gradients/mul_grad/tuple/control_dependency_1,Merge/MergeSummary,save/Identity\r\n"
     ]
    }
   ],
   "source": [
    "!summarize_graph --in_graph=/root/models/optimize_me/rounded_weights_cpu.pb"
   ]
  },
  {
   "cell_type": "code",
   "execution_count": 68,
   "metadata": {},
   "outputs": [
    {
     "name": "stdout",
     "output_type": "stream",
     "text": [
      "total 116\r\n",
      "-rw-r--r-- 1 root root  7341 Mar 30 04:45 obfuscated_names_cpu.pb\r\n",
      "-rw-r--r-- 1 root root   307 Mar 30 04:50 optimized_cpu.pb\r\n",
      "-rw-r--r-- 1 root root 13361 Mar 30 04:45 quantized_cpu.pb\r\n",
      "-rw-r--r-- 1 root root 13361 Mar 30 04:50 rounded_weights_cpu.pb\r\n",
      "-rw-r--r-- 1 root root 34062 Mar 30 03:47 unoptimized_cpu.pb\r\n",
      "-rw-r--r-- 1 root root 34062 Mar 30 04:09 unoptimized_gpu.pb\r\n"
     ]
    }
   ],
   "source": [
    "!ls -l /root/models/optimize_me/"
   ]
  },
  {
   "cell_type": "code",
   "execution_count": 69,
   "metadata": {},
   "outputs": [
    {
     "name": "stdout",
     "output_type": "stream",
     "text": [
      "2017-03-30 04:50:39.221469: I tensorflow/tools/graph_transforms/transform_graph.cc:257] Applying quantize_weights\r\n"
     ]
    }
   ],
   "source": [
    "!transform_graph \\\n",
    "--in_graph=/root/models/optimize_me/unoptimized_cpu.pb \\\n",
    "--out_graph=/root/models/optimize_me/quantized_cpu.pb \\\n",
    "--inputs='x_observed,y_observed,weights,add' \\\n",
    "--outputs='add' \\\n",
    "--transforms=' \\\n",
    "quantize_weights'"
   ]
  },
  {
   "cell_type": "code",
   "execution_count": 70,
   "metadata": {},
   "outputs": [
    {
     "name": "stdout",
     "output_type": "stream",
     "text": [
      "total 116\r\n",
      "-rw-r--r-- 1 root root  7341 Mar 30 04:45 obfuscated_names_cpu.pb\r\n",
      "-rw-r--r-- 1 root root   307 Mar 30 04:50 optimized_cpu.pb\r\n",
      "-rw-r--r-- 1 root root 13361 Mar 30 04:50 quantized_cpu.pb\r\n",
      "-rw-r--r-- 1 root root 13361 Mar 30 04:50 rounded_weights_cpu.pb\r\n",
      "-rw-r--r-- 1 root root 34062 Mar 30 03:47 unoptimized_cpu.pb\r\n",
      "-rw-r--r-- 1 root root 34062 Mar 30 04:09 unoptimized_gpu.pb\r\n"
     ]
    }
   ],
   "source": [
    "!ls -l /root/models/optimize_me/"
   ]
  },
  {
   "cell_type": "code",
   "execution_count": 71,
   "metadata": {},
   "outputs": [
    {
     "name": "stdout",
     "output_type": "stream",
     "text": [
      "2017-03-30 04:50:39.776747: I tensorflow/tools/graph_transforms/transform_graph.cc:257] Applying obfuscate_names\r\n"
     ]
    }
   ],
   "source": [
    "!transform_graph \\\n",
    "--in_graph=/root/models/optimize_me/unoptimized_cpu.pb \\\n",
    "--out_graph=/root/models/optimize_me/obfuscated_names_cpu.pb \\\n",
    "--inputs='x_observed,y_observed,weights,bias' \\\n",
    "--outputs='add' \\\n",
    "--transforms=' \\\n",
    "obfuscate_names'"
   ]
  },
  {
   "cell_type": "code",
   "execution_count": 72,
   "metadata": {},
   "outputs": [
    {
     "name": "stdout",
     "output_type": "stream",
     "text": [
      "Found 2 possible inputs: (name=x_observed, type=float(1), shape=[]) (name=y_observed, type=float(1), shape=[]) \r\n",
      "Found 2 variables: (name=weights, type=float(1), shape=[]) (name=bias, type=float(1), shape=[]) \r\n",
      "Found 4 possible outputs: (name=S, op=Identity) (name=1e, op=Identity) (name=1m, op=MergeSummary) (name=1z, op=Identity) \r\n",
      "2017-03-30 04:50:40.052945: W tensorflow/tools/graph_transforms/summarize_graph_main.cc:183] Decoding Tensor failed for nodeweights\r\n",
      "2017-03-30 04:50:40.053027: W tensorflow/tools/graph_transforms/summarize_graph_main.cc:183] Decoding Tensor failed for nodebias\r\n",
      "Found 25 (25) const parameters, 0 (0) variable parameters, and 24 control_edges\r\n",
      "92 nodes assigned to device '/device:CPU:0'Op types used: 29 Const, 10 Identity, 7 NoOp, 7 Mul, 7 Reshape, 6 Sum, 6 Shape, 4 Assign, 3 Add, 3 Sub, 3 BroadcastGradientArgs, 2 RestoreV2, 2 VariableV2, 2 RandomUniform, 2 Prod, 2 ApplyGradientDescent, 2 Placeholder, 1 Pack, 1 Neg, 1 MergeV2Checkpoints, 1 RealDiv, 1 MergeSummary, 1 Mean, 1 SaveV2, 1 ScalarSummary, 1 Maximum, 1 ShardedFilename, 1 Square, 1 StringJoin, 1 FloorDiv, 1 Fill, 1 Tile, 1 Cast\r\n",
      "To use with tensorflow/tools/benchmark:benchmark_model try these arguments:\r\n",
      "bazel run tensorflow/tools/benchmark:benchmark_model -- --graph=/root/models/optimize_me/obfuscated_names_cpu.pb --show_flops --logtostderr --input_layer=x_observed,y_observed,weights,bias --input_layer_type=float,float,float,float --input_layer_shape=::: --output_layer=S,1e,1m,1z\r\n"
     ]
    }
   ],
   "source": [
    "!summarize_graph --in_graph=/root/models/optimize_me/obfuscated_names_cpu.pb"
   ]
  },
  {
   "cell_type": "code",
   "execution_count": null,
   "metadata": {},
   "outputs": [],
   "source": []
  }
 ],
 "metadata": {
  "kernelspec": {
   "display_name": "Python [default]",
   "language": "python",
   "name": "python3"
  },
  "language_info": {
   "codemirror_mode": {
    "name": "ipython",
    "version": 3
   },
   "file_extension": ".py",
   "mimetype": "text/x-python",
   "name": "python",
   "nbconvert_exporter": "python",
   "pygments_lexer": "ipython3",
   "version": "3.5.3"
  }
 },
 "nbformat": 4,
 "nbformat_minor": 2
}
