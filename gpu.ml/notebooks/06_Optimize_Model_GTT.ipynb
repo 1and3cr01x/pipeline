{
 "cells": [
  {
   "cell_type": "markdown",
   "metadata": {},
   "source": [
    "## Types of Optimizations Applied for Inference\n",
    "* Remove training-only operations (checkpoint saving, drop out)\n",
    "* Strip out unreachable nodes\n",
    "* Remove debug operations (CheckNumerics)\n",
    "* Fold batch normalization Ops into the pre-calculated weights (super cool)\n",
    "* Fuse adjacent operators\n",
    "\n",
    "https://github.com/tensorflow/tensorflow/tree/master/tensorflow/python/tools"
   ]
  },
  {
   "cell_type": "markdown",
   "metadata": {},
   "source": [
    "## Graph Transform Tool\n",
    "\n",
    "https://petewarden.com/2016/12/30/rewriting-tensorflow-graphs-with-the-gtt/\n",
    "\n",
    "https://github.com/tensorflow/tensorflow/tree/master/tensorflow/tools/graph_transforms"
   ]
  },
  {
   "cell_type": "markdown",
   "metadata": {},
   "source": [
    "## Summarize Model"
   ]
  },
  {
   "cell_type": "code",
   "execution_count": 32,
   "metadata": {},
   "outputs": [
    {
     "name": "stdout",
     "output_type": "stream",
     "text": [
      "/root/serving/tensorflow/bazel-bin/tensorflow/tools/graph_transforms/summarize_graph\r\n"
     ]
    }
   ],
   "source": [
    "!which summarize_graph"
   ]
  },
  {
   "cell_type": "code",
   "execution_count": 33,
   "metadata": {},
   "outputs": [
    {
     "name": "stdout",
     "output_type": "stream",
     "text": [
      "total 136\r\n",
      "-rw-r--r-- 1 root root  3010 Mar 30 01:12 optimized_for_inference.pb\r\n",
      "-rw-r--r-- 1 root root  3010 Mar 30 01:22 optimized_for_inference_cpu.pb\r\n",
      "-rw-r--r-- 1 root root   898 Mar 30 01:27 strip_unused_gtt.pb\r\n",
      "-rw-r--r-- 1 root root  1043 Mar 30 01:12 stripped_unused.pb\r\n",
      "-rw-r--r-- 1 root root  1043 Mar 30 01:22 stripped_unused_cpu.pb\r\n",
      "-rw-r--r-- 1 root root 43202 Mar 30 01:16 unoptimized.pb\r\n",
      "-rw-r--r-- 1 root root 34046 Mar 30 01:22 unoptimized_cpu.pb\r\n",
      "-rw-r--r-- 1 root root 34046 Mar 30 01:18 unoptimized_gpu.pb\r\n"
     ]
    }
   ],
   "source": [
    "!ls -l /root/models/optimize_me/"
   ]
  },
  {
   "cell_type": "code",
   "execution_count": 34,
   "metadata": {},
   "outputs": [
    {
     "name": "stdout",
     "output_type": "stream",
     "text": [
      "Found 2 possible inputs: (name=x_observed, type=float(1), shape=[]) (name=y_observed, type=float(1), shape=[]) \r\n",
      "No variables spotted.\r\n",
      "Found 4 possible outputs: (name=gradients/sub_grad/tuple/control_dependency_1, op=Identity) (name=gradients/mul_grad/tuple/control_dependency_1, op=Identity) (name=Merge/MergeSummary, op=MergeSummary) (name=save/Identity, op=Identity) \r\n",
      "Found 25 (25) const parameters, 0 (0) variable parameters, and 24 control_edges\r\n",
      "92 nodes assigned to device '/device:CPU:0'Op types used: 29 Const, 10 Identity, 7 NoOp, 7 Mul, 7 Reshape, 6 Sum, 6 Shape, 4 Assign, 3 Add, 3 Sub, 3 BroadcastGradientArgs, 2 RestoreV2, 2 VariableV2, 2 RandomUniform, 2 Prod, 2 ApplyGradientDescent, 2 Placeholder, 1 Pack, 1 Neg, 1 MergeV2Checkpoints, 1 RealDiv, 1 MergeSummary, 1 Mean, 1 SaveV2, 1 ScalarSummary, 1 Maximum, 1 ShardedFilename, 1 Square, 1 StringJoin, 1 FloorDiv, 1 Fill, 1 Tile, 1 Cast\r\n",
      "To use with tensorflow/tools/benchmark:benchmark_model try these arguments:\r\n",
      "bazel run tensorflow/tools/benchmark:benchmark_model -- --graph=/root/models/optimize_me/unoptimized_cpu.pb --show_flops --logtostderr --input_layer=x_observed,y_observed --input_layer_type=float,float --input_layer_shape=: --output_layer=gradients/sub_grad/tuple/control_dependency_1,gradients/mul_grad/tuple/control_dependency_1,Merge/MergeSummary,save/Identity\r\n"
     ]
    }
   ],
   "source": [
    "!summarize_graph --in_graph=/root/models/optimize_me/unoptimized_cpu.pb"
   ]
  },
  {
   "cell_type": "code",
   "execution_count": 35,
   "metadata": {},
   "outputs": [
    {
     "name": "stdout",
     "output_type": "stream",
     "text": [
      "2017-03-30 01:29:32.630149: I tensorflow/tools/graph_transforms/transform_graph.cc:257] Applying strip_unused_nodes\r\n",
      "2017-03-30 01:29:32.630583: I tensorflow/tools/graph_transforms/transform_graph.cc:257] Applying remove_nodes\r\n",
      "2017-03-30 01:29:32.631498: I tensorflow/tools/graph_transforms/transform_graph.cc:257] Applying fold_constants\r\n",
      "2017-03-30 01:29:32.646387: I tensorflow/tools/graph_transforms/transform_graph.cc:257] Applying fold_batch_norms\r\n",
      "2017-03-30 01:29:32.646735: I tensorflow/tools/graph_transforms/transform_graph.cc:257] Applying fold_old_batch_norms\r\n"
     ]
    }
   ],
   "source": [
    "!transform_graph \\\n",
    "--in_graph=/root/models/optimize_me/unoptimized_cpu.pb \\\n",
    "--out_graph=/root/models/optimize_me/optimized_cpu.pb \\\n",
    "--inputs='x_observed,y_observed' \\\n",
    "--outputs='Merge/MergeSummary' \\\n",
    "--transforms='\\\n",
    "strip_unused_nodes(type=float, shape=\"1,299,299,3\") \\\n",
    "remove_nodes(op=Identity, op=CheckNumerics) \\\n",
    "fold_constants(ignore_errors=true) \\\n",
    "fold_batch_norms \\\n",
    "fold_old_batch_norms\\\n",
    "'"
   ]
  },
  {
   "cell_type": "code",
   "execution_count": 36,
   "metadata": {},
   "outputs": [
    {
     "name": "stdout",
     "output_type": "stream",
     "text": [
      "Found 2 possible inputs: (name=x_observed, type=float(1), shape=[]) (name=y_observed, type=float(1), shape=[]) \r\n",
      "No variables spotted.\r\n",
      "Found 1 possible outputs: (name=Merge/MergeSummary, op=MergeSummary) \r\n",
      "Found 2 (2) const parameters, 0 (0) variable parameters, and 0 control_edges\r\n",
      "10 nodes assigned to device '/device:CPU:0'Op types used: 2 Const, 2 Placeholder, 2 VariableV2, 1 Add, 1 Mean, 1 MergeSummary, 1 Mul, 1 ScalarSummary, 1 Square, 1 Sub\r\n",
      "To use with tensorflow/tools/benchmark:benchmark_model try these arguments:\r\n",
      "bazel run tensorflow/tools/benchmark:benchmark_model -- --graph=/root/models/optimize_me/optimized_cpu.pb --show_flops --logtostderr --input_layer=x_observed,y_observed --input_layer_type=float,float --input_layer_shape=: --output_layer=Merge/MergeSummary\r\n"
     ]
    }
   ],
   "source": [
    "!summarize_graph --in_graph=/root/models/optimize_me/optimized_cpu.pb"
   ]
  },
  {
   "cell_type": "code",
   "execution_count": null,
   "metadata": {},
   "outputs": [],
   "source": [
    "!transform_graph \\\n",
    "--in_graph=/root/models/optimize_me/optimized_cpu.pb \\\n",
    "--out_graph=quantized_cpu.pb \\\n",
    "--inputs='x_observed,y_observed' \\\n",
    "--outputs='Merge/MergeSummary' \\\n",
    "--transforms='add_default_attributes \n",
    "strip_unused_nodes(type=float, shape=\"1,299,299,3\") \n",
    "remove_nodes(op=Identity, op=CheckNumerics) \n",
    "fold_old_batch_norms \n",
    "quantize_weights \n",
    "quantize_nodes \n",
    "strip_unused_nodes \n",
    "sort_by_execution_order'"
   ]
  },
  {
   "cell_type": "code",
   "execution_count": null,
   "metadata": {},
   "outputs": [],
   "source": []
  }
 ],
 "metadata": {
  "kernelspec": {
   "display_name": "Python [default]",
   "language": "python",
   "name": "python3"
  },
  "language_info": {
   "codemirror_mode": {
    "name": "ipython",
    "version": 3
   },
   "file_extension": ".py",
   "mimetype": "text/x-python",
   "name": "python",
   "nbconvert_exporter": "python",
   "pygments_lexer": "ipython3",
   "version": "3.5.3"
  }
 },
 "nbformat": 4,
 "nbformat_minor": 2
}
