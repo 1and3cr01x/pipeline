{
 "cells": [
  {
   "cell_type": "markdown",
   "metadata": {},
   "source": [
    "# Train Model on Distributed Cluster"
   ]
  },
  {
   "cell_type": "markdown",
   "metadata": {},
   "source": [
    "## Define Cluster Spec"
   ]
  },
  {
   "cell_type": "code",
   "execution_count": null,
   "metadata": {
    "collapsed": true
   },
   "outputs": [],
   "source": [
    "import tensorflow as tf\n",
    "\n",
    "cluster = tf.train.ClusterSpec(\n",
    "    {\"worker\": [\"localhost:2222\",\"localhost:2223\"]}\n",
    ")"
   ]
  },
  {
   "cell_type": "code",
   "execution_count": null,
   "metadata": {},
   "outputs": [],
   "source": [
    "tf.reset_default_graph()"
   ]
  },
  {
   "cell_type": "markdown",
   "metadata": {},
   "source": [
    "## Start Worker 0 (localhost:2222)"
   ]
  },
  {
   "cell_type": "code",
   "execution_count": null,
   "metadata": {},
   "outputs": [],
   "source": [
    "worker0 = tf.train.Server(cluster, \n",
    "                          job_name=\"worker\",\n",
    "                          task_index=0,\n",
    "                          start=True)\n",
    "\n",
    "print(worker0)"
   ]
  },
  {
   "cell_type": "markdown",
   "metadata": {},
   "source": [
    "## Start Worker 1\" (localhost:2223)"
   ]
  },
  {
   "cell_type": "code",
   "execution_count": null,
   "metadata": {
    "collapsed": true
   },
   "outputs": [],
   "source": [
    "worker1 = tf.train.Server(cluster, \n",
    "                          job_name=\"worker\",\n",
    "                          task_index=1,\n",
    "                          start=True)\n",
    "\n",
    "print(worker1)"
   ]
  },
  {
   "cell_type": "markdown",
   "metadata": {},
   "source": [
    "## Define Computationally-Intensive Graph\n",
    "Note that we're not assigning devices.  TensorFlow will automatically select GPU if available."
   ]
  },
  {
   "cell_type": "code",
   "execution_count": null,
   "metadata": {
    "collapsed": true
   },
   "outputs": [],
   "source": [
    "import tensorflow as tf\n",
    "\n",
    "n = 2\n",
    "c1 = tf.Variable([])\n",
    "c2 = tf.Variable([])\n",
    "\n",
    "def matpow(M, n):\n",
    "    if n < 1: \n",
    "        return M\n",
    "    else:\n",
    "        return tf.matmul(M, matpow(M, n-1))\n",
    "\n",
    "A = tf.random_normal(shape=[10000, 10000])\n",
    "c1 = matpow(A,n)\n",
    "\n",
    "B = tf.random_normal(shape=[10000, 10000])\n",
    "c2 = matpow(B,n)\n",
    "\n",
    "sum = c1 + c2"
   ]
  },
  {
   "cell_type": "markdown",
   "metadata": {},
   "source": [
    "## Create `tf.train.MonitoredTrainingSession`\n",
    "There are may `tf.train.Hook` implementations."
   ]
  },
  {
   "cell_type": "code",
   "execution_count": null,
   "metadata": {},
   "outputs": [],
   "source": [
    "import tensorflow as tf\n",
    "import datetime\n",
    "\n",
    "with tf.train.MonitoredTrainingSession(worker0.target,\n",
    "                                       is_chief=True) as sess:\n",
    "    start_time = datetime.datetime.now()\n",
    "    print(sess.run(sum))\n",
    "    print(\"Execution time: \" \n",
    "          + str(datetime.datetime.now() - start_time))"
   ]
  },
  {
   "cell_type": "markdown",
   "metadata": {},
   "source": [
    "## Execute Graph on Manually-Assigned Devices "
   ]
  },
  {
   "cell_type": "markdown",
   "metadata": {},
   "source": [
    "### All CPU Devices\n",
    "Note the execution time."
   ]
  },
  {
   "cell_type": "code",
   "execution_count": null,
   "metadata": {
    "collapsed": true
   },
   "outputs": [],
   "source": [
    "import tensorflow as tf\n",
    "\n",
    "n = 2\n",
    "c1 = tf.Variable([])\n",
    "c2 = tf.Variable([])\n",
    "\n",
    "def matpow(M, n):\n",
    "    if n < 1: \n",
    "        return M\n",
    "    else:\n",
    "        return tf.matmul(M, matpow(M, n-1))\n",
    "\n",
    "with tf.device(\"/job:worker/task:0/cpu:0\"):\n",
    "    A = tf.random_normal(shape=[10000, 10000])\n",
    "    c1 = matpow(A,n)\n",
    "\n",
    "with tf.device(\"/job:worker/task:1/cpu:0\"):\n",
    "    B = tf.random_normal(shape=[10000, 10000])\n",
    "    c2 = matpow(B,n)\n",
    "\n",
    "sum = c1 + c2\n",
    "\n",
    "import tensorflow as tf\n",
    "import datetime\n",
    "\n",
    "with tf.train.MonitoredTrainingSession(worker0.target,\n",
    "                                       is_chief=True) as sess:\n",
    "    start_time = datetime.datetime.now()\n",
    "    print(sess.run(sum))\n",
    "    print(\"Execution time: \" \n",
    "          + str(datetime.datetime.now() - start_time))\n",
    "          "
   ]
  },
  {
   "cell_type": "markdown",
   "metadata": {},
   "source": [
    "### CPU and GPU\n",
    "Note the reduced execution time from the all-CPU execution."
   ]
  },
  {
   "cell_type": "code",
   "execution_count": null,
   "metadata": {
    "collapsed": true
   },
   "outputs": [],
   "source": [
    "import tensorflow as tf\n",
    "\n",
    "n = 2\n",
    "c1 = tf.Variable([])\n",
    "c2 = tf.Variable([])\n",
    "\n",
    "def matpow(M, n):\n",
    "    if n < 1: \n",
    "        return M\n",
    "    else:\n",
    "        return tf.matmul(M, matpow(M, n-1))\n",
    "\n",
    "with tf.device(\"/job:worker/task:0/gpu:0\"):\n",
    "    A = tf.random_normal(shape=[10000, 10000])\n",
    "    c1 = matpow(A,n)\n",
    "\n",
    "with tf.device(\"/job:worker/task:1/cpu:0\"):\n",
    "    B = tf.random_normal(shape=[10000, 10000])\n",
    "    c2 = matpow(B,n)\n",
    "\n",
    "sum = c1 + c2\n",
    "\n",
    "import tensorflow as tf\n",
    "import datetime\n",
    "\n",
    "with tf.train.MonitoredTrainingSession(worker0.target,\n",
    "                                       is_chief=True) as sess:\n",
    "    start_time = datetime.datetime.now()\n",
    "    print(sess.run(sum))\n",
    "    print(\"Execution time: \" \n",
    "          + str(datetime.datetime.now() - start_time))\n",
    "          "
   ]
  },
  {
   "cell_type": "markdown",
   "metadata": {},
   "source": [
    "### All GPU Devices\n",
    "Note the execution time is slower than when we didn't specify devices.  Why is that?"
   ]
  },
  {
   "cell_type": "code",
   "execution_count": null,
   "metadata": {
    "collapsed": true
   },
   "outputs": [],
   "source": [
    "import tensorflow as tf\n",
    "\n",
    "n = 2\n",
    "c1 = tf.Variable([])\n",
    "c2 = tf.Variable([])\n",
    "\n",
    "def matpow(M, n):\n",
    "    if n < 1: \n",
    "        return M\n",
    "    else:\n",
    "        return tf.matmul(M, matpow(M, n-1))\n",
    "\n",
    "with tf.device(\"/job:worker/task:0/gpu:0\"):\n",
    "    A = tf.random_normal(shape=[10000, 10000])\n",
    "    c1 = matpow(A,n)\n",
    "\n",
    "with tf.device(\"/job:worker/task:1/gpu:0\"):\n",
    "    B = tf.random_normal(shape=[10000, 10000])\n",
    "    c2 = matpow(B,n)\n",
    "\n",
    "sum = c1 + c2\n",
    "\n",
    "import tensorflow as tf\n",
    "import datetime\n",
    "\n",
    "with tf.train.MonitoredTrainingSession(worker0.target,\n",
    "                                       is_chief=True) as sess:\n",
    "    start_time = datetime.datetime.now()\n",
    "    print(sess.run(sum))\n",
    "    print(\"Execution time: \" \n",
    "          + str(datetime.datetime.now() - start_time))\n",
    "          "
   ]
  },
  {
   "cell_type": "markdown",
   "metadata": {},
   "source": [
    "## Execute Graph with Auto-Assigned Devices \n",
    "`tf.train.replica_device_setter()` uses round-robin by default. Note the execution time."
   ]
  },
  {
   "cell_type": "code",
   "execution_count": null,
   "metadata": {},
   "outputs": [],
   "source": [
    "import tensorflow as tf\n",
    "\n",
    "n = 2\n",
    "c1 = tf.Variable([])\n",
    "c2 = tf.Variable([])\n",
    "\n",
    "def matpow(M, n):\n",
    "    if n < 1: \n",
    "        return M\n",
    "    else:\n",
    "        return tf.matmul(M, matpow(M, n-1))\n",
    "\n",
    "with tf.device(tf.train.replica_device_setter(worker_device=\"/job:worker/task:0\",\n",
    "                                              cluster=cluster)):   \n",
    "    A = tf.random_normal(shape=[10000, 10000])\n",
    "    c1 = matpow(A,n)\n",
    "\n",
    "with tf.device(tf.train.replica_device_setter(worker_device=\"/job:worker/task:1\",\n",
    "                                              cluster=cluster)):    \n",
    "    B = tf.random_normal(shape=[10000, 10000])\n",
    "    c2 = matpow(B,n)\n",
    "\n",
    "sum = c1 + c2\n",
    "\n",
    "import tensorflow as tf\n",
    "import datetime\n",
    "\n",
    "with tf.train.MonitoredTrainingSession(worker0.target,\n",
    "                                       is_chief=True) as sess:\n",
    "    start_time = datetime.datetime.now()\n",
    "    print(sess.run(sum))\n",
    "    print(\"Execution time: \" \n",
    "          + str(datetime.datetime.now() - start_time))\n",
    "          "
   ]
  },
  {
   "cell_type": "code",
   "execution_count": null,
   "metadata": {},
   "outputs": [],
   "source": []
  }
 ],
 "metadata": {
  "anaconda-cloud": {},
  "kernelspec": {
   "display_name": "Python [default]",
   "language": "python",
   "name": "python3"
  },
  "language_info": {
   "codemirror_mode": {
    "name": "ipython",
    "version": 3
   },
   "file_extension": ".py",
   "mimetype": "text/x-python",
   "name": "python",
   "nbconvert_exporter": "python",
   "pygments_lexer": "ipython3",
   "version": "3.5.3"
  }
 },
 "nbformat": 4,
 "nbformat_minor": 2
}
