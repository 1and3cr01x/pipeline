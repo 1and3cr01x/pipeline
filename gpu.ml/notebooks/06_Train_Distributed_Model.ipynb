{
 "cells": [
  {
   "cell_type": "markdown",
   "metadata": {},
   "source": [
    "# Train Distributed Model"
   ]
  },
  {
   "cell_type": "code",
   "execution_count": null,
   "metadata": {},
   "outputs": [],
   "source": [
    "import tensorflow as tf\n",
    "# Server 0:\n",
    "cluster = tf.train.ClusterSpec({\"local\": [\"localhost:2222\", \"localhost:2223\"]})"
   ]
  },
  {
   "cell_type": "code",
   "execution_count": null,
   "metadata": {},
   "outputs": [],
   "source": [
    "server0 = tf.train.Server(cluster, job_name=\"local\", task_index=0)\n",
    "\n",
    "print(server0)"
   ]
  },
  {
   "cell_type": "code",
   "execution_count": null,
   "metadata": {},
   "outputs": [],
   "source": [
    "server1 = tf.train.Server(cluster, job_name=\"local\", task_index=1)\n",
    "\n",
    "print(server1)"
   ]
  },
  {
   "cell_type": "code",
   "execution_count": null,
   "metadata": {},
   "outputs": [],
   "source": [
    "import tensorflow as tf\n",
    "import datetime\n",
    "import numpy as np\n",
    "\n",
    "n = 2\n",
    "c1 = tf.Variable([])\n",
    "c2 = tf.Variable([])\n",
    "\n",
    "def matpow(M, n):\n",
    "    if n < 1: \n",
    "        return M\n",
    "    else:\n",
    "        return tf.matmul(M, matpow(M, n-1))\n",
    "\n",
    "# Assigns ops to the local worker by default.\n",
    "#with tf.device(tf.train.replica_device_setter(\n",
    "#        worker_device=\"/job:worker/task:%d\" % FLAGS.task_index,\n",
    "#        cluster=cluster)):\n",
    "\n",
    "with tf.device(\"/job:local/task:0/cpu:0\"):\n",
    "    A = tf.random_normal(shape=[10000, 10000])\n",
    "    c1 = matpow(A,n)\n",
    "\n",
    "with tf.device(\"/job:local/task:1/cpu:0\"):\n",
    "    B = tf.random_normal(shape=[10000, 10000])\n",
    "    c2 = matpow(B,n)\n",
    "\n",
    "with tf.Session(\"grpc://127.0.0.1:2222\") as sess:\n",
    "    t1 = datetime.datetime.now()\n",
    "    sum = c1 + c2\n",
    "    t2 = datetime.datetime.now()\n",
    "    print(sess.run(sum))\n",
    "    print(\"Multi node computation time: \" + str(t2-t1))"
   ]
  },
  {
   "cell_type": "code",
   "execution_count": null,
   "metadata": {},
   "outputs": [],
   "source": []
  }
 ],
 "metadata": {
  "kernelspec": {
   "display_name": "Python [default]",
   "language": "python",
   "name": "python3"
  },
  "language_info": {
   "codemirror_mode": {
    "name": "ipython",
    "version": 3
   },
   "file_extension": ".py",
   "mimetype": "text/x-python",
   "name": "python",
   "nbconvert_exporter": "python",
   "pygments_lexer": "ipython3",
   "version": "3.5.3"
  }
 },
 "nbformat": 4,
 "nbformat_minor": 2
}
