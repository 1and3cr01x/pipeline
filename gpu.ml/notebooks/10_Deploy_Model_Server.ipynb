{
 "cells": [
  {
   "cell_type": "markdown",
   "metadata": {},
   "source": [
    "# Deploy Unoptimized Model to TensorFlow Serving"
   ]
  },
  {
   "cell_type": "markdown",
   "metadata": {},
   "source": [
    "## Open a Terminal through Jupyter Notebook \n",
    "### (Menu Bar -> Terminal -> New Terminal)\n",
    "![Jupyter Terminal](https://s3.amazonaws.com/fluxcapacitor.com/img/jupyter-terminal.png)\n"
   ]
  },
  {
   "cell_type": "markdown",
   "metadata": {},
   "source": [
    "## Start Tensorflow Serving in the Terminal\n",
    "Point to the `linear` (unoptimized) version of the model.\n",
    "\n",
    "```\n",
    "serve 9000 linear /root/models/linear_unoptimized/cpu/ false\n",
    "```\n",
    "\n",
    "The params are as follows:\n",
    "* `1: port number (int)`\n",
    "\n",
    "* `2: model_name (anything)`\n",
    "\n",
    "* `3: /path/to/model (base path above all version sub-directories)`\n",
    "\n",
    "* `4: request batching (true|false)`\n",
    "\n"
   ]
  },
  {
   "cell_type": "markdown",
   "metadata": {},
   "source": [
    "## Open a Terminal through Jupyter Notebook \n",
    "### (Menu Bar -> Terminal -> New Terminal)\n",
    "![Jupyter Terminal](https://s3.amazonaws.com/fluxcapacitor.com/img/jupyter-terminal.png)\n"
   ]
  },
  {
   "cell_type": "markdown",
   "metadata": {},
   "source": [
    "## Start Http-Grpc Proxy in the 2nd Terminal\n",
    "```\n",
    "http_grpc_proxy 9004 9000\n",
    "```\n",
    "\n",
    "The params are as follows:\n",
    "* `1: port for this proxy to listen on`\n",
    "* `2: port of Tensorflow Serving`"
   ]
  },
  {
   "cell_type": "markdown",
   "metadata": {},
   "source": [
    "## Open a Terminal through Jupyter Notebook \n",
    "### (Menu Bar -> Terminal -> New Terminal)\n",
    "![Jupyter Terminal](https://s3.amazonaws.com/fluxcapacitor.com/img/jupyter-terminal.png)\n"
   ]
  },
  {
   "cell_type": "markdown",
   "metadata": {},
   "source": [
    "## Run the Following Command in the Terminal to Predict\n",
    "\n",
    "```\n",
    "predict 9004 1.5\n",
    "```\n",
    "\n",
    "The params are as follows:\n",
    "* `1: port for http-grpc proxy`\n",
    "* `2: x_observed`"
   ]
  },
  {
   "cell_type": "markdown",
   "metadata": {},
   "source": [
    "# Load Test Unoptimized CPU Model"
   ]
  },
  {
   "cell_type": "markdown",
   "metadata": {},
   "source": [
    "## Open a Terminal through Jupyter Notebook \n",
    "### (Menu Bar -> Terminal -> New Terminal)\n",
    "![Jupyter Terminal](https://s3.amazonaws.com/fluxcapacitor.com/img/jupyter-terminal.png)\n"
   ]
  },
  {
   "cell_type": "markdown",
   "metadata": {},
   "source": [
    "## Start Load Test in the Terminal\n",
    "```\n",
    "loadtest high\n",
    "```\n",
    "\n",
    "The params are as follows:\n",
    "* `1: amount of load low|medium|high`\n",
    "\n",
    "Notice the throughput and avg/min/max latencies:\n",
    "```\n",
    "summary ... =  400.2/s Avg:   249 Min:   230 Max:   286 Err:     0 (0.00%)\n",
    "```"
   ]
  },
  {
   "cell_type": "markdown",
   "metadata": {},
   "source": [
    "# Deploy Optimized Model to TensorFlow Serving"
   ]
  },
  {
   "cell_type": "markdown",
   "metadata": {},
   "source": [
    "## Break Out of Current TensorFlow Serving Process"
   ]
  },
  {
   "cell_type": "markdown",
   "metadata": {},
   "source": [
    "## Start Tensorflow Serving in the Terminal\n",
    "Point to the `linear_optimized` version of the model.\n",
    "\n",
    "```\n",
    "serve 9000 linear /root/models/linear_fully_optimized/cpu/ false\n",
    "```\n",
    "\n",
    "The params are as follows:\n",
    "* `1: port number (int)`\n",
    "\n",
    "* `2: model_name (anything)`\n",
    "\n",
    "* `3: /path/to/model (base path above all version sub-directories)`\n",
    "\n",
    "* `4: request batching (true|false)`\n",
    "\n"
   ]
  },
  {
   "cell_type": "markdown",
   "metadata": {},
   "source": [
    "## Run the Following Command in the Terminal to Predict\n",
    "\n",
    "```\n",
    "predict 9004 1.5\n",
    "```\n",
    "\n",
    "The params are as follows:\n",
    "* `1: port for http-grpc proxy`\n",
    "* `2: x_observed`"
   ]
  },
  {
   "cell_type": "markdown",
   "metadata": {},
   "source": [
    "## Start Load Test in the Terminal\n",
    "```\n",
    "loadtest high\n",
    "```\n",
    "\n",
    "The params are as follows:\n",
    "* `1: amount of load low|medium|high`\n",
    "\n",
    "Notice the throughput and avg/min/max latencies:\n",
    "```\n",
    "summary ... =  400.2/s Avg:   249 Min:   230 Max:   286 Err:     0 (0.00%)\n",
    "```"
   ]
  },
  {
   "cell_type": "code",
   "execution_count": null,
   "metadata": {},
   "outputs": [],
   "source": []
  }
 ],
 "metadata": {
  "anaconda-cloud": {},
  "kernelspec": {
   "display_name": "Python [default]",
   "language": "python",
   "name": "python3"
  },
  "language_info": {
   "codemirror_mode": {
    "name": "ipython",
    "version": 3
   },
   "file_extension": ".py",
   "mimetype": "text/x-python",
   "name": "python",
   "nbconvert_exporter": "python",
   "pygments_lexer": "ipython3",
   "version": "3.5.3"
  }
 },
 "nbformat": 4,
 "nbformat_minor": 2
}
