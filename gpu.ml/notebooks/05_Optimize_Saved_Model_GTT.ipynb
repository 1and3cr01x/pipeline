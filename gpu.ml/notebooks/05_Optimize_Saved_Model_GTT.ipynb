{
 "cells": [
  {
   "cell_type": "markdown",
   "metadata": {},
   "source": [
    "## Summarize Model"
   ]
  },
  {
   "cell_type": "code",
   "execution_count": null,
   "metadata": {},
   "outputs": [
    {
     "name": "stdout",
     "output_type": "stream",
     "text": [
      "ls: cannot access '/root/models/linear': No such file or directory\r\n"
     ]
    }
   ],
   "source": [
    "!ls -l /root/models/linear"
   ]
  },
  {
   "cell_type": "code",
   "execution_count": 1,
   "metadata": {},
   "outputs": [
    {
     "name": "stdout",
     "output_type": "stream",
     "text": [
      "2017-03-29 03:41:47.916492: E tensorflow/tools/graph_transforms/summarize_graph_main.cc:254] Unknown argument --input_graph=/root/models/linear/.\r\n",
      "usage: summarize_graph\r\n",
      "Flags:\r\n",
      "\t--in_graph=\"\"                    \tstring\tinput graph file name\r\n",
      "\r\n"
     ]
    }
   ],
   "source": [
    "!summarize_graph --input_graph=/root/models/linear/"
   ]
  },
  {
   "cell_type": "code",
   "execution_count": null,
   "metadata": {},
   "outputs": [],
   "source": []
  }
 ],
 "metadata": {
  "kernelspec": {
   "display_name": "Python [default]",
   "language": "python",
   "name": "python3"
  },
  "language_info": {
   "codemirror_mode": {
    "name": "ipython",
    "version": 3
   },
   "file_extension": ".py",
   "mimetype": "text/x-python",
   "name": "python",
   "nbconvert_exporter": "python",
   "pygments_lexer": "ipython3",
   "version": "3.5.3"
  }
 },
 "nbformat": 4,
 "nbformat_minor": 2
}
