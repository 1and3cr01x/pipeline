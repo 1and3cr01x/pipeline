{
 "cells": [
  {
   "cell_type": "markdown",
   "metadata": {},
   "source": [
    "# Deploy Unoptimized Model to TensorFlow Serving"
   ]
  },
  {
   "cell_type": "markdown",
   "metadata": {},
   "source": [
    "## STOP All Kernels and Terminal Session\n",
    "The GPU is wedged at this point.  We need to set it free!!\n",
    "\n",
    "![Shutdown All Kernels and Terminals](https://s3.amazonaws.com/fluxcapacitor.com/img/shutdown-all-kernels-and-terminals.png)"
   ]
  },
  {
   "cell_type": "markdown",
   "metadata": {},
   "source": [
    "## Open a Terminal through Jupyter Notebook \n",
    "### (Menu Bar -> Terminal -> New Terminal)\n",
    "![Jupyter Terminal](https://s3.amazonaws.com/fluxcapacitor.com/img/jupyter-terminal.png)\n"
   ]
  },
  {
   "cell_type": "markdown",
   "metadata": {},
   "source": [
    "### Start TensorFlow Serving in the Terminal\n",
    "Point to the unoptimized version of the model.\n",
    "```\n",
    "tensorflow_model_server \\\n",
    "  --port=9000 \\\n",
    "  --model_name=linear \\\n",
    "  --model_base_path=/root/models/linear_unoptimized/cpu/ \\\n",
    "  --enable_batching=false\n",
    "```\n",
    "\n",
    "The params are as follows:\n",
    "* `port` (int)\n",
    "* `model_name` (anything)\n",
    "* `model_base_path` (/path/to/model/ above all versioned sub-directories)\n",
    "* `enable_batching` (true|false)"
   ]
  },
  {
   "cell_type": "markdown",
   "metadata": {},
   "source": [
    "## Start Http-Grpc Proxy in the 2nd Terminal\n",
    "```\n",
    "http_grpc_proxy 9004 9000\n",
    "```\n",
    "\n",
    "The params are as follows:\n",
    "* 1: `proxy_port` for this proxy to listen on\n",
    "* 2: `tf_serving_port` for Tensorflow Serving"
   ]
  },
  {
   "cell_type": "markdown",
   "metadata": {},
   "source": [
    "## Run the Following Command in the Terminal to Predict\n",
    "\n",
    "```\n",
    "predict 9004 1.5\n",
    "```\n",
    "\n",
    "The params are as follows:\n",
    "* `1: port for http-grpc proxy`\n",
    "* `2: x_observed`"
   ]
  },
  {
   "cell_type": "markdown",
   "metadata": {},
   "source": [
    "# Load Test Unoptimized Model"
   ]
  },
  {
   "cell_type": "markdown",
   "metadata": {},
   "source": [
    "## Start Load Test in the Terminal\n",
    "```\n",
    "loadtest high\n",
    "```\n",
    "\n",
    "The params are as follows:\n",
    "* `1: amount of load low|medium|high`\n",
    "\n",
    "Notice the throughput and avg/min/max latencies:\n",
    "```\n",
    "summary ... =  400.2/s Avg:   249 Min:   230 Max:   286 Err:     0 (0.00%)\n",
    "```"
   ]
  },
  {
   "cell_type": "markdown",
   "metadata": {},
   "source": [
    "## Run this Command to Watch GPU Every Second:\n",
    "```\n",
    "watch -n 1 nvidia-smi\n",
    "```"
   ]
  },
  {
   "cell_type": "code",
   "execution_count": null,
   "metadata": {},
   "outputs": [],
   "source": []
  }
 ],
 "metadata": {
  "anaconda-cloud": {},
  "kernelspec": {
   "display_name": "Python [default]",
   "language": "python",
   "name": "python3"
  },
  "language_info": {
   "codemirror_mode": {
    "name": "ipython",
    "version": 3
   },
   "file_extension": ".py",
   "mimetype": "text/x-python",
   "name": "python",
   "nbconvert_exporter": "python",
   "pygments_lexer": "ipython3",
   "version": "3.5.3"
  }
 },
 "nbformat": 4,
 "nbformat_minor": 2
}
