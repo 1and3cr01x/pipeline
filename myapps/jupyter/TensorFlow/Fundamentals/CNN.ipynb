{
 "cells": [
  {
   "cell_type": "code",
   "execution_count": 14,
   "metadata": {
    "collapsed": true
   },
   "outputs": [],
   "source": [
    "# Import core TensorFlow modules\n",
    "import tensorflow as tf\n",
    "import numpy as np"
   ]
  },
  {
   "cell_type": "code",
   "execution_count": 15,
   "metadata": {
    "collapsed": true
   },
   "outputs": [],
   "source": [
    "# Modules required for file download and extraction\n",
    "import os\n",
    "import sys\n",
    "import tarfile\n",
    "from six.moves.urllib.request import urlretrieve\n",
    "from scipy import ndimage"
   ]
  },
  {
   "cell_type": "code",
   "execution_count": 16,
   "metadata": {
    "collapsed": true
   },
   "outputs": [],
   "source": [
    "def maybe_download(filename, url, force=False):\n",
    "  \"\"\"Download a file if not present.\"\"\"\n",
    "  if force or not os.path.exists('/root/pipeline/datasets/notmnist/' + filename):\n",
    "    filename, _ = urlretrieve(url + filename, '/root/pipeline/datasets/notmnist/' + filename)\n",
    "    print('\\nDownload complete for {}'.format(filename))\n",
    "  else:\n",
    "    print('File {} already present.'.format(filename))\n",
    "  return '/root/pipeline/datasets/notmnist/' + filename\n",
    "\n",
    "def maybe_extract(filename, force=False):\n",
    "  root = os.path.splitext(os.path.splitext(filename)[0])[0]  # remove .tar.gz\n",
    "  if os.path.isdir(root) and not force:\n",
    "    # You may override by setting force=True.\n",
    "    print('{} already present - don\\'t need to extract {}.'.format(root, filename))\n",
    "  else:\n",
    "    print('Extracting data for {}. This may take a while. Please wait.'.format(root))\n",
    "    tar = tarfile.open(filename)\n",
    "    sys.stdout.flush()\n",
    "    tar.extractall(root[0:root.rfind('/') + 1])\n",
    "    tar.close()\n",
    "  data_folders = [\n",
    "    os.path.join(root, d) for d in sorted(os.listdir(root))\n",
    "    if os.path.isdir(os.path.join(root, d))]\n",
    "  print(data_folders)\n",
    "  return data_folders"
   ]
  },
  {
   "cell_type": "code",
   "execution_count": 17,
   "metadata": {
    "collapsed": true
   },
   "outputs": [],
   "source": [
    "# Locations to download data:\n",
    "url = 'http://yaroslavvb.com/upload/notMNIST/'"
   ]
  },
  {
   "cell_type": "code",
   "execution_count": 18,
   "metadata": {
    "collapsed": false
   },
   "outputs": [
    {
     "name": "stdout",
     "output_type": "stream",
     "text": [
      "File notMNIST_small.tar.gz already present.\n"
     ]
    }
   ],
   "source": [
    "# Download two datasets\n",
    "train_zip_path = maybe_download('notMNIST_small.tar.gz', url)"
   ]
  },
  {
   "cell_type": "code",
   "execution_count": 19,
   "metadata": {
    "collapsed": false
   },
   "outputs": [
    {
     "name": "stdout",
     "output_type": "stream",
     "text": [
      "/root/pipeline/datasets/notmnist/notMNIST_small already present - don't need to extract /root/pipeline/datasets/notmnist/notMNIST_small.tar.gz.\n",
      "['/root/pipeline/datasets/notmnist/notMNIST_small/A', '/root/pipeline/datasets/notmnist/notMNIST_small/B', '/root/pipeline/datasets/notmnist/notMNIST_small/C', '/root/pipeline/datasets/notmnist/notMNIST_small/D', '/root/pipeline/datasets/notmnist/notMNIST_small/E', '/root/pipeline/datasets/notmnist/notMNIST_small/F', '/root/pipeline/datasets/notmnist/notMNIST_small/G', '/root/pipeline/datasets/notmnist/notMNIST_small/H', '/root/pipeline/datasets/notmnist/notMNIST_small/I', '/root/pipeline/datasets/notmnist/notMNIST_small/J']\n"
     ]
    }
   ],
   "source": [
    "# Extract datasets\n",
    "train_folders = maybe_extract(train_zip_path)"
   ]
  },
  {
   "cell_type": "code",
   "execution_count": 20,
   "metadata": {
    "collapsed": false
   },
   "outputs": [
    {
     "data": {
      "text/plain": [
       "10"
      ]
     },
     "execution_count": 20,
     "metadata": {},
     "output_type": "execute_result"
    }
   ],
   "source": [
    "len(train_folders)"
   ]
  },
  {
   "cell_type": "code",
   "execution_count": 21,
   "metadata": {
    "collapsed": true
   },
   "outputs": [],
   "source": [
    "image_height = 28  # Pixel height of images\n",
    "image_width = 28  # Pixel width of images\n",
    "pixel_depth = 255.0  # Number of levels per pixel\n",
    "expected_img_shape = (image_height, image_width)  # Black and white image, no 3rd dimension\n",
    "num_labels = len(train_folders)\n",
    "\n",
    "def load_image_folder(folder):\n",
    "  \"\"\"Load the data for a single image label.\"\"\"\n",
    "  \n",
    "  # Create a list of image paths inside the folder  \n",
    "  image_files = os.listdir(folder)\n",
    "  # Create empty numpy array to hold data\n",
    "  dataset = np.ndarray(shape=(len(image_files), image_height, image_width),\n",
    "                         dtype=np.float32)\n",
    "  num_images = 0  # Counter for number of successful images loaded\n",
    "  for image in image_files:\n",
    "    image_file = os.path.join(folder, image)\n",
    "    try:\n",
    "      # Read in image pixel data as floating point values\n",
    "      image_data = ndimage.imread(image_file).astype(float)\n",
    "      # Scale values: [0.0, 255.0] => [-1.0, 1.0] \n",
    "      image_data = (image_data - pixel_depth / 2) / (pixel_depth / 2)\n",
    "      if image_data.shape != expected_img_shape:\n",
    "        print('File {} has unexpected dimensions: '.format(str(image_data.shape)))\n",
    "        continue\n",
    "      # Add image to the numpy array dataset\n",
    "      dataset[num_images, :, :] = image_data\n",
    "      num_images = num_images + 1\n",
    "    except IOError as e:\n",
    "      print('Could not read:', image_file, ':', e, '- skipping this file and moving on.')\n",
    "  \n",
    "  # Trim dataset to remove unused space\n",
    "  dataset = dataset[0:num_images, :, :]\n",
    "  return dataset"
   ]
  },
  {
   "cell_type": "code",
   "execution_count": 28,
   "metadata": {
    "collapsed": false
   },
   "outputs": [],
   "source": [
    "def make_data_label_arrays(num_rows, image_height, image_width):\n",
    "  \"\"\"\n",
    "  Creates and returns empty numpy arrays for input data and labels\n",
    "  \"\"\"\n",
    "  if num_rows:\n",
    "    dataset = np.ndarray((num_rows, image_height, image_width), dtype=np.float32)\n",
    "    labels = np.ndarray(num_rows, dtype=np.int32)\n",
    "  else:\n",
    "    dataset, labels = None, None\n",
    "  return dataset, labels\n",
    "\n",
    "def collect_datasets(data_folders):\n",
    "  datasets = []\n",
    "  total_images = 0\n",
    "  for label, data_folder in enumerate(data_folders):\n",
    "    # Bring all test folder images in as numpy arrays\n",
    "    dataset = load_image_folder(data_folder)\n",
    "    num_images = len(dataset)\n",
    "    total_images += num_images\n",
    "    datasets.append((dataset, label, num_images))\n",
    "  return datasets, total_images\n",
    "\n",
    "def merge_train_test_datasets(datasets, total_images, percent_test):\n",
    "    num_train = total_images * (1.0 - percent_test)\n",
    "    num_test = total_images * percent_test\n",
    "    train_dataset, train_labels = make_data_label_arrays(num_train, image_height, image_width)\n",
    "    test_dataset, test_labels = make_data_label_arrays(num_test, image_height, image_width)\n",
    "    \n",
    "    train_counter = 0\n",
    "    test_counter = 0\n",
    "    dataset_counter = 1\n",
    "    for dataset, label, num_images in datasets:\n",
    "      np.random.shuffle(dataset)\n",
    "      if dataset_counter != len(datasets):\n",
    "        n_v = num_images // (1.0 / percent_test)\n",
    "        n_t = num_images - n_v\n",
    "      else:\n",
    "        # Last label, make sure dataset sizes match up to what we created\n",
    "        n_v = len(test_dataset) - test_counter\n",
    "        n_t = len(train_dataset) - train_counter\n",
    "      train_dataset[train_counter: train_counter + n_t] = dataset[:n_t]\n",
    "      train_labels[train_counter: train_counter + n_t] = label\n",
    "      test_dataset[test_counter: test_counter + n_v] = dataset[n_t: n_t + n_v]\n",
    "      test_labels[test_counter: test_counter + n_v] = label\n",
    "      train_counter += n_t\n",
    "      test_counter += n_v\n",
    "      dataset_counter += 1\n",
    "    return train_dataset, train_labels, test_dataset, test_labels"
   ]
  },
  {
   "cell_type": "code",
   "execution_count": 29,
   "metadata": {
    "collapsed": false
   },
   "outputs": [
    {
     "name": "stdout",
     "output_type": "stream",
     "text": [
      "('Could not read:', '/root/pipeline/datasets/notmnist/notMNIST_small/A/RGVtb2NyYXRpY2FCb2xkT2xkc3R5bGUgQm9sZC50dGY=.png', ':', IOError('cannot identify image file',), '- skipping this file and moving on.')\n",
      "('Could not read:', '/root/pipeline/datasets/notmnist/notMNIST_small/F/Q3Jvc3NvdmVyIEJvbGRPYmxpcXVlLnR0Zg==.png', ':', IOError('cannot identify image file',), '- skipping this file and moving on.')\n"
     ]
    }
   ],
   "source": [
    "train_test_datasets, train_test_total_images = collect_datasets(train_folders)"
   ]
  },
  {
   "cell_type": "code",
   "execution_count": 30,
   "metadata": {
    "collapsed": false
   },
   "outputs": [
    {
     "name": "stderr",
     "output_type": "stream",
     "text": [
      "/usr/local/lib/python2.7/dist-packages/ipykernel/__main__.py:6: VisibleDeprecationWarning: using a non-integer number instead of an integer will result in an error in the future\n",
      "/usr/local/lib/python2.7/dist-packages/ipykernel/__main__.py:7: VisibleDeprecationWarning: using a non-integer number instead of an integer will result in an error in the future\n",
      "/usr/local/lib/python2.7/dist-packages/ipykernel/__main__.py:41: VisibleDeprecationWarning: using a non-integer number instead of an integer will result in an error in the future\n",
      "/usr/local/lib/python2.7/dist-packages/ipykernel/__main__.py:42: VisibleDeprecationWarning: using a non-integer number instead of an integer will result in an error in the future\n",
      "/usr/local/lib/python2.7/dist-packages/ipykernel/__main__.py:43: VisibleDeprecationWarning: using a non-integer number instead of an integer will result in an error in the future\n",
      "/usr/local/lib/python2.7/dist-packages/ipykernel/__main__.py:44: VisibleDeprecationWarning: using a non-integer number instead of an integer will result in an error in the future\n"
     ]
    }
   ],
   "source": [
    "train_dataset, train_labels, test_dataset, test_labels = \\\n",
    "  merge_train_test_datasets(train_test_datasets, train_test_total_images, 0.1)"
   ]
  },
  {
   "cell_type": "code",
   "execution_count": 31,
   "metadata": {
    "collapsed": false
   },
   "outputs": [
    {
     "data": {
      "text/plain": [
       "16851"
      ]
     },
     "execution_count": 31,
     "metadata": {},
     "output_type": "execute_result"
    }
   ],
   "source": [
    "len(train_dataset)"
   ]
  },
  {
   "cell_type": "code",
   "execution_count": 32,
   "metadata": {
    "collapsed": true
   },
   "outputs": [],
   "source": [
    "# Convert data examples into 3-D tensors\n",
    "num_channels = 1  # grayscale\n",
    "def reformat(dataset, labels):\n",
    "  dataset = dataset.reshape(\n",
    "    (-1, image_height, image_width, num_channels)).astype(np.float32)\n",
    "  labels = (np.arange(num_labels) == labels[:,None]).astype(np.float32)\n",
    "  return dataset, labels\n",
    "\n"
   ]
  },
  {
   "cell_type": "code",
   "execution_count": 33,
   "metadata": {
    "collapsed": true
   },
   "outputs": [],
   "source": [
    "train_dataset, train_labels = reformat(train_dataset, train_labels)\n",
    "test_dataset, test_labels = reformat(test_dataset, test_labels)"
   ]
  },
  {
   "cell_type": "code",
   "execution_count": 34,
   "metadata": {
    "collapsed": false
   },
   "outputs": [
    {
     "name": "stdout",
     "output_type": "stream",
     "text": [
      "('Training set', (16851, 28, 28, 1), (16851, 10))\n",
      "('Test set', (1872, 28, 28, 1), (1872, 10))\n"
     ]
    }
   ],
   "source": [
    "print('Training set', train_dataset.shape, train_labels.shape)\n",
    "print('Test set', test_dataset.shape, test_labels.shape)"
   ]
  },
  {
   "cell_type": "code",
   "execution_count": 39,
   "metadata": {
    "collapsed": true
   },
   "outputs": [],
   "source": [
    "def accuracy(predictions, labels):\n",
    "  return (100.0 * np.sum(np.argmax(predictions, 1) == np.argmax(labels, 1))\n",
    "          / predictions.shape[0])"
   ]
  },
  {
   "cell_type": "code",
   "execution_count": 42,
   "metadata": {
    "collapsed": false
   },
   "outputs": [],
   "source": [
    "batch_size = 100\n",
    "patch_size = 5\n",
    "depth = 16\n",
    "num_hidden = 64\n",
    "\n",
    "graph = tf.Graph()\n",
    "\n",
    "with graph.as_default():\n",
    "\n",
    "  # Input data.\n",
    "  tf_train_dataset = tf.placeholder(\n",
    "    tf.float32, shape=(batch_size, image_height, image_width, num_channels))\n",
    "  tf_train_labels = tf.placeholder(tf.float32, shape=(batch_size, num_labels))\n",
    "  tf_test_dataset = tf.constant(test_dataset)\n",
    "  \n",
    "  # Variables.\n",
    "  layer1_weights = tf.Variable(tf.truncated_normal(\n",
    "      [patch_size, patch_size, num_channels, depth], stddev=0.1))\n",
    "  layer1_biases = tf.Variable(tf.zeros([depth]))\n",
    "  layer2_weights = tf.Variable(tf.truncated_normal(\n",
    "      [patch_size, patch_size, depth, depth], stddev=0.1))\n",
    "  layer2_biases = tf.Variable(tf.constant(1.0, shape=[depth]))\n",
    "  layer3_weights = tf.Variable(tf.truncated_normal(\n",
    "      [image_height // 4 * image_width // 4 * depth, num_hidden], stddev=0.1))\n",
    "  layer3_biases = tf.Variable(tf.constant(1.0, shape=[num_hidden]))\n",
    "  layer4_weights = tf.Variable(tf.truncated_normal(\n",
    "      [num_hidden, num_labels], stddev=0.1))\n",
    "  layer4_biases = tf.Variable(tf.constant(1.0, shape=[num_labels]))\n",
    "  \n",
    "  # Model.\n",
    "  def model(data, keep_rate):\n",
    "    conv = tf.nn.conv2d(data, layer1_weights, [1, 2, 2, 1], padding='SAME')\n",
    "    hidden = tf.nn.relu(conv + layer1_biases)\n",
    "    dropped = tf.nn.dropout(hidden, keep_rate)\n",
    "    conv = tf.nn.conv2d(hidden, layer2_weights, [1, 2, 2, 1], padding='SAME')\n",
    "    hidden = tf.nn.relu(conv + layer2_biases)\n",
    "    shape = hidden.get_shape().as_list()\n",
    "    reshape = tf.reshape(hidden, [shape[0], shape[1] * shape[2] * shape[3]])\n",
    "    hidden = tf.nn.relu(tf.matmul(reshape, layer3_weights) + layer3_biases)\n",
    "    return tf.matmul(hidden, layer4_weights) + layer4_biases\n",
    "  \n",
    "  # Training computation.\n",
    "  logits = model(tf_train_dataset, 0.5)\n",
    "  loss = tf.reduce_mean(\n",
    "    tf.nn.softmax_cross_entropy_with_logits(logits, tf_train_labels))\n",
    "    \n",
    "  # Optimizer.\n",
    "  optimizer = tf.train.GradientDescentOptimizer(0.05).minimize(loss)\n",
    "  \n",
    "  # Predictions for the training and test data.\n",
    "  train_prediction = tf.nn.softmax(logits)\n",
    "  test_prediction = tf.nn.softmax(model(tf_test_dataset, 1.0))"
   ]
  },
  {
   "cell_type": "code",
   "execution_count": 43,
   "metadata": {
    "collapsed": false
   },
   "outputs": [
    {
     "name": "stdout",
     "output_type": "stream",
     "text": [
      "Initialized\n",
      "Minibatch loss at step 0: 2.238878\n",
      "Minibatch accuracy: 10.0%\n",
      "Minibatch loss at step 50: 2.926146\n",
      "Minibatch accuracy: 57.0%\n",
      "Minibatch loss at step 100: 0.005914\n",
      "Minibatch accuracy: 100.0%\n",
      "Minibatch loss at step 150: 0.007855\n",
      "Minibatch accuracy: 100.0%\n",
      "Minibatch loss at step 200: 0.004339\n",
      "Minibatch accuracy: 100.0%\n",
      "Minibatch loss at step 250: 0.005817\n",
      "Minibatch accuracy: 100.0%\n",
      "Minibatch loss at step 300: 0.008423\n",
      "Minibatch accuracy: 100.0%\n",
      "Minibatch loss at step 350: 0.013187\n",
      "Minibatch accuracy: 100.0%\n",
      "Minibatch loss at step 400: 0.007962\n",
      "Minibatch accuracy: 100.0%\n",
      "Minibatch loss at step 450: 0.007794\n",
      "Minibatch accuracy: 100.0%\n",
      "Minibatch loss at step 500: 0.008829\n",
      "Minibatch accuracy: 100.0%\n",
      "Minibatch loss at step 550: 0.021692\n",
      "Minibatch accuracy: 100.0%\n",
      "Minibatch loss at step 600: 0.006766\n",
      "Minibatch accuracy: 100.0%\n",
      "Minibatch loss at step 650: 0.018554\n",
      "Minibatch accuracy: 100.0%\n",
      "Minibatch loss at step 700: 0.015392\n",
      "Minibatch accuracy: 100.0%\n",
      "Minibatch loss at step 750: 0.008014\n",
      "Minibatch accuracy: 100.0%\n",
      "Minibatch loss at step 800: 0.009816\n",
      "Minibatch accuracy: 100.0%\n",
      "Minibatch loss at step 850: 0.022311\n",
      "Minibatch accuracy: 100.0%\n",
      "Minibatch loss at step 900: 0.027629\n",
      "Minibatch accuracy: 100.0%\n",
      "Minibatch loss at step 950: 0.017435\n",
      "Minibatch accuracy: 100.0%\n",
      "Minibatch loss at step 1000: 0.005763\n",
      "Minibatch accuracy: 100.0%\n",
      "Minibatch loss at step 1050: 0.094794\n",
      "Minibatch accuracy: 97.0%\n",
      "Minibatch loss at step 1100: 0.019435\n",
      "Minibatch accuracy: 100.0%\n",
      "Minibatch loss at step 1150: 0.028656\n",
      "Minibatch accuracy: 100.0%\n",
      "Minibatch loss at step 1200: 0.022709\n",
      "Minibatch accuracy: 100.0%\n",
      "Minibatch loss at step 1250: 0.037485\n",
      "Minibatch accuracy: 100.0%\n",
      "Minibatch loss at step 1300: 0.067264\n",
      "Minibatch accuracy: 98.0%\n",
      "Minibatch loss at step 1350: 0.012154\n",
      "Minibatch accuracy: 100.0%\n",
      "Minibatch loss at step 1400: 0.042934\n",
      "Minibatch accuracy: 99.0%\n",
      "Minibatch loss at step 1450: 0.048506\n",
      "Minibatch accuracy: 99.0%\n",
      "Minibatch loss at step 1500: 0.042300\n",
      "Minibatch accuracy: 98.0%\n",
      "Minibatch loss at step 1550: 0.027250\n",
      "Minibatch accuracy: 99.0%\n",
      "Minibatch loss at step 1600: 0.039159\n",
      "Minibatch accuracy: 99.0%\n",
      "Minibatch loss at step 1650: 0.021244\n",
      "Minibatch accuracy: 99.0%\n",
      "Minibatch loss at step 1700: 0.044400\n",
      "Minibatch accuracy: 99.0%\n",
      "Minibatch loss at step 1750: 0.049719\n",
      "Minibatch accuracy: 99.0%\n",
      "Minibatch loss at step 1800: 0.133934\n",
      "Minibatch accuracy: 96.0%\n",
      "Minibatch loss at step 1850: 0.014908\n",
      "Minibatch accuracy: 100.0%\n",
      "Minibatch loss at step 1900: 0.035735\n",
      "Minibatch accuracy: 100.0%\n",
      "Minibatch loss at step 1950: 0.034179\n",
      "Minibatch accuracy: 100.0%\n",
      "Minibatch loss at step 2000: 0.027235\n",
      "Minibatch accuracy: 100.0%\n",
      "Minibatch loss at step 2050: 0.016747\n",
      "Minibatch accuracy: 100.0%\n",
      "Minibatch loss at step 2100: 0.068564\n",
      "Minibatch accuracy: 99.0%\n",
      "Minibatch loss at step 2150: 0.040877\n",
      "Minibatch accuracy: 99.0%\n",
      "Minibatch loss at step 2200: 0.056286\n",
      "Minibatch accuracy: 97.0%\n",
      "Minibatch loss at step 2250: 0.041187\n",
      "Minibatch accuracy: 99.0%\n",
      "Minibatch loss at step 2300: 0.092034\n",
      "Minibatch accuracy: 97.0%\n",
      "Minibatch loss at step 2350: 0.103037\n",
      "Minibatch accuracy: 97.0%\n",
      "Minibatch loss at step 2400: 0.104951\n",
      "Minibatch accuracy: 96.0%\n",
      "Minibatch loss at step 2450: 0.073752\n",
      "Minibatch accuracy: 97.0%\n",
      "Minibatch loss at step 2500: 0.070033\n",
      "Minibatch accuracy: 98.0%\n",
      "Minibatch loss at step 2550: 0.075722\n",
      "Minibatch accuracy: 98.0%\n",
      "Minibatch loss at step 2600: 0.067568\n",
      "Minibatch accuracy: 98.0%\n",
      "Minibatch loss at step 2650: 0.256078\n",
      "Minibatch accuracy: 94.0%\n",
      "Minibatch loss at step 2700: 0.101913\n",
      "Minibatch accuracy: 96.0%\n",
      "Minibatch loss at step 2750: 0.209652\n",
      "Minibatch accuracy: 93.0%\n",
      "Minibatch loss at step 2800: 0.074258\n",
      "Minibatch accuracy: 98.0%\n",
      "Minibatch loss at step 2850: 0.223689\n",
      "Minibatch accuracy: 94.0%\n",
      "Minibatch loss at step 2900: 0.118819\n",
      "Minibatch accuracy: 97.0%\n",
      "Minibatch loss at step 2950: 0.474862\n",
      "Minibatch accuracy: 85.0%\n",
      "Minibatch loss at step 3000: 0.181531\n",
      "Minibatch accuracy: 94.0%\n",
      "Minibatch loss at step 3050: 0.263978\n",
      "Minibatch accuracy: 91.0%\n",
      "Minibatch loss at step 3100: 0.268134\n",
      "Minibatch accuracy: 92.0%\n",
      "Minibatch loss at step 3150: 1.324991\n",
      "Minibatch accuracy: 68.0%\n",
      "Minibatch loss at step 3200: 0.637076\n",
      "Minibatch accuracy: 81.0%\n",
      "Minibatch loss at step 3250: 1.121777\n",
      "Minibatch accuracy: 65.0%\n",
      "Minibatch loss at step 3300: 0.354194\n",
      "Minibatch accuracy: 91.0%\n",
      "Minibatch loss at step 3350: 0.006440\n",
      "Minibatch accuracy: 100.0%\n",
      "Minibatch loss at step 3400: 0.186816\n",
      "Minibatch accuracy: 93.0%\n",
      "Minibatch loss at step 3450: 0.021319\n",
      "Minibatch accuracy: 99.0%\n",
      "Minibatch loss at step 3500: 0.017247\n",
      "Minibatch accuracy: 100.0%\n",
      "Minibatch loss at step 3550: 0.004697\n",
      "Minibatch accuracy: 100.0%\n",
      "Minibatch loss at step 3600: 0.001587\n",
      "Minibatch accuracy: 100.0%\n",
      "Minibatch loss at step 3650: 0.040138\n",
      "Minibatch accuracy: 99.0%\n",
      "Minibatch loss at step 3700: 0.058954\n",
      "Minibatch accuracy: 98.0%\n",
      "Minibatch loss at step 3750: 0.006333\n",
      "Minibatch accuracy: 100.0%\n",
      "Minibatch loss at step 3800: 0.025769\n",
      "Minibatch accuracy: 99.0%\n",
      "Minibatch loss at step 3850: 0.024539\n",
      "Minibatch accuracy: 99.0%\n",
      "Minibatch loss at step 3900: 0.040639\n",
      "Minibatch accuracy: 99.0%\n",
      "Minibatch loss at step 3950: 0.000714\n",
      "Minibatch accuracy: 100.0%\n",
      "Minibatch loss at step 4000: 0.005950\n",
      "Minibatch accuracy: 100.0%\n",
      "Minibatch loss at step 4050: 0.018175\n",
      "Minibatch accuracy: 100.0%\n",
      "Minibatch loss at step 4100: 0.019768\n",
      "Minibatch accuracy: 100.0%\n",
      "Minibatch loss at step 4150: 0.021422\n",
      "Minibatch accuracy: 100.0%\n",
      "Minibatch loss at step 4200: 0.063234\n",
      "Minibatch accuracy: 98.0%\n",
      "Minibatch loss at step 4250: 0.018179\n",
      "Minibatch accuracy: 100.0%\n",
      "Minibatch loss at step 4300: 0.033294\n",
      "Minibatch accuracy: 99.0%\n",
      "Minibatch loss at step 4350: 0.014627\n",
      "Minibatch accuracy: 99.0%\n",
      "Minibatch loss at step 4400: 0.045944\n",
      "Minibatch accuracy: 98.0%\n",
      "Minibatch loss at step 4450: 0.023369\n",
      "Minibatch accuracy: 99.0%\n",
      "Minibatch loss at step 4500: 0.072481\n",
      "Minibatch accuracy: 97.0%\n",
      "Minibatch loss at step 4550: 0.068819\n",
      "Minibatch accuracy: 97.0%\n",
      "Minibatch loss at step 4600: 0.027477\n",
      "Minibatch accuracy: 99.0%\n",
      "Minibatch loss at step 4650: 0.022999\n",
      "Minibatch accuracy: 99.0%\n",
      "Minibatch loss at step 4700: 0.018291\n",
      "Minibatch accuracy: 100.0%\n",
      "Minibatch loss at step 4750: 0.019439\n",
      "Minibatch accuracy: 99.0%\n",
      "Minibatch loss at step 4800: 0.036116\n",
      "Minibatch accuracy: 99.0%\n",
      "Minibatch loss at step 4850: 0.050844\n",
      "Minibatch accuracy: 98.0%\n",
      "Minibatch loss at step 4900: 0.055525\n",
      "Minibatch accuracy: 98.0%\n",
      "Minibatch loss at step 4950: 0.019122\n",
      "Minibatch accuracy: 100.0%\n",
      "Minibatch loss at step 5000: 0.064859\n",
      "Minibatch accuracy: 99.0%\n",
      "Test accuracy: 40.8%\n"
     ]
    }
   ],
   "source": [
    "num_steps = 5001\n",
    "\n",
    "with tf.Session(graph=graph) as session:\n",
    "  tf.initialize_all_variables().run()\n",
    "  print('Initialized')\n",
    "  for step in range(num_steps):\n",
    "    offset = (step * batch_size) % (train_labels.shape[0] - batch_size)\n",
    "    batch_data = train_dataset[offset:(offset + batch_size), :, :, :]\n",
    "    batch_labels = train_labels[offset:(offset + batch_size), :]\n",
    "    feed_dict = {tf_train_dataset : batch_data, tf_train_labels : batch_labels}\n",
    "    _, l, predictions = session.run(\n",
    "      [optimizer, loss, train_prediction], feed_dict=feed_dict)\n",
    "    if (step % 50 == 0):\n",
    "      print('Minibatch loss at step %d: %f' % (step, l))\n",
    "      print('Minibatch accuracy: %.1f%%' % accuracy(predictions, batch_labels))\n",
    "  print('Test accuracy: %.1f%%' % accuracy(test_prediction.eval(), test_labels))"
   ]
  },
  {
   "cell_type": "code",
   "execution_count": null,
   "metadata": {
    "collapsed": true
   },
   "outputs": [],
   "source": []
  }
 ],
 "metadata": {
  "kernelspec": {
   "display_name": "Python 2",
   "language": "python",
   "name": "python2"
  },
  "language_info": {
   "codemirror_mode": {
    "name": "ipython",
    "version": 2
   },
   "file_extension": ".py",
   "mimetype": "text/x-python",
   "name": "python",
   "nbconvert_exporter": "python",
   "pygments_lexer": "ipython2",
   "version": "2.7.6"
  }
 },
 "nbformat": 4,
 "nbformat_minor": 0
}
