{
 "cells": [
  {
   "cell_type": "code",
   "execution_count": null,
   "metadata": {
    "collapsed": true
   },
   "outputs": [],
   "source": [
    "# TensorBoard Helper Functions and Constants\n",
    "\n",
    "# Directory to export TensorBoard summary statistics, graph data, etc.\n",
    "TB_DIR = '/tmp/tensorboard/tf_cnn'\n",
    "\n",
    "def clean_tb_dir():\n",
    "    !rm -rf /tmp/tensorboard/tf_cnn\n",
    "\n",
    "def _start_tb(d):\n",
    "    \"\"\"\n",
    "    Private function that calls `tensorboard` shell command\n",
    "    \n",
    "    args:\n",
    "      d: The desired directory to launch in TensorBoard\n",
    "    \"\"\"\n",
    "    !tensorboard --port=6006 --logdir=$d\n",
    "\n",
    "def start_tensorboard(d=TB_DIR):\n",
    "    \"\"\"\n",
    "    Starts TensorBoard from the notebook in a separate thread.\n",
    "    Prevents Jupyter Notebook from halting while TensorBoard runs.\n",
    "    \"\"\"\n",
    "    import threading\n",
    "    threading.Thread(target=_start_tb, args=(TB_DIR,)).start()\n",
    "    del threading\n",
    "\n",
    "def stop_tensorboard():\n",
    "    \"\"\"\n",
    "    Kills all TensorBoard processes\n",
    "    \"\"\"\n",
    "    !ps -aef | grep \"tensorboard\" | tr -s ' ' | cut -d ' ' -f2 | xargs kill -KILL\n",
    "    \n",
    "def reset_tensorboard():\n",
    "    stop_tensorboard()\n",
    "    start_tensorboard()"
   ]
  },
  {
   "cell_type": "code",
   "execution_count": 2,
   "metadata": {
    "collapsed": true
   },
   "outputs": [],
   "source": [
    "# Import core TensorFlow modules\n",
    "import tensorflow as tf\n",
    "import numpy as np"
   ]
  },
  {
   "cell_type": "code",
   "execution_count": 3,
   "metadata": {
    "collapsed": true
   },
   "outputs": [],
   "source": [
    "# Modules required for file download and extraction\n",
    "import os\n",
    "import sys\n",
    "import tarfile\n",
    "from six.moves.urllib.request import urlretrieve\n",
    "from scipy import ndimage"
   ]
  },
  {
   "cell_type": "code",
   "execution_count": 4,
   "metadata": {
    "collapsed": true
   },
   "outputs": [],
   "source": [
    "def maybe_download(filename, url, force=False):\n",
    "  \"\"\"Download a file if not present.\"\"\"\n",
    "  if force or not os.path.exists('/root/pipeline/datasets/notmnist/' + filename):\n",
    "    filename, _ = urlretrieve(url + filename, '/root/pipeline/datasets/notmnist/' + filename)\n",
    "    print('\\nDownload complete for {}'.format(filename))\n",
    "  else:\n",
    "    print('File {} already present.'.format(filename))\n",
    "  return '/root/pipeline/datasets/notmnist/' + filename\n",
    "\n",
    "def maybe_extract(filename, force=False):\n",
    "  root = os.path.splitext(os.path.splitext(filename)[0])[0]  # remove .tar.gz\n",
    "  if os.path.isdir(root) and not force:\n",
    "    # You may override by setting force=True.\n",
    "    print('{} already present - don\\'t need to extract {}.'.format(root, filename))\n",
    "  else:\n",
    "    print('Extracting data for {}. This may take a while. Please wait.'.format(root))\n",
    "    tar = tarfile.open(filename)\n",
    "    sys.stdout.flush()\n",
    "    tar.extractall(root[0:root.rfind('/') + 1])\n",
    "    tar.close()\n",
    "  data_folders = [\n",
    "    os.path.join(root, d) for d in sorted(os.listdir(root))\n",
    "    if os.path.isdir(os.path.join(root, d))]\n",
    "  print(data_folders)\n",
    "  return data_folders"
   ]
  },
  {
   "cell_type": "code",
   "execution_count": 5,
   "metadata": {
    "collapsed": true
   },
   "outputs": [],
   "source": [
    "# Locations to download data:\n",
    "url = 'http://yaroslavvb.com/upload/notMNIST/'"
   ]
  },
  {
   "cell_type": "code",
   "execution_count": 6,
   "metadata": {
    "collapsed": false
   },
   "outputs": [
    {
     "name": "stdout",
     "output_type": "stream",
     "text": [
      "File notMNIST_small.tar.gz already present.\n"
     ]
    }
   ],
   "source": [
    "# Download two datasets\n",
    "train_zip_path = maybe_download('notMNIST_small.tar.gz', url)"
   ]
  },
  {
   "cell_type": "code",
   "execution_count": 7,
   "metadata": {
    "collapsed": false
   },
   "outputs": [
    {
     "name": "stdout",
     "output_type": "stream",
     "text": [
      "/root/pipeline/datasets/notmnist/notMNIST_small already present - don't need to extract /root/pipeline/datasets/notmnist/notMNIST_small.tar.gz.\n",
      "['/root/pipeline/datasets/notmnist/notMNIST_small/A', '/root/pipeline/datasets/notmnist/notMNIST_small/B', '/root/pipeline/datasets/notmnist/notMNIST_small/C', '/root/pipeline/datasets/notmnist/notMNIST_small/D', '/root/pipeline/datasets/notmnist/notMNIST_small/E', '/root/pipeline/datasets/notmnist/notMNIST_small/F', '/root/pipeline/datasets/notmnist/notMNIST_small/G', '/root/pipeline/datasets/notmnist/notMNIST_small/H', '/root/pipeline/datasets/notmnist/notMNIST_small/I', '/root/pipeline/datasets/notmnist/notMNIST_small/J']\n"
     ]
    }
   ],
   "source": [
    "# Extract datasets\n",
    "train_folders = maybe_extract(train_zip_path)"
   ]
  },
  {
   "cell_type": "code",
   "execution_count": 8,
   "metadata": {
    "collapsed": false
   },
   "outputs": [
    {
     "data": {
      "text/plain": [
       "10"
      ]
     },
     "execution_count": 8,
     "metadata": {},
     "output_type": "execute_result"
    }
   ],
   "source": [
    "len(train_folders)"
   ]
  },
  {
   "cell_type": "code",
   "execution_count": 9,
   "metadata": {
    "collapsed": true
   },
   "outputs": [],
   "source": [
    "image_height = 28  # Pixel height of images\n",
    "image_width = 28  # Pixel width of images\n",
    "pixel_depth = 255.0  # Number of levels per pixel\n",
    "expected_img_shape = (image_height, image_width)  # Black and white image, no 3rd dimension\n",
    "num_labels = len(train_folders)\n",
    "\n",
    "def load_image_folder(folder):\n",
    "  \"\"\"Load the data for a single image label.\"\"\"\n",
    "  \n",
    "  # Create a list of image paths inside the folder  \n",
    "  image_files = os.listdir(folder)\n",
    "  # Create empty numpy array to hold data\n",
    "  dataset = np.ndarray(shape=(len(image_files), image_height, image_width),\n",
    "                         dtype=np.float32)\n",
    "  num_images = 0  # Counter for number of successful images loaded\n",
    "  for image in image_files:\n",
    "    image_file = os.path.join(folder, image)\n",
    "    try:\n",
    "      # Read in image pixel data as floating point values\n",
    "      image_data = ndimage.imread(image_file).astype(float)\n",
    "      # Scale values: [0.0, 255.0] => [-1.0, 1.0] \n",
    "      image_data = (image_data - pixel_depth / 2) / (pixel_depth / 2)\n",
    "      if image_data.shape != expected_img_shape:\n",
    "        print('File {} has unexpected dimensions: '.format(str(image_data.shape)))\n",
    "        continue\n",
    "      # Add image to the numpy array dataset\n",
    "      dataset[num_images, :, :] = image_data\n",
    "      num_images = num_images + 1\n",
    "    except IOError as e:\n",
    "      print('Could not read:', image_file, ':', e, '- skipping this file and moving on.')\n",
    "  \n",
    "  # Trim dataset to remove unused space\n",
    "  dataset = dataset[0:num_images, :, :]\n",
    "  return dataset"
   ]
  },
  {
   "cell_type": "code",
   "execution_count": 10,
   "metadata": {
    "collapsed": false
   },
   "outputs": [],
   "source": [
    "def make_data_label_arrays(num_rows, image_height, image_width):\n",
    "  \"\"\"\n",
    "  Creates and returns empty numpy arrays for input data and labels\n",
    "  \"\"\"\n",
    "  if num_rows:\n",
    "    dataset = np.ndarray((num_rows, image_height, image_width), dtype=np.float32)\n",
    "    labels = np.ndarray(num_rows, dtype=np.int32)\n",
    "  else:\n",
    "    dataset, labels = None, None\n",
    "  return dataset, labels\n",
    "\n",
    "def collect_datasets(data_folders):\n",
    "  datasets = []\n",
    "  total_images = 0\n",
    "  for label, data_folder in enumerate(data_folders):\n",
    "    # Bring all test folder images in as numpy arrays\n",
    "    dataset = load_image_folder(data_folder)\n",
    "    num_images = len(dataset)\n",
    "    total_images += num_images\n",
    "    datasets.append((dataset, label, num_images))\n",
    "  return datasets, total_images\n",
    "\n",
    "def merge_train_test_datasets(datasets, total_images, percent_test):\n",
    "    num_train = total_images * (1.0 - percent_test)\n",
    "    num_test = total_images * percent_test\n",
    "    train_dataset, train_labels = make_data_label_arrays(num_train, image_height, image_width)\n",
    "    test_dataset, test_labels = make_data_label_arrays(num_test, image_height, image_width)\n",
    "    \n",
    "    train_counter = 0\n",
    "    test_counter = 0\n",
    "    dataset_counter = 1\n",
    "    for dataset, label, num_images in datasets:\n",
    "      np.random.shuffle(dataset)\n",
    "      if dataset_counter != len(datasets):\n",
    "        n_v = num_images // (1.0 / percent_test)\n",
    "        n_t = num_images - n_v\n",
    "      else:\n",
    "        # Last label, make sure dataset sizes match up to what we created\n",
    "        n_v = len(test_dataset) - test_counter\n",
    "        n_t = len(train_dataset) - train_counter\n",
    "      train_dataset[train_counter: train_counter + n_t] = dataset[:n_t]\n",
    "      train_labels[train_counter: train_counter + n_t] = label\n",
    "      test_dataset[test_counter: test_counter + n_v] = dataset[n_t: n_t + n_v]\n",
    "      test_labels[test_counter: test_counter + n_v] = label\n",
    "      train_counter += n_t\n",
    "      test_counter += n_v\n",
    "      dataset_counter += 1\n",
    "    return train_dataset, train_labels, test_dataset, test_labels"
   ]
  },
  {
   "cell_type": "code",
   "execution_count": 11,
   "metadata": {
    "collapsed": false
   },
   "outputs": [
    {
     "name": "stdout",
     "output_type": "stream",
     "text": [
      "('Could not read:', '/root/pipeline/datasets/notmnist/notMNIST_small/A/RGVtb2NyYXRpY2FCb2xkT2xkc3R5bGUgQm9sZC50dGY=.png', ':', IOError('cannot identify image file',), '- skipping this file and moving on.')\n",
      "('Could not read:', '/root/pipeline/datasets/notmnist/notMNIST_small/F/Q3Jvc3NvdmVyIEJvbGRPYmxpcXVlLnR0Zg==.png', ':', IOError('cannot identify image file',), '- skipping this file and moving on.')\n"
     ]
    }
   ],
   "source": [
    "train_test_datasets, train_test_total_images = collect_datasets(train_folders)"
   ]
  },
  {
   "cell_type": "code",
   "execution_count": 12,
   "metadata": {
    "collapsed": false
   },
   "outputs": [
    {
     "name": "stderr",
     "output_type": "stream",
     "text": [
      "/usr/local/lib/python2.7/dist-packages/ipykernel/__main__.py:6: VisibleDeprecationWarning: using a non-integer number instead of an integer will result in an error in the future\n",
      "/usr/local/lib/python2.7/dist-packages/ipykernel/__main__.py:7: VisibleDeprecationWarning: using a non-integer number instead of an integer will result in an error in the future\n",
      "/usr/local/lib/python2.7/dist-packages/ipykernel/__main__.py:41: VisibleDeprecationWarning: using a non-integer number instead of an integer will result in an error in the future\n",
      "/usr/local/lib/python2.7/dist-packages/ipykernel/__main__.py:42: VisibleDeprecationWarning: using a non-integer number instead of an integer will result in an error in the future\n",
      "/usr/local/lib/python2.7/dist-packages/ipykernel/__main__.py:43: VisibleDeprecationWarning: using a non-integer number instead of an integer will result in an error in the future\n",
      "/usr/local/lib/python2.7/dist-packages/ipykernel/__main__.py:44: VisibleDeprecationWarning: using a non-integer number instead of an integer will result in an error in the future\n"
     ]
    }
   ],
   "source": [
    "train_dataset, train_labels, test_dataset, test_labels = \\\n",
    "  merge_train_test_datasets(train_test_datasets, train_test_total_images, 0.1)"
   ]
  },
  {
   "cell_type": "code",
   "execution_count": 13,
   "metadata": {
    "collapsed": false
   },
   "outputs": [
    {
     "data": {
      "text/plain": [
       "16851"
      ]
     },
     "execution_count": 13,
     "metadata": {},
     "output_type": "execute_result"
    }
   ],
   "source": [
    "len(train_dataset)"
   ]
  },
  {
   "cell_type": "code",
   "execution_count": 14,
   "metadata": {
    "collapsed": true
   },
   "outputs": [],
   "source": [
    "# Convert data examples into 3-D tensors\n",
    "num_channels = 1  # grayscale\n",
    "def reformat(dataset, labels):\n",
    "  dataset = dataset.reshape(\n",
    "    (-1, image_height, image_width, num_channels)).astype(np.float32)\n",
    "  labels = (np.arange(num_labels) == labels[:,None]).astype(np.float32)\n",
    "  return dataset, labels\n",
    "\n"
   ]
  },
  {
   "cell_type": "code",
   "execution_count": 15,
   "metadata": {
    "collapsed": true
   },
   "outputs": [],
   "source": [
    "train_dataset, train_labels = reformat(train_dataset, train_labels)\n",
    "test_dataset, test_labels = reformat(test_dataset, test_labels)"
   ]
  },
  {
   "cell_type": "code",
   "execution_count": 16,
   "metadata": {
    "collapsed": false
   },
   "outputs": [
    {
     "name": "stdout",
     "output_type": "stream",
     "text": [
      "('Training set', (16851, 28, 28, 1), (16851, 10))\n",
      "('Test set', (1872, 28, 28, 1), (1872, 10))\n"
     ]
    }
   ],
   "source": [
    "print('Training set', train_dataset.shape, train_labels.shape)\n",
    "print('Test set', test_dataset.shape, test_labels.shape)"
   ]
  },
  {
   "cell_type": "code",
   "execution_count": 17,
   "metadata": {
    "collapsed": true
   },
   "outputs": [],
   "source": [
    "def shuffle_data_with_labels(dataset, labels):\n",
    "    indices = range(len(dataset))\n",
    "    np.random.shuffle(indices)\n",
    "    new_data = np.ndarray(dataset.shape, dataset.dtype)\n",
    "    new_labels = np.ndarray(labels.shape, dataset.dtype)\n",
    "    n = 0\n",
    "    for i in indices:\n",
    "        new_data[n] = dataset[i]\n",
    "        new_labels[n] = labels[i]\n",
    "        n += 1\n",
    "    return new_data, new_labels"
   ]
  },
  {
   "cell_type": "code",
   "execution_count": 18,
   "metadata": {
    "collapsed": false
   },
   "outputs": [],
   "source": [
    "train_dataset, train_labels = shuffle_data_with_labels(train_dataset, train_labels)"
   ]
  },
  {
   "cell_type": "code",
   "execution_count": null,
   "metadata": {
    "collapsed": true
   },
   "outputs": [],
   "source": []
  },
  {
   "cell_type": "code",
   "execution_count": 25,
   "metadata": {
    "collapsed": false
   },
   "outputs": [],
   "source": [
    "batch_size = 64\n",
    "patch_size = 5\n",
    "depth = 16\n",
    "num_hidden = 64\n",
    "\n",
    "graph = tf.Graph()\n",
    "\n",
    "with graph.as_default():\n",
    "    \n",
    "  def variable_summaries(var, name):\n",
    "    with tf.name_scope(\"summaries\"):\n",
    "      mean = tf.reduce_mean(var)\n",
    "      tf.scalar_summary('mean/' + name, mean)\n",
    "      with tf.name_scope('stddev'):\n",
    "        stddev = tf.sqrt(tf.reduce_sum(tf.square(var - mean)))\n",
    "      tf.scalar_summary('sttdev/' + name, stddev)\n",
    "      tf.scalar_summary('max/' + name, tf.reduce_max(var))\n",
    "      tf.scalar_summary('min/' + name, tf.reduce_min(var))\n",
    "      tf.histogram_summary(name, var)\n",
    "\n",
    "  # Input data.\n",
    "  input_data = tf.placeholder(\n",
    "    tf.float32, shape=(None, image_height, image_width, num_channels), name=\"input_data\")\n",
    "  input_labels = tf.placeholder(tf.float32, shape=(None, num_labels), name=\"input_labels\")\n",
    "  keep_rate = tf.placeholder(tf.float32, shape=(), name=\"keep_rate\")\n",
    "  \n",
    "  # Variables.\n",
    "  layer1_weights = tf.Variable(tf.truncated_normal(\n",
    "      [patch_size, patch_size, num_channels, depth], stddev=0.1), name=\"L1Weights\")\n",
    "  layer1_biases = tf.Variable(tf.zeros([depth]), name=\"L1Bias\")\n",
    "  layer2_weights = tf.Variable(tf.truncated_normal(\n",
    "      [patch_size, patch_size, depth, depth], stddev=0.1), name=\"L2Weights\")\n",
    "  layer2_biases = tf.Variable(tf.constant(1.0, shape=[depth]), name=\"L2Bias\")\n",
    "  layer3_weights = tf.Variable(tf.truncated_normal(\n",
    "      [image_height // 4 * image_width // 4 * depth, num_hidden], stddev=0.1), name=\"L3Weights\")\n",
    "  layer3_biases = tf.Variable(tf.constant(1.0, shape=[num_hidden]), name=\"L3Bias\")\n",
    "  layer4_weights = tf.Variable(tf.truncated_normal(\n",
    "      [num_hidden, num_labels], stddev=0.1), name=\"L4Weights\")\n",
    "  layer4_biases = tf.Variable(tf.constant(1.0, shape=[num_labels]), name=\"L4Bias\")\n",
    "  \n",
    "  # Add variable summaries\n",
    "  for v in [layer1_weights, layer2_weights, layer3_weights, layer4_weights,\n",
    "            layer1_biases, layer2_biases, layer3_biases, layer4_biases]:\n",
    "    variable_summaries(v, v.name)\n",
    "  \n",
    "  # Model.\n",
    "  def model(data):\n",
    "    with tf.name_scope(\"Layer1\"):\n",
    "      conv = tf.nn.conv2d(data, layer1_weights, [1, 2, 2, 1], padding='SAME', name=\"2DConvolution\")\n",
    "      hidden = tf.nn.relu(conv + layer1_biases, name=\"ReLu\")\n",
    "      dropped = tf.nn.dropout(hidden, keep_rate, name=\"Dropout\")\n",
    "    with tf.name_scope(\"Layer2\"):\n",
    "      conv = tf.nn.conv2d(dropped, layer2_weights, [1, 2, 2, 1], padding='SAME', name=\"2DConvolution\")\n",
    "      hidden = tf.nn.relu(conv + layer2_biases, name=\"ReLu\")\n",
    "      dropped = tf.nn.dropout(hidden, keep_rate, name=\"Dropout\")\n",
    "    with tf.name_scope(\"Layer3\"):\n",
    "      shape = dropped.get_shape().as_list()\n",
    "      reshape = tf.reshape(dropped, [-1, shape[1] * shape[2] * shape[3]])\n",
    "      hidden = tf.nn.relu(tf.matmul(reshape, layer3_weights) + layer3_biases, name=\"ReLu\")\n",
    "    return tf.matmul(hidden, layer4_weights) + layer4_biases\n",
    "  \n",
    "  # Training computation.\n",
    "  logits = model(input_data)\n",
    "  loss = tf.reduce_mean(\n",
    "    tf.nn.softmax_cross_entropy_with_logits(logits, input_labels))\n",
    "    \n",
    "  # Optimizer.\n",
    "  optimizer = tf.train.GradientDescentOptimizer(0.05).minimize(loss)\n",
    "  \n",
    "  # Predictions for the training and test data.\n",
    "  model_prediction = tf.nn.softmax(logits, name=\"prediction\")\n",
    "  label_prediction = tf.argmax(model_prediction, 1, name=\"predicted_label\")\n",
    "   \n",
    "  with tf.name_scope('summaries'):\n",
    "    tf.scalar_summary('loss', loss)\n",
    "    with tf.name_scope('accuracy'):\n",
    "      correct_prediction = tf.equal(label_prediction, tf.argmax(input_labels, 1))\n",
    "      model_accuracy = tf.reduce_mean(tf.cast(correct_prediction, tf.float32))\n",
    "      tf.scalar_summary('accuracy', model_accuracy)\n",
    "    \n",
    "  merged_summaries = tf.merge_all_summaries()\n",
    "  init = tf.initialize_all_variables()"
   ]
  },
  {
   "cell_type": "code",
   "execution_count": 26,
   "metadata": {
    "collapsed": false
   },
   "outputs": [
    {
     "name": "stdout",
     "output_type": "stream",
     "text": [
      "Initialized\n",
      "Minibatch loss at step 0: 4.861333\n",
      "Minibatch accuracy: 0.171875\n",
      "Minibatch loss at step 50: 1.438927\n",
      "Minibatch accuracy: 0.453125\n",
      "Minibatch loss at step 100: 0.974674\n",
      "Minibatch accuracy: 0.734375\n",
      "Minibatch loss at step 150: 0.637842\n",
      "Minibatch accuracy: 0.828125\n",
      "Minibatch loss at step 200: 0.887668\n",
      "Minibatch accuracy: 0.796875\n",
      "Minibatch loss at step 250: 0.303333\n",
      "Minibatch accuracy: 0.9375\n",
      "Minibatch loss at step 300: 0.484798\n",
      "Minibatch accuracy: 0.859375\n",
      "Minibatch loss at step 350: 0.604264\n",
      "Minibatch accuracy: 0.8125\n",
      "Minibatch loss at step 400: 0.563976\n",
      "Minibatch accuracy: 0.859375\n",
      "Minibatch loss at step 450: 0.449784\n",
      "Minibatch accuracy: 0.90625\n",
      "Minibatch loss at step 500: 0.713067\n",
      "Minibatch accuracy: 0.8125\n",
      "Minibatch loss at step 550: 0.580143\n",
      "Minibatch accuracy: 0.78125\n",
      "Minibatch loss at step 600: 0.458130\n",
      "Minibatch accuracy: 0.875\n",
      "Minibatch loss at step 650: 0.706458\n",
      "Minibatch accuracy: 0.8125\n",
      "Minibatch loss at step 700: 0.477830\n",
      "Minibatch accuracy: 0.84375\n",
      "Minibatch loss at step 750: 0.416248\n",
      "Minibatch accuracy: 0.859375\n",
      "Minibatch loss at step 800: 0.221228\n",
      "Minibatch accuracy: 0.9375\n",
      "Minibatch loss at step 850: 0.714404\n",
      "Minibatch accuracy: 0.84375\n",
      "Minibatch loss at step 900: 0.391155\n",
      "Minibatch accuracy: 0.859375\n",
      "Minibatch loss at step 950: 0.324682\n",
      "Minibatch accuracy: 0.875\n",
      "Minibatch loss at step 1000: 0.271581\n",
      "Minibatch accuracy: 0.90625\n",
      "Test accuracy: 0.894230782986\n"
     ]
    }
   ],
   "source": [
    "num_steps = 1001\n",
    "\n",
    "session = tf.Session(graph=graph)\n",
    "writer = tf.train.SummaryWriter(TB_DIR, graph=session.graph)\n",
    "session.run(init)\n",
    "print('Initialized')\n",
    "for step in range(num_steps):\n",
    "  offset = (step * batch_size) % (train_labels.shape[0] - batch_size)\n",
    "  batch_data = train_dataset[offset:(offset + batch_size), :, :, :]\n",
    "  batch_labels = train_labels[offset:(offset + batch_size), :]\n",
    "  feed_dict = {input_data : batch_data, input_labels : batch_labels, keep_rate: 0.5}\n",
    "  _, l, predictions, accuracy, summaries = session.run(\n",
    "    [optimizer, loss, model_prediction, model_accuracy, merged_summaries], feed_dict=feed_dict)\n",
    "  if (step % 50 == 0):\n",
    "    writer.add_summary(summaries)\n",
    "    print('Minibatch loss at step %d: %f' % (step, l))\n",
    "    print('Minibatch accuracy: {}'.format(accuracy))\n",
    "test_dict = {input_data : test_dataset, input_labels : test_labels, keep_rate: 1.0}\n",
    "test_accuracy = session.run(model_accuracy, feed_dict=test_dict)\n",
    "print('Test accuracy: {}'.format(test_accuracy))\n",
    "writer.close()"
   ]
  },
  {
   "cell_type": "code",
   "execution_count": null,
   "metadata": {
    "collapsed": false
   },
   "outputs": [],
   "source": [
    "start_tensorboard()"
   ]
  },
  {
   "cell_type": "code",
   "execution_count": null,
   "metadata": {
    "collapsed": true
   },
   "outputs": [],
   "source": [
    "stop_tensorboard()"
   ]
  },
  {
   "cell_type": "code",
   "execution_count": null,
   "metadata": {
    "collapsed": false
   },
   "outputs": [],
   "source": [
    "clean_tb_dir()"
   ]
  },
  {
   "cell_type": "code",
   "execution_count": 35,
   "metadata": {
    "collapsed": false
   },
   "outputs": [
    {
     "name": "stdout",
     "output_type": "stream",
     "text": [
      "Predicted character: F\n"
     ]
    },
    {
     "data": {
      "image/png": "[encoded data removed]",
      "text/plain": [
       "<matplotlib.figure.Figure at 0x7fc6fa1fb350>"
      ]
     },
     "metadata": {},
     "output_type": "display_data"
    }
   ],
   "source": [
    "# Visualize data:\n",
    "import matplotlib.pyplot as plt\n",
    "%matplotlib inline\n",
    "\n",
    "i = np.random.randint(len(test_dataset))\n",
    "data = test_dataset[i,:,:,:]\n",
    "pixels = data[:, :, 0]\n",
    "plt.imshow(pixels)\n",
    "\n",
    "feed_me = np.ndarray((1, image_height, image_width, 1), np.float32)\n",
    "feed_me[0] = data\n",
    "feed_dict = {input_data: feed_me, keep_rate: 1.0}\n",
    "prediction = session.run(label_prediction, feed_dict=feed_dict)\n",
    "print(\"Predicted character: \" + chr(prediction + ord('A')))"
   ]
  },
  {
   "cell_type": "code",
   "execution_count": null,
   "metadata": {
    "collapsed": false
   },
   "outputs": [],
   "source": []
  },
  {
   "cell_type": "code",
   "execution_count": null,
   "metadata": {
    "collapsed": false
   },
   "outputs": [],
   "source": []
  },
  {
   "cell_type": "code",
   "execution_count": null,
   "metadata": {
    "collapsed": true
   },
   "outputs": [],
   "source": []
  }
 ],
 "metadata": {
  "kernelspec": {
   "display_name": "Python 2",
   "language": "python",
   "name": "python2"
  },
  "language_info": {
   "codemirror_mode": {
    "name": "ipython",
    "version": 2
   },
   "file_extension": ".py",
   "mimetype": "text/x-python",
   "name": "python",
   "nbconvert_exporter": "python",
   "pygments_lexer": "ipython2",
   "version": "2.7.6"
  }
 },
 "nbformat": 4,
 "nbformat_minor": 0
}
