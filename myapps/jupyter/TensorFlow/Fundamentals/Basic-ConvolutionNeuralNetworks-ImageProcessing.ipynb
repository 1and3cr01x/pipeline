{
 "cells": [
  {
   "cell_type": "markdown",
   "metadata": {},
   "source": [
    "## Basic Convolutional Neural Network:  Image Processing"
   ]
  },
  {
   "cell_type": "code",
   "execution_count": 11,
   "metadata": {
    "collapsed": true
   },
   "outputs": [],
   "source": [
    "# TODO:  @Sam, please fill this in..."
   ]
  },
  {
   "cell_type": "code",
   "execution_count": 3,
   "metadata": {
    "collapsed": true
   },
   "outputs": [],
   "source": [
    "import tensorflow as tf\n",
    "import numpy as np\n",
    "from IPython.display import clear_output, Image, display, HTML"
   ]
  },
  {
   "cell_type": "code",
   "execution_count": 4,
   "metadata": {
    "collapsed": true
   },
   "outputs": [],
   "source": [
    "# Note:  All datasets are available here:  /root/pipeline/datasets/..."
   ]
  },
  {
   "cell_type": "code",
   "execution_count": 12,
   "metadata": {
    "collapsed": true
   },
   "outputs": [],
   "source": [
    "# Modules required for file download and extraction\n",
    "import os\n",
    "import sys\n",
    "import tarfile\n",
    "from six.moves.urllib.request import urlretrieve\n",
    "\n",
    "def maybe_download(filename, url, force=False):\n",
    "  \"\"\"Download a file if not present.\"\"\"\n",
    "  if force or not os.path.exists('/root/pipeline/datasets/notmnist/' + filename):\n",
    "    filename, _ = urlretrieve(url + filename, '/root/pipeline/datasets/notmnist/' + filename)\n",
    "    print('\\nDownload complete for {}'.format(filename))\n",
    "  else:\n",
    "    print('File {} already present.'.format(filename))\n",
    "  return filename\n",
    "\n",
    "def maybe_extract(filename, force=False):\n",
    "  root = os.path.splitext(os.path.splitext(filename)[0])[0]  # remove .tar.gz\n",
    "  if os.path.isdir(root) and not force:\n",
    "    # You may override by setting force=True.\n",
    "    print('{} already present - Skipping extraction of {}.'.format(root, filename))\n",
    "  else:\n",
    "    print('Extracting data for {}. This may take a while. Please wait.'.format(root))\n",
    "    tar = tarfile.open(filename)\n",
    "    sys.stdout.flush()\n",
    "    tar.extractall(root)\n",
    "    tar.close()\n",
    "  data_folders = [\n",
    "    os.path.join(root, d) for d in sorted(os.listdir(root))\n",
    "    if os.path.isdir(os.path.join(root, d))]\n",
    "  print(data_folders)\n",
    "  return data_folders\n",
    "\n"
   ]
  },
  {
   "cell_type": "code",
   "execution_count": 13,
   "metadata": {
    "collapsed": false
   },
   "outputs": [
    {
     "name": "stdout",
     "output_type": "stream",
     "text": [
      "Extracting data for /root/pipeline/datasets/notmnist/notMNIST_large. This may take a while. Please wait.\n",
      "['/root/pipeline/datasets/notmnist/notMNIST_large/notMNIST_large']\n",
      "Extracting data for /root/pipeline/datasets/notmnist/notMNIST_small. This may take a while. Please wait.\n",
      "['/root/pipeline/datasets/notmnist/notMNIST_small/notMNIST_small']\n"
     ]
    },
    {
     "data": {
      "text/plain": [
       "['/root/pipeline/datasets/notmnist/notMNIST_small/notMNIST_small']"
      ]
     },
     "execution_count": 13,
     "metadata": {},
     "output_type": "execute_result"
    }
   ],
   "source": [
    "maybe_extract('/root/pipeline/datasets/notmnist/notMNIST_large.tar.gz')\n",
    "maybe_extract('/root/pipeline/datasets/notmnist/notMNIST_small.tar.gz')"
   ]
  },
  {
   "cell_type": "code",
   "execution_count": 5,
   "metadata": {
    "collapsed": false
   },
   "outputs": [
    {
     "name": "stdout",
     "output_type": "stream",
     "text": [
      "total 60\r\n",
      "drwxr-xr-x 14 root 4096 May 26 18:32 \u001b[0m\u001b[01;34mdating\u001b[0m/\r\n",
      "drwxr-xr-x  3 root 4096 May 26 18:32 \u001b[01;34meigenface\u001b[0m/\r\n",
      "drwxr-xr-x  2 root 4096 May 26 00:12 \u001b[01;34memail\u001b[0m/\r\n",
      "drwxr-xr-x  2 root 4096 May 26 00:12 \u001b[01;34mgeo\u001b[0m/\r\n",
      "drwxr-xr-x  2 root 4096 May 26 00:12 \u001b[01;34mgraph\u001b[0m/\r\n",
      "drwxr-xr-x  2 root 4096 May 28 18:14 \u001b[01;34minception\u001b[0m/\r\n",
      "drwxr-xr-x  2 root 4096 May 26 00:12 \u001b[01;34mlsh\u001b[0m/\r\n",
      "drwxr-xr-x  2 root 4096 May 26 00:12 \u001b[01;34mmeetup\u001b[0m/\r\n",
      "drwxr-xr-x  2 root 4096 May 26 00:12 \u001b[01;34mmnist\u001b[0m/\r\n",
      "drwxr-xr-x  5 root 4096 May 26 18:32 \u001b[01;34mmovielens\u001b[0m/\r\n",
      "drwxr-xr-x  2 root 4096 May 26 00:12 \u001b[01;34mnlp\u001b[0m/\r\n",
      "drwxr-xr-x  3 root 4096 May 26 00:12 \u001b[01;34mptb\u001b[0m/\r\n",
      "drwxr-xr-x  4 root 4096 May 26 18:32 \u001b[01;34mserving\u001b[0m/\r\n",
      "drwxr-xr-x  2 root 4096 May 26 00:12 \u001b[01;34msort\u001b[0m/\r\n",
      "drwxr-xr-x  4 root 4096 May 28 18:09 \u001b[01;34mtensorflow\u001b[0m/\r\n"
     ]
    }
   ],
   "source": [
    "ll /root/pipeline/datasets"
   ]
  },
  {
   "cell_type": "code",
   "execution_count": 6,
   "metadata": {
    "collapsed": false
   },
   "outputs": [],
   "source": [
    "# Prepare input for the format expected by the graph\n",
    "t_input = tf.placeholder(np.float32, name='our_input') # define the input tensor\n",
    "imagenet_mean = 117.0\n",
    "t_preprocessed = tf.expand_dims(t_input-imagenet_mean, 0)\n",
    "\n",
    "# Load graph and import into graph used by our session\n",
    "model_fn = '/root/pipeline/datasets/inception/tensorflow_inception_graph.pb'\n",
    "graph_def = tf.GraphDef.FromString(open(model_fn).read())\n",
    "tf.import_graph_def(graph_def, {'input':t_preprocessed})"
   ]
  },
  {
   "cell_type": "markdown",
   "metadata": {
    "collapsed": true
   },
   "source": [
    "### Utility Functions to Display TensorBoard Inline "
   ]
  },
  {
   "cell_type": "code",
   "execution_count": 10,
   "metadata": {
    "collapsed": false
   },
   "outputs": [],
   "source": [
    "# Helper functions for TF Graph visualization\n",
    "def strip_consts(graph_def, max_const_size=32):\n",
    "    \"\"\"Strip large constant values from graph_def.\"\"\"\n",
    "    strip_def = tf.GraphDef()\n",
    "    for n0 in graph_def.node:\n",
    "        n = strip_def.node.add() \n",
    "        n.MergeFrom(n0)\n",
    "        if n.op == 'Const':\n",
    "            tensor = n.attr['value'].tensor\n",
    "            size = len(tensor.tensor_content)\n",
    "            if size > max_const_size:\n",
    "                tensor.tensor_content = \"<stripped %d bytes>\"%size\n",
    "    return strip_def\n",
    "  \n",
    "def rename_nodes(graph_def, rename_func):\n",
    "    res_def = tf.GraphDef()\n",
    "    for n0 in graph_def.node:\n",
    "        n = res_def.node.add() \n",
    "        n.MergeFrom(n0)\n",
    "        n.name = rename_func(n.name)\n",
    "        for i, s in enumerate(n.input):\n",
    "            n.input[i] = rename_func(s) if s[0]!='^' else '^'+rename_func(s[1:])\n",
    "    return res_def\n",
    "  \n",
    "def show_graph(graph_def, max_const_size=32):\n",
    "    \"\"\"Visualize TensorFlow graph.\"\"\"\n",
    "    if hasattr(graph_def, 'as_graph_def'):\n",
    "        graph_def = graph_def.as_graph_def()\n",
    "    strip_def = strip_consts(graph_def, max_const_size=max_const_size)\n",
    "    code = \"\"\"\n",
    "        <script>\n",
    "          function load() {{\n",
    "            document.getElementById(\"{id}\").pbtxt = {data};\n",
    "          }}\n",
    "        </script>\n",
    "        <link rel=\"import\" href=\"https://tensorboard.appspot.com/tf-graph-basic.build.html\" onload=load()>\n",
    "        <div style=\"height:600px\">\n",
    "          <tf-graph-basic id=\"{id}\"></tf-graph-basic>\n",
    "        </div>\n",
    "    \"\"\".format(data=repr(str(strip_def)), id='graph'+str(np.random.rand()))\n",
    "  \n",
    "    iframe = \"\"\"\n",
    "        <iframe seamless style=\"width:800px;height:620px;border:0\" srcdoc=\"{}\"></iframe>\n",
    "    \"\"\".format(code.replace('\"', '&quot;'))\n",
    "    display(HTML(iframe))\n",
    "\n",
    "# Visualizing the network graph. Be sure expand the \"mixed\" nodes to see their \n",
    "# internal structure. We are going to visualize \"Conv2D\" nodes.\n",
    "tmp_def = rename_nodes(graph_def, lambda s:\"/\".join(s.split('_',1)))\n",
    "#show_graph(tmp_def)"
   ]
  },
  {
   "cell_type": "markdown",
   "metadata": {},
   "source": [
    "### Irrelevant code - only placed here to demo Inline TensorBoard"
   ]
  },
  {
   "cell_type": "code",
   "execution_count": 8,
   "metadata": {
    "collapsed": true
   },
   "outputs": [],
   "source": [
    "k = np.float32([1,4,6,4,1])\n",
    "k = np.outer(k, k)\n",
    "k5x5 = k[:,:,None,None]/k.sum()*np.eye(3, dtype=np.float32)\n",
    "\n",
    "def lap_split(img):\n",
    "    '''Split the image into lo and hi frequency components'''\n",
    "    with tf.name_scope('split'):\n",
    "        lo = tf.nn.conv2d(img, k5x5, [1,2,2,1], 'SAME')  # Blurred image -- low frequencies only\n",
    "        lo2 = tf.nn.conv2d_transpose(lo, k5x5*4, tf.shape(img), [1,2,2,1]) \n",
    "        hi = img-lo2 # hi is img with low frequencies removed\n",
    "    return lo, hi\n",
    "\n",
    "def lap_split_n(img, n):\n",
    "    '''Build Laplacian pyramid with n splits'''\n",
    "    levels = []\n",
    "    for i in xrange(n):\n",
    "        img, hi = lap_split(img)\n",
    "        levels.append(hi)\n",
    "    levels.append(img)\n",
    "    return levels[::-1] # List of images with lower and lower frequencies\n",
    "\n",
    "def lap_merge(levels):\n",
    "    '''Merge Laplacian pyramid'''\n",
    "    img = levels[0]\n",
    "    for hi in levels[1:]:\n",
    "        with tf.name_scope('merge'):\n",
    "            img = tf.nn.conv2d_transpose(img, k5x5*4, tf.shape(hi), [1,2,2,1]) + hi\n",
    "    return img # Reconstructed image, all frequencies added back together\n",
    "\n",
    "def normalize_std(img, eps=1e-10):\n",
    "    '''Normalize image by making its standard deviation = 1.0'''\n",
    "    with tf.name_scope('normalize'):\n",
    "        std = tf.sqrt(tf.reduce_mean(tf.square(img)))\n",
    "        return img/tf.maximum(std, eps)\n",
    "\n",
    "def lap_normalize(img, scale_n=4):\n",
    "    '''Perform the Laplacian pyramid normalization.'''\n",
    "    img = tf.expand_dims(img,0)\n",
    "    tlevels = lap_split_n(img, scale_n) # Split into frequencies\n",
    "    tlevels = map(normalize_std, tlevels) # Normalize each frequency band\n",
    "    out = lap_merge(tlevels) # Put image back together\n",
    "    return out[0,:,:,:]"
   ]
  },
  {
   "cell_type": "code",
   "execution_count": 9,
   "metadata": {
    "collapsed": false
   },
   "outputs": [
    {
     "data": {
      "text/html": [
       "\n",
       "        <iframe seamless style=\"width:800px;height:620px;border:0\" srcdoc=\"\n",
       "        <script>\n",
       "          function load() {\n",
       "            document.getElementById(&quot;graph0.529001679186&quot;).pbtxt = 'node {\\n  name: &quot;lap_in&quot;\\n  op: &quot;Placeholder&quot;\\n  attr {\\n    key: &quot;dtype&quot;\\n    value {\\n      type: DT_FLOAT\\n    }\\n  }\\n  attr {\\n    key: &quot;shape&quot;\\n    value {\\n      shape {\\n      }\\n    }\\n  }\\n}\\nnode {\\n  name: &quot;ExpandDims/dim&quot;\\n  op: &quot;Const&quot;\\n  attr {\\n    key: &quot;dtype&quot;\\n    value {\\n      type: DT_INT32\\n    }\\n  }\\n  attr {\\n    key: &quot;value&quot;\\n    value {\\n      tensor {\\n        dtype: DT_INT32\\n        tensor_shape {\\n        }\\n        int_val: 0\\n      }\\n    }\\n  }\\n}\\nnode {\\n  name: &quot;ExpandDims&quot;\\n  op: &quot;ExpandDims&quot;\\n  input: &quot;lap_in&quot;\\n  input: &quot;ExpandDims/dim&quot;\\n  attr {\\n    key: &quot;T&quot;\\n    value {\\n      type: DT_FLOAT\\n    }\\n  }\\n}\\nnode {\\n  name: &quot;split/Conv2D/filter&quot;\\n  op: &quot;Const&quot;\\n  attr {\\n    key: &quot;dtype&quot;\\n    value {\\n      type: DT_FLOAT\\n    }\\n  }\\n  attr {\\n    key: &quot;value&quot;\\n    value {\\n      tensor {\\n        dtype: DT_FLOAT\\n        tensor_shape {\\n          dim {\\n            size: 5\\n          }\\n          dim {\\n            size: 5\\n          }\\n          dim {\\n            size: 3\\n          }\\n          dim {\\n            size: 3\\n          }\\n        }\\n        tensor_content: &quot;<stripped 900 bytes>&quot;\\n      }\\n    }\\n  }\\n}\\nnode {\\n  name: &quot;split/Conv2D&quot;\\n  op: &quot;Conv2D&quot;\\n  input: &quot;ExpandDims&quot;\\n  input: &quot;split/Conv2D/filter&quot;\\n  attr {\\n    key: &quot;T&quot;\\n    value {\\n      type: DT_FLOAT\\n    }\\n  }\\n  attr {\\n    key: &quot;data_format&quot;\\n    value {\\n      s: &quot;NHWC&quot;\\n    }\\n  }\\n  attr {\\n    key: &quot;padding&quot;\\n    value {\\n      s: &quot;SAME&quot;\\n    }\\n  }\\n  attr {\\n    key: &quot;strides&quot;\\n    value {\\n      list {\\n        i: 1\\n        i: 2\\n        i: 2\\n        i: 1\\n      }\\n    }\\n  }\\n  attr {\\n    key: &quot;use_cudnn_on_gpu&quot;\\n    value {\\n      b: true\\n    }\\n  }\\n}\\nnode {\\n  name: &quot;split/Shape&quot;\\n  op: &quot;Shape&quot;\\n  input: &quot;ExpandDims&quot;\\n  attr {\\n    key: &quot;T&quot;\\n    value {\\n      type: DT_FLOAT\\n    }\\n  }\\n}\\nnode {\\n  name: &quot;split/conv2d_transpose/filter&quot;\\n  op: &quot;Const&quot;\\n  attr {\\n    key: &quot;dtype&quot;\\n    value {\\n      type: DT_FLOAT\\n    }\\n  }\\n  attr {\\n    key: &quot;value&quot;\\n    value {\\n      tensor {\\n        dtype: DT_FLOAT\\n        tensor_shape {\\n          dim {\\n            size: 5\\n          }\\n          dim {\\n            size: 5\\n          }\\n          dim {\\n            size: 3\\n          }\\n          dim {\\n            size: 3\\n          }\\n        }\\n        tensor_content: &quot;<stripped 900 bytes>&quot;\\n      }\\n    }\\n  }\\n}\\nnode {\\n  name: &quot;split/conv2d_transpose&quot;\\n  op: &quot;Conv2DBackpropInput&quot;\\n  input: &quot;split/Shape&quot;\\n  input: &quot;split/conv2d_transpose/filter&quot;\\n  input: &quot;split/Conv2D&quot;\\n  attr {\\n    key: &quot;T&quot;\\n    value {\\n      type: DT_FLOAT\\n    }\\n  }\\n  attr {\\n    key: &quot;data_format&quot;\\n    value {\\n      s: &quot;NHWC&quot;\\n    }\\n  }\\n  attr {\\n    key: &quot;padding&quot;\\n    value {\\n      s: &quot;SAME&quot;\\n    }\\n  }\\n  attr {\\n    key: &quot;strides&quot;\\n    value {\\n      list {\\n        i: 1\\n        i: 2\\n        i: 2\\n        i: 1\\n      }\\n    }\\n  }\\n  attr {\\n    key: &quot;use_cudnn_on_gpu&quot;\\n    value {\\n      b: true\\n    }\\n  }\\n}\\nnode {\\n  name: &quot;split/sub&quot;\\n  op: &quot;Sub&quot;\\n  input: &quot;ExpandDims&quot;\\n  input: &quot;split/conv2d_transpose&quot;\\n  attr {\\n    key: &quot;T&quot;\\n    value {\\n      type: DT_FLOAT\\n    }\\n  }\\n}\\nnode {\\n  name: &quot;split_1/Conv2D/filter&quot;\\n  op: &quot;Const&quot;\\n  attr {\\n    key: &quot;dtype&quot;\\n    value {\\n      type: DT_FLOAT\\n    }\\n  }\\n  attr {\\n    key: &quot;value&quot;\\n    value {\\n      tensor {\\n        dtype: DT_FLOAT\\n        tensor_shape {\\n          dim {\\n            size: 5\\n          }\\n          dim {\\n            size: 5\\n          }\\n          dim {\\n            size: 3\\n          }\\n          dim {\\n            size: 3\\n          }\\n        }\\n        tensor_content: &quot;<stripped 900 bytes>&quot;\\n      }\\n    }\\n  }\\n}\\nnode {\\n  name: &quot;split_1/Conv2D&quot;\\n  op: &quot;Conv2D&quot;\\n  input: &quot;split/Conv2D&quot;\\n  input: &quot;split_1/Conv2D/filter&quot;\\n  attr {\\n    key: &quot;T&quot;\\n    value {\\n      type: DT_FLOAT\\n    }\\n  }\\n  attr {\\n    key: &quot;data_format&quot;\\n    value {\\n      s: &quot;NHWC&quot;\\n    }\\n  }\\n  attr {\\n    key: &quot;padding&quot;\\n    value {\\n      s: &quot;SAME&quot;\\n    }\\n  }\\n  attr {\\n    key: &quot;strides&quot;\\n    value {\\n      list {\\n        i: 1\\n        i: 2\\n        i: 2\\n        i: 1\\n      }\\n    }\\n  }\\n  attr {\\n    key: &quot;use_cudnn_on_gpu&quot;\\n    value {\\n      b: true\\n    }\\n  }\\n}\\nnode {\\n  name: &quot;split_1/Shape&quot;\\n  op: &quot;Shape&quot;\\n  input: &quot;split/Conv2D&quot;\\n  attr {\\n    key: &quot;T&quot;\\n    value {\\n      type: DT_FLOAT\\n    }\\n  }\\n}\\nnode {\\n  name: &quot;split_1/conv2d_transpose/filter&quot;\\n  op: &quot;Const&quot;\\n  attr {\\n    key: &quot;dtype&quot;\\n    value {\\n      type: DT_FLOAT\\n    }\\n  }\\n  attr {\\n    key: &quot;value&quot;\\n    value {\\n      tensor {\\n        dtype: DT_FLOAT\\n        tensor_shape {\\n          dim {\\n            size: 5\\n          }\\n          dim {\\n            size: 5\\n          }\\n          dim {\\n            size: 3\\n          }\\n          dim {\\n            size: 3\\n          }\\n        }\\n        tensor_content: &quot;<stripped 900 bytes>&quot;\\n      }\\n    }\\n  }\\n}\\nnode {\\n  name: &quot;split_1/conv2d_transpose&quot;\\n  op: &quot;Conv2DBackpropInput&quot;\\n  input: &quot;split_1/Shape&quot;\\n  input: &quot;split_1/conv2d_transpose/filter&quot;\\n  input: &quot;split_1/Conv2D&quot;\\n  attr {\\n    key: &quot;T&quot;\\n    value {\\n      type: DT_FLOAT\\n    }\\n  }\\n  attr {\\n    key: &quot;data_format&quot;\\n    value {\\n      s: &quot;NHWC&quot;\\n    }\\n  }\\n  attr {\\n    key: &quot;padding&quot;\\n    value {\\n      s: &quot;SAME&quot;\\n    }\\n  }\\n  attr {\\n    key: &quot;strides&quot;\\n    value {\\n      list {\\n        i: 1\\n        i: 2\\n        i: 2\\n        i: 1\\n      }\\n    }\\n  }\\n  attr {\\n    key: &quot;use_cudnn_on_gpu&quot;\\n    value {\\n      b: true\\n    }\\n  }\\n}\\nnode {\\n  name: &quot;split_1/sub&quot;\\n  op: &quot;Sub&quot;\\n  input: &quot;split/Conv2D&quot;\\n  input: &quot;split_1/conv2d_transpose&quot;\\n  attr {\\n    key: &quot;T&quot;\\n    value {\\n      type: DT_FLOAT\\n    }\\n  }\\n}\\nnode {\\n  name: &quot;split_2/Conv2D/filter&quot;\\n  op: &quot;Const&quot;\\n  attr {\\n    key: &quot;dtype&quot;\\n    value {\\n      type: DT_FLOAT\\n    }\\n  }\\n  attr {\\n    key: &quot;value&quot;\\n    value {\\n      tensor {\\n        dtype: DT_FLOAT\\n        tensor_shape {\\n          dim {\\n            size: 5\\n          }\\n          dim {\\n            size: 5\\n          }\\n          dim {\\n            size: 3\\n          }\\n          dim {\\n            size: 3\\n          }\\n        }\\n        tensor_content: &quot;<stripped 900 bytes>&quot;\\n      }\\n    }\\n  }\\n}\\nnode {\\n  name: &quot;split_2/Conv2D&quot;\\n  op: &quot;Conv2D&quot;\\n  input: &quot;split_1/Conv2D&quot;\\n  input: &quot;split_2/Conv2D/filter&quot;\\n  attr {\\n    key: &quot;T&quot;\\n    value {\\n      type: DT_FLOAT\\n    }\\n  }\\n  attr {\\n    key: &quot;data_format&quot;\\n    value {\\n      s: &quot;NHWC&quot;\\n    }\\n  }\\n  attr {\\n    key: &quot;padding&quot;\\n    value {\\n      s: &quot;SAME&quot;\\n    }\\n  }\\n  attr {\\n    key: &quot;strides&quot;\\n    value {\\n      list {\\n        i: 1\\n        i: 2\\n        i: 2\\n        i: 1\\n      }\\n    }\\n  }\\n  attr {\\n    key: &quot;use_cudnn_on_gpu&quot;\\n    value {\\n      b: true\\n    }\\n  }\\n}\\nnode {\\n  name: &quot;split_2/Shape&quot;\\n  op: &quot;Shape&quot;\\n  input: &quot;split_1/Conv2D&quot;\\n  attr {\\n    key: &quot;T&quot;\\n    value {\\n      type: DT_FLOAT\\n    }\\n  }\\n}\\nnode {\\n  name: &quot;split_2/conv2d_transpose/filter&quot;\\n  op: &quot;Const&quot;\\n  attr {\\n    key: &quot;dtype&quot;\\n    value {\\n      type: DT_FLOAT\\n    }\\n  }\\n  attr {\\n    key: &quot;value&quot;\\n    value {\\n      tensor {\\n        dtype: DT_FLOAT\\n        tensor_shape {\\n          dim {\\n            size: 5\\n          }\\n          dim {\\n            size: 5\\n          }\\n          dim {\\n            size: 3\\n          }\\n          dim {\\n            size: 3\\n          }\\n        }\\n        tensor_content: &quot;<stripped 900 bytes>&quot;\\n      }\\n    }\\n  }\\n}\\nnode {\\n  name: &quot;split_2/conv2d_transpose&quot;\\n  op: &quot;Conv2DBackpropInput&quot;\\n  input: &quot;split_2/Shape&quot;\\n  input: &quot;split_2/conv2d_transpose/filter&quot;\\n  input: &quot;split_2/Conv2D&quot;\\n  attr {\\n    key: &quot;T&quot;\\n    value {\\n      type: DT_FLOAT\\n    }\\n  }\\n  attr {\\n    key: &quot;data_format&quot;\\n    value {\\n      s: &quot;NHWC&quot;\\n    }\\n  }\\n  attr {\\n    key: &quot;padding&quot;\\n    value {\\n      s: &quot;SAME&quot;\\n    }\\n  }\\n  attr {\\n    key: &quot;strides&quot;\\n    value {\\n      list {\\n        i: 1\\n        i: 2\\n        i: 2\\n        i: 1\\n      }\\n    }\\n  }\\n  attr {\\n    key: &quot;use_cudnn_on_gpu&quot;\\n    value {\\n      b: true\\n    }\\n  }\\n}\\nnode {\\n  name: &quot;split_2/sub&quot;\\n  op: &quot;Sub&quot;\\n  input: &quot;split_1/Conv2D&quot;\\n  input: &quot;split_2/conv2d_transpose&quot;\\n  attr {\\n    key: &quot;T&quot;\\n    value {\\n      type: DT_FLOAT\\n    }\\n  }\\n}\\nnode {\\n  name: &quot;split_3/Conv2D/filter&quot;\\n  op: &quot;Const&quot;\\n  attr {\\n    key: &quot;dtype&quot;\\n    value {\\n      type: DT_FLOAT\\n    }\\n  }\\n  attr {\\n    key: &quot;value&quot;\\n    value {\\n      tensor {\\n        dtype: DT_FLOAT\\n        tensor_shape {\\n          dim {\\n            size: 5\\n          }\\n          dim {\\n            size: 5\\n          }\\n          dim {\\n            size: 3\\n          }\\n          dim {\\n            size: 3\\n          }\\n        }\\n        tensor_content: &quot;<stripped 900 bytes>&quot;\\n      }\\n    }\\n  }\\n}\\nnode {\\n  name: &quot;split_3/Conv2D&quot;\\n  op: &quot;Conv2D&quot;\\n  input: &quot;split_2/Conv2D&quot;\\n  input: &quot;split_3/Conv2D/filter&quot;\\n  attr {\\n    key: &quot;T&quot;\\n    value {\\n      type: DT_FLOAT\\n    }\\n  }\\n  attr {\\n    key: &quot;data_format&quot;\\n    value {\\n      s: &quot;NHWC&quot;\\n    }\\n  }\\n  attr {\\n    key: &quot;padding&quot;\\n    value {\\n      s: &quot;SAME&quot;\\n    }\\n  }\\n  attr {\\n    key: &quot;strides&quot;\\n    value {\\n      list {\\n        i: 1\\n        i: 2\\n        i: 2\\n        i: 1\\n      }\\n    }\\n  }\\n  attr {\\n    key: &quot;use_cudnn_on_gpu&quot;\\n    value {\\n      b: true\\n    }\\n  }\\n}\\nnode {\\n  name: &quot;split_3/Shape&quot;\\n  op: &quot;Shape&quot;\\n  input: &quot;split_2/Conv2D&quot;\\n  attr {\\n    key: &quot;T&quot;\\n    value {\\n      type: DT_FLOAT\\n    }\\n  }\\n}\\nnode {\\n  name: &quot;split_3/conv2d_transpose/filter&quot;\\n  op: &quot;Const&quot;\\n  attr {\\n    key: &quot;dtype&quot;\\n    value {\\n      type: DT_FLOAT\\n    }\\n  }\\n  attr {\\n    key: &quot;value&quot;\\n    value {\\n      tensor {\\n        dtype: DT_FLOAT\\n        tensor_shape {\\n          dim {\\n            size: 5\\n          }\\n          dim {\\n            size: 5\\n          }\\n          dim {\\n            size: 3\\n          }\\n          dim {\\n            size: 3\\n          }\\n        }\\n        tensor_content: &quot;<stripped 900 bytes>&quot;\\n      }\\n    }\\n  }\\n}\\nnode {\\n  name: &quot;split_3/conv2d_transpose&quot;\\n  op: &quot;Conv2DBackpropInput&quot;\\n  input: &quot;split_3/Shape&quot;\\n  input: &quot;split_3/conv2d_transpose/filter&quot;\\n  input: &quot;split_3/Conv2D&quot;\\n  attr {\\n    key: &quot;T&quot;\\n    value {\\n      type: DT_FLOAT\\n    }\\n  }\\n  attr {\\n    key: &quot;data_format&quot;\\n    value {\\n      s: &quot;NHWC&quot;\\n    }\\n  }\\n  attr {\\n    key: &quot;padding&quot;\\n    value {\\n      s: &quot;SAME&quot;\\n    }\\n  }\\n  attr {\\n    key: &quot;strides&quot;\\n    value {\\n      list {\\n        i: 1\\n        i: 2\\n        i: 2\\n        i: 1\\n      }\\n    }\\n  }\\n  attr {\\n    key: &quot;use_cudnn_on_gpu&quot;\\n    value {\\n      b: true\\n    }\\n  }\\n}\\nnode {\\n  name: &quot;split_3/sub&quot;\\n  op: &quot;Sub&quot;\\n  input: &quot;split_2/Conv2D&quot;\\n  input: &quot;split_3/conv2d_transpose&quot;\\n  attr {\\n    key: &quot;T&quot;\\n    value {\\n      type: DT_FLOAT\\n    }\\n  }\\n}\\nnode {\\n  name: &quot;normalize/Square&quot;\\n  op: &quot;Square&quot;\\n  input: &quot;split_3/Conv2D&quot;\\n  attr {\\n    key: &quot;T&quot;\\n    value {\\n      type: DT_FLOAT\\n    }\\n  }\\n}\\nnode {\\n  name: &quot;normalize/Rank&quot;\\n  op: &quot;Rank&quot;\\n  input: &quot;normalize/Square&quot;\\n  attr {\\n    key: &quot;T&quot;\\n    value {\\n      type: DT_FLOAT\\n    }\\n  }\\n}\\nnode {\\n  name: &quot;normalize/range/start&quot;\\n  op: &quot;Const&quot;\\n  attr {\\n    key: &quot;dtype&quot;\\n    value {\\n      type: DT_INT32\\n    }\\n  }\\n  attr {\\n    key: &quot;value&quot;\\n    value {\\n      tensor {\\n        dtype: DT_INT32\\n        tensor_shape {\\n        }\\n        int_val: 0\\n      }\\n    }\\n  }\\n}\\nnode {\\n  name: &quot;normalize/range/delta&quot;\\n  op: &quot;Const&quot;\\n  attr {\\n    key: &quot;dtype&quot;\\n    value {\\n      type: DT_INT32\\n    }\\n  }\\n  attr {\\n    key: &quot;value&quot;\\n    value {\\n      tensor {\\n        dtype: DT_INT32\\n        tensor_shape {\\n        }\\n        int_val: 1\\n      }\\n    }\\n  }\\n}\\nnode {\\n  name: &quot;normalize/range&quot;\\n  op: &quot;Range&quot;\\n  input: &quot;normalize/range/start&quot;\\n  input: &quot;normalize/Rank&quot;\\n  input: &quot;normalize/range/delta&quot;\\n}\\nnode {\\n  name: &quot;normalize/Mean&quot;\\n  op: &quot;Mean&quot;\\n  input: &quot;normalize/Square&quot;\\n  input: &quot;normalize/range&quot;\\n  attr {\\n    key: &quot;T&quot;\\n    value {\\n      type: DT_FLOAT\\n    }\\n  }\\n  attr {\\n    key: &quot;keep_dims&quot;\\n    value {\\n      b: false\\n    }\\n  }\\n}\\nnode {\\n  name: &quot;normalize/Sqrt&quot;\\n  op: &quot;Sqrt&quot;\\n  input: &quot;normalize/Mean&quot;\\n  attr {\\n    key: &quot;T&quot;\\n    value {\\n      type: DT_FLOAT\\n    }\\n  }\\n}\\nnode {\\n  name: &quot;normalize/Maximum/y&quot;\\n  op: &quot;Const&quot;\\n  attr {\\n    key: &quot;dtype&quot;\\n    value {\\n      type: DT_FLOAT\\n    }\\n  }\\n  attr {\\n    key: &quot;value&quot;\\n    value {\\n      tensor {\\n        dtype: DT_FLOAT\\n        tensor_shape {\\n        }\\n        float_val: 1.00000001335e-10\\n      }\\n    }\\n  }\\n}\\nnode {\\n  name: &quot;normalize/Maximum&quot;\\n  op: &quot;Maximum&quot;\\n  input: &quot;normalize/Sqrt&quot;\\n  input: &quot;normalize/Maximum/y&quot;\\n  attr {\\n    key: &quot;T&quot;\\n    value {\\n      type: DT_FLOAT\\n    }\\n  }\\n}\\nnode {\\n  name: &quot;normalize/div&quot;\\n  op: &quot;Div&quot;\\n  input: &quot;split_3/Conv2D&quot;\\n  input: &quot;normalize/Maximum&quot;\\n  attr {\\n    key: &quot;T&quot;\\n    value {\\n      type: DT_FLOAT\\n    }\\n  }\\n}\\nnode {\\n  name: &quot;normalize_1/Square&quot;\\n  op: &quot;Square&quot;\\n  input: &quot;split_3/sub&quot;\\n  attr {\\n    key: &quot;T&quot;\\n    value {\\n      type: DT_FLOAT\\n    }\\n  }\\n}\\nnode {\\n  name: &quot;normalize_1/Rank&quot;\\n  op: &quot;Rank&quot;\\n  input: &quot;normalize_1/Square&quot;\\n  attr {\\n    key: &quot;T&quot;\\n    value {\\n      type: DT_FLOAT\\n    }\\n  }\\n}\\nnode {\\n  name: &quot;normalize_1/range/start&quot;\\n  op: &quot;Const&quot;\\n  attr {\\n    key: &quot;dtype&quot;\\n    value {\\n      type: DT_INT32\\n    }\\n  }\\n  attr {\\n    key: &quot;value&quot;\\n    value {\\n      tensor {\\n        dtype: DT_INT32\\n        tensor_shape {\\n        }\\n        int_val: 0\\n      }\\n    }\\n  }\\n}\\nnode {\\n  name: &quot;normalize_1/range/delta&quot;\\n  op: &quot;Const&quot;\\n  attr {\\n    key: &quot;dtype&quot;\\n    value {\\n      type: DT_INT32\\n    }\\n  }\\n  attr {\\n    key: &quot;value&quot;\\n    value {\\n      tensor {\\n        dtype: DT_INT32\\n        tensor_shape {\\n        }\\n        int_val: 1\\n      }\\n    }\\n  }\\n}\\nnode {\\n  name: &quot;normalize_1/range&quot;\\n  op: &quot;Range&quot;\\n  input: &quot;normalize_1/range/start&quot;\\n  input: &quot;normalize_1/Rank&quot;\\n  input: &quot;normalize_1/range/delta&quot;\\n}\\nnode {\\n  name: &quot;normalize_1/Mean&quot;\\n  op: &quot;Mean&quot;\\n  input: &quot;normalize_1/Square&quot;\\n  input: &quot;normalize_1/range&quot;\\n  attr {\\n    key: &quot;T&quot;\\n    value {\\n      type: DT_FLOAT\\n    }\\n  }\\n  attr {\\n    key: &quot;keep_dims&quot;\\n    value {\\n      b: false\\n    }\\n  }\\n}\\nnode {\\n  name: &quot;normalize_1/Sqrt&quot;\\n  op: &quot;Sqrt&quot;\\n  input: &quot;normalize_1/Mean&quot;\\n  attr {\\n    key: &quot;T&quot;\\n    value {\\n      type: DT_FLOAT\\n    }\\n  }\\n}\\nnode {\\n  name: &quot;normalize_1/Maximum/y&quot;\\n  op: &quot;Const&quot;\\n  attr {\\n    key: &quot;dtype&quot;\\n    value {\\n      type: DT_FLOAT\\n    }\\n  }\\n  attr {\\n    key: &quot;value&quot;\\n    value {\\n      tensor {\\n        dtype: DT_FLOAT\\n        tensor_shape {\\n        }\\n        float_val: 1.00000001335e-10\\n      }\\n    }\\n  }\\n}\\nnode {\\n  name: &quot;normalize_1/Maximum&quot;\\n  op: &quot;Maximum&quot;\\n  input: &quot;normalize_1/Sqrt&quot;\\n  input: &quot;normalize_1/Maximum/y&quot;\\n  attr {\\n    key: &quot;T&quot;\\n    value {\\n      type: DT_FLOAT\\n    }\\n  }\\n}\\nnode {\\n  name: &quot;normalize_1/div&quot;\\n  op: &quot;Div&quot;\\n  input: &quot;split_3/sub&quot;\\n  input: &quot;normalize_1/Maximum&quot;\\n  attr {\\n    key: &quot;T&quot;\\n    value {\\n      type: DT_FLOAT\\n    }\\n  }\\n}\\nnode {\\n  name: &quot;normalize_2/Square&quot;\\n  op: &quot;Square&quot;\\n  input: &quot;split_2/sub&quot;\\n  attr {\\n    key: &quot;T&quot;\\n    value {\\n      type: DT_FLOAT\\n    }\\n  }\\n}\\nnode {\\n  name: &quot;normalize_2/Rank&quot;\\n  op: &quot;Rank&quot;\\n  input: &quot;normalize_2/Square&quot;\\n  attr {\\n    key: &quot;T&quot;\\n    value {\\n      type: DT_FLOAT\\n    }\\n  }\\n}\\nnode {\\n  name: &quot;normalize_2/range/start&quot;\\n  op: &quot;Const&quot;\\n  attr {\\n    key: &quot;dtype&quot;\\n    value {\\n      type: DT_INT32\\n    }\\n  }\\n  attr {\\n    key: &quot;value&quot;\\n    value {\\n      tensor {\\n        dtype: DT_INT32\\n        tensor_shape {\\n        }\\n        int_val: 0\\n      }\\n    }\\n  }\\n}\\nnode {\\n  name: &quot;normalize_2/range/delta&quot;\\n  op: &quot;Const&quot;\\n  attr {\\n    key: &quot;dtype&quot;\\n    value {\\n      type: DT_INT32\\n    }\\n  }\\n  attr {\\n    key: &quot;value&quot;\\n    value {\\n      tensor {\\n        dtype: DT_INT32\\n        tensor_shape {\\n        }\\n        int_val: 1\\n      }\\n    }\\n  }\\n}\\nnode {\\n  name: &quot;normalize_2/range&quot;\\n  op: &quot;Range&quot;\\n  input: &quot;normalize_2/range/start&quot;\\n  input: &quot;normalize_2/Rank&quot;\\n  input: &quot;normalize_2/range/delta&quot;\\n}\\nnode {\\n  name: &quot;normalize_2/Mean&quot;\\n  op: &quot;Mean&quot;\\n  input: &quot;normalize_2/Square&quot;\\n  input: &quot;normalize_2/range&quot;\\n  attr {\\n    key: &quot;T&quot;\\n    value {\\n      type: DT_FLOAT\\n    }\\n  }\\n  attr {\\n    key: &quot;keep_dims&quot;\\n    value {\\n      b: false\\n    }\\n  }\\n}\\nnode {\\n  name: &quot;normalize_2/Sqrt&quot;\\n  op: &quot;Sqrt&quot;\\n  input: &quot;normalize_2/Mean&quot;\\n  attr {\\n    key: &quot;T&quot;\\n    value {\\n      type: DT_FLOAT\\n    }\\n  }\\n}\\nnode {\\n  name: &quot;normalize_2/Maximum/y&quot;\\n  op: &quot;Const&quot;\\n  attr {\\n    key: &quot;dtype&quot;\\n    value {\\n      type: DT_FLOAT\\n    }\\n  }\\n  attr {\\n    key: &quot;value&quot;\\n    value {\\n      tensor {\\n        dtype: DT_FLOAT\\n        tensor_shape {\\n        }\\n        float_val: 1.00000001335e-10\\n      }\\n    }\\n  }\\n}\\nnode {\\n  name: &quot;normalize_2/Maximum&quot;\\n  op: &quot;Maximum&quot;\\n  input: &quot;normalize_2/Sqrt&quot;\\n  input: &quot;normalize_2/Maximum/y&quot;\\n  attr {\\n    key: &quot;T&quot;\\n    value {\\n      type: DT_FLOAT\\n    }\\n  }\\n}\\nnode {\\n  name: &quot;normalize_2/div&quot;\\n  op: &quot;Div&quot;\\n  input: &quot;split_2/sub&quot;\\n  input: &quot;normalize_2/Maximum&quot;\\n  attr {\\n    key: &quot;T&quot;\\n    value {\\n      type: DT_FLOAT\\n    }\\n  }\\n}\\nnode {\\n  name: &quot;normalize_3/Square&quot;\\n  op: &quot;Square&quot;\\n  input: &quot;split_1/sub&quot;\\n  attr {\\n    key: &quot;T&quot;\\n    value {\\n      type: DT_FLOAT\\n    }\\n  }\\n}\\nnode {\\n  name: &quot;normalize_3/Rank&quot;\\n  op: &quot;Rank&quot;\\n  input: &quot;normalize_3/Square&quot;\\n  attr {\\n    key: &quot;T&quot;\\n    value {\\n      type: DT_FLOAT\\n    }\\n  }\\n}\\nnode {\\n  name: &quot;normalize_3/range/start&quot;\\n  op: &quot;Const&quot;\\n  attr {\\n    key: &quot;dtype&quot;\\n    value {\\n      type: DT_INT32\\n    }\\n  }\\n  attr {\\n    key: &quot;value&quot;\\n    value {\\n      tensor {\\n        dtype: DT_INT32\\n        tensor_shape {\\n        }\\n        int_val: 0\\n      }\\n    }\\n  }\\n}\\nnode {\\n  name: &quot;normalize_3/range/delta&quot;\\n  op: &quot;Const&quot;\\n  attr {\\n    key: &quot;dtype&quot;\\n    value {\\n      type: DT_INT32\\n    }\\n  }\\n  attr {\\n    key: &quot;value&quot;\\n    value {\\n      tensor {\\n        dtype: DT_INT32\\n        tensor_shape {\\n        }\\n        int_val: 1\\n      }\\n    }\\n  }\\n}\\nnode {\\n  name: &quot;normalize_3/range&quot;\\n  op: &quot;Range&quot;\\n  input: &quot;normalize_3/range/start&quot;\\n  input: &quot;normalize_3/Rank&quot;\\n  input: &quot;normalize_3/range/delta&quot;\\n}\\nnode {\\n  name: &quot;normalize_3/Mean&quot;\\n  op: &quot;Mean&quot;\\n  input: &quot;normalize_3/Square&quot;\\n  input: &quot;normalize_3/range&quot;\\n  attr {\\n    key: &quot;T&quot;\\n    value {\\n      type: DT_FLOAT\\n    }\\n  }\\n  attr {\\n    key: &quot;keep_dims&quot;\\n    value {\\n      b: false\\n    }\\n  }\\n}\\nnode {\\n  name: &quot;normalize_3/Sqrt&quot;\\n  op: &quot;Sqrt&quot;\\n  input: &quot;normalize_3/Mean&quot;\\n  attr {\\n    key: &quot;T&quot;\\n    value {\\n      type: DT_FLOAT\\n    }\\n  }\\n}\\nnode {\\n  name: &quot;normalize_3/Maximum/y&quot;\\n  op: &quot;Const&quot;\\n  attr {\\n    key: &quot;dtype&quot;\\n    value {\\n      type: DT_FLOAT\\n    }\\n  }\\n  attr {\\n    key: &quot;value&quot;\\n    value {\\n      tensor {\\n        dtype: DT_FLOAT\\n        tensor_shape {\\n        }\\n        float_val: 1.00000001335e-10\\n      }\\n    }\\n  }\\n}\\nnode {\\n  name: &quot;normalize_3/Maximum&quot;\\n  op: &quot;Maximum&quot;\\n  input: &quot;normalize_3/Sqrt&quot;\\n  input: &quot;normalize_3/Maximum/y&quot;\\n  attr {\\n    key: &quot;T&quot;\\n    value {\\n      type: DT_FLOAT\\n    }\\n  }\\n}\\nnode {\\n  name: &quot;normalize_3/div&quot;\\n  op: &quot;Div&quot;\\n  input: &quot;split_1/sub&quot;\\n  input: &quot;normalize_3/Maximum&quot;\\n  attr {\\n    key: &quot;T&quot;\\n    value {\\n      type: DT_FLOAT\\n    }\\n  }\\n}\\nnode {\\n  name: &quot;normalize_4/Square&quot;\\n  op: &quot;Square&quot;\\n  input: &quot;split/sub&quot;\\n  attr {\\n    key: &quot;T&quot;\\n    value {\\n      type: DT_FLOAT\\n    }\\n  }\\n}\\nnode {\\n  name: &quot;normalize_4/Rank&quot;\\n  op: &quot;Rank&quot;\\n  input: &quot;normalize_4/Square&quot;\\n  attr {\\n    key: &quot;T&quot;\\n    value {\\n      type: DT_FLOAT\\n    }\\n  }\\n}\\nnode {\\n  name: &quot;normalize_4/range/start&quot;\\n  op: &quot;Const&quot;\\n  attr {\\n    key: &quot;dtype&quot;\\n    value {\\n      type: DT_INT32\\n    }\\n  }\\n  attr {\\n    key: &quot;value&quot;\\n    value {\\n      tensor {\\n        dtype: DT_INT32\\n        tensor_shape {\\n        }\\n        int_val: 0\\n      }\\n    }\\n  }\\n}\\nnode {\\n  name: &quot;normalize_4/range/delta&quot;\\n  op: &quot;Const&quot;\\n  attr {\\n    key: &quot;dtype&quot;\\n    value {\\n      type: DT_INT32\\n    }\\n  }\\n  attr {\\n    key: &quot;value&quot;\\n    value {\\n      tensor {\\n        dtype: DT_INT32\\n        tensor_shape {\\n        }\\n        int_val: 1\\n      }\\n    }\\n  }\\n}\\nnode {\\n  name: &quot;normalize_4/range&quot;\\n  op: &quot;Range&quot;\\n  input: &quot;normalize_4/range/start&quot;\\n  input: &quot;normalize_4/Rank&quot;\\n  input: &quot;normalize_4/range/delta&quot;\\n}\\nnode {\\n  name: &quot;normalize_4/Mean&quot;\\n  op: &quot;Mean&quot;\\n  input: &quot;normalize_4/Square&quot;\\n  input: &quot;normalize_4/range&quot;\\n  attr {\\n    key: &quot;T&quot;\\n    value {\\n      type: DT_FLOAT\\n    }\\n  }\\n  attr {\\n    key: &quot;keep_dims&quot;\\n    value {\\n      b: false\\n    }\\n  }\\n}\\nnode {\\n  name: &quot;normalize_4/Sqrt&quot;\\n  op: &quot;Sqrt&quot;\\n  input: &quot;normalize_4/Mean&quot;\\n  attr {\\n    key: &quot;T&quot;\\n    value {\\n      type: DT_FLOAT\\n    }\\n  }\\n}\\nnode {\\n  name: &quot;normalize_4/Maximum/y&quot;\\n  op: &quot;Const&quot;\\n  attr {\\n    key: &quot;dtype&quot;\\n    value {\\n      type: DT_FLOAT\\n    }\\n  }\\n  attr {\\n    key: &quot;value&quot;\\n    value {\\n      tensor {\\n        dtype: DT_FLOAT\\n        tensor_shape {\\n        }\\n        float_val: 1.00000001335e-10\\n      }\\n    }\\n  }\\n}\\nnode {\\n  name: &quot;normalize_4/Maximum&quot;\\n  op: &quot;Maximum&quot;\\n  input: &quot;normalize_4/Sqrt&quot;\\n  input: &quot;normalize_4/Maximum/y&quot;\\n  attr {\\n    key: &quot;T&quot;\\n    value {\\n      type: DT_FLOAT\\n    }\\n  }\\n}\\nnode {\\n  name: &quot;normalize_4/div&quot;\\n  op: &quot;Div&quot;\\n  input: &quot;split/sub&quot;\\n  input: &quot;normalize_4/Maximum&quot;\\n  attr {\\n    key: &quot;T&quot;\\n    value {\\n      type: DT_FLOAT\\n    }\\n  }\\n}\\nnode {\\n  name: &quot;merge/Shape&quot;\\n  op: &quot;Shape&quot;\\n  input: &quot;normalize_1/div&quot;\\n  attr {\\n    key: &quot;T&quot;\\n    value {\\n      type: DT_FLOAT\\n    }\\n  }\\n}\\nnode {\\n  name: &quot;merge/conv2d_transpose/filter&quot;\\n  op: &quot;Const&quot;\\n  attr {\\n    key: &quot;dtype&quot;\\n    value {\\n      type: DT_FLOAT\\n    }\\n  }\\n  attr {\\n    key: &quot;value&quot;\\n    value {\\n      tensor {\\n        dtype: DT_FLOAT\\n        tensor_shape {\\n          dim {\\n            size: 5\\n          }\\n          dim {\\n            size: 5\\n          }\\n          dim {\\n            size: 3\\n          }\\n          dim {\\n            size: 3\\n          }\\n        }\\n        tensor_content: &quot;<stripped 900 bytes>&quot;\\n      }\\n    }\\n  }\\n}\\nnode {\\n  name: &quot;merge/conv2d_transpose&quot;\\n  op: &quot;Conv2DBackpropInput&quot;\\n  input: &quot;merge/Shape&quot;\\n  input: &quot;merge/conv2d_transpose/filter&quot;\\n  input: &quot;normalize/div&quot;\\n  attr {\\n    key: &quot;T&quot;\\n    value {\\n      type: DT_FLOAT\\n    }\\n  }\\n  attr {\\n    key: &quot;data_format&quot;\\n    value {\\n      s: &quot;NHWC&quot;\\n    }\\n  }\\n  attr {\\n    key: &quot;padding&quot;\\n    value {\\n      s: &quot;SAME&quot;\\n    }\\n  }\\n  attr {\\n    key: &quot;strides&quot;\\n    value {\\n      list {\\n        i: 1\\n        i: 2\\n        i: 2\\n        i: 1\\n      }\\n    }\\n  }\\n  attr {\\n    key: &quot;use_cudnn_on_gpu&quot;\\n    value {\\n      b: true\\n    }\\n  }\\n}\\nnode {\\n  name: &quot;merge/add&quot;\\n  op: &quot;Add&quot;\\n  input: &quot;merge/conv2d_transpose&quot;\\n  input: &quot;normalize_1/div&quot;\\n  attr {\\n    key: &quot;T&quot;\\n    value {\\n      type: DT_FLOAT\\n    }\\n  }\\n}\\nnode {\\n  name: &quot;merge_1/Shape&quot;\\n  op: &quot;Shape&quot;\\n  input: &quot;normalize_2/div&quot;\\n  attr {\\n    key: &quot;T&quot;\\n    value {\\n      type: DT_FLOAT\\n    }\\n  }\\n}\\nnode {\\n  name: &quot;merge_1/conv2d_transpose/filter&quot;\\n  op: &quot;Const&quot;\\n  attr {\\n    key: &quot;dtype&quot;\\n    value {\\n      type: DT_FLOAT\\n    }\\n  }\\n  attr {\\n    key: &quot;value&quot;\\n    value {\\n      tensor {\\n        dtype: DT_FLOAT\\n        tensor_shape {\\n          dim {\\n            size: 5\\n          }\\n          dim {\\n            size: 5\\n          }\\n          dim {\\n            size: 3\\n          }\\n          dim {\\n            size: 3\\n          }\\n        }\\n        tensor_content: &quot;<stripped 900 bytes>&quot;\\n      }\\n    }\\n  }\\n}\\nnode {\\n  name: &quot;merge_1/conv2d_transpose&quot;\\n  op: &quot;Conv2DBackpropInput&quot;\\n  input: &quot;merge_1/Shape&quot;\\n  input: &quot;merge_1/conv2d_transpose/filter&quot;\\n  input: &quot;merge/add&quot;\\n  attr {\\n    key: &quot;T&quot;\\n    value {\\n      type: DT_FLOAT\\n    }\\n  }\\n  attr {\\n    key: &quot;data_format&quot;\\n    value {\\n      s: &quot;NHWC&quot;\\n    }\\n  }\\n  attr {\\n    key: &quot;padding&quot;\\n    value {\\n      s: &quot;SAME&quot;\\n    }\\n  }\\n  attr {\\n    key: &quot;strides&quot;\\n    value {\\n      list {\\n        i: 1\\n        i: 2\\n        i: 2\\n        i: 1\\n      }\\n    }\\n  }\\n  attr {\\n    key: &quot;use_cudnn_on_gpu&quot;\\n    value {\\n      b: true\\n    }\\n  }\\n}\\nnode {\\n  name: &quot;merge_1/add&quot;\\n  op: &quot;Add&quot;\\n  input: &quot;merge_1/conv2d_transpose&quot;\\n  input: &quot;normalize_2/div&quot;\\n  attr {\\n    key: &quot;T&quot;\\n    value {\\n      type: DT_FLOAT\\n    }\\n  }\\n}\\nnode {\\n  name: &quot;merge_2/Shape&quot;\\n  op: &quot;Shape&quot;\\n  input: &quot;normalize_3/div&quot;\\n  attr {\\n    key: &quot;T&quot;\\n    value {\\n      type: DT_FLOAT\\n    }\\n  }\\n}\\nnode {\\n  name: &quot;merge_2/conv2d_transpose/filter&quot;\\n  op: &quot;Const&quot;\\n  attr {\\n    key: &quot;dtype&quot;\\n    value {\\n      type: DT_FLOAT\\n    }\\n  }\\n  attr {\\n    key: &quot;value&quot;\\n    value {\\n      tensor {\\n        dtype: DT_FLOAT\\n        tensor_shape {\\n          dim {\\n            size: 5\\n          }\\n          dim {\\n            size: 5\\n          }\\n          dim {\\n            size: 3\\n          }\\n          dim {\\n            size: 3\\n          }\\n        }\\n        tensor_content: &quot;<stripped 900 bytes>&quot;\\n      }\\n    }\\n  }\\n}\\nnode {\\n  name: &quot;merge_2/conv2d_transpose&quot;\\n  op: &quot;Conv2DBackpropInput&quot;\\n  input: &quot;merge_2/Shape&quot;\\n  input: &quot;merge_2/conv2d_transpose/filter&quot;\\n  input: &quot;merge_1/add&quot;\\n  attr {\\n    key: &quot;T&quot;\\n    value {\\n      type: DT_FLOAT\\n    }\\n  }\\n  attr {\\n    key: &quot;data_format&quot;\\n    value {\\n      s: &quot;NHWC&quot;\\n    }\\n  }\\n  attr {\\n    key: &quot;padding&quot;\\n    value {\\n      s: &quot;SAME&quot;\\n    }\\n  }\\n  attr {\\n    key: &quot;strides&quot;\\n    value {\\n      list {\\n        i: 1\\n        i: 2\\n        i: 2\\n        i: 1\\n      }\\n    }\\n  }\\n  attr {\\n    key: &quot;use_cudnn_on_gpu&quot;\\n    value {\\n      b: true\\n    }\\n  }\\n}\\nnode {\\n  name: &quot;merge_2/add&quot;\\n  op: &quot;Add&quot;\\n  input: &quot;merge_2/conv2d_transpose&quot;\\n  input: &quot;normalize_3/div&quot;\\n  attr {\\n    key: &quot;T&quot;\\n    value {\\n      type: DT_FLOAT\\n    }\\n  }\\n}\\nnode {\\n  name: &quot;merge_3/Shape&quot;\\n  op: &quot;Shape&quot;\\n  input: &quot;normalize_4/div&quot;\\n  attr {\\n    key: &quot;T&quot;\\n    value {\\n      type: DT_FLOAT\\n    }\\n  }\\n}\\nnode {\\n  name: &quot;merge_3/conv2d_transpose/filter&quot;\\n  op: &quot;Const&quot;\\n  attr {\\n    key: &quot;dtype&quot;\\n    value {\\n      type: DT_FLOAT\\n    }\\n  }\\n  attr {\\n    key: &quot;value&quot;\\n    value {\\n      tensor {\\n        dtype: DT_FLOAT\\n        tensor_shape {\\n          dim {\\n            size: 5\\n          }\\n          dim {\\n            size: 5\\n          }\\n          dim {\\n            size: 3\\n          }\\n          dim {\\n            size: 3\\n          }\\n        }\\n        tensor_content: &quot;<stripped 900 bytes>&quot;\\n      }\\n    }\\n  }\\n}\\nnode {\\n  name: &quot;merge_3/conv2d_transpose&quot;\\n  op: &quot;Conv2DBackpropInput&quot;\\n  input: &quot;merge_3/Shape&quot;\\n  input: &quot;merge_3/conv2d_transpose/filter&quot;\\n  input: &quot;merge_2/add&quot;\\n  attr {\\n    key: &quot;T&quot;\\n    value {\\n      type: DT_FLOAT\\n    }\\n  }\\n  attr {\\n    key: &quot;data_format&quot;\\n    value {\\n      s: &quot;NHWC&quot;\\n    }\\n  }\\n  attr {\\n    key: &quot;padding&quot;\\n    value {\\n      s: &quot;SAME&quot;\\n    }\\n  }\\n  attr {\\n    key: &quot;strides&quot;\\n    value {\\n      list {\\n        i: 1\\n        i: 2\\n        i: 2\\n        i: 1\\n      }\\n    }\\n  }\\n  attr {\\n    key: &quot;use_cudnn_on_gpu&quot;\\n    value {\\n      b: true\\n    }\\n  }\\n}\\nnode {\\n  name: &quot;merge_3/add&quot;\\n  op: &quot;Add&quot;\\n  input: &quot;merge_3/conv2d_transpose&quot;\\n  input: &quot;normalize_4/div&quot;\\n  attr {\\n    key: &quot;T&quot;\\n    value {\\n      type: DT_FLOAT\\n    }\\n  }\\n}\\nnode {\\n  name: &quot;Slice/begin&quot;\\n  op: &quot;Const&quot;\\n  attr {\\n    key: &quot;dtype&quot;\\n    value {\\n      type: DT_INT32\\n    }\\n  }\\n  attr {\\n    key: &quot;value&quot;\\n    value {\\n      tensor {\\n        dtype: DT_INT32\\n        tensor_shape {\\n          dim {\\n            size: 4\\n          }\\n        }\\n        tensor_content: &quot;\\\\000\\\\000\\\\000\\\\000\\\\000\\\\000\\\\000\\\\000\\\\000\\\\000\\\\000\\\\000\\\\000\\\\000\\\\000\\\\000&quot;\\n      }\\n    }\\n  }\\n}\\nnode {\\n  name: &quot;Slice/size&quot;\\n  op: &quot;Const&quot;\\n  attr {\\n    key: &quot;dtype&quot;\\n    value {\\n      type: DT_INT32\\n    }\\n  }\\n  attr {\\n    key: &quot;value&quot;\\n    value {\\n      tensor {\\n        dtype: DT_INT32\\n        tensor_shape {\\n          dim {\\n            size: 4\\n          }\\n        }\\n        tensor_content: &quot;\\\\001\\\\000\\\\000\\\\000\\\\377\\\\377\\\\377\\\\377\\\\377\\\\377\\\\377\\\\377\\\\377\\\\377\\\\377\\\\377&quot;\\n      }\\n    }\\n  }\\n}\\nnode {\\n  name: &quot;Slice&quot;\\n  op: &quot;Slice&quot;\\n  input: &quot;merge_3/add&quot;\\n  input: &quot;Slice/begin&quot;\\n  input: &quot;Slice/size&quot;\\n  attr {\\n    key: &quot;Index&quot;\\n    value {\\n      type: DT_INT32\\n    }\\n  }\\n  attr {\\n    key: &quot;T&quot;\\n    value {\\n      type: DT_FLOAT\\n    }\\n  }\\n}\\nnode {\\n  name: &quot;Squeeze&quot;\\n  op: &quot;Squeeze&quot;\\n  input: &quot;Slice&quot;\\n  attr {\\n    key: &quot;T&quot;\\n    value {\\n      type: DT_FLOAT\\n    }\\n  }\\n  attr {\\n    key: &quot;squeeze_dims&quot;\\n    value {\\n      list {\\n        i: 0\\n      }\\n    }\\n  }\\n}\\n';\n",
       "          }\n",
       "        </script>\n",
       "        <link rel=&quot;import&quot; href=&quot;https://tensorboard.appspot.com/tf-graph-basic.build.html&quot; onload=load()>\n",
       "        <div style=&quot;height:600px&quot;>\n",
       "          <tf-graph-basic id=&quot;graph0.529001679186&quot;></tf-graph-basic>\n",
       "        </div>\n",
       "    \"></iframe>\n",
       "    "
      ],
      "text/plain": [
       "<IPython.core.display.HTML object>"
      ]
     },
     "metadata": {},
     "output_type": "display_data"
    }
   ],
   "source": [
    "# Showing the lap_normalize graph with TensorBoard\n",
    "lap_graph = tf.Graph()\n",
    "with lap_graph.as_default():\n",
    "    lap_in = tf.placeholder(np.float32, name='lap_in')\n",
    "    lap_out = lap_normalize(lap_in)\n",
    "show_graph(lap_graph)"
   ]
  },
  {
   "cell_type": "code",
   "execution_count": null,
   "metadata": {
    "collapsed": true
   },
   "outputs": [],
   "source": []
  }
 ],
 "metadata": {
  "kernelspec": {
   "display_name": "Python 2",
   "language": "python",
   "name": "python2"
  },
  "language_info": {
   "codemirror_mode": {
    "name": "ipython",
    "version": 2
   },
   "file_extension": ".py",
   "mimetype": "text/x-python",
   "name": "python",
   "nbconvert_exporter": "python",
   "pygments_lexer": "ipython2",
   "version": "2.7.6"
  }
 },
 "nbformat": 4,
 "nbformat_minor": 0
}
