{
 "cells": [
  {
   "cell_type": "code",
   "execution_count": 2,
   "metadata": {
    "collapsed": true
   },
   "outputs": [],
   "source": [
    "# Import core TensorFlow modules\n",
    "import tensorflow as tf\n",
    "import numpy as np"
   ]
  },
  {
   "cell_type": "code",
   "execution_count": 3,
   "metadata": {
    "collapsed": true
   },
   "outputs": [],
   "source": [
    "# Modules required for file download and extraction\n",
    "import os\n",
    "import sys\n",
    "import tarfile\n",
    "from six.moves.urllib.request import urlretrieve\n",
    "from scipy import ndimage"
   ]
  },
  {
   "cell_type": "code",
   "execution_count": 4,
   "metadata": {
    "collapsed": true
   },
   "outputs": [],
   "source": [
    "def maybe_download(filename, url, force=False):\n",
    "  \"\"\"Download a file if not present.\"\"\"\n",
    "  if force or not os.path.exists('/root/pipeline/datasets/notmnist/' + filename):\n",
    "    filename, _ = urlretrieve(url + filename, '/root/pipeline/datasets/notmnist/' + filename)\n",
    "    print('\\nDownload complete for {}'.format(filename))\n",
    "  else:\n",
    "    print('File {} already present.'.format(filename))\n",
    "  return '/root/pipeline/datasets/notmnist/' + filename\n",
    "\n",
    "def maybe_extract(filename, force=False):\n",
    "  root = os.path.splitext(os.path.splitext(filename)[0])[0]  # remove .tar.gz\n",
    "  if os.path.isdir(root) and not force:\n",
    "    # You may override by setting force=True.\n",
    "    print('{} already present - don\\'t need to extract {}.'.format(root, filename))\n",
    "  else:\n",
    "    print('Extracting data for {}. This may take a while. Please wait.'.format(root))\n",
    "    tar = tarfile.open(filename)\n",
    "    sys.stdout.flush()\n",
    "    tar.extractall(root[0:root.rfind('/') + 1])\n",
    "    tar.close()\n",
    "  data_folders = [\n",
    "    os.path.join(root, d) for d in sorted(os.listdir(root))\n",
    "    if os.path.isdir(os.path.join(root, d))]\n",
    "  print(data_folders)\n",
    "  return data_folders"
   ]
  },
  {
   "cell_type": "code",
   "execution_count": 5,
   "metadata": {
    "collapsed": true
   },
   "outputs": [],
   "source": [
    "# Locations to download data:\n",
    "url = 'http://yaroslavvb.com/upload/notMNIST/'"
   ]
  },
  {
   "cell_type": "code",
   "execution_count": 39,
   "metadata": {
    "collapsed": false
   },
   "outputs": [
    {
     "name": "stdout",
     "output_type": "stream",
     "text": [
      "File notMNIST_small.tar.gz already present.\n"
     ]
    }
   ],
   "source": [
    "# Download two datasets\n",
    "train_zip_path = maybe_download('notMNIST_small.tar.gz', url)"
   ]
  },
  {
   "cell_type": "code",
   "execution_count": 40,
   "metadata": {
    "collapsed": false
   },
   "outputs": [
    {
     "name": "stdout",
     "output_type": "stream",
     "text": [
      "/root/pipeline/datasets/notmnist/notMNIST_small already present - don't need to extract /root/pipeline/datasets/notmnist/notMNIST_small.tar.gz.\n",
      "['/root/pipeline/datasets/notmnist/notMNIST_small/A', '/root/pipeline/datasets/notmnist/notMNIST_small/B', '/root/pipeline/datasets/notmnist/notMNIST_small/C', '/root/pipeline/datasets/notmnist/notMNIST_small/D', '/root/pipeline/datasets/notmnist/notMNIST_small/E', '/root/pipeline/datasets/notmnist/notMNIST_small/F', '/root/pipeline/datasets/notmnist/notMNIST_small/G', '/root/pipeline/datasets/notmnist/notMNIST_small/H', '/root/pipeline/datasets/notmnist/notMNIST_small/I', '/root/pipeline/datasets/notmnist/notMNIST_small/J']\n"
     ]
    }
   ],
   "source": [
    "# Extract datasets\n",
    "train_folders = maybe_extract(train_zip_path)"
   ]
  },
  {
   "cell_type": "code",
   "execution_count": 9,
   "metadata": {
    "collapsed": false
   },
   "outputs": [
    {
     "data": {
      "text/plain": [
       "10"
      ]
     },
     "execution_count": 9,
     "metadata": {},
     "output_type": "execute_result"
    }
   ],
   "source": [
    "len(train_folders)"
   ]
  },
  {
   "cell_type": "code",
   "execution_count": 38,
   "metadata": {
    "collapsed": true
   },
   "outputs": [],
   "source": [
    "image_height = 28  # Pixel height of images\n",
    "image_width = 28  # Pixel width of images\n",
    "pixel_depth = 255.0  # Number of levels per pixel\n",
    "expected_img_shape = (image_height, image_width)  # Black and white image, no 3rd dimension\n",
    "num_labels = len(train_folders)\n",
    "\n",
    "def load_image_folder(folder):\n",
    "  \"\"\"Load the data for a single image label.\"\"\"\n",
    "  \n",
    "  # Create a list of image paths inside the folder  \n",
    "  image_files = os.listdir(folder)\n",
    "  # Create empty numpy array to hold data\n",
    "  dataset = np.ndarray(shape=(len(image_files), image_height, image_width),\n",
    "                         dtype=np.float32)\n",
    "  num_images = 0  # Counter for number of successful images loaded\n",
    "  for image in image_files:\n",
    "    image_file = os.path.join(folder, image)\n",
    "    try:\n",
    "      # Read in image pixel data as floating point values\n",
    "      image_data = ndimage.imread(image_file).astype(float)\n",
    "      # Scale values: [0.0, 255.0] => [-1.0, 1.0] \n",
    "      image_data = (image_data - pixel_depth / 2) / (pixel_depth / 2)\n",
    "      if image_data.shape != expected_img_shape:\n",
    "        print('File {} has unexpected dimensions: '.format(str(image_data.shape)))\n",
    "        continue\n",
    "      # Add image to the numpy array dataset\n",
    "      dataset[num_images, :, :] = image_data\n",
    "      num_images = num_images + 1\n",
    "    except IOError as e:\n",
    "      print('Could not read:', image_file, ':', e, '- skipping this file and moving on.')\n",
    "  \n",
    "  # Trim dataset to remove unused space\n",
    "  dataset = dataset[0:num_images, :, :]\n",
    "  return dataset"
   ]
  },
  {
   "cell_type": "code",
   "execution_count": 48,
   "metadata": {
    "collapsed": false
   },
   "outputs": [],
   "source": [
    "def make_data_label_arrays(num_rows, image_height, image_width):\n",
    "  \"\"\"\n",
    "  Creates and returns empty numpy arrays for input data and labels\n",
    "  \"\"\"\n",
    "  if num_rows:\n",
    "    dataset = np.ndarray((num_rows, image_height, image_width), dtype=np.float32)\n",
    "    labels = np.ndarray(num_rows, dtype=np.int32)\n",
    "  else:\n",
    "    dataset, labels = None, None\n",
    "  return dataset, labels\n",
    "\n",
    "def collect_datasets(data_folders):\n",
    "  datasets = []\n",
    "  total_images = 0\n",
    "  for label, data_folder in enumerate(data_folders):\n",
    "    # Bring all test folder images in as numpy arrays\n",
    "    dataset = load_image_folder(data_folder)\n",
    "    num_images = len(dataset)\n",
    "    total_images += num_images\n",
    "    datasets.append((dataset, label, num_images))\n",
    "  return datasets, total_images\n",
    "\n",
    "def merge_train_validation_datasets(datasets, total_images, percent_validation):\n",
    "    num_train = total_images * (1.0 - percent_validation)\n",
    "    num_valid = total_images * percent_validation\n",
    "    train_dataset, train_labels = make_data_label_arrays(num_train, image_height, image_width)\n",
    "    valid_dataset, valid_labels = make_data_label_arrays(num_valid, image_height, image_width)\n",
    "    \n",
    "    train_counter = 0\n",
    "    valid_counter = 0\n",
    "    dataset_counter = 1\n",
    "    for dataset, label, num_images in datasets:\n",
    "      np.random.shuffle(dataset)\n",
    "      if dataset_counter != len(datasets):\n",
    "        n_v = num_images // (1.0 / percent_validation)\n",
    "        n_t = num_images - n_v\n",
    "      else:\n",
    "        # Last label, make sure dataset sizes match up to what we created\n",
    "        n_v = len(valid_dataset) - valid_counter\n",
    "        n_t = len(train_dataset) - train_counter\n",
    "      train_dataset[train_counter: train_counter + n_t] = dataset[:n_t]\n",
    "      train_labels[train_counter: train_counter + n_t] = label\n",
    "      valid_dataset[valid_counter: valid_counter + n_v] = dataset[n_t: n_t + n_v]\n",
    "      valid_labels[valid_counter: valid_counter + n_v] = label\n",
    "      train_counter += n_t\n",
    "      valid_counter += n_v\n",
    "      dataset_counter += 1\n",
    "    return train_dataset, train_labels, valid_dataset, valid_labels"
   ]
  },
  {
   "cell_type": "code",
   "execution_count": 41,
   "metadata": {
    "collapsed": false
   },
   "outputs": [
    {
     "name": "stdout",
     "output_type": "stream",
     "text": [
      "('Could not read:', '/root/pipeline/datasets/notmnist/notMNIST_small/A/RGVtb2NyYXRpY2FCb2xkT2xkc3R5bGUgQm9sZC50dGY=.png', ':', IOError('cannot identify image file',), '- skipping this file and moving on.')\n",
      "('Could not read:', '/root/pipeline/datasets/notmnist/notMNIST_small/F/Q3Jvc3NvdmVyIEJvbGRPYmxpcXVlLnR0Zg==.png', ':', IOError('cannot identify image file',), '- skipping this file and moving on.')\n"
     ]
    }
   ],
   "source": [
    "train_valid_datasets, train_valid_total_images = collect_datasets(train_folders)"
   ]
  },
  {
   "cell_type": "code",
   "execution_count": 45,
   "metadata": {
    "collapsed": false
   },
   "outputs": [
    {
     "name": "stdout",
     "output_type": "stream",
     "text": [
      "last one!\n"
     ]
    },
    {
     "name": "stderr",
     "output_type": "stream",
     "text": [
      "/usr/local/lib/python2.7/dist-packages/ipykernel/__main__.py:6: VisibleDeprecationWarning: using a non-integer number instead of an integer will result in an error in the future\n",
      "/usr/local/lib/python2.7/dist-packages/ipykernel/__main__.py:7: VisibleDeprecationWarning: using a non-integer number instead of an integer will result in an error in the future\n",
      "/usr/local/lib/python2.7/dist-packages/ipykernel/__main__.py:51: VisibleDeprecationWarning: using a non-integer number instead of an integer will result in an error in the future\n",
      "/usr/local/lib/python2.7/dist-packages/ipykernel/__main__.py:52: VisibleDeprecationWarning: using a non-integer number instead of an integer will result in an error in the future\n",
      "/usr/local/lib/python2.7/dist-packages/ipykernel/__main__.py:53: VisibleDeprecationWarning: using a non-integer number instead of an integer will result in an error in the future\n",
      "/usr/local/lib/python2.7/dist-packages/ipykernel/__main__.py:54: VisibleDeprecationWarning: using a non-integer number instead of an integer will result in an error in the future\n"
     ]
    }
   ],
   "source": [
    "train_dataset, train_labels, valid_dataset, valid_labels = \\\n",
    "  merge_train_validation_datasets(train_valid_datasets, train_valid_total_images, 0.1)"
   ]
  },
  {
   "cell_type": "code",
   "execution_count": 47,
   "metadata": {
    "collapsed": false
   },
   "outputs": [
    {
     "data": {
      "text/plain": [
       "16851"
      ]
     },
     "execution_count": 47,
     "metadata": {},
     "output_type": "execute_result"
    }
   ],
   "source": [
    "len(train_dataset)"
   ]
  },
  {
   "cell_type": "code",
   "execution_count": null,
   "metadata": {
    "collapsed": true
   },
   "outputs": [],
   "source": [
    "# Convert data examples into 3-D tensors\n",
    "# \n",
    "def reformat(dataset, labels):\n",
    "  dataset = dataset.reshape(\n",
    "    (-1, image_size, image_size, num_channels)).astype(np.float32)\n",
    "  labels = (np.arange(num_labels) == labels[:,None]).astype(np.float32)\n",
    "  return dataset, labels"
   ]
  }
 ],
 "metadata": {
  "kernelspec": {
   "display_name": "Python 2",
   "language": "python",
   "name": "python2"
  },
  "language_info": {
   "codemirror_mode": {
    "name": "ipython",
    "version": 2
   },
   "file_extension": ".py",
   "mimetype": "text/x-python",
   "name": "python",
   "nbconvert_exporter": "python",
   "pygments_lexer": "ipython2",
   "version": "2.7.6"
  }
 },
 "nbformat": 4,
 "nbformat_minor": 0
}
