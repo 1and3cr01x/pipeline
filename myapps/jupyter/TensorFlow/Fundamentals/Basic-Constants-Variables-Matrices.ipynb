{
 "cells": [
  {
   "cell_type": "code",
   "execution_count": 2,
   "metadata": {
    "collapsed": true
   },
   "outputs": [],
   "source": [
    "# TensorBoard Helper Functions and Constants\n",
    "\n",
    "# Directory to export TensorBoard summary statistics, graph data, etc.\n",
    "TB_DIR = '/tmp/tensorboard/basic-constants-variables-matrices'\n",
    "\n",
    "\n",
    "def _start_tb(d):\n",
    "    \"\"\"\n",
    "    Private function that calls `tensorboard` shell command\n",
    "    \n",
    "    args:\n",
    "      d: The desired directory to launch in TensorBoard\n",
    "    \"\"\"\n",
    "    !tensorboard --port=6006 --logdir=$d\n",
    "\n",
    "def start_tensorboard():\n",
    "    \"\"\"\n",
    "    Starts TensorBoard from the notebook in a separate thread.\n",
    "    Prevents Jupyter Notebook from halting while TensorBoard runs.\n",
    "    \"\"\"\n",
    "    import threading\n",
    "    threading.Thread(target=_start_tb, args=(TB_DIR,)).start()\n",
    "    del threading\n",
    "\n",
    "def stop_tensorboard():\n",
    "    \"\"\"\n",
    "    Kills all TensorBoard processes\n",
    "    \"\"\"\n",
    "    !ps -aef | grep \"tensorboard\" | tr -s ' ' | cut -d ' ' -f2 | xargs kill -KILL\n",
    "    \n",
    "def reset_tensorboard():\n",
    "    stop_tensorboard()\n",
    "    start_tensorboard()"
   ]
  },
  {
   "cell_type": "code",
   "execution_count": 2,
   "metadata": {
    "collapsed": true
   },
   "outputs": [],
   "source": [
    "import tensorflow as tf"
   ]
  },
  {
   "cell_type": "code",
   "execution_count": 3,
   "metadata": {
    "collapsed": true
   },
   "outputs": [],
   "source": [
    "a = tf.constant(2)\n",
    "b = tf.constant(3)"
   ]
  },
  {
   "cell_type": "code",
   "execution_count": 4,
   "metadata": {
    "collapsed": false
   },
   "outputs": [
    {
     "name": "stdout",
     "output_type": "stream",
     "text": [
      "Constants...\n",
      "Addition: 5\n",
      "Multiplication: 6\n"
     ]
    }
   ],
   "source": [
    "with tf.Session() as sess:\n",
    "  print \"Constants...\"\n",
    "  print \"Addition: %i\" % sess.run(a+b)\n",
    "  print \"Multiplication: %i\" % sess.run(a*b)"
   ]
  },
  {
   "cell_type": "code",
   "execution_count": 5,
   "metadata": {
    "collapsed": false
   },
   "outputs": [],
   "source": [
    "a = tf.placeholder(tf.int16)\n",
    "b = tf.placeholder(tf.int16)"
   ]
  },
  {
   "cell_type": "code",
   "execution_count": 6,
   "metadata": {
    "collapsed": true
   },
   "outputs": [],
   "source": [
    "add = tf.add(a, b)\n",
    "mul = tf.mul(a, b)"
   ]
  },
  {
   "cell_type": "code",
   "execution_count": 7,
   "metadata": {
    "collapsed": false
   },
   "outputs": [
    {
     "name": "stdout",
     "output_type": "stream",
     "text": [
      "Variables...\n",
      "Addition: 5\n",
      "Multiplication: 6\n"
     ]
    }
   ],
   "source": [
    "with tf.Session() as sess:\n",
    "  print \"Variables...\"\n",
    "  print \"Addition: %i\" % sess.run(add, feed_dict={a: 2, b: 3})\n",
    "  print \"Multiplication: %i\" % sess.run(mul, feed_dict={a: 2, b: 3})"
   ]
  },
  {
   "cell_type": "code",
   "execution_count": 8,
   "metadata": {
    "collapsed": true
   },
   "outputs": [],
   "source": [
    "# 1x2 matrix\n",
    "matrix1x2 = tf.constant([[3., 3.]])"
   ]
  },
  {
   "cell_type": "code",
   "execution_count": 9,
   "metadata": {
    "collapsed": true
   },
   "outputs": [],
   "source": [
    "# 2x1 matrix\n",
    "matrix2x1 = tf.constant([[2.],[2.]])"
   ]
  },
  {
   "cell_type": "code",
   "execution_count": 10,
   "metadata": {
    "collapsed": true
   },
   "outputs": [],
   "source": [
    "product = tf.matmul(matrix1x2, matrix2x1)"
   ]
  },
  {
   "cell_type": "code",
   "execution_count": 11,
   "metadata": {
    "collapsed": false
   },
   "outputs": [
    {
     "name": "stdout",
     "output_type": "stream",
     "text": [
      "[[ 12.]]\n"
     ]
    }
   ],
   "source": [
    "with tf.Session() as sess:\n",
    "  tf.train.SummaryWriter('/tmp/tensorboard/basic-constants-variables-matrices', sess.graph)\n",
    "  result = sess.run(product)\n",
    "  print result"
   ]
  },
  {
   "cell_type": "code",
   "execution_count": null,
   "metadata": {
    "collapsed": true
   },
   "outputs": [],
   "source": [
    "!tensorboard --port=6006 --logdir=/tmp/tensorboard/basic-constants-variables-matrices"
   ]
  },
  {
   "cell_type": "markdown",
   "metadata": {},
   "source": [
    "### Navigate to [your-ip]:6006 to see TensorBoard in action\n",
    "* Ignore \"No scalar data was found\" error for now \n",
    "* We're simply testing connectivity"
   ]
  },
  {
   "cell_type": "markdown",
   "metadata": {},
   "source": [
    "### Stop TensorBoard for now"
   ]
  },
  {
   "cell_type": "code",
   "execution_count": null,
   "metadata": {
    "collapsed": true
   },
   "outputs": [],
   "source": [
    "!ps -aef | grep \"tensorboard\" | tr -s ' ' | cut -d ' ' -f2 | xargs kill -KILL"
   ]
  },
  {
   "cell_type": "code",
   "execution_count": 8,
   "metadata": {
    "collapsed": false
   },
   "outputs": [
    {
     "name": "stdout",
     "output_type": "stream",
     "text": [
      "ERROR:tensorflow:Tried to connect to port 6006, but address is in use.\n",
      "Tried to connect to port 6006, but address is in use.\n",
      "172.91.69.40 - - [02/Jun/2016 18:29:37] \"GET / HTTP/1.1\" 200 -\n",
      "172.91.69.40 - - [02/Jun/2016 18:29:37] \"GET /lib/css/global.css HTTP/1.1\" 200 -\n",
      "172.91.69.40 - - [02/Jun/2016 18:29:37] \"GET /external/plottable/plottable.css HTTP/1.1\" 200 -\n",
      "172.91.69.40 - - [02/Jun/2016 18:29:37] \"GET /external/lodash/lodash.min.js HTTP/1.1\" 200 -\n",
      "172.91.69.40 - - [02/Jun/2016 18:29:37] \"GET /external/plottable/plottable.min.js HTTP/1.1\" 200 -\n",
      "172.91.69.40 - - [02/Jun/2016 18:29:37] \"GET /external/d3/d3.min.js HTTP/1.1\" 200 -\n",
      "172.91.69.40 - - [02/Jun/2016 18:29:38] \"GET /external/dagre/dist/dagre.core.min.js HTTP/1.1\" 200 -\n",
      "172.91.69.40 - - [02/Jun/2016 18:29:38] \"GET /external/graphlib/dist/graphlib.core.min.js HTTP/1.1\" 200 -\n",
      "172.91.69.40 - - [02/Jun/2016 18:29:38] \"GET /external/polymer/polymer.html HTTP/1.1\" 200 -\n",
      "172.91.69.40 - - [02/Jun/2016 18:29:38] \"GET /external/webcomponentsjs/webcomponents-lite.min.js HTTP/1.1\" 200 -\n",
      "172.91.69.40 - - [02/Jun/2016 18:29:38] \"GET /external/iron-ajax/iron-ajax.html HTTP/1.1\" 200 -\n",
      "172.91.69.40 - - [02/Jun/2016 18:29:38] \"GET /external/iron-collapse/iron-collapse.html HTTP/1.1\" 200 -\n",
      "172.91.69.40 - - [02/Jun/2016 18:29:38] \"GET /external/iron-list/iron-list.html HTTP/1.1\" 200 -\n",
      "172.91.69.40 - - [02/Jun/2016 18:29:38] \"GET /external/paper-button/paper-button.html HTTP/1.1\" 200 -\n",
      "172.91.69.40 - - [02/Jun/2016 18:29:38] \"GET /external/paper-checkbox/paper-checkbox.html HTTP/1.1\" 200 -\n",
      "172.91.69.40 - - [02/Jun/2016 18:29:38] \"GET /external/paper-dropdown-menu/paper-dropdown-menu.html HTTP/1.1\" 200 -\n",
      "172.91.69.40 - - [02/Jun/2016 18:29:38] \"GET /external/paper-header-panel/paper-header-panel.html HTTP/1.1\" 200 -\n",
      "172.91.69.40 - - [02/Jun/2016 18:29:38] \"GET /external/paper-icon-button/paper-icon-button.html HTTP/1.1\" 200 -\n",
      "172.91.69.40 - - [02/Jun/2016 18:29:38] \"GET /external/paper-input/paper-input.html HTTP/1.1\" 200 -\n",
      "172.91.69.40 - - [02/Jun/2016 18:29:38] \"GET /external/paper-item/paper-item.html HTTP/1.1\" 200 -\n",
      "172.91.69.40 - - [02/Jun/2016 18:29:38] \"GET /external/paper-menu/paper-menu.html HTTP/1.1\" 200 -\n",
      "172.91.69.40 - - [02/Jun/2016 18:29:38] \"GET /external/paper-progress/paper-progress.html HTTP/1.1\" 200 -\n",
      "172.91.69.40 - - [02/Jun/2016 18:29:38] \"GET /external/paper-radio-button/paper-radio-button.html HTTP/1.1\" 200 -\n",
      "172.91.69.40 - - [02/Jun/2016 18:29:38] \"GET /external/paper-radio-group/paper-radio-group.html HTTP/1.1\" 200 -\n",
      "172.91.69.40 - - [02/Jun/2016 18:29:38] \"GET /external/paper-slider/paper-slider.html HTTP/1.1\" 200 -\n",
      "172.91.69.40 - - [02/Jun/2016 18:29:38] \"GET /external/paper-styles/paper-styles.html HTTP/1.1\" 200 -\n",
      "172.91.69.40 - - [02/Jun/2016 18:29:39] \"GET /external/paper-toolbar/paper-toolbar.html HTTP/1.1\" 200 -\n",
      "172.91.69.40 - - [02/Jun/2016 18:29:39] \"GET /external/paper-toggle-button/paper-toggle-button.html HTTP/1.1\" 200 -\n",
      "172.91.69.40 - - [02/Jun/2016 18:29:39] \"GET /external/paper-tabs/paper-tabs.html HTTP/1.1\" 200 -\n",
      "172.91.69.40 - - [02/Jun/2016 18:29:39] \"GET /dist/tf-tensorboard.html HTTP/1.1\" 200 -\n",
      "172.91.69.40 - - [02/Jun/2016 18:29:39] \"GET /external/polymer/polymer-mini.html HTTP/1.1\" 200 -\n",
      "172.91.69.40 - - [02/Jun/2016 18:29:39] \"GET /external/polymer/polymer-micro.html HTTP/1.1\" 200 -\n",
      "172.91.69.40 - - [02/Jun/2016 18:29:39] \"GET /external/iron-flex-layout/iron-flex-layout.html HTTP/1.1\" 200 -\n",
      "172.91.69.40 - - [02/Jun/2016 18:29:39] \"GET /external/iron-a11y-keys-behavior/iron-a11y-keys-behavior.html HTTP/1.1\" 200 -\n",
      "172.91.69.40 - - [02/Jun/2016 18:29:39] \"GET /external/paper-styles/color.html HTTP/1.1\" 200 -\n",
      "172.91.69.40 - - [02/Jun/2016 18:29:39] \"GET /external/paper-ripple/paper-ripple.html HTTP/1.1\" 200 -\n",
      "172.91.69.40 - - [02/Jun/2016 18:29:39] \"GET /external/paper-behaviors/paper-inky-focus-behavior.html HTTP/1.1\" 200 -\n",
      "172.91.69.40 - - [02/Jun/2016 18:29:39] \"GET /external/iron-range-behavior/iron-range-behavior.html HTTP/1.1\" 200 -\n",
      "172.91.69.40 - - [02/Jun/2016 18:29:39] \"GET /external/iron-form-element-behavior/iron-form-element-behavior.html HTTP/1.1\" 200 -\n",
      "172.91.69.40 - - [02/Jun/2016 18:29:39] \"GET /external/paper-item/paper-item-behavior.html HTTP/1.1\" 200 -\n",
      "172.91.69.40 - - [02/Jun/2016 18:29:39] \"GET /external/paper-item/paper-item-shared-styles.html HTTP/1.1\" 200 -\n",
      "172.91.69.40 - - [02/Jun/2016 18:29:39] \"GET /external/iron-input/iron-input.html HTTP/1.1\" 200 -\n",
      "172.91.69.40 - - [02/Jun/2016 18:29:40] \"GET /external/paper-input/paper-input-behavior.html HTTP/1.1\" 200 -\n",
      "172.91.69.40 - - [02/Jun/2016 18:29:40] \"GET /external/paper-input/paper-input-container.html HTTP/1.1\" 200 -\n",
      "172.91.69.40 - - [02/Jun/2016 18:29:40] \"GET /external/paper-input/paper-input-char-counter.html HTTP/1.1\" 200 -\n",
      "172.91.69.40 - - [02/Jun/2016 18:29:40] \"GET /external/paper-input/paper-input-error.html HTTP/1.1\" 200 -\n",
      "172.91.69.40 - - [02/Jun/2016 18:29:40] \"GET /external/iron-icon/iron-icon.html HTTP/1.1\" 200 -\n",
      "172.91.69.40 - - [02/Jun/2016 18:29:40] \"GET /external/iron-menu-behavior/iron-menubar-behavior.html HTTP/1.1\" 200 -\n",
      "172.91.69.40 - - [02/Jun/2016 18:29:40] \"GET /external/iron-resizable-behavior/iron-resizable-behavior.html HTTP/1.1\" 200 -\n",
      "172.91.69.40 - - [02/Jun/2016 18:29:40] \"GET /external/paper-tabs/paper-tabs-icons.html HTTP/1.1\" 200 -\n",
      "172.91.69.40 - - [02/Jun/2016 18:29:40] \"GET /external/paper-tabs/paper-tab.html HTTP/1.1\" 200 -\n",
      "172.91.69.40 - - [02/Jun/2016 18:29:40] \"GET /external/paper-styles/default-theme.html HTTP/1.1\" 200 -\n",
      "172.91.69.40 - - [02/Jun/2016 18:29:40] \"GET /external/iron-behaviors/iron-control-state.html HTTP/1.1\" 200 -\n",
      "172.91.69.40 - - [02/Jun/2016 18:29:40] \"GET /external/paper-menu-button/paper-menu-button.html HTTP/1.1\" 200 -\n",
      "172.91.69.40 - - [02/Jun/2016 18:29:40] \"GET /external/iron-behaviors/iron-button-state.html HTTP/1.1\" 200 -\n",
      "172.91.69.40 - - [02/Jun/2016 18:29:40] \"GET /external/iron-icons/iron-icons.html HTTP/1.1\" 200 -\n",
      "172.91.69.40 - - [02/Jun/2016 18:29:40] \"GET /external/paper-styles/typography.html HTTP/1.1\" 200 -\n",
      "172.91.69.40 - - [02/Jun/2016 18:29:40] \"GET /external/iron-validatable-behavior/iron-validatable-behavior.html HTTP/1.1\" 200 -\n",
      "172.91.69.40 - - [02/Jun/2016 18:29:40] \"GET /external/paper-behaviors/paper-checked-element-behavior.html HTTP/1.1\" 200 -\n",
      "172.91.69.40 - - [02/Jun/2016 18:29:40] \"GET /external/iron-ajax/iron-request.html HTTP/1.1\" 200 -\n",
      "172.91.69.40 - - [02/Jun/2016 18:29:40] \"GET /external/iron-selector/iron-selectable.html HTTP/1.1\" 200 -\n",
      "172.91.69.40 - - [02/Jun/2016 18:29:40] \"GET /external/paper-material/paper-material.html HTTP/1.1\" 200 -\n",
      "172.91.69.40 - - [02/Jun/2016 18:29:40] \"GET /external/paper-behaviors/paper-button-behavior.html HTTP/1.1\" 200 -\n",
      "172.91.69.40 - - [02/Jun/2016 18:29:40] \"GET /external/paper-styles/shadow.html HTTP/1.1\" 200 -\n",
      "172.91.69.40 - - [02/Jun/2016 18:29:40] \"GET /external/iron-flex-layout/classes/iron-flex-layout.html HTTP/1.1\" 200 -\n",
      "172.91.69.40 - - [02/Jun/2016 18:29:40] \"GET /external/iron-menu-behavior/iron-menu-behavior.html HTTP/1.1\" 200 -\n",
      "172.91.69.40 - - [02/Jun/2016 18:29:40] \"GET /external/paper-menu/paper-menu-shared-styles.html HTTP/1.1\" 200 -\n",
      "172.91.69.40 - - [02/Jun/2016 18:29:40] \"GET /external/paper-behaviors/paper-ripple-behavior.html HTTP/1.1\" 200 -\n",
      "172.91.69.40 - - [02/Jun/2016 18:29:40] \"GET /external/paper-input/paper-input-addon-behavior.html HTTP/1.1\" 200 -\n",
      "172.91.69.40 - - [02/Jun/2016 18:29:40] \"GET /external/iron-a11y-announcer/iron-a11y-announcer.html HTTP/1.1\" 200 -\n",
      "172.91.69.40 - - [02/Jun/2016 18:29:40] \"GET /external/iron-meta/iron-meta.html HTTP/1.1\" 200 -\n",
      "172.91.69.40 - - [02/Jun/2016 18:29:40] \"GET /external/iron-iconset-svg/iron-iconset-svg.html HTTP/1.1\" 200 -\n",
      "172.91.69.40 - - [02/Jun/2016 18:29:40] \"GET /external/iron-dropdown/iron-dropdown.html HTTP/1.1\" 200 -\n",
      "172.91.69.40 - - [02/Jun/2016 18:29:41] \"GET /external/neon-animation/animations/fade-out-animation.html HTTP/1.1\" 200 -\n",
      "172.91.69.40 - - [02/Jun/2016 18:29:41] \"GET /external/neon-animation/animations/fade-in-animation.html HTTP/1.1\" 200 -\n",
      "172.91.69.40 - - [02/Jun/2016 18:29:41] \"GET /external/font-roboto/roboto.html HTTP/1.1\" 200 -\n",
      "172.91.69.40 - - [02/Jun/2016 18:29:41] \"GET /external/paper-menu-button/paper-menu-button-animations.html HTTP/1.1\" 200 -\n",
      "172.91.69.40 - - [02/Jun/2016 18:29:41] \"GET /external/promise-polyfill/promise-polyfill-lite.html HTTP/1.1\" 200 -\n",
      "172.91.69.40 - - [02/Jun/2016 18:29:41] \"GET /external/iron-selector/iron-selection.html HTTP/1.1\" 200 -\n",
      "172.91.69.40 - - [02/Jun/2016 18:29:41] \"GET /external/iron-checked-element-behavior/iron-checked-element-behavior.html HTTP/1.1\" 200 -\n",
      "172.91.69.40 - - [02/Jun/2016 18:29:41] \"GET /external/paper-material/paper-material-shared-styles.html HTTP/1.1\" 200 -\n",
      "172.91.69.40 - - [02/Jun/2016 18:29:41] \"GET /external/iron-flex-layout/classes/iron-shadow-flex-layout.html HTTP/1.1\" 200 -\n",
      "172.91.69.40 - - [02/Jun/2016 18:29:41] \"GET /external/iron-selector/iron-multi-selectable.html HTTP/1.1\" 200 -\n",
      "172.91.69.40 - - [02/Jun/2016 18:29:41] \"GET /external/iron-overlay-behavior/iron-overlay-behavior.html HTTP/1.1\" 200 -\n",
      "172.91.69.40 - - [02/Jun/2016 18:29:41] \"GET /external/neon-animation/neon-animation-runner-behavior.html HTTP/1.1\" 200 -\n",
      "172.91.69.40 - - [02/Jun/2016 18:29:41] \"GET /external/neon-animation/animations/opaque-animation.html HTTP/1.1\" 200 -\n",
      "172.91.69.40 - - [02/Jun/2016 18:29:41] \"GET /external/iron-dropdown/iron-dropdown-scroll-manager.html HTTP/1.1\" 200 -\n",
      "172.91.69.40 - - [02/Jun/2016 18:29:41] \"GET /external/neon-animation/neon-animation-behavior.html HTTP/1.1\" 200 -\n",
      "172.91.69.40 - - [02/Jun/2016 18:29:41] \"GET /external/neon-animation/web-animations.html HTTP/1.1\" 200 -\n",
      "172.91.69.40 - - [02/Jun/2016 18:29:41] \"GET /external/iron-fit-behavior/iron-fit-behavior.html HTTP/1.1\" 200 -\n",
      "172.91.69.40 - - [02/Jun/2016 18:29:41] \"GET /external/promise-polyfill/Promise.js HTTP/1.1\" 200 -\n",
      "172.91.69.40 - - [02/Jun/2016 18:29:41] \"GET /external/iron-overlay-behavior/iron-overlay-backdrop.html HTTP/1.1\" 200 -\n",
      "172.91.69.40 - - [02/Jun/2016 18:29:41] \"GET /external/iron-overlay-behavior/iron-overlay-manager.html HTTP/1.1\" 200 -\n",
      "172.91.69.40 - - [02/Jun/2016 18:29:41] \"GET /external/neon-animation/neon-animatable-behavior.html HTTP/1.1\" 200 -\n",
      "172.91.69.40 - - [02/Jun/2016 18:29:41] \"GET /external/web-animations-js/web-animations-next-lite.min.js HTTP/1.1\" 200 -\n",
      "172.91.69.40 - - [02/Jun/2016 18:29:43] \"GET /data/runs HTTP/1.1\" 200 -\n"
     ]
    }
   ],
   "source": [
    "start_tensorboard()"
   ]
  },
  {
   "cell_type": "code",
   "execution_count": null,
   "metadata": {
    "collapsed": true
   },
   "outputs": [],
   "source": [
    "start_"
   ]
  }
 ],
 "metadata": {
  "kernelspec": {
   "display_name": "Python 2",
   "language": "python",
   "name": "python2"
  },
  "language_info": {
   "codemirror_mode": {
    "name": "ipython",
    "version": 2
   },
   "file_extension": ".py",
   "mimetype": "text/x-python",
   "name": "python",
   "nbconvert_exporter": "python",
   "pygments_lexer": "ipython2",
   "version": "2.7.6"
  }
 },
 "nbformat": 4,
 "nbformat_minor": 0
}
