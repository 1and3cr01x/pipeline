{
 "cells": [
  {
   "cell_type": "code",
   "execution_count": 1,
   "metadata": {
    "collapsed": true
   },
   "outputs": [],
   "source": [
    "import tensorflow as tf\n",
    "import tensorframes as tfs\n",
    "from pyspark.sql import Row"
   ]
  },
  {
   "cell_type": "code",
   "execution_count": null,
   "metadata": {
    "collapsed": true
   },
   "outputs": [],
   "source": [
    "\n",
    "data = [Row(x=float(x)) for x in range(10)]\n",
    "df = sqlContext.createDataFrame(data)\n",
    "with tf.Graph().as_default() as g:\n",
    "    # The TensorFlow placeholder that corresponds to column 'x'.\n",
    "    # The shape of the placeholder is automatically inferred from the DataFrame.\n",
    "    x = tfs.block(df, \"x\")\n",
    "    # The output that adds 3 to x\n",
    "    z = tf.add(x, 3, name='z')\n",
    "    # The resulting dataframe\n",
    "    df2 = tfs.map_blocks(z, df)\n",
    "\n",
    "# The transform is lazy as for most DataFrame operations. This will trigger it:\n",
    "df2.collect()"
   ]
  },
  {
   "cell_type": "code",
   "execution_count": null,
   "metadata": {
    "collapsed": true
   },
   "outputs": [],
   "source": []
  }
 ],
 "metadata": {
  "kernelspec": {
   "display_name": "Python 2",
   "language": "python",
   "name": "python2"
  },
  "language_info": {
   "codemirror_mode": {
    "name": "ipython",
    "version": 2
   },
   "file_extension": ".py",
   "mimetype": "text/x-python",
   "name": "python",
   "nbconvert_exporter": "python",
   "pygments_lexer": "ipython2",
   "version": "2.7.6"
  }
 },
 "nbformat": 4,
 "nbformat_minor": 0
}
