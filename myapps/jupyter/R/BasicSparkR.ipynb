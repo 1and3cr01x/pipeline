{
 "cells": [
  {
   "cell_type": "code",
   "execution_count": 1,
   "metadata": {
    "collapsed": false
   },
   "outputs": [
    {
     "name": "stderr",
     "output_type": "stream",
     "text": [
      "\n",
      "Attaching package: 'SparkR'\n",
      "\n",
      "The following objects are masked from 'package:stats':\n",
      "\n",
      "    cov, filter, lag, na.omit, predict, sd, var\n",
      "\n",
      "The following objects are masked from 'package:base':\n",
      "\n",
      "    colnames, colnames<-, intersect, rank, rbind, sample, subset,\n",
      "    summary, table, transform\n",
      "\n"
     ]
    }
   ],
   "source": [
    "library(SparkR, lib.loc = c(file.path(Sys.getenv(\"SPARK_HOME\"), \"R\", \"lib\")))"
   ]
  },
  {
   "cell_type": "code",
   "execution_count": 2,
   "metadata": {
    "collapsed": false
   },
   "outputs": [
    {
     "name": "stdout",
     "output_type": "stream",
     "text": [
      "Launching java with spark-submit command /root/spark-1.6.0-bin-fluxcapacitor/bin/spark-submit --jars /usr/share/java/mysql-connector-java-5.1.28.jar --packages com.databricks:spark-csv_2.10:1.4.0 sparkr-shell /tmp/Rtmphe6bKj/backend_port2f8518018e0b \n"
     ]
    }
   ],
   "source": [
    "sc <- sparkR.init(sparkJars=\"/usr/share/java/mysql-connector-java.jar\", \n",
    "  sparkPackages=\"com.databricks:spark-csv_2.10:1.4.0\")\n",
    "sqlContext <- sparkRSQL.init(sc)"
   ]
  },
  {
   "cell_type": "code",
   "execution_count": 3,
   "metadata": {
    "collapsed": false
   },
   "outputs": [],
   "source": [
    "movieRatingsDF <- read.df(sqlContext, \n",
    "  \"/root/pipeline/datasets/movielens/ml-latest/ratings.csv\", \n",
    "  \"com.databricks.spark.csv\")   "
   ]
  },
  {
   "cell_type": "code",
   "execution_count": 4,
   "metadata": {
    "collapsed": false
   },
   "outputs": [
    {
     "data": {
      "text/html": [
       "<table>\n",
       "<thead><tr><th></th><th scope=col>C0</th><th scope=col>C1</th><th scope=col>C2</th><th scope=col>C3</th></tr></thead>\n",
       "<tbody>\n",
       "\t<tr><th scope=row>1</th><td>userId</td><td>movieId</td><td>rating</td><td>timestamp</td></tr>\n",
       "\t<tr><th scope=row>2</th><td>1</td><td>50</td><td>4.0</td><td>1329753504</td></tr>\n",
       "\t<tr><th scope=row>3</th><td>1</td><td>296</td><td>4.0</td><td>1329753602</td></tr>\n",
       "\t<tr><th scope=row>4</th><td>1</td><td>318</td><td>4.5</td><td>1329753494</td></tr>\n",
       "\t<tr><th scope=row>5</th><td>1</td><td>527</td><td>4.5</td><td>1329753507</td></tr>\n",
       "\t<tr><th scope=row>6</th><td>1</td><td>541</td><td>3.0</td><td>1329753607</td></tr>\n",
       "</tbody>\n",
       "</table>\n"
      ],
      "text/latex": [
       "\\begin{tabular}{r|llll}\n",
       "  & C0 & C1 & C2 & C3\\\\\n",
       "\\hline\n",
       "\t1 & userId & movieId & rating & timestamp\\\\\n",
       "\t2 & 1 & 50 & 4.0 & 1329753504\\\\\n",
       "\t3 & 1 & 296 & 4.0 & 1329753602\\\\\n",
       "\t4 & 1 & 318 & 4.5 & 1329753494\\\\\n",
       "\t5 & 1 & 527 & 4.5 & 1329753507\\\\\n",
       "\t6 & 1 & 541 & 3.0 & 1329753607\\\\\n",
       "\\end{tabular}\n"
      ],
      "text/plain": [
       "      C0      C1     C2         C3\n",
       "1 userId movieId rating  timestamp\n",
       "2      1      50    4.0 1329753504\n",
       "3      1     296    4.0 1329753602\n",
       "4      1     318    4.5 1329753494\n",
       "5      1     527    4.5 1329753507\n",
       "6      1     541    3.0 1329753607"
      ]
     },
     "execution_count": 4,
     "metadata": {},
     "output_type": "execute_result"
    }
   ],
   "source": [
    "head(movieRatingsDF)"
   ]
  },
  {
   "cell_type": "code",
   "execution_count": 5,
   "metadata": {
    "collapsed": false
   },
   "outputs": [
    {
     "data": {
      "text/plain": [
       "Java ref type org.apache.spark.sql.hive.HiveContext id 19 "
      ]
     },
     "execution_count": 5,
     "metadata": {},
     "output_type": "execute_result"
    }
   ],
   "source": [
    "hiveContext <- sparkRHive.init(sc)\n",
    "hiveContext"
   ]
  },
  {
   "cell_type": "code",
   "execution_count": 6,
   "metadata": {
    "collapsed": false
   },
   "outputs": [
    {
     "data": {
      "text/html": [
       "<table>\n",
       "<thead><tr><th></th><th scope=col>userId</th><th scope=col>movieId</th><th scope=col>rating</th><th scope=col>timestamp</th></tr></thead>\n",
       "<tbody>\n",
       "\t<tr><th scope=row>1</th><td>1</td><td>50</td><td>4</td><td>1329753504</td></tr>\n",
       "\t<tr><th scope=row>2</th><td>1</td><td>296</td><td>4</td><td>1329753602</td></tr>\n",
       "\t<tr><th scope=row>3</th><td>1</td><td>318</td><td>4.5</td><td>1329753494</td></tr>\n",
       "\t<tr><th scope=row>4</th><td>1</td><td>527</td><td>4.5</td><td>1329753507</td></tr>\n",
       "\t<tr><th scope=row>5</th><td>1</td><td>541</td><td>3</td><td>1329753607</td></tr>\n",
       "\t<tr><th scope=row>6</th><td>1</td><td>608</td><td>4</td><td>1329753638</td></tr>\n",
       "</tbody>\n",
       "</table>\n"
      ],
      "text/latex": [
       "\\begin{tabular}{r|llll}\n",
       "  & userId & movieId & rating & timestamp\\\\\n",
       "\\hline\n",
       "\t1 & 1 & 50 & 4 & 1329753504\\\\\n",
       "\t2 & 1 & 296 & 4 & 1329753602\\\\\n",
       "\t3 & 1 & 318 & 4.5 & 1329753494\\\\\n",
       "\t4 & 1 & 527 & 4.5 & 1329753507\\\\\n",
       "\t5 & 1 & 541 & 3 & 1329753607\\\\\n",
       "\t6 & 1 & 608 & 4 & 1329753638\\\\\n",
       "\\end{tabular}\n"
      ],
      "text/plain": [
       "  userId movieId rating  timestamp\n",
       "1      1      50    4.0 1329753504\n",
       "2      1     296    4.0 1329753602\n",
       "3      1     318    4.5 1329753494\n",
       "4      1     527    4.5 1329753507\n",
       "5      1     541    3.0 1329753607\n",
       "6      1     608    4.0 1329753638"
      ]
     },
     "execution_count": 6,
     "metadata": {},
     "output_type": "execute_result"
    }
   ],
   "source": [
    "results <- sql(hiveContext, \"SELECT * FROM movie_ratings\")\n",
    "head(results)"
   ]
  },
  {
   "cell_type": "code",
   "execution_count": null,
   "metadata": {
    "collapsed": true
   },
   "outputs": [],
   "source": []
  }
 ],
 "metadata": {
  "kernelspec": {
   "display_name": "R",
   "language": "R",
   "name": "ir"
  },
  "language_info": {
   "codemirror_mode": "r",
   "file_extension": ".r",
   "mimetype": "text/x-r-source",
   "name": "R",
   "pygments_lexer": "r",
   "version": "3.2.4"
  }
 },
 "nbformat": 4,
 "nbformat_minor": 0
}
