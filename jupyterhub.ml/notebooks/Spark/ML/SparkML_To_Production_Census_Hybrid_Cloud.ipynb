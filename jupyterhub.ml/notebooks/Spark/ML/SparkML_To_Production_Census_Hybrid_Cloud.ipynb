{
 "cells": [
  {
   "cell_type": "markdown",
   "metadata": {},
   "source": [
    "## Training Cluster"
   ]
  },
  {
   "cell_type": "code",
   "execution_count": 13,
   "metadata": {
    "collapsed": false,
    "scrolled": false
   },
   "outputs": [
    {
     "name": "stdout",
     "output_type": "stream",
     "text": [
      "switched to context \"aws_k8s_training\".\r\n"
     ]
    }
   ],
   "source": [
    "!pipeline cluster switch aws_k8s_training"
   ]
  },
  {
   "cell_type": "code",
   "execution_count": 14,
   "metadata": {
    "collapsed": false,
    "scrolled": true
   },
   "outputs": [
    {
     "name": "stdout",
     "output_type": "stream",
     "text": [
      "Current Cluster:\n",
      "aws_k8s_training\n",
      "\n",
      "Services:\n",
      "NAME                           CLUSTER-IP     EXTERNAL-IP        PORT(S)                                                                                                                                                                                                                 AGE\n",
      "airflow                        10.0.93.157    a9be74d74a86d...   80/TCP                                                                                                                                                                                                                  25d\n",
      "airpal                         10.0.204.217   a9f022e58a86d...   80/TCP,81/TCP                                                                                                                                                                                                           25d\n",
      "cassandra                      10.0.100.46    <nodes>            7199/TCP,9042/TCP,9160/TCP,7000/TCP                                                                                                                                                                                     25d\n",
      "clustered-tensorflow-master    10.0.197.218   a285aaf2fb088...   2222/TCP                                                                                                                                                                                                                15d\n",
      "clustered-tensorflow-ps0       10.0.83.143    afa215617b07d...   2222/TCP                                                                                                                                                                                                                15d\n",
      "clustered-tensorflow-ps1       10.0.229.149   a38091be5b07e...   2222/TCP                                                                                                                                                                                                                15d\n",
      "clustered-tensorflow-worker0   10.0.161.244   a3ef32f50b07e...   2222/TCP                                                                                                                                                                                                                15d\n",
      "clustered-tensorflow-worker1   10.0.73.168    a8487a4f9b07e...   2222/TCP                                                                                                                                                                                                                15d\n",
      "elasticsearch-2-3-0            10.0.59.49     <nodes>            9200/TCP,9300/TCP                                                                                                                                                                                                       25d\n",
      "hystrix                        10.0.225.189   aa25a5195a86d...   80/TCP                                                                                                                                                                                                                  25d\n",
      "jupyterhub-master              10.0.208.158   a9ae42725a86d...   80/TCP                                                                                                                                                                                                                  25d\n",
      "kafka-0-8                      10.0.19.81     aa070e477a86d...   9092/TCP,8081/TCP,8082/TCP                                                                                                                                                                                              25d\n",
      "kibana-4-5-0                   10.0.207.223   a93a7eb89a88c...   80/TCP                                                                                                                                                                                                                  25d\n",
      "metastore-1-2-1                10.0.251.226   <nodes>            9083/TCP                                                                                                                                                                                                                25d\n",
      "mysql-master                   10.0.150.192   <nodes>            3306/TCP                                                                                                                                                                                                                25d\n",
      "prediction-codegen             10.0.82.236    aedf6b02eb24e...   80/TCP                                                                                                                                                                                                                  12d\n",
      "prediction-pmml                10.0.70.94     ad66445f9ad5e...   80/TCP                                                                                                                                                                                                                  19d\n",
      "presto-master                  10.0.140.51    <nodes>            7060/TCP                                                                                                                                                                                                                25d\n",
      "presto-worker                  10.0.35.224    <nodes>            7060/TCP                                                                                                                                                                                                                25d\n",
      "redis-master                   10.0.97.197    a930da62ca86d...   6379/TCP,7379/TCP                                                                                                                                                                                                       25d\n",
      "spark-master-2-0-1             10.0.41.60     a959441cda86d...   80/TCP,6066/TCP,7077/TCP,4040/TCP,4041/TCP,4042/TCP,4043/TCP,4044/TCP,4045/TCP,4046/TCP,4047/TCP,4048/TCP,4049/TCP,4050/TCP,4051/TCP,4052/TCP,4053/TCP,4054/TCP,4055/TCP,4056/TCP,4057/TCP,4058/TCP,4059/TCP,4060/TCP   25d\n",
      "spark-worker-2-0-1             10.0.248.181   a96a8f914a86d...   80/TCP                                                                                                                                                                                                                  25d\n",
      "turbine                        10.0.232.232   acd2b3dc9ad5e...   80/TCP,8990/TCP                                                                                                                                                                                                         19d\n",
      "weavescope-app                 10.0.33.92     ae4c2bc10ab47...   80/TCP                                                                                                                                                                                                                  21d\n",
      "web-home                       10.0.173.70    aa6c77070a86d...   80/TCP                                                                                                                                                                                                                  25d\n",
      "zeppelin-master                10.0.48.244    a9957d443a86d...   80/TCP,81/TCP                                                                                                                                                                                                           25d\n",
      "zookeeper                      10.0.120.153   <nodes>            2181/TCP                                                                                                                                                                                                                25d\n",
      "\n",
      "Replication Controller:\n",
      "NAME                           DESIRED   CURRENT   READY     AGE\n",
      "airflow                        1         1         1         25d\n",
      "airpal                         1         1         1         25d\n",
      "cassandra                      1         1         1         25d\n",
      "clustered-tensorflow-master    1         1         1         13d\n",
      "clustered-tensorflow-ps0       1         1         1         13d\n",
      "clustered-tensorflow-ps1       1         1         1         13d\n",
      "clustered-tensorflow-worker0   1         1         1         13d\n",
      "clustered-tensorflow-worker1   1         1         1         13d\n",
      "elasticsearch-2-3-0            1         1         1         25d\n",
      "hystrix                        1         1         1         12d\n",
      "jupyterhub-master              1         1         1         14d\n",
      "kafka-0-8                      1         1         1         25d\n",
      "kibana-4-5-0                   1         1         1         25d\n",
      "metastore-1-2-1                1         1         1         25d\n",
      "mysql-master                   1         1         1         25d\n",
      "presto-master                  1         1         1         25d\n",
      "presto-worker                  1         1         1         25d\n",
      "redis-master                   1         1         1         25d\n",
      "spark-master-2-0-1             1         1         1         19d\n",
      "spark-worker-2-0-1             2         2         2         19d\n",
      "weavescope-app                 1         1         1         21d\n",
      "web-home                       1         1         1         12d\n",
      "zeppelin-master                1         1         1         25d\n",
      "zookeeper                      1         1         1         25d\n",
      "\n",
      "Pods:\n",
      "NAME                                 READY     STATUS    RESTARTS   AGE\n",
      "airflow-180xs                        1/1       Running   0          25d\n",
      "airpal-2h0l7                         1/1       Running   0          25d\n",
      "cassandra-de9oe                      1/1       Running   0          25d\n",
      "clustered-tensorflow-master-xsqbd    1/1       Running   0          13d\n",
      "clustered-tensorflow-ps0-rlihr       1/1       Running   0          13d\n",
      "clustered-tensorflow-ps1-2l181       1/1       Running   0          13d\n",
      "clustered-tensorflow-worker0-3o5yv   1/1       Running   0          13d\n",
      "clustered-tensorflow-worker1-duuf8   1/1       Running   0          13d\n",
      "elasticsearch-2-3-0-er0i5            1/1       Running   0          25d\n",
      "hystrix-xlbp6                        1/1       Running   0          12d\n",
      "jupyterhub-master-26yr8              1/1       Running   0          14d\n",
      "kafka-0-8-e653j                      1/1       Running   0          25d\n",
      "kibana-4-5-0-crrbl                   1/1       Running   0          25d\n",
      "metastore-1-2-1-ajze9                1/1       Running   0          25d\n",
      "mysql-master-n1slt                   1/1       Running   0          25d\n",
      "presto-master-uidot                  1/1       Running   0          25d\n",
      "presto-worker-50guq                  1/1       Running   0          25d\n",
      "redis-master-406n4                   1/1       Running   0          25d\n",
      "spark-master-2-0-1-b2qgi             1/1       Running   0          19d\n",
      "spark-worker-2-0-1-ejwsw             1/1       Running   0          19d\n",
      "spark-worker-2-0-1-otnt0             1/1       Running   0          2m\n",
      "weavescope-app-3r58t                 1/1       Running   0          21d\n",
      "weavescope-probe-5m9q1               1/1       Running   0          21d\n",
      "weavescope-probe-5v0fw               1/1       Running   0          21d\n",
      "web-home-h06mv                       1/1       Running   0          12d\n",
      "zeppelin-master-xh7ti                1/1       Running   0          25d\n",
      "zookeeper-uvqb7                      1/1       Running   0          25d\n"
     ]
    }
   ],
   "source": [
    "!pipeline cluster view"
   ]
  },
  {
   "cell_type": "markdown",
   "metadata": {},
   "source": [
    "### [Kubernetes View of Training Cluster](http://kubernetes.demo.pipeline.io/)"
   ]
  },
  {
   "cell_type": "code",
   "execution_count": 15,
   "metadata": {
    "collapsed": false,
    "scrolled": false
   },
   "outputs": [
    {
     "data": {
      "text/html": [
       "<iframe width=100% height=500px src=\"http://kubernetes.demo.pipeline.io\">"
      ],
      "text/plain": [
       "<IPython.core.display.HTML object>"
      ]
     },
     "metadata": {},
     "output_type": "display_data"
    }
   ],
   "source": [
    "from IPython.display import display, HTML\n",
    "\n",
    "html = '<iframe width=100% height=500px src=\"http://kubernetes.demo.pipeline.io\">'\n",
    "display(HTML(html))"
   ]
  },
  {
   "cell_type": "markdown",
   "metadata": {},
   "source": [
    "## Scale Out Spark Worker"
   ]
  },
  {
   "cell_type": "code",
   "execution_count": 16,
   "metadata": {
    "collapsed": false,
    "scrolled": false
   },
   "outputs": [
    {
     "name": "stdout",
     "output_type": "stream",
     "text": [
      "replicationcontroller \"spark-worker-2-0-1\" scaled\r\n"
     ]
    }
   ],
   "source": [
    "!pipeline service scale spark 2"
   ]
  },
  {
   "cell_type": "code",
   "execution_count": 17,
   "metadata": {
    "collapsed": false,
    "scrolled": true
   },
   "outputs": [
    {
     "name": "stdout",
     "output_type": "stream",
     "text": [
      "Current Cluster:\n",
      "aws_k8s_training\n",
      "\n",
      "Services:\n",
      "NAME                           CLUSTER-IP     EXTERNAL-IP        PORT(S)                                                                                                                                                                                                                 AGE\n",
      "airflow                        10.0.93.157    a9be74d74a86d...   80/TCP                                                                                                                                                                                                                  25d\n",
      "airpal                         10.0.204.217   a9f022e58a86d...   80/TCP,81/TCP                                                                                                                                                                                                           25d\n",
      "cassandra                      10.0.100.46    <nodes>            7199/TCP,9042/TCP,9160/TCP,7000/TCP                                                                                                                                                                                     25d\n",
      "clustered-tensorflow-master    10.0.197.218   a285aaf2fb088...   2222/TCP                                                                                                                                                                                                                15d\n",
      "clustered-tensorflow-ps0       10.0.83.143    afa215617b07d...   2222/TCP                                                                                                                                                                                                                15d\n",
      "clustered-tensorflow-ps1       10.0.229.149   a38091be5b07e...   2222/TCP                                                                                                                                                                                                                15d\n",
      "clustered-tensorflow-worker0   10.0.161.244   a3ef32f50b07e...   2222/TCP                                                                                                                                                                                                                15d\n",
      "clustered-tensorflow-worker1   10.0.73.168    a8487a4f9b07e...   2222/TCP                                                                                                                                                                                                                15d\n",
      "elasticsearch-2-3-0            10.0.59.49     <nodes>            9200/TCP,9300/TCP                                                                                                                                                                                                       25d\n",
      "hystrix                        10.0.225.189   aa25a5195a86d...   80/TCP                                                                                                                                                                                                                  25d\n",
      "jupyterhub-master              10.0.208.158   a9ae42725a86d...   80/TCP                                                                                                                                                                                                                  25d\n",
      "kafka-0-8                      10.0.19.81     aa070e477a86d...   9092/TCP,8081/TCP,8082/TCP                                                                                                                                                                                              25d\n",
      "kibana-4-5-0                   10.0.207.223   a93a7eb89a88c...   80/TCP                                                                                                                                                                                                                  25d\n",
      "metastore-1-2-1                10.0.251.226   <nodes>            9083/TCP                                                                                                                                                                                                                25d\n",
      "mysql-master                   10.0.150.192   <nodes>            3306/TCP                                                                                                                                                                                                                25d\n",
      "prediction-codegen             10.0.82.236    aedf6b02eb24e...   80/TCP                                                                                                                                                                                                                  12d\n",
      "prediction-pmml                10.0.70.94     ad66445f9ad5e...   80/TCP                                                                                                                                                                                                                  19d\n",
      "presto-master                  10.0.140.51    <nodes>            7060/TCP                                                                                                                                                                                                                25d\n",
      "presto-worker                  10.0.35.224    <nodes>            7060/TCP                                                                                                                                                                                                                25d\n",
      "redis-master                   10.0.97.197    a930da62ca86d...   6379/TCP,7379/TCP                                                                                                                                                                                                       25d\n",
      "spark-master-2-0-1             10.0.41.60     a959441cda86d...   80/TCP,6066/TCP,7077/TCP,4040/TCP,4041/TCP,4042/TCP,4043/TCP,4044/TCP,4045/TCP,4046/TCP,4047/TCP,4048/TCP,4049/TCP,4050/TCP,4051/TCP,4052/TCP,4053/TCP,4054/TCP,4055/TCP,4056/TCP,4057/TCP,4058/TCP,4059/TCP,4060/TCP   25d\n",
      "spark-worker-2-0-1             10.0.248.181   a96a8f914a86d...   80/TCP                                                                                                                                                                                                                  25d\n",
      "turbine                        10.0.232.232   acd2b3dc9ad5e...   80/TCP,8990/TCP                                                                                                                                                                                                         19d\n",
      "weavescope-app                 10.0.33.92     ae4c2bc10ab47...   80/TCP                                                                                                                                                                                                                  21d\n",
      "web-home                       10.0.173.70    aa6c77070a86d...   80/TCP                                                                                                                                                                                                                  25d\n",
      "zeppelin-master                10.0.48.244    a9957d443a86d...   80/TCP,81/TCP                                                                                                                                                                                                           25d\n",
      "zookeeper                      10.0.120.153   <nodes>            2181/TCP                                                                                                                                                                                                                25d\n",
      "\n",
      "Replication Controller:\n",
      "NAME                           DESIRED   CURRENT   READY     AGE\n",
      "airflow                        1         1         1         25d\n",
      "airpal                         1         1         1         25d\n",
      "cassandra                      1         1         1         25d\n",
      "clustered-tensorflow-master    1         1         1         13d\n",
      "clustered-tensorflow-ps0       1         1         1         13d\n",
      "clustered-tensorflow-ps1       1         1         1         13d\n",
      "clustered-tensorflow-worker0   1         1         1         13d\n",
      "clustered-tensorflow-worker1   1         1         1         13d\n",
      "elasticsearch-2-3-0            1         1         1         25d\n",
      "hystrix                        1         1         1         12d\n",
      "jupyterhub-master              1         1         1         14d\n",
      "kafka-0-8                      1         1         1         25d\n",
      "kibana-4-5-0                   1         1         1         25d\n",
      "metastore-1-2-1                1         1         1         25d\n",
      "mysql-master                   1         1         1         25d\n",
      "presto-master                  1         1         1         25d\n",
      "presto-worker                  1         1         1         25d\n",
      "redis-master                   1         1         1         25d\n",
      "spark-master-2-0-1             1         1         1         19d\n",
      "spark-worker-2-0-1             2         2         2         19d\n",
      "weavescope-app                 1         1         1         21d\n",
      "web-home                       1         1         1         12d\n",
      "zeppelin-master                1         1         1         25d\n",
      "zookeeper                      1         1         1         25d\n",
      "\n",
      "Pods:\n",
      "NAME                                 READY     STATUS    RESTARTS   AGE\n",
      "airflow-180xs                        1/1       Running   0          25d\n",
      "airpal-2h0l7                         1/1       Running   0          25d\n",
      "cassandra-de9oe                      1/1       Running   0          25d\n",
      "clustered-tensorflow-master-xsqbd    1/1       Running   0          13d\n",
      "clustered-tensorflow-ps0-rlihr       1/1       Running   0          13d\n",
      "clustered-tensorflow-ps1-2l181       1/1       Running   0          13d\n",
      "clustered-tensorflow-worker0-3o5yv   1/1       Running   0          13d\n",
      "clustered-tensorflow-worker1-duuf8   1/1       Running   0          13d\n",
      "elasticsearch-2-3-0-er0i5            1/1       Running   0          25d\n",
      "hystrix-xlbp6                        1/1       Running   0          12d\n",
      "jupyterhub-master-26yr8              1/1       Running   0          14d\n",
      "kafka-0-8-e653j                      1/1       Running   0          25d\n",
      "kibana-4-5-0-crrbl                   1/1       Running   0          25d\n",
      "metastore-1-2-1-ajze9                1/1       Running   0          25d\n",
      "mysql-master-n1slt                   1/1       Running   0          25d\n",
      "presto-master-uidot                  1/1       Running   0          25d\n",
      "presto-worker-50guq                  1/1       Running   0          25d\n",
      "redis-master-406n4                   1/1       Running   0          25d\n",
      "spark-master-2-0-1-b2qgi             1/1       Running   0          19d\n",
      "spark-worker-2-0-1-ejwsw             1/1       Running   0          19d\n",
      "spark-worker-2-0-1-otnt0             1/1       Running   0          2m\n",
      "weavescope-app-3r58t                 1/1       Running   0          21d\n",
      "weavescope-probe-5m9q1               1/1       Running   0          21d\n",
      "weavescope-probe-5v0fw               1/1       Running   0          21d\n",
      "web-home-h06mv                       1/1       Running   0          12d\n",
      "zeppelin-master-xh7ti                1/1       Running   0          25d\n",
      "zookeeper-uvqb7                      1/1       Running   0          25d\n"
     ]
    }
   ],
   "source": [
    "!pipeline cluster view"
   ]
  },
  {
   "cell_type": "code",
   "execution_count": 18,
   "metadata": {
    "collapsed": false,
    "scrolled": false
   },
   "outputs": [
    {
     "data": {
      "text/html": [
       "<iframe width=100% height=500px src=\"http://kubernetes.demo.pipeline.io\">"
      ],
      "text/plain": [
       "<IPython.core.display.HTML object>"
      ]
     },
     "metadata": {},
     "output_type": "display_data"
    }
   ],
   "source": [
    "from IPython.display import display, HTML\n",
    "\n",
    "html = '<iframe width=100% height=500px src=\"http://kubernetes.demo.pipeline.io\">'\n",
    "display(HTML(html))"
   ]
  },
  {
   "cell_type": "markdown",
   "metadata": {},
   "source": [
    "### [Spark Admin](http://spark.demo.pipeline.io)"
   ]
  },
  {
   "cell_type": "markdown",
   "metadata": {},
   "source": [
    "## Generate Spark ML Decision Tree"
   ]
  },
  {
   "cell_type": "markdown",
   "metadata": {},
   "source": [
    "### Setup SparkSession"
   ]
  },
  {
   "cell_type": "code",
   "execution_count": 19,
   "metadata": {
    "collapsed": false,
    "scrolled": false
   },
   "outputs": [],
   "source": [
    "from pyspark.sql import SparkSession\n",
    "\n",
    "sparkSession = SparkSession.builder.getOrCreate()"
   ]
  },
  {
   "cell_type": "markdown",
   "metadata": {},
   "source": [
    "### Load Training Dataset from S3 into Spark"
   ]
  },
  {
   "cell_type": "code",
   "execution_count": 20,
   "metadata": {
    "collapsed": false,
    "scrolled": false
   },
   "outputs": [
    {
     "data": {
      "text/plain": [
       "Row(age=39, workclass='State-gov', education='Bachelors', education_num=13, marital_status='Never-married', occupation='Adm-clerical', relationship='Not-in-family', race='White', sex='Male', capital_gain=2174, capital_loss=0, hours_per_week=40, native_country='United-States', income='<=50K')"
      ]
     },
     "execution_count": 20,
     "metadata": {},
     "output_type": "execute_result"
    }
   ],
   "source": [
    "data = sparkSession.read.format(\"csv\") \\\n",
    "  .option(\"inferSchema\", \"true\").option(\"header\", \"true\") \\\n",
    "  .load(\"s3a://datapalooza/R/census.csv\")\n",
    "\n",
    "data.head()"
   ]
  },
  {
   "cell_type": "markdown",
   "metadata": {},
   "source": [
    "### Build Spark ML Pipeline with Decision Tree Classifier"
   ]
  },
  {
   "cell_type": "code",
   "execution_count": 21,
   "metadata": {
    "collapsed": false,
    "scrolled": false
   },
   "outputs": [
    {
     "name": "stdout",
     "output_type": "stream",
     "text": [
      "PipelineModel_43a2b98c0f47e3e99d94\n"
     ]
    }
   ],
   "source": [
    "from pyspark.ml import Pipeline\n",
    "from pyspark.ml.feature import RFormula\n",
    "from pyspark.ml.classification import DecisionTreeClassifier\n",
    "\n",
    "formula = RFormula(formula = \"income ~ .\")\n",
    "classifier = DecisionTreeClassifier()\n",
    "\n",
    "pipeline = Pipeline(stages = [formula, classifier])\n",
    "\n",
    "pipelineModel = pipeline.fit(data)\n",
    "\n",
    "print(pipelineModel)"
   ]
  },
  {
   "cell_type": "code",
   "execution_count": 22,
   "metadata": {
    "collapsed": false,
    "scrolled": false
   },
   "outputs": [
    {
     "name": "stdout",
     "output_type": "stream",
     "text": [
      "DecisionTreeClassificationModel (uid=DecisionTreeClassifier_41aea0dc2ef384836421) of depth 5 with 59 nodes\n",
      "  If (feature 23 in {0.0})\n",
      "   If (feature 52 <= 7688.0)\n",
      "    If (feature 22 <= 13.0)\n",
      "     If (feature 54 <= 42.0)\n",
      "      If (feature 53 <= 1876.0)\n",
      "       Predict: 0.0\n",
      "      Else (feature 53 > 1876.0)\n",
      "       Predict: 0.0\n",
      "     Else (feature 54 > 42.0)\n",
      "      If (feature 9 in {0.0})\n",
      "       Predict: 0.0\n",
      "      Else (feature 9 not in {0.0})\n",
      "       Predict: 0.0\n",
      "    Else (feature 22 > 13.0)\n",
      "     If (feature 54 <= 43.0)\n",
      "      If (feature 0 <= 32.0)\n",
      "       Predict: 0.0\n",
      "      Else (feature 0 > 32.0)\n",
      "       Predict: 0.0\n",
      "     Else (feature 54 > 43.0)\n",
      "      If (feature 0 <= 32.0)\n",
      "       Predict: 0.0\n",
      "      Else (feature 0 > 32.0)\n",
      "       Predict: 0.0\n",
      "   Else (feature 52 > 7688.0)\n",
      "    If (feature 0 <= 20.0)\n",
      "     If (feature 8 in {0.0})\n",
      "      Predict: 0.0\n",
      "     Else (feature 8 not in {0.0})\n",
      "      Predict: 1.0\n",
      "    Else (feature 0 > 20.0)\n",
      "     If (feature 40 in {1.0})\n",
      "      If (feature 0 <= 36.0)\n",
      "       Predict: 1.0\n",
      "      Else (feature 0 > 36.0)\n",
      "       Predict: 0.0\n",
      "     Else (feature 40 not in {1.0})\n",
      "      If (feature 0 <= 54.0)\n",
      "       Predict: 1.0\n",
      "      Else (feature 0 > 54.0)\n",
      "       Predict: 1.0\n",
      "  Else (feature 23 not in {0.0})\n",
      "   If (feature 22 <= 12.0)\n",
      "    If (feature 52 <= 4064.0)\n",
      "     If (feature 22 <= 8.0)\n",
      "      If (feature 54 <= 43.0)\n",
      "       Predict: 0.0\n",
      "      Else (feature 54 > 43.0)\n",
      "       Predict: 0.0\n",
      "     Else (feature 22 > 8.0)\n",
      "      If (feature 0 <= 33.0)\n",
      "       Predict: 0.0\n",
      "      Else (feature 0 > 33.0)\n",
      "       Predict: 0.0\n",
      "    Else (feature 52 > 4064.0)\n",
      "     If (feature 52 <= 7688.0)\n",
      "      If (feature 54 <= 30.0)\n",
      "       Predict: 0.0\n",
      "      Else (feature 54 > 30.0)\n",
      "       Predict: 1.0\n",
      "     Else (feature 52 > 7688.0)\n",
      "      If (feature 22 <= 4.0)\n",
      "       Predict: 0.0\n",
      "      Else (feature 22 > 4.0)\n",
      "       Predict: 1.0\n",
      "   Else (feature 22 > 12.0)\n",
      "    If (feature 52 <= 4064.0)\n",
      "     If (feature 53 <= 1876.0)\n",
      "      If (feature 54 <= 30.0)\n",
      "       Predict: 0.0\n",
      "      Else (feature 54 > 30.0)\n",
      "       Predict: 1.0\n",
      "     Else (feature 53 > 1876.0)\n",
      "      If (feature 77 in {1.0})\n",
      "       Predict: 0.0\n",
      "      Else (feature 77 not in {1.0})\n",
      "       Predict: 1.0\n",
      "    Else (feature 52 > 4064.0)\n",
      "     If (feature 52 <= 7688.0)\n",
      "      If (feature 54 <= 34.0)\n",
      "       Predict: 1.0\n",
      "      Else (feature 54 > 34.0)\n",
      "       Predict: 1.0\n",
      "     Else (feature 52 > 7688.0)\n",
      "      If (feature 38 in {1.0})\n",
      "       Predict: 1.0\n",
      "      Else (feature 38 not in {1.0})\n",
      "       Predict: 1.0\n",
      "\n"
     ]
    }
   ],
   "source": [
    "print(pipelineModel.stages[1].toDebugString)"
   ]
  },
  {
   "cell_type": "markdown",
   "metadata": {},
   "source": [
    "## Convert Spark ML Pipeline to PMML"
   ]
  },
  {
   "cell_type": "code",
   "execution_count": 64,
   "metadata": {
    "collapsed": false,
    "scrolled": false
   },
   "outputs": [
    {
     "name": "stdout",
     "output_type": "stream",
     "text": [
      "<?xml version=\"1.0\" encoding=\"UTF-8\" standalone=\"yes\"?>\n",
      "<PMML xmlns=\"http://www.dmg.org/PMML-4_3\" version=\"4.3\">\n",
      "\t<Header>\n",
      "\t\t<Application/>\n",
      "\t\t<Timestamp>2016-12-07T09:01:47Z</Timestamp>\n",
      "\t</Header>\n",
      "\t<DataDictionary>\n",
      "\t\t<DataField name=\"income\" optype=\"categorical\" dataType=\"string\">\n",
      "\t\t\t<Value value=\"&lt;=50K\"/>\n",
      "\t\t\t<Value value=\"&gt;50K\"/>\n",
      "\t\t</DataField>\n",
      "\t\t<DataField name=\"education\" optype=\"categorical\" dataType=\"string\">\n",
      "\t\t\t<Value value=\"HS-grad\"/>\n",
      "\t\t\t<Value value=\"Some-college\"/>\n",
      "\t\t\t<Value value=\"Bachelors\"/>\n",
      "\t\t\t<Value value=\"Masters\"/>\n",
      "\t\t\t<Value value=\"Assoc-voc\"/>\n",
      "\t\t\t<Value value=\"11th\"/>\n",
      "\t\t\t<Value value=\"Assoc-acdm\"/>\n",
      "\t\t\t<Value value=\"10th\"/>\n",
      "\t\t\t<Value value=\"7th-8th\"/>\n",
      "\t\t\t<Value value=\"Prof-school\"/>\n",
      "\t\t\t<Value value=\"9th\"/>\n",
      "\t\t\t<Value value=\"12th\"/>\n",
      "\t\t\t<Value value=\"Doctorate\"/>\n",
      "\t\t\t<Value value=\"5th-6th\"/>\n",
      "\t\t\t<Value value=\"1st-4th\"/>\n",
      "\t\t\t<Value value=\"Preschool\"/>\n",
      "\t\t</DataField>\n",
      "\t\t<DataField name=\"marital_status\" optype=\"categorical\" dataType=\"string\">\n",
      "\t\t\t<Value value=\"Married-civ-spouse\"/>\n",
      "\t\t\t<Value value=\"Never-married\"/>\n",
      "\t\t\t<Value value=\"Divorced\"/>\n",
      "\t\t\t<Value value=\"Separated\"/>\n",
      "\t\t\t<Value value=\"Widowed\"/>\n",
      "\t\t\t<Value value=\"Married-spouse-absent\"/>\n",
      "\t\t\t<Value value=\"Married-AF-spouse\"/>\n",
      "\t\t</DataField>\n",
      "\t\t<DataField name=\"occupation\" optype=\"categorical\" dataType=\"string\">\n",
      "\t\t\t<Value value=\"Craft-repair\"/>\n",
      "\t\t\t<Value value=\"Prof-specialty\"/>\n",
      "\t\t\t<Value value=\"Exec-managerial\"/>\n",
      "\t\t\t<Value value=\"Adm-clerical\"/>\n",
      "\t\t\t<Value value=\"Sales\"/>\n",
      "\t\t\t<Value value=\"Other-service\"/>\n",
      "\t\t\t<Value value=\"Machine-op-inspct\"/>\n",
      "\t\t\t<Value value=\"Transport-moving\"/>\n",
      "\t\t\t<Value value=\"Handlers-cleaners\"/>\n",
      "\t\t\t<Value value=\"Farming-fishing\"/>\n",
      "\t\t\t<Value value=\"Tech-support\"/>\n",
      "\t\t\t<Value value=\"Protective-serv\"/>\n",
      "\t\t\t<Value value=\"Priv-house-serv\"/>\n",
      "\t\t\t<Value value=\"Armed-Forces\"/>\n",
      "\t\t</DataField>\n",
      "\t\t<DataField name=\"native_country\" optype=\"categorical\" dataType=\"string\">\n",
      "\t\t\t<Value value=\"United-States\"/>\n",
      "\t\t\t<Value value=\"Mexico\"/>\n",
      "\t\t\t<Value value=\"Philippines\"/>\n",
      "\t\t\t<Value value=\"Germany\"/>\n",
      "\t\t\t<Value value=\"Puerto-Rico\"/>\n",
      "\t\t\t<Value value=\"Canada\"/>\n",
      "\t\t\t<Value value=\"India\"/>\n",
      "\t\t\t<Value value=\"El-Salvador\"/>\n",
      "\t\t\t<Value value=\"Cuba\"/>\n",
      "\t\t\t<Value value=\"England\"/>\n",
      "\t\t\t<Value value=\"China\"/>\n",
      "\t\t\t<Value value=\"Jamaica\"/>\n",
      "\t\t\t<Value value=\"South\"/>\n",
      "\t\t\t<Value value=\"Italy\"/>\n",
      "\t\t\t<Value value=\"Dominican-Republic\"/>\n",
      "\t\t\t<Value value=\"Japan\"/>\n",
      "\t\t\t<Value value=\"Guatemala\"/>\n",
      "\t\t\t<Value value=\"Vietnam\"/>\n",
      "\t\t\t<Value value=\"Columbia\"/>\n",
      "\t\t\t<Value value=\"Poland\"/>\n",
      "\t\t\t<Value value=\"Haiti\"/>\n",
      "\t\t\t<Value value=\"Portugal\"/>\n",
      "\t\t\t<Value value=\"Iran\"/>\n",
      "\t\t\t<Value value=\"Taiwan\"/>\n",
      "\t\t\t<Value value=\"Greece\"/>\n",
      "\t\t\t<Value value=\"Nicaragua\"/>\n",
      "\t\t\t<Value value=\"Peru\"/>\n",
      "\t\t\t<Value value=\"Ecuador\"/>\n",
      "\t\t\t<Value value=\"Ireland\"/>\n",
      "\t\t\t<Value value=\"France\"/>\n",
      "\t\t\t<Value value=\"Thailand\"/>\n",
      "\t\t\t<Value value=\"Hong\"/>\n",
      "\t\t\t<Value value=\"Trinadad&amp;Tobago\"/>\n",
      "\t\t\t<Value value=\"Cambodia\"/>\n",
      "\t\t\t<Value value=\"Yugoslavia\"/>\n",
      "\t\t\t<Value value=\"Outlying-US(Guam-USVI-etc)\"/>\n",
      "\t\t\t<Value value=\"Laos\"/>\n",
      "\t\t\t<Value value=\"Scotland\"/>\n",
      "\t\t\t<Value value=\"Honduras\"/>\n",
      "\t\t\t<Value value=\"Hungary\"/>\n",
      "\t\t\t<Value value=\"Holand-Netherlands\"/>\n",
      "\t\t</DataField>\n",
      "\t\t<DataField name=\"age\" optype=\"continuous\" dataType=\"integer\"/>\n",
      "\t\t<DataField name=\"education_num\" optype=\"continuous\" dataType=\"integer\"/>\n",
      "\t\t<DataField name=\"capital_gain\" optype=\"continuous\" dataType=\"integer\"/>\n",
      "\t\t<DataField name=\"capital_loss\" optype=\"continuous\" dataType=\"integer\"/>\n",
      "\t\t<DataField name=\"hours_per_week\" optype=\"continuous\" dataType=\"integer\"/>\n",
      "\t</DataDictionary>\n",
      "\t<TreeModel functionName=\"classification\" splitCharacteristic=\"binarySplit\">\n",
      "\t\t<MiningSchema>\n",
      "\t\t\t<MiningField name=\"income\" usageType=\"target\"/>\n",
      "\t\t\t<MiningField name=\"education\"/>\n",
      "\t\t\t<MiningField name=\"marital_status\"/>\n",
      "\t\t\t<MiningField name=\"occupation\"/>\n",
      "\t\t\t<MiningField name=\"native_country\"/>\n",
      "\t\t\t<MiningField name=\"age\"/>\n",
      "\t\t\t<MiningField name=\"education_num\"/>\n",
      "\t\t\t<MiningField name=\"capital_gain\"/>\n",
      "\t\t\t<MiningField name=\"capital_loss\"/>\n",
      "\t\t\t<MiningField name=\"hours_per_week\"/>\n",
      "\t\t</MiningSchema>\n",
      "\t\t<Output>\n",
      "\t\t\t<OutputField name=\"probability_&lt;=50K\" dataType=\"double\" feature=\"probability\" value=\"&lt;=50K\"/>\n",
      "\t\t\t<OutputField name=\"probability_&gt;50K\" dataType=\"double\" feature=\"probability\" value=\"&gt;50K\"/>\n",
      "\t\t</Output>\n",
      "\t\t<Node score=\"&lt;=50K\" recordCount=\"45222.0\">\n",
      "\t\t\t<True/>\n",
      "\t\t\t<ScoreDistribution value=\"&lt;=50K\" recordCount=\"34014.0\"/>\n",
      "\t\t\t<ScoreDistribution value=\"&gt;50K\" recordCount=\"11208.0\"/>\n",
      "\t\t\t<Node score=\"&lt;=50K\" recordCount=\"24167.0\">\n",
      "\t\t\t\t<SimplePredicate field=\"marital_status\" operator=\"notEqual\" value=\"Married-civ-spouse\"/>\n",
      "\t\t\t\t<ScoreDistribution value=\"&lt;=50K\" recordCount=\"22523.0\"/>\n",
      "\t\t\t\t<ScoreDistribution value=\"&gt;50K\" recordCount=\"1644.0\"/>\n",
      "\t\t\t\t<Node score=\"&lt;=50K\" recordCount=\"23744.0\">\n",
      "\t\t\t\t\t<SimplePredicate field=\"capital_gain\" operator=\"lessOrEqual\" value=\"7688\"/>\n",
      "\t\t\t\t\t<ScoreDistribution value=\"&lt;=50K\" recordCount=\"22516.0\"/>\n",
      "\t\t\t\t\t<ScoreDistribution value=\"&gt;50K\" recordCount=\"1228.0\"/>\n",
      "\t\t\t\t\t<Node score=\"&lt;=50K\" recordCount=\"22397.0\">\n",
      "\t\t\t\t\t\t<SimplePredicate field=\"education_num\" operator=\"lessOrEqual\" value=\"13\"/>\n",
      "\t\t\t\t\t\t<ScoreDistribution value=\"&lt;=50K\" recordCount=\"21525.0\"/>\n",
      "\t\t\t\t\t\t<ScoreDistribution value=\"&gt;50K\" recordCount=\"872.0\"/>\n",
      "\t\t\t\t\t\t<Node score=\"&lt;=50K\" recordCount=\"17985.0\">\n",
      "\t\t\t\t\t\t\t<SimplePredicate field=\"hours_per_week\" operator=\"lessOrEqual\" value=\"42\"/>\n",
      "\t\t\t\t\t\t\t<ScoreDistribution value=\"&lt;=50K\" recordCount=\"17578.0\"/>\n",
      "\t\t\t\t\t\t\t<ScoreDistribution value=\"&gt;50K\" recordCount=\"407.0\"/>\n",
      "\t\t\t\t\t\t\t<Node score=\"&lt;=50K\" recordCount=\"17823.0\">\n",
      "\t\t\t\t\t\t\t\t<SimplePredicate field=\"capital_loss\" operator=\"lessOrEqual\" value=\"1876\"/>\n",
      "\t\t\t\t\t\t\t\t<ScoreDistribution value=\"&lt;=50K\" recordCount=\"17451.0\"/>\n",
      "\t\t\t\t\t\t\t\t<ScoreDistribution value=\"&gt;50K\" recordCount=\"372.0\"/>\n",
      "\t\t\t\t\t\t\t</Node>\n",
      "\t\t\t\t\t\t\t<Node score=\"&lt;=50K\" recordCount=\"162.0\">\n",
      "\t\t\t\t\t\t\t\t<SimplePredicate field=\"capital_loss\" operator=\"greaterThan\" value=\"1876\"/>\n",
      "\t\t\t\t\t\t\t\t<ScoreDistribution value=\"&lt;=50K\" recordCount=\"127.0\"/>\n",
      "\t\t\t\t\t\t\t\t<ScoreDistribution value=\"&gt;50K\" recordCount=\"35.0\"/>\n",
      "\t\t\t\t\t\t\t</Node>\n",
      "\t\t\t\t\t\t</Node>\n",
      "\t\t\t\t\t\t<Node score=\"&lt;=50K\" recordCount=\"4412.0\">\n",
      "\t\t\t\t\t\t\t<SimplePredicate field=\"hours_per_week\" operator=\"greaterThan\" value=\"42\"/>\n",
      "\t\t\t\t\t\t\t<ScoreDistribution value=\"&lt;=50K\" recordCount=\"3947.0\"/>\n",
      "\t\t\t\t\t\t\t<ScoreDistribution value=\"&gt;50K\" recordCount=\"465.0\"/>\n",
      "\t\t\t\t\t\t\t<Node score=\"&lt;=50K\" recordCount=\"3327.0\">\n",
      "\t\t\t\t\t\t\t\t<SimplePredicate field=\"education\" operator=\"notEqual\" value=\"Bachelors\"/>\n",
      "\t\t\t\t\t\t\t\t<ScoreDistribution value=\"&lt;=50K\" recordCount=\"3098.0\"/>\n",
      "\t\t\t\t\t\t\t\t<ScoreDistribution value=\"&gt;50K\" recordCount=\"229.0\"/>\n",
      "\t\t\t\t\t\t\t</Node>\n",
      "\t\t\t\t\t\t\t<Node score=\"&lt;=50K\" recordCount=\"1085.0\">\n",
      "\t\t\t\t\t\t\t\t<SimplePredicate field=\"education\" operator=\"equal\" value=\"Bachelors\"/>\n",
      "\t\t\t\t\t\t\t\t<ScoreDistribution value=\"&lt;=50K\" recordCount=\"849.0\"/>\n",
      "\t\t\t\t\t\t\t\t<ScoreDistribution value=\"&gt;50K\" recordCount=\"236.0\"/>\n",
      "\t\t\t\t\t\t\t</Node>\n",
      "\t\t\t\t\t\t</Node>\n",
      "\t\t\t\t\t</Node>\n",
      "\t\t\t\t\t<Node score=\"&lt;=50K\" recordCount=\"1347.0\">\n",
      "\t\t\t\t\t\t<SimplePredicate field=\"education_num\" operator=\"greaterThan\" value=\"13\"/>\n",
      "\t\t\t\t\t\t<ScoreDistribution value=\"&lt;=50K\" recordCount=\"991.0\"/>\n",
      "\t\t\t\t\t\t<ScoreDistribution value=\"&gt;50K\" recordCount=\"356.0\"/>\n",
      "\t\t\t\t\t\t<Node score=\"&lt;=50K\" recordCount=\"813.0\">\n",
      "\t\t\t\t\t\t\t<SimplePredicate field=\"hours_per_week\" operator=\"lessOrEqual\" value=\"43\"/>\n",
      "\t\t\t\t\t\t\t<ScoreDistribution value=\"&lt;=50K\" recordCount=\"667.0\"/>\n",
      "\t\t\t\t\t\t\t<ScoreDistribution value=\"&gt;50K\" recordCount=\"146.0\"/>\n",
      "\t\t\t\t\t\t\t<Node score=\"&lt;=50K\" recordCount=\"210.0\">\n",
      "\t\t\t\t\t\t\t\t<SimplePredicate field=\"age\" operator=\"lessOrEqual\" value=\"32\"/>\n",
      "\t\t\t\t\t\t\t\t<ScoreDistribution value=\"&lt;=50K\" recordCount=\"200.0\"/>\n",
      "\t\t\t\t\t\t\t\t<ScoreDistribution value=\"&gt;50K\" recordCount=\"10.0\"/>\n",
      "\t\t\t\t\t\t\t</Node>\n",
      "\t\t\t\t\t\t\t<Node score=\"&lt;=50K\" recordCount=\"603.0\">\n",
      "\t\t\t\t\t\t\t\t<SimplePredicate field=\"age\" operator=\"greaterThan\" value=\"32\"/>\n",
      "\t\t\t\t\t\t\t\t<ScoreDistribution value=\"&lt;=50K\" recordCount=\"467.0\"/>\n",
      "\t\t\t\t\t\t\t\t<ScoreDistribution value=\"&gt;50K\" recordCount=\"136.0\"/>\n",
      "\t\t\t\t\t\t\t</Node>\n",
      "\t\t\t\t\t\t</Node>\n",
      "\t\t\t\t\t\t<Node score=\"&lt;=50K\" recordCount=\"534.0\">\n",
      "\t\t\t\t\t\t\t<SimplePredicate field=\"hours_per_week\" operator=\"greaterThan\" value=\"43\"/>\n",
      "\t\t\t\t\t\t\t<ScoreDistribution value=\"&lt;=50K\" recordCount=\"324.0\"/>\n",
      "\t\t\t\t\t\t\t<ScoreDistribution value=\"&gt;50K\" recordCount=\"210.0\"/>\n",
      "\t\t\t\t\t\t\t<Node score=\"&lt;=50K\" recordCount=\"133.0\">\n",
      "\t\t\t\t\t\t\t\t<SimplePredicate field=\"age\" operator=\"lessOrEqual\" value=\"32\"/>\n",
      "\t\t\t\t\t\t\t\t<ScoreDistribution value=\"&lt;=50K\" recordCount=\"110.0\"/>\n",
      "\t\t\t\t\t\t\t\t<ScoreDistribution value=\"&gt;50K\" recordCount=\"23.0\"/>\n",
      "\t\t\t\t\t\t\t</Node>\n",
      "\t\t\t\t\t\t\t<Node score=\"&lt;=50K\" recordCount=\"401.0\">\n",
      "\t\t\t\t\t\t\t\t<SimplePredicate field=\"age\" operator=\"greaterThan\" value=\"32\"/>\n",
      "\t\t\t\t\t\t\t\t<ScoreDistribution value=\"&lt;=50K\" recordCount=\"214.0\"/>\n",
      "\t\t\t\t\t\t\t\t<ScoreDistribution value=\"&gt;50K\" recordCount=\"187.0\"/>\n",
      "\t\t\t\t\t\t\t</Node>\n",
      "\t\t\t\t\t\t</Node>\n",
      "\t\t\t\t\t</Node>\n",
      "\t\t\t\t</Node>\n",
      "\t\t\t\t<Node score=\"&gt;50K\" recordCount=\"423.0\">\n",
      "\t\t\t\t\t<SimplePredicate field=\"capital_gain\" operator=\"greaterThan\" value=\"7688\"/>\n",
      "\t\t\t\t\t<ScoreDistribution value=\"&lt;=50K\" recordCount=\"7.0\"/>\n",
      "\t\t\t\t\t<ScoreDistribution value=\"&gt;50K\" recordCount=\"416.0\"/>\n",
      "\t\t\t\t\t<Node score=\"&lt;=50K\" recordCount=\"4.0\">\n",
      "\t\t\t\t\t\t<SimplePredicate field=\"age\" operator=\"lessOrEqual\" value=\"20\"/>\n",
      "\t\t\t\t\t\t<ScoreDistribution value=\"&lt;=50K\" recordCount=\"3.0\"/>\n",
      "\t\t\t\t\t\t<ScoreDistribution value=\"&gt;50K\" recordCount=\"1.0\"/>\n",
      "\t\t\t\t\t\t<Node score=\"&lt;=50K\" recordCount=\"3.0\">\n",
      "\t\t\t\t\t\t\t<SimplePredicate field=\"education\" operator=\"notEqual\" value=\"Some-college\"/>\n",
      "\t\t\t\t\t\t\t<ScoreDistribution value=\"&lt;=50K\" recordCount=\"3.0\"/>\n",
      "\t\t\t\t\t\t</Node>\n",
      "\t\t\t\t\t\t<Node score=\"&gt;50K\" recordCount=\"1.0\">\n",
      "\t\t\t\t\t\t\t<SimplePredicate field=\"education\" operator=\"equal\" value=\"Some-college\"/>\n",
      "\t\t\t\t\t\t\t<ScoreDistribution value=\"&gt;50K\" recordCount=\"1.0\"/>\n",
      "\t\t\t\t\t\t</Node>\n",
      "\t\t\t\t\t</Node>\n",
      "\t\t\t\t\t<Node score=\"&gt;50K\" recordCount=\"419.0\">\n",
      "\t\t\t\t\t\t<SimplePredicate field=\"age\" operator=\"greaterThan\" value=\"20\"/>\n",
      "\t\t\t\t\t\t<ScoreDistribution value=\"&lt;=50K\" recordCount=\"4.0\"/>\n",
      "\t\t\t\t\t\t<ScoreDistribution value=\"&gt;50K\" recordCount=\"415.0\"/>\n",
      "\t\t\t\t\t\t<Node score=\"&gt;50K\" recordCount=\"4.0\">\n",
      "\t\t\t\t\t\t\t<SimplePredicate field=\"occupation\" operator=\"equal\" value=\"Protective-serv\"/>\n",
      "\t\t\t\t\t\t\t<ScoreDistribution value=\"&lt;=50K\" recordCount=\"1.0\"/>\n",
      "\t\t\t\t\t\t\t<ScoreDistribution value=\"&gt;50K\" recordCount=\"3.0\"/>\n",
      "\t\t\t\t\t\t\t<Node score=\"&gt;50K\" recordCount=\"3.0\">\n",
      "\t\t\t\t\t\t\t\t<SimplePredicate field=\"age\" operator=\"lessOrEqual\" value=\"36\"/>\n",
      "\t\t\t\t\t\t\t\t<ScoreDistribution value=\"&gt;50K\" recordCount=\"3.0\"/>\n",
      "\t\t\t\t\t\t\t</Node>\n",
      "\t\t\t\t\t\t\t<Node score=\"&lt;=50K\" recordCount=\"1.0\">\n",
      "\t\t\t\t\t\t\t\t<SimplePredicate field=\"age\" operator=\"greaterThan\" value=\"36\"/>\n",
      "\t\t\t\t\t\t\t\t<ScoreDistribution value=\"&lt;=50K\" recordCount=\"1.0\"/>\n",
      "\t\t\t\t\t\t\t</Node>\n",
      "\t\t\t\t\t\t</Node>\n",
      "\t\t\t\t\t\t<Node score=\"&gt;50K\" recordCount=\"415.0\">\n",
      "\t\t\t\t\t\t\t<SimplePredicate field=\"occupation\" operator=\"notEqual\" value=\"Protective-serv\"/>\n",
      "\t\t\t\t\t\t\t<ScoreDistribution value=\"&lt;=50K\" recordCount=\"3.0\"/>\n",
      "\t\t\t\t\t\t\t<ScoreDistribution value=\"&gt;50K\" recordCount=\"412.0\"/>\n",
      "\t\t\t\t\t\t\t<Node score=\"&gt;50K\" recordCount=\"344.0\">\n",
      "\t\t\t\t\t\t\t\t<SimplePredicate field=\"age\" operator=\"lessOrEqual\" value=\"54\"/>\n",
      "\t\t\t\t\t\t\t\t<ScoreDistribution value=\"&gt;50K\" recordCount=\"344.0\"/>\n",
      "\t\t\t\t\t\t\t</Node>\n",
      "\t\t\t\t\t\t\t<Node score=\"&gt;50K\" recordCount=\"71.0\">\n",
      "\t\t\t\t\t\t\t\t<SimplePredicate field=\"age\" operator=\"greaterThan\" value=\"54\"/>\n",
      "\t\t\t\t\t\t\t\t<ScoreDistribution value=\"&lt;=50K\" recordCount=\"3.0\"/>\n",
      "\t\t\t\t\t\t\t\t<ScoreDistribution value=\"&gt;50K\" recordCount=\"68.0\"/>\n",
      "\t\t\t\t\t\t\t</Node>\n",
      "\t\t\t\t\t\t</Node>\n",
      "\t\t\t\t\t</Node>\n",
      "\t\t\t\t</Node>\n",
      "\t\t\t</Node>\n",
      "\t\t\t<Node score=\"&lt;=50K\" recordCount=\"21055.0\">\n",
      "\t\t\t\t<SimplePredicate field=\"marital_status\" operator=\"equal\" value=\"Married-civ-spouse\"/>\n",
      "\t\t\t\t<ScoreDistribution value=\"&lt;=50K\" recordCount=\"11491.0\"/>\n",
      "\t\t\t\t<ScoreDistribution value=\"&gt;50K\" recordCount=\"9564.0\"/>\n",
      "\t\t\t\t<Node score=\"&lt;=50K\" recordCount=\"14790.0\">\n",
      "\t\t\t\t\t<SimplePredicate field=\"education_num\" operator=\"lessOrEqual\" value=\"12\"/>\n",
      "\t\t\t\t\t<ScoreDistribution value=\"&lt;=50K\" recordCount=\"9782.0\"/>\n",
      "\t\t\t\t\t<ScoreDistribution value=\"&gt;50K\" recordCount=\"5008.0\"/>\n",
      "\t\t\t\t\t<Node score=\"&lt;=50K\" recordCount=\"13867.0\">\n",
      "\t\t\t\t\t\t<SimplePredicate field=\"capital_gain\" operator=\"lessOrEqual\" value=\"4064\"/>\n",
      "\t\t\t\t\t\t<ScoreDistribution value=\"&lt;=50K\" recordCount=\"9648.0\"/>\n",
      "\t\t\t\t\t\t<ScoreDistribution value=\"&gt;50K\" recordCount=\"4219.0\"/>\n",
      "\t\t\t\t\t\t<Node score=\"&lt;=50K\" recordCount=\"2272.0\">\n",
      "\t\t\t\t\t\t\t<SimplePredicate field=\"education_num\" operator=\"lessOrEqual\" value=\"8\"/>\n",
      "\t\t\t\t\t\t\t<ScoreDistribution value=\"&lt;=50K\" recordCount=\"2033.0\"/>\n",
      "\t\t\t\t\t\t\t<ScoreDistribution value=\"&gt;50K\" recordCount=\"239.0\"/>\n",
      "\t\t\t\t\t\t\t<Node score=\"&lt;=50K\" recordCount=\"1712.0\">\n",
      "\t\t\t\t\t\t\t\t<SimplePredicate field=\"hours_per_week\" operator=\"lessOrEqual\" value=\"43\"/>\n",
      "\t\t\t\t\t\t\t\t<ScoreDistribution value=\"&lt;=50K\" recordCount=\"1576.0\"/>\n",
      "\t\t\t\t\t\t\t\t<ScoreDistribution value=\"&gt;50K\" recordCount=\"136.0\"/>\n",
      "\t\t\t\t\t\t\t</Node>\n",
      "\t\t\t\t\t\t\t<Node score=\"&lt;=50K\" recordCount=\"560.0\">\n",
      "\t\t\t\t\t\t\t\t<SimplePredicate field=\"hours_per_week\" operator=\"greaterThan\" value=\"43\"/>\n",
      "\t\t\t\t\t\t\t\t<ScoreDistribution value=\"&lt;=50K\" recordCount=\"457.0\"/>\n",
      "\t\t\t\t\t\t\t\t<ScoreDistribution value=\"&gt;50K\" recordCount=\"103.0\"/>\n",
      "\t\t\t\t\t\t\t</Node>\n",
      "\t\t\t\t\t\t</Node>\n",
      "\t\t\t\t\t\t<Node score=\"&lt;=50K\" recordCount=\"11595.0\">\n",
      "\t\t\t\t\t\t\t<SimplePredicate field=\"education_num\" operator=\"greaterThan\" value=\"8\"/>\n",
      "\t\t\t\t\t\t\t<ScoreDistribution value=\"&lt;=50K\" recordCount=\"7615.0\"/>\n",
      "\t\t\t\t\t\t\t<ScoreDistribution value=\"&gt;50K\" recordCount=\"3980.0\"/>\n",
      "\t\t\t\t\t\t\t<Node score=\"&lt;=50K\" recordCount=\"3108.0\">\n",
      "\t\t\t\t\t\t\t\t<SimplePredicate field=\"age\" operator=\"lessOrEqual\" value=\"33\"/>\n",
      "\t\t\t\t\t\t\t\t<ScoreDistribution value=\"&lt;=50K\" recordCount=\"2461.0\"/>\n",
      "\t\t\t\t\t\t\t\t<ScoreDistribution value=\"&gt;50K\" recordCount=\"647.0\"/>\n",
      "\t\t\t\t\t\t\t</Node>\n",
      "\t\t\t\t\t\t\t<Node score=\"&lt;=50K\" recordCount=\"8487.0\">\n",
      "\t\t\t\t\t\t\t\t<SimplePredicate field=\"age\" operator=\"greaterThan\" value=\"33\"/>\n",
      "\t\t\t\t\t\t\t\t<ScoreDistribution value=\"&lt;=50K\" recordCount=\"5154.0\"/>\n",
      "\t\t\t\t\t\t\t\t<ScoreDistribution value=\"&gt;50K\" recordCount=\"3333.0\"/>\n",
      "\t\t\t\t\t\t\t</Node>\n",
      "\t\t\t\t\t\t</Node>\n",
      "\t\t\t\t\t</Node>\n",
      "\t\t\t\t\t<Node score=\"&gt;50K\" recordCount=\"923.0\">\n",
      "\t\t\t\t\t\t<SimplePredicate field=\"capital_gain\" operator=\"greaterThan\" value=\"4064\"/>\n",
      "\t\t\t\t\t\t<ScoreDistribution value=\"&lt;=50K\" recordCount=\"134.0\"/>\n",
      "\t\t\t\t\t\t<ScoreDistribution value=\"&gt;50K\" recordCount=\"789.0\"/>\n",
      "\t\t\t\t\t\t<Node score=\"&gt;50K\" recordCount=\"694.0\">\n",
      "\t\t\t\t\t\t\t<SimplePredicate field=\"capital_gain\" operator=\"lessOrEqual\" value=\"7688\"/>\n",
      "\t\t\t\t\t\t\t<ScoreDistribution value=\"&lt;=50K\" recordCount=\"124.0\"/>\n",
      "\t\t\t\t\t\t\t<ScoreDistribution value=\"&gt;50K\" recordCount=\"570.0\"/>\n",
      "\t\t\t\t\t\t\t<Node score=\"&lt;=50K\" recordCount=\"24.0\">\n",
      "\t\t\t\t\t\t\t\t<SimplePredicate field=\"hours_per_week\" operator=\"lessOrEqual\" value=\"30\"/>\n",
      "\t\t\t\t\t\t\t\t<ScoreDistribution value=\"&lt;=50K\" recordCount=\"14.0\"/>\n",
      "\t\t\t\t\t\t\t\t<ScoreDistribution value=\"&gt;50K\" recordCount=\"10.0\"/>\n",
      "\t\t\t\t\t\t\t</Node>\n",
      "\t\t\t\t\t\t\t<Node score=\"&gt;50K\" recordCount=\"670.0\">\n",
      "\t\t\t\t\t\t\t\t<SimplePredicate field=\"hours_per_week\" operator=\"greaterThan\" value=\"30\"/>\n",
      "\t\t\t\t\t\t\t\t<ScoreDistribution value=\"&lt;=50K\" recordCount=\"110.0\"/>\n",
      "\t\t\t\t\t\t\t\t<ScoreDistribution value=\"&gt;50K\" recordCount=\"560.0\"/>\n",
      "\t\t\t\t\t\t\t</Node>\n",
      "\t\t\t\t\t\t</Node>\n",
      "\t\t\t\t\t\t<Node score=\"&gt;50K\" recordCount=\"229.0\">\n",
      "\t\t\t\t\t\t\t<SimplePredicate field=\"capital_gain\" operator=\"greaterThan\" value=\"7688\"/>\n",
      "\t\t\t\t\t\t\t<ScoreDistribution value=\"&lt;=50K\" recordCount=\"10.0\"/>\n",
      "\t\t\t\t\t\t\t<ScoreDistribution value=\"&gt;50K\" recordCount=\"219.0\"/>\n",
      "\t\t\t\t\t\t\t<Node score=\"&lt;=50K\" recordCount=\"3.0\">\n",
      "\t\t\t\t\t\t\t\t<SimplePredicate field=\"education_num\" operator=\"lessOrEqual\" value=\"4\"/>\n",
      "\t\t\t\t\t\t\t\t<ScoreDistribution value=\"&lt;=50K\" recordCount=\"2.0\"/>\n",
      "\t\t\t\t\t\t\t\t<ScoreDistribution value=\"&gt;50K\" recordCount=\"1.0\"/>\n",
      "\t\t\t\t\t\t\t</Node>\n",
      "\t\t\t\t\t\t\t<Node score=\"&gt;50K\" recordCount=\"226.0\">\n",
      "\t\t\t\t\t\t\t\t<SimplePredicate field=\"education_num\" operator=\"greaterThan\" value=\"4\"/>\n",
      "\t\t\t\t\t\t\t\t<ScoreDistribution value=\"&lt;=50K\" recordCount=\"8.0\"/>\n",
      "\t\t\t\t\t\t\t\t<ScoreDistribution value=\"&gt;50K\" recordCount=\"218.0\"/>\n",
      "\t\t\t\t\t\t\t</Node>\n",
      "\t\t\t\t\t\t</Node>\n",
      "\t\t\t\t\t</Node>\n",
      "\t\t\t\t</Node>\n",
      "\t\t\t\t<Node score=\"&gt;50K\" recordCount=\"6265.0\">\n",
      "\t\t\t\t\t<SimplePredicate field=\"education_num\" operator=\"greaterThan\" value=\"12\"/>\n",
      "\t\t\t\t\t<ScoreDistribution value=\"&lt;=50K\" recordCount=\"1709.0\"/>\n",
      "\t\t\t\t\t<ScoreDistribution value=\"&gt;50K\" recordCount=\"4556.0\"/>\n",
      "\t\t\t\t\t<Node score=\"&gt;50K\" recordCount=\"5261.0\">\n",
      "\t\t\t\t\t\t<SimplePredicate field=\"capital_gain\" operator=\"lessOrEqual\" value=\"4064\"/>\n",
      "\t\t\t\t\t\t<ScoreDistribution value=\"&lt;=50K\" recordCount=\"1671.0\"/>\n",
      "\t\t\t\t\t\t<ScoreDistribution value=\"&gt;50K\" recordCount=\"3590.0\"/>\n",
      "\t\t\t\t\t\t<Node score=\"&gt;50K\" recordCount=\"4730.0\">\n",
      "\t\t\t\t\t\t\t<SimplePredicate field=\"capital_loss\" operator=\"lessOrEqual\" value=\"1876\"/>\n",
      "\t\t\t\t\t\t\t<ScoreDistribution value=\"&lt;=50K\" recordCount=\"1654.0\"/>\n",
      "\t\t\t\t\t\t\t<ScoreDistribution value=\"&gt;50K\" recordCount=\"3076.0\"/>\n",
      "\t\t\t\t\t\t\t<Node score=\"&lt;=50K\" recordCount=\"362.0\">\n",
      "\t\t\t\t\t\t\t\t<SimplePredicate field=\"hours_per_week\" operator=\"lessOrEqual\" value=\"30\"/>\n",
      "\t\t\t\t\t\t\t\t<ScoreDistribution value=\"&lt;=50K\" recordCount=\"220.0\"/>\n",
      "\t\t\t\t\t\t\t\t<ScoreDistribution value=\"&gt;50K\" recordCount=\"142.0\"/>\n",
      "\t\t\t\t\t\t\t</Node>\n",
      "\t\t\t\t\t\t\t<Node score=\"&gt;50K\" recordCount=\"4368.0\">\n",
      "\t\t\t\t\t\t\t\t<SimplePredicate field=\"hours_per_week\" operator=\"greaterThan\" value=\"30\"/>\n",
      "\t\t\t\t\t\t\t\t<ScoreDistribution value=\"&lt;=50K\" recordCount=\"1434.0\"/>\n",
      "\t\t\t\t\t\t\t\t<ScoreDistribution value=\"&gt;50K\" recordCount=\"2934.0\"/>\n",
      "\t\t\t\t\t\t\t</Node>\n",
      "\t\t\t\t\t\t</Node>\n",
      "\t\t\t\t\t\t<Node score=\"&gt;50K\" recordCount=\"531.0\">\n",
      "\t\t\t\t\t\t\t<SimplePredicate field=\"capital_loss\" operator=\"greaterThan\" value=\"1876\"/>\n",
      "\t\t\t\t\t\t\t<ScoreDistribution value=\"&lt;=50K\" recordCount=\"17.0\"/>\n",
      "\t\t\t\t\t\t\t<ScoreDistribution value=\"&gt;50K\" recordCount=\"514.0\"/>\n",
      "\t\t\t\t\t\t\t<Node score=\"&lt;=50K\" recordCount=\"2.0\">\n",
      "\t\t\t\t\t\t\t\t<SimplePredicate field=\"native_country\" operator=\"equal\" value=\"Iran\"/>\n",
      "\t\t\t\t\t\t\t\t<ScoreDistribution value=\"&lt;=50K\" recordCount=\"1.0\"/>\n",
      "\t\t\t\t\t\t\t\t<ScoreDistribution value=\"&gt;50K\" recordCount=\"1.0\"/>\n",
      "\t\t\t\t\t\t\t</Node>\n",
      "\t\t\t\t\t\t\t<Node score=\"&gt;50K\" recordCount=\"529.0\">\n",
      "\t\t\t\t\t\t\t\t<SimplePredicate field=\"native_country\" operator=\"notEqual\" value=\"Iran\"/>\n",
      "\t\t\t\t\t\t\t\t<ScoreDistribution value=\"&lt;=50K\" recordCount=\"16.0\"/>\n",
      "\t\t\t\t\t\t\t\t<ScoreDistribution value=\"&gt;50K\" recordCount=\"513.0\"/>\n",
      "\t\t\t\t\t\t\t</Node>\n",
      "\t\t\t\t\t\t</Node>\n",
      "\t\t\t\t\t</Node>\n",
      "\t\t\t\t\t<Node score=\"&gt;50K\" recordCount=\"1004.0\">\n",
      "\t\t\t\t\t\t<SimplePredicate field=\"capital_gain\" operator=\"greaterThan\" value=\"4064\"/>\n",
      "\t\t\t\t\t\t<ScoreDistribution value=\"&lt;=50K\" recordCount=\"38.0\"/>\n",
      "\t\t\t\t\t\t<ScoreDistribution value=\"&gt;50K\" recordCount=\"966.0\"/>\n",
      "\t\t\t\t\t\t<Node score=\"&gt;50K\" recordCount=\"459.0\">\n",
      "\t\t\t\t\t\t\t<SimplePredicate field=\"capital_gain\" operator=\"lessOrEqual\" value=\"7688\"/>\n",
      "\t\t\t\t\t\t\t<ScoreDistribution value=\"&lt;=50K\" recordCount=\"36.0\"/>\n",
      "\t\t\t\t\t\t\t<ScoreDistribution value=\"&gt;50K\" recordCount=\"423.0\"/>\n",
      "\t\t\t\t\t\t\t<Node score=\"&gt;50K\" recordCount=\"23.0\">\n",
      "\t\t\t\t\t\t\t\t<SimplePredicate field=\"hours_per_week\" operator=\"lessOrEqual\" value=\"34\"/>\n",
      "\t\t\t\t\t\t\t\t<ScoreDistribution value=\"&lt;=50K\" recordCount=\"8.0\"/>\n",
      "\t\t\t\t\t\t\t\t<ScoreDistribution value=\"&gt;50K\" recordCount=\"15.0\"/>\n",
      "\t\t\t\t\t\t\t</Node>\n",
      "\t\t\t\t\t\t\t<Node score=\"&gt;50K\" recordCount=\"436.0\">\n",
      "\t\t\t\t\t\t\t\t<SimplePredicate field=\"hours_per_week\" operator=\"greaterThan\" value=\"34\"/>\n",
      "\t\t\t\t\t\t\t\t<ScoreDistribution value=\"&lt;=50K\" recordCount=\"28.0\"/>\n",
      "\t\t\t\t\t\t\t\t<ScoreDistribution value=\"&gt;50K\" recordCount=\"408.0\"/>\n",
      "\t\t\t\t\t\t\t</Node>\n",
      "\t\t\t\t\t\t</Node>\n",
      "\t\t\t\t\t\t<Node score=\"&gt;50K\" recordCount=\"545.0\">\n",
      "\t\t\t\t\t\t\t<SimplePredicate field=\"capital_gain\" operator=\"greaterThan\" value=\"7688\"/>\n",
      "\t\t\t\t\t\t\t<ScoreDistribution value=\"&lt;=50K\" recordCount=\"2.0\"/>\n",
      "\t\t\t\t\t\t\t<ScoreDistribution value=\"&gt;50K\" recordCount=\"543.0\"/>\n",
      "\t\t\t\t\t\t\t<Node score=\"&gt;50K\" recordCount=\"6.0\">\n",
      "\t\t\t\t\t\t\t\t<SimplePredicate field=\"occupation\" operator=\"equal\" value=\"Farming-fishing\"/>\n",
      "\t\t\t\t\t\t\t\t<ScoreDistribution value=\"&lt;=50K\" recordCount=\"1.0\"/>\n",
      "\t\t\t\t\t\t\t\t<ScoreDistribution value=\"&gt;50K\" recordCount=\"5.0\"/>\n",
      "\t\t\t\t\t\t\t</Node>\n",
      "\t\t\t\t\t\t\t<Node score=\"&gt;50K\" recordCount=\"539.0\">\n",
      "\t\t\t\t\t\t\t\t<SimplePredicate field=\"occupation\" operator=\"notEqual\" value=\"Farming-fishing\"/>\n",
      "\t\t\t\t\t\t\t\t<ScoreDistribution value=\"&lt;=50K\" recordCount=\"1.0\"/>\n",
      "\t\t\t\t\t\t\t\t<ScoreDistribution value=\"&gt;50K\" recordCount=\"538.0\"/>\n",
      "\t\t\t\t\t\t\t</Node>\n",
      "\t\t\t\t\t\t</Node>\n",
      "\t\t\t\t\t</Node>\n",
      "\t\t\t\t</Node>\n",
      "\t\t\t</Node>\n",
      "\t\t</Node>\n",
      "\t</TreeModel>\n",
      "</PMML>\n",
      "\n"
     ]
    }
   ],
   "source": [
    "from jpmml import toPMMLBytes\n",
    "\n",
    "pmmlBytes = toPMMLBytes(sparkSession, data, pipelineModel)\n",
    "\n",
    "print(pmmlBytes.decode(\"utf-8\"))"
   ]
  },
  {
   "cell_type": "markdown",
   "metadata": {},
   "source": [
    "## Deployment Option 1:  Mutable Model Deployment"
   ]
  },
  {
   "cell_type": "markdown",
   "metadata": {},
   "source": [
    "### AWS:  Deploy New Model to Live, Running Model Server"
   ]
  },
  {
   "cell_type": "code",
   "execution_count": 24,
   "metadata": {
    "collapsed": false,
    "scrolled": true
   },
   "outputs": [
    {
     "name": "stdout",
     "output_type": "stream",
     "text": [
      "switched to context \"aws_k8s_predictions\".\r\n"
     ]
    }
   ],
   "source": [
    "!pipeline cluster switch aws_k8s_predictions"
   ]
  },
  {
   "cell_type": "code",
   "execution_count": 25,
   "metadata": {
    "collapsed": false,
    "scrolled": true
   },
   "outputs": [
    {
     "name": "stdout",
     "output_type": "stream",
     "text": [
      "Current Cluster:\n",
      "aws_k8s_predictions\n",
      "\n",
      "Services:\n",
      "NAME                    CLUSTER-IP     EXTERNAL-IP        PORT(S)           AGE\n",
      "prediction-codegen      10.0.109.240   a58baa034b267...   80/TCP            12d\n",
      "prediction-pmml         10.0.143.121   a49b9ff63b266...   80/TCP            12d\n",
      "prediction-tensorflow   10.0.173.76    ab0dc9953b31c...   80/TCP            11d\n",
      "turbine                 10.0.106.99    a3ee17de8b266...   80/TCP,8990/TCP   12d\n",
      "weavescope-app          10.0.244.168   a337893b4b266...   80/TCP            12d\n",
      "\n",
      "Replication Controller:\n",
      "NAME                    DESIRED   CURRENT   READY     AGE\n",
      "prediction-codegen      1         1         1         6d\n",
      "prediction-pmml         1         1         1         7d\n",
      "prediction-tensorflow   1         1         1         7d\n",
      "turbine                 1         1         1         12d\n",
      "weavescope-app          1         1         1         12d\n",
      "\n",
      "Pods:\n",
      "NAME                          READY     STATUS    RESTARTS   AGE\n",
      "prediction-codegen-ctxq5      1/1       Running   0          6d\n",
      "prediction-pmml-jzimh         1/1       Running   0          7d\n",
      "prediction-tensorflow-jxe6m   1/1       Running   0          7d\n",
      "turbine-g4j7q                 1/1       Running   0          12d\n",
      "weavescope-app-oh0mh          1/1       Running   0          12d\n",
      "weavescope-probe-jwdo4        1/1       Running   0          12d\n"
     ]
    }
   ],
   "source": [
    "!pipeline cluster view"
   ]
  },
  {
   "cell_type": "markdown",
   "metadata": {},
   "source": [
    "### [Kubernetes View of Prediction Cluster - AWS](http://kubernetes-aws.demo.pipeline.io/)"
   ]
  },
  {
   "cell_type": "code",
   "execution_count": 26,
   "metadata": {
    "collapsed": false,
    "scrolled": false
   },
   "outputs": [
    {
     "data": {
      "text/html": [
       "<iframe width=100% height=500px src=\"http://kubernetes-aws.demo.pipeline.io\">"
      ],
      "text/plain": [
       "<IPython.core.display.HTML object>"
      ]
     },
     "metadata": {},
     "output_type": "display_data"
    }
   ],
   "source": [
    "from IPython.display import display, HTML\n",
    "\n",
    "html = '<iframe width=100% height=500px src=\"http://kubernetes-aws.demo.pipeline.io\">'\n",
    "display(HTML(html))"
   ]
  },
  {
   "cell_type": "code",
   "execution_count": 27,
   "metadata": {
    "collapsed": false,
    "scrolled": false
   },
   "outputs": [
    {
     "name": "stdout",
     "output_type": "stream",
     "text": [
      "200\n"
     ]
    }
   ],
   "source": [
    "from urllib import request\n",
    "\n",
    "update_url = 'http://prediction-pmml-aws.demo.pipeline.io/update-pmml/census'\n",
    "\n",
    "update_headers = {}\n",
    "update_headers['Content-type'] = 'application/xml'\n",
    "\n",
    "req = request.Request(update_url, headers=update_headers, data=pmmlBytes)\n",
    "resp = request.urlopen(req)\n",
    "\n",
    "print(resp.status) # Should return Http Status 200 "
   ]
  },
  {
   "cell_type": "markdown",
   "metadata": {},
   "source": [
    "### GCP:  Deploy New Model to Live, Running Model Server"
   ]
  },
  {
   "cell_type": "code",
   "execution_count": 28,
   "metadata": {
    "collapsed": false,
    "scrolled": false
   },
   "outputs": [
    {
     "name": "stdout",
     "output_type": "stream",
     "text": [
      "switched to context \"gcp_k8s_predictions\".\r\n"
     ]
    }
   ],
   "source": [
    "!pipeline cluster switch gcp_k8s_predictions"
   ]
  },
  {
   "cell_type": "code",
   "execution_count": 29,
   "metadata": {
    "collapsed": false,
    "scrolled": true
   },
   "outputs": [
    {
     "name": "stdout",
     "output_type": "stream",
     "text": [
      "Current Cluster:\n",
      "gcp_k8s_predictions\n",
      "\n",
      "Services:\n",
      "NAME                 CLUSTER-IP       EXTERNAL-IP      PORT(S)           AGE\n",
      "prediction-codegen   10.179.246.129   104.198.6.242    80/TCP            12d\n",
      "prediction-pmml      10.179.241.148   104.196.229.56   80/TCP            12d\n",
      "turbine              10.179.253.175   104.198.108.42   80/TCP,8990/TCP   12d\n",
      "weavescope-app       10.179.245.124   104.196.226.2    80/TCP            12d\n",
      "\n",
      "Replication Controller:\n",
      "NAME                    DESIRED   CURRENT   READY     AGE\n",
      "prediction-codegen      1         1         1         6d\n",
      "prediction-pmml         1         1         1         7d\n",
      "prediction-tensorflow   1         1         1         7d\n",
      "turbine                 1         1         1         12d\n",
      "weavescope-app          1         1         1         12d\n",
      "\n",
      "Pods:\n",
      "NAME                          READY     STATUS    RESTARTS   AGE\n",
      "prediction-codegen-k114g      1/1       Running   0          6d\n",
      "prediction-pmml-uafkm         1/1       Running   0          7d\n",
      "prediction-tensorflow-nobq4   1/1       Running   0          7d\n",
      "turbine-u6588                 1/1       Running   0          12d\n",
      "weavescope-app-nrc6o          1/1       Running   0          12d\n",
      "weavescope-probe-5rogi        1/1       Running   0          12d\n"
     ]
    }
   ],
   "source": [
    "!pipeline cluster view"
   ]
  },
  {
   "cell_type": "markdown",
   "metadata": {},
   "source": [
    "### [Kubernetes View of Prediction Cluster - GCP](http://kubernetes-gcp.demo.pipeline.io/)"
   ]
  },
  {
   "cell_type": "code",
   "execution_count": 30,
   "metadata": {
    "collapsed": false,
    "scrolled": false
   },
   "outputs": [
    {
     "data": {
      "text/html": [
       "<iframe width=100% height=500px src=\"http://kubernetes-gcp.demo.pipeline.io\">"
      ],
      "text/plain": [
       "<IPython.core.display.HTML object>"
      ]
     },
     "metadata": {},
     "output_type": "display_data"
    }
   ],
   "source": [
    "from IPython.display import display, HTML\n",
    "\n",
    "html = '<iframe width=100% height=500px src=\"http://kubernetes-gcp.demo.pipeline.io\">'\n",
    "display(HTML(html))"
   ]
  },
  {
   "cell_type": "code",
   "execution_count": 31,
   "metadata": {
    "collapsed": false,
    "scrolled": false
   },
   "outputs": [
    {
     "name": "stdout",
     "output_type": "stream",
     "text": [
      "200\n"
     ]
    }
   ],
   "source": [
    "from urllib import request\n",
    "\n",
    "update_url = 'http://prediction-pmml-gcp.demo.pipeline.io/update-pmml/census'\n",
    "\n",
    "update_headers = {}\n",
    "update_headers['Content-type'] = 'application/xml'\n",
    "\n",
    "req = request.Request(update_url, headers=update_headers, data=pmmlBytes)\n",
    "resp = request.urlopen(req)\n",
    "\n",
    "print(resp.status) # Should return Http Status 200 "
   ]
  },
  {
   "cell_type": "markdown",
   "metadata": {},
   "source": [
    "## Predict on New Data"
   ]
  },
  {
   "cell_type": "markdown",
   "metadata": {},
   "source": [
    "### AWS"
   ]
  },
  {
   "cell_type": "code",
   "execution_count": 32,
   "metadata": {
    "collapsed": false,
    "scrolled": false
   },
   "outputs": [
    {
     "name": "stdout",
     "output_type": "stream",
     "text": [
      "b'{\"results\":[[{\\'income\\': \\'NodeScoreDistribution{result=<=50K, probability_entries=[<=50K=0.9791280929136509, >50K=0.0208719070863491], entityId=6, confidence_entries=[]}\\'}]]'\n"
     ]
    }
   ],
   "source": [
    "from urllib import request\n",
    "\n",
    "evaluate_url = 'http://prediction-pmml-aws.demo.pipeline.io/evaluate-pmml/census'\n",
    "\n",
    "evaluate_headers = {}\n",
    "evaluate_headers['Content-type'] = 'application/json'\n",
    "input_params = '{\"age\":39,\"workclass\":\"State-gov\",\"education\":\"Bachelors\",\"education_num\":13,\"marital_status\":\"Never-married\",\"occupation\":\"Adm-clerical\",\"relationship\":\"Not-in-family\",\"race\":\"White\",\"sex\":\"Male\",\"capital_gain\":2174,\"capital_loss\":0,\"hours_per_week\":40,\"native_country\":\"United-States\"}' \n",
    "encoded_input_params = input_params.encode('utf-8')\n",
    "\n",
    "req = request.Request(evaluate_url, headers=evaluate_headers, data=encoded_input_params)\n",
    "resp = request.urlopen(req)\n",
    "\n",
    "print(resp.read()) # Should return valid classification with probabilities"
   ]
  },
  {
   "cell_type": "markdown",
   "metadata": {},
   "source": [
    "### GCP"
   ]
  },
  {
   "cell_type": "code",
   "execution_count": 33,
   "metadata": {
    "collapsed": false,
    "scrolled": false
   },
   "outputs": [
    {
     "name": "stdout",
     "output_type": "stream",
     "text": [
      "b'{\"results\":[[{\\'income\\': \\'NodeScoreDistribution{result=<=50K, probability_entries=[<=50K=0.9791280929136509, >50K=0.0208719070863491], entityId=6, confidence_entries=[]}\\'}]]'\n"
     ]
    }
   ],
   "source": [
    "from urllib import request\n",
    "import json\n",
    "\n",
    "evaluate_url = 'http://prediction-pmml-gcp.demo.pipeline.io/evaluate-pmml/census'\n",
    "\n",
    "evaluate_headers = {}\n",
    "evaluate_headers['Content-type'] = 'application/json'\n",
    "input_params = '{\"age\":39,\"workclass\":\"State-gov\",\"education\":\"Bachelors\",\"education_num\":13,\"marital_status\":\"Never-married\",\"occupation\":\"Adm-clerical\",\"relationship\":\"Not-in-family\",\"race\":\"White\",\"sex\":\"Male\",\"capital_gain\":2174,\"capital_loss\":0,\"hours_per_week\":40,\"native_country\":\"United-States\"}' \n",
    "encoded_input_params = input_params.encode('utf-8')\n",
    "\n",
    "req = request.Request(evaluate_url, headers=evaluate_headers, data=encoded_input_params)\n",
    "resp = request.urlopen(req)\n",
    "\n",
    "print(resp.read()) # Should return valid classification with probabilities"
   ]
  },
  {
   "cell_type": "markdown",
   "metadata": {},
   "source": [
    "## Load Test Predictions Across AWS and Google Cloud"
   ]
  },
  {
   "cell_type": "code",
   "execution_count": 35,
   "metadata": {
    "collapsed": false,
    "scrolled": true
   },
   "outputs": [
    {
     "name": "stdout",
     "output_type": "stream",
     "text": [
      "switched to context \"aws_k8s_training\".\r\n"
     ]
    }
   ],
   "source": [
    "!pipeline cluster switch aws_k8s_training"
   ]
  },
  {
   "cell_type": "code",
   "execution_count": 36,
   "metadata": {
    "collapsed": false,
    "scrolled": true
   },
   "outputs": [
    {
     "name": "stdout",
     "output_type": "stream",
     "text": [
      "...Starting Load Test...\n",
      "replicationcontroller \"loadtest\" created\n"
     ]
    }
   ],
   "source": [
    "!pipeline service deploy loadtest"
   ]
  },
  {
   "cell_type": "markdown",
   "metadata": {},
   "source": [
    "### [View of Prediction Services](http://hystrix.demo.pipeline.io/hystrix-dashboard/monitor/monitor.html?streams=%5B%7B%22name%22%3A%22Predictions%20-%20AWS%22%2C%22stream%22%3A%22http%3A%2F%2Fturbine-aws.demo.pipeline.io%2Fturbine.stream%22%2C%22auth%22%3A%22%22%2C%22delay%22%3A%22%22%7D%2C%7B%22name%22%3A%22Predictions%20-%20GCP%22%2C%22stream%22%3A%22http%3A%2F%2Fturbine-gcp.demo.pipeline.io%2Fturbine.stream%22%2C%22auth%22%3A%22%22%2C%22delay%22%3A%22%22%7D%5D)"
   ]
  },
  {
   "cell_type": "code",
   "execution_count": 34,
   "metadata": {
    "collapsed": false,
    "scrolled": true
   },
   "outputs": [
    {
     "data": {
      "text/html": [
       "<iframe width=100% height=500px src=\"http://hystrix.demo.pipeline.io/hystrix-dashboard/monitor/monitor.html?streams=%5B%7B%22name%22%3A%22Predictions%20-%20AWS%22%2C%22stream%22%3A%22http%3A%2F%2Fturbine-aws.demo.pipeline.io%2Fturbine.stream%22%2C%22auth%22%3A%22%22%2C%22delay%22%3A%22%22%7D%2C%7B%22name%22%3A%22Predictions%20-%20GCP%22%2C%22stream%22%3A%22http%3A%2F%2Fturbine-gcp.demo.pipeline.io%2Fturbine.stream%22%2C%22auth%22%3A%22%22%2C%22delay%22%3A%22%22%7D%5D\">"
      ],
      "text/plain": [
       "<IPython.core.display.HTML object>"
      ]
     },
     "metadata": {},
     "output_type": "display_data"
    }
   ],
   "source": [
    "from IPython.display import display, HTML\n",
    "\n",
    "html = '<iframe width=100% height=500px src=\"http://hystrix.demo.pipeline.io/hystrix-dashboard/monitor/monitor.html?streams=%5B%7B%22name%22%3A%22Predictions%20-%20AWS%22%2C%22stream%22%3A%22http%3A%2F%2Fturbine-aws.demo.pipeline.io%2Fturbine.stream%22%2C%22auth%22%3A%22%22%2C%22delay%22%3A%22%22%7D%2C%7B%22name%22%3A%22Predictions%20-%20GCP%22%2C%22stream%22%3A%22http%3A%2F%2Fturbine-gcp.demo.pipeline.io%2Fturbine.stream%22%2C%22auth%22%3A%22%22%2C%22delay%22%3A%22%22%7D%5D\">'\n",
    "display(HTML(html))"
   ]
  },
  {
   "cell_type": "markdown",
   "metadata": {},
   "source": [
    "## Scale Out Load Test"
   ]
  },
  {
   "cell_type": "code",
   "execution_count": 59,
   "metadata": {
    "collapsed": false
   },
   "outputs": [
    {
     "name": "stdout",
     "output_type": "stream",
     "text": [
      "switched to context \"aws_k8s_training\".\r\n"
     ]
    }
   ],
   "source": [
    "!pipeline cluster switch aws_k8s_training"
   ]
  },
  {
   "cell_type": "code",
   "execution_count": 60,
   "metadata": {
    "collapsed": false
   },
   "outputs": [
    {
     "name": "stdout",
     "output_type": "stream",
     "text": [
      "replicationcontroller \"loadtest\" scaled\r\n"
     ]
    }
   ],
   "source": [
    "!pipeline service scale loadtest 3"
   ]
  },
  {
   "cell_type": "markdown",
   "metadata": {},
   "source": [
    "## Scale Out Model Prediction Servers"
   ]
  },
  {
   "cell_type": "markdown",
   "metadata": {},
   "source": [
    "### AWS"
   ]
  },
  {
   "cell_type": "code",
   "execution_count": 37,
   "metadata": {
    "collapsed": false,
    "scrolled": false
   },
   "outputs": [
    {
     "name": "stdout",
     "output_type": "stream",
     "text": [
      "switched to context \"aws_k8s_predictions\".\r\n"
     ]
    }
   ],
   "source": [
    "!pipeline cluster switch aws_k8s_predictions"
   ]
  },
  {
   "cell_type": "code",
   "execution_count": 39,
   "metadata": {
    "collapsed": false,
    "scrolled": false
   },
   "outputs": [
    {
     "name": "stdout",
     "output_type": "stream",
     "text": [
      "replicationcontroller \"prediction-pmml\" scaled\n",
      "replicationcontroller \"prediction-codegen\" scaled\n",
      "Error from server: replicationcontrollers \"prediction-cache\" not found\n",
      "replicationcontroller \"prediction-tensorflow\" scaled\n"
     ]
    }
   ],
   "source": [
    "!pipeline service scale prediction 2"
   ]
  },
  {
   "cell_type": "code",
   "execution_count": 40,
   "metadata": {
    "collapsed": false,
    "scrolled": false
   },
   "outputs": [
    {
     "name": "stdout",
     "output_type": "stream",
     "text": [
      "Current Cluster:\n",
      "aws_k8s_predictions\n",
      "\n",
      "Services:\n",
      "NAME                    CLUSTER-IP     EXTERNAL-IP        PORT(S)           AGE\n",
      "prediction-codegen      10.0.109.240   a58baa034b267...   80/TCP            12d\n",
      "prediction-pmml         10.0.143.121   a49b9ff63b266...   80/TCP            12d\n",
      "prediction-tensorflow   10.0.173.76    ab0dc9953b31c...   80/TCP            11d\n",
      "turbine                 10.0.106.99    a3ee17de8b266...   80/TCP,8990/TCP   12d\n",
      "weavescope-app          10.0.244.168   a337893b4b266...   80/TCP            12d\n",
      "\n",
      "Replication Controller:\n",
      "NAME                    DESIRED   CURRENT   READY     AGE\n",
      "prediction-codegen      2         2         1         6d\n",
      "prediction-pmml         2         2         1         7d\n",
      "prediction-tensorflow   2         2         1         7d\n",
      "turbine                 1         1         1         12d\n",
      "weavescope-app          1         1         1         12d\n",
      "\n",
      "Pods:\n",
      "NAME                          READY     STATUS              RESTARTS   AGE\n",
      "prediction-codegen-1kyxo      0/1       ContainerCreating   0          0s\n",
      "prediction-codegen-ctxq5      1/1       Running             0          6d\n",
      "prediction-pmml-jzimh         1/1       Running             0          7d\n",
      "prediction-pmml-kiknb         0/1       ContainerCreating   0          0s\n",
      "prediction-tensorflow-2ohws   0/1       ContainerCreating   0          0s\n",
      "prediction-tensorflow-jxe6m   1/1       Running             0          7d\n",
      "turbine-g4j7q                 1/1       Running             0          12d\n",
      "weavescope-app-oh0mh          1/1       Running             0          12d\n",
      "weavescope-probe-jwdo4        1/1       Running             0          12d\n"
     ]
    }
   ],
   "source": [
    "!pipeline cluster view"
   ]
  },
  {
   "cell_type": "markdown",
   "metadata": {},
   "source": [
    "### GCP"
   ]
  },
  {
   "cell_type": "code",
   "execution_count": 41,
   "metadata": {
    "collapsed": false,
    "scrolled": false
   },
   "outputs": [
    {
     "name": "stdout",
     "output_type": "stream",
     "text": [
      "no context exists with the name: \"gcp_k8s_training\".\r\n"
     ]
    }
   ],
   "source": [
    "!pipeline cluster switch gcp_k8s_training"
   ]
  },
  {
   "cell_type": "code",
   "execution_count": 42,
   "metadata": {
    "collapsed": false,
    "scrolled": false
   },
   "outputs": [
    {
     "name": "stdout",
     "output_type": "stream",
     "text": [
      "replicationcontroller \"prediction-pmml\" scaled\n",
      "replicationcontroller \"prediction-codegen\" scaled\n",
      "Error from server: replicationcontrollers \"prediction-cache\" not found\n",
      "replicationcontroller \"prediction-tensorflow\" scaled\n"
     ]
    }
   ],
   "source": [
    "!pipeline service scale prediction 2"
   ]
  },
  {
   "cell_type": "code",
   "execution_count": 43,
   "metadata": {
    "collapsed": false,
    "scrolled": false
   },
   "outputs": [
    {
     "name": "stdout",
     "output_type": "stream",
     "text": [
      "Current Cluster:\n",
      "aws_k8s_predictions\n",
      "\n",
      "Services:\n",
      "NAME                    CLUSTER-IP     EXTERNAL-IP        PORT(S)           AGE\n",
      "prediction-codegen      10.0.109.240   a58baa034b267...   80/TCP            12d\n",
      "prediction-pmml         10.0.143.121   a49b9ff63b266...   80/TCP            12d\n",
      "prediction-tensorflow   10.0.173.76    ab0dc9953b31c...   80/TCP            11d\n",
      "turbine                 10.0.106.99    a3ee17de8b266...   80/TCP,8990/TCP   12d\n",
      "weavescope-app          10.0.244.168   a337893b4b266...   80/TCP            12d\n",
      "\n",
      "Replication Controller:\n",
      "NAME                    DESIRED   CURRENT   READY     AGE\n",
      "prediction-codegen      2         2         1         6d\n",
      "prediction-pmml         2         2         1         7d\n",
      "prediction-tensorflow   2         2         1         7d\n",
      "turbine                 1         1         1         12d\n",
      "weavescope-app          1         1         1         12d\n",
      "\n",
      "Pods:\n",
      "NAME                          READY     STATUS              RESTARTS   AGE\n",
      "prediction-codegen-1kyxo      0/1       ContainerCreating   0          2s\n",
      "prediction-codegen-ctxq5      1/1       Running             0          6d\n",
      "prediction-pmml-jzimh         1/1       Running             0          7d\n",
      "prediction-pmml-kiknb         0/1       ContainerCreating   0          2s\n",
      "prediction-tensorflow-2ohws   0/1       ContainerCreating   0          2s\n",
      "prediction-tensorflow-jxe6m   1/1       Running             0          7d\n",
      "turbine-g4j7q                 1/1       Running             0          12d\n",
      "weavescope-app-oh0mh          1/1       Running             0          12d\n",
      "weavescope-probe-jwdo4        1/1       Running             0          12d\n"
     ]
    }
   ],
   "source": [
    "!pipeline cluster view"
   ]
  },
  {
   "cell_type": "markdown",
   "metadata": {
    "collapsed": true
   },
   "source": [
    "## Deployment Option 2:  Immutable Model Deployment"
   ]
  },
  {
   "cell_type": "markdown",
   "metadata": {},
   "source": [
    "### Save Model to Disk"
   ]
  },
  {
   "cell_type": "code",
   "execution_count": 44,
   "metadata": {
    "collapsed": false,
    "scrolled": true
   },
   "outputs": [
    {
     "name": "stdout",
     "output_type": "stream",
     "text": [
      "<?xml version=\"1.0\" encoding=\"UTF-8\" standalone=\"yes\"?>\r\n",
      "<PMML xmlns=\"http://www.dmg.org/PMML-4_3\" version=\"4.3\">\r\n",
      "\t<Header>\r\n",
      "\t\t<Application/>\r\n",
      "\t\t<Timestamp>2016-12-07T08:45:46Z</Timestamp>\r\n",
      "\t</Header>\r\n",
      "\t<DataDictionary>\r\n",
      "\t\t<DataField name=\"income\" optype=\"categorical\" dataType=\"string\">\r\n",
      "\t\t\t<Value value=\"&lt;=50K\"/>\r\n",
      "\t\t\t<Value value=\"&gt;50K\"/>\r\n",
      "\t\t</DataField>\r\n",
      "\t\t<DataField name=\"education\" optype=\"categorical\" dataType=\"string\">\r\n",
      "\t\t\t<Value value=\"HS-grad\"/>\r\n",
      "\t\t\t<Value value=\"Some-college\"/>\r\n",
      "\t\t\t<Value value=\"Bachelors\"/>\r\n",
      "\t\t\t<Value value=\"Masters\"/>\r\n",
      "\t\t\t<Value value=\"Assoc-voc\"/>\r\n",
      "\t\t\t<Value value=\"11th\"/>\r\n",
      "\t\t\t<Value value=\"Assoc-acdm\"/>\r\n",
      "\t\t\t<Value value=\"10th\"/>\r\n",
      "\t\t\t<Value value=\"7th-8th\"/>\r\n",
      "\t\t\t<Value value=\"Prof-school\"/>\r\n",
      "\t\t\t<Value value=\"9th\"/>\r\n",
      "\t\t\t<Value value=\"12th\"/>\r\n",
      "\t\t\t<Value value=\"Doctorate\"/>\r\n",
      "\t\t\t<Value value=\"5th-6th\"/>\r\n",
      "\t\t\t<Value value=\"1st-4th\"/>\r\n",
      "\t\t\t<Value value=\"Preschool\"/>\r\n",
      "\t\t</DataField>\r\n",
      "\t\t<DataField name=\"marital_status\" optype=\"categorical\" dataType=\"string\">\r\n",
      "\t\t\t<Value value=\"Married-civ-spouse\"/>\r\n",
      "\t\t\t<Value value=\"Never-married\"/>\r\n",
      "\t\t\t<Value value=\"Divorced\"/>\r\n",
      "\t\t\t<Value value=\"Separated\"/>\r\n",
      "\t\t\t<Value value=\"Widowed\"/>\r\n",
      "\t\t\t<Value value=\"Married-spouse-absent\"/>\r\n",
      "\t\t\t<Value value=\"Married-AF-spouse\"/>\r\n",
      "\t\t</DataField>\r\n",
      "\t\t<DataField name=\"occupation\" optype=\"categorical\" dataType=\"string\">\r\n",
      "\t\t\t<Value value=\"Craft-repair\"/>\r\n",
      "\t\t\t<Value value=\"Prof-specialty\"/>\r\n",
      "\t\t\t<Value value=\"Exec-managerial\"/>\r\n",
      "\t\t\t<Value value=\"Adm-clerical\"/>\r\n",
      "\t\t\t<Value value=\"Sales\"/>\r\n",
      "\t\t\t<Value value=\"Other-service\"/>\r\n",
      "\t\t\t<Value value=\"Machine-op-inspct\"/>\r\n",
      "\t\t\t<Value value=\"Transport-moving\"/>\r\n",
      "\t\t\t<Value value=\"Handlers-cleaners\"/>\r\n",
      "\t\t\t<Value value=\"Farming-fishing\"/>\r\n",
      "\t\t\t<Value value=\"Tech-support\"/>\r\n",
      "\t\t\t<Value value=\"Protective-serv\"/>\r\n",
      "\t\t\t<Value value=\"Priv-house-serv\"/>\r\n",
      "\t\t\t<Value value=\"Armed-Forces\"/>\r\n",
      "\t\t</DataField>\r\n",
      "\t\t<DataField name=\"native_country\" optype=\"categorical\" dataType=\"string\">\r\n",
      "\t\t\t<Value value=\"United-States\"/>\r\n",
      "\t\t\t<Value value=\"Mexico\"/>\r\n",
      "\t\t\t<Value value=\"Philippines\"/>\r\n",
      "\t\t\t<Value value=\"Germany\"/>\r\n",
      "\t\t\t<Value value=\"Puerto-Rico\"/>\r\n",
      "\t\t\t<Value value=\"Canada\"/>\r\n",
      "\t\t\t<Value value=\"India\"/>\r\n",
      "\t\t\t<Value value=\"El-Salvador\"/>\r\n",
      "\t\t\t<Value value=\"Cuba\"/>\r\n",
      "\t\t\t<Value value=\"England\"/>\r\n",
      "\t\t\t<Value value=\"China\"/>\r\n",
      "\t\t\t<Value value=\"Jamaica\"/>\r\n",
      "\t\t\t<Value value=\"South\"/>\r\n",
      "\t\t\t<Value value=\"Italy\"/>\r\n",
      "\t\t\t<Value value=\"Dominican-Republic\"/>\r\n",
      "\t\t\t<Value value=\"Japan\"/>\r\n",
      "\t\t\t<Value value=\"Guatemala\"/>\r\n",
      "\t\t\t<Value value=\"Vietnam\"/>\r\n",
      "\t\t\t<Value value=\"Columbia\"/>\r\n",
      "\t\t\t<Value value=\"Poland\"/>\r\n",
      "\t\t\t<Value value=\"Haiti\"/>\r\n",
      "\t\t\t<Value value=\"Portugal\"/>\r\n",
      "\t\t\t<Value value=\"Iran\"/>\r\n",
      "\t\t\t<Value value=\"Taiwan\"/>\r\n",
      "\t\t\t<Value value=\"Greece\"/>\r\n",
      "\t\t\t<Value value=\"Nicaragua\"/>\r\n",
      "\t\t\t<Value value=\"Peru\"/>\r\n",
      "\t\t\t<Value value=\"Ecuador\"/>\r\n",
      "\t\t\t<Value value=\"Ireland\"/>\r\n",
      "\t\t\t<Value value=\"France\"/>\r\n",
      "\t\t\t<Value value=\"Thailand\"/>\r\n",
      "\t\t\t<Value value=\"Hong\"/>\r\n",
      "\t\t\t<Value value=\"Trinadad&amp;Tobago\"/>\r\n",
      "\t\t\t<Value value=\"Cambodia\"/>\r\n",
      "\t\t\t<Value value=\"Yugoslavia\"/>\r\n",
      "\t\t\t<Value value=\"Outlying-US(Guam-USVI-etc)\"/>\r\n",
      "\t\t\t<Value value=\"Laos\"/>\r\n",
      "\t\t\t<Value value=\"Scotland\"/>\r\n",
      "\t\t\t<Value value=\"Honduras\"/>\r\n",
      "\t\t\t<Value value=\"Hungary\"/>\r\n",
      "\t\t\t<Value value=\"Holand-Netherlands\"/>\r\n",
      "\t\t</DataField>\r\n",
      "\t\t<DataField name=\"age\" optype=\"continuous\" dataType=\"integer\"/>\r\n",
      "\t\t<DataField name=\"education_num\" optype=\"continuous\" dataType=\"integer\"/>\r\n",
      "\t\t<DataField name=\"capital_gain\" optype=\"continuous\" dataType=\"integer\"/>\r\n",
      "\t\t<DataField name=\"capital_loss\" optype=\"continuous\" dataType=\"integer\"/>\r\n",
      "\t\t<DataField name=\"hours_per_week\" optype=\"continuous\" dataType=\"integer\"/>\r\n",
      "\t</DataDictionary>\r\n",
      "\t<TreeModel functionName=\"classification\" splitCharacteristic=\"binarySplit\">\r\n",
      "\t\t<MiningSchema>\r\n",
      "\t\t\t<MiningField name=\"income\" usageType=\"target\"/>\r\n",
      "\t\t\t<MiningField name=\"education\"/>\r\n",
      "\t\t\t<MiningField name=\"marital_status\"/>\r\n",
      "\t\t\t<MiningField name=\"occupation\"/>\r\n",
      "\t\t\t<MiningField name=\"native_country\"/>\r\n",
      "\t\t\t<MiningField name=\"age\"/>\r\n",
      "\t\t\t<MiningField name=\"education_num\"/>\r\n",
      "\t\t\t<MiningField name=\"capital_gain\"/>\r\n",
      "\t\t\t<MiningField name=\"capital_loss\"/>\r\n",
      "\t\t\t<MiningField name=\"hours_per_week\"/>\r\n",
      "\t\t</MiningSchema>\r\n",
      "\t\t<Output>\r\n",
      "\t\t\t<OutputField name=\"probability_&lt;=50K\" dataType=\"double\" feature=\"probability\" value=\"&lt;=50K\"/>\r\n",
      "\t\t\t<OutputField name=\"probability_&gt;50K\" dataType=\"double\" feature=\"probability\" value=\"&gt;50K\"/>\r\n",
      "\t\t</Output>\r\n",
      "\t\t<Node score=\"&lt;=50K\" recordCount=\"45222.0\">\r\n",
      "\t\t\t<True/>\r\n",
      "\t\t\t<ScoreDistribution value=\"&lt;=50K\" recordCount=\"34014.0\"/>\r\n",
      "\t\t\t<ScoreDistribution value=\"&gt;50K\" recordCount=\"11208.0\"/>\r\n",
      "\t\t\t<Node score=\"&lt;=50K\" recordCount=\"24167.0\">\r\n",
      "\t\t\t\t<SimplePredicate field=\"marital_status\" operator=\"notEqual\" value=\"Married-civ-spouse\"/>\r\n",
      "\t\t\t\t<ScoreDistribution value=\"&lt;=50K\" recordCount=\"22523.0\"/>\r\n",
      "\t\t\t\t<ScoreDistribution value=\"&gt;50K\" recordCount=\"1644.0\"/>\r\n",
      "\t\t\t\t<Node score=\"&lt;=50K\" recordCount=\"23744.0\">\r\n",
      "\t\t\t\t\t<SimplePredicate field=\"capital_gain\" operator=\"lessOrEqual\" value=\"7688\"/>\r\n",
      "\t\t\t\t\t<ScoreDistribution value=\"&lt;=50K\" recordCount=\"22516.0\"/>\r\n",
      "\t\t\t\t\t<ScoreDistribution value=\"&gt;50K\" recordCount=\"1228.0\"/>\r\n",
      "\t\t\t\t\t<Node score=\"&lt;=50K\" recordCount=\"22397.0\">\r\n",
      "\t\t\t\t\t\t<SimplePredicate field=\"education_num\" operator=\"lessOrEqual\" value=\"13\"/>\r\n",
      "\t\t\t\t\t\t<ScoreDistribution value=\"&lt;=50K\" recordCount=\"21525.0\"/>\r\n",
      "\t\t\t\t\t\t<ScoreDistribution value=\"&gt;50K\" recordCount=\"872.0\"/>\r\n",
      "\t\t\t\t\t\t<Node score=\"&lt;=50K\" recordCount=\"17985.0\">\r\n",
      "\t\t\t\t\t\t\t<SimplePredicate field=\"hours_per_week\" operator=\"lessOrEqual\" value=\"42\"/>\r\n",
      "\t\t\t\t\t\t\t<ScoreDistribution value=\"&lt;=50K\" recordCount=\"17578.0\"/>\r\n",
      "\t\t\t\t\t\t\t<ScoreDistribution value=\"&gt;50K\" recordCount=\"407.0\"/>\r\n",
      "\t\t\t\t\t\t\t<Node score=\"&lt;=50K\" recordCount=\"17823.0\">\r\n",
      "\t\t\t\t\t\t\t\t<SimplePredicate field=\"capital_loss\" operator=\"lessOrEqual\" value=\"1876\"/>\r\n",
      "\t\t\t\t\t\t\t\t<ScoreDistribution value=\"&lt;=50K\" recordCount=\"17451.0\"/>\r\n",
      "\t\t\t\t\t\t\t\t<ScoreDistribution value=\"&gt;50K\" recordCount=\"372.0\"/>\r\n",
      "\t\t\t\t\t\t\t</Node>\r\n",
      "\t\t\t\t\t\t\t<Node score=\"&lt;=50K\" recordCount=\"162.0\">\r\n",
      "\t\t\t\t\t\t\t\t<SimplePredicate field=\"capital_loss\" operator=\"greaterThan\" value=\"1876\"/>\r\n",
      "\t\t\t\t\t\t\t\t<ScoreDistribution value=\"&lt;=50K\" recordCount=\"127.0\"/>\r\n",
      "\t\t\t\t\t\t\t\t<ScoreDistribution value=\"&gt;50K\" recordCount=\"35.0\"/>\r\n",
      "\t\t\t\t\t\t\t</Node>\r\n",
      "\t\t\t\t\t\t</Node>\r\n",
      "\t\t\t\t\t\t<Node score=\"&lt;=50K\" recordCount=\"4412.0\">\r\n",
      "\t\t\t\t\t\t\t<SimplePredicate field=\"hours_per_week\" operator=\"greaterThan\" value=\"42\"/>\r\n",
      "\t\t\t\t\t\t\t<ScoreDistribution value=\"&lt;=50K\" recordCount=\"3947.0\"/>\r\n",
      "\t\t\t\t\t\t\t<ScoreDistribution value=\"&gt;50K\" recordCount=\"465.0\"/>\r\n",
      "\t\t\t\t\t\t\t<Node score=\"&lt;=50K\" recordCount=\"3327.0\">\r\n",
      "\t\t\t\t\t\t\t\t<SimplePredicate field=\"education\" operator=\"notEqual\" value=\"Bachelors\"/>\r\n",
      "\t\t\t\t\t\t\t\t<ScoreDistribution value=\"&lt;=50K\" recordCount=\"3098.0\"/>\r\n",
      "\t\t\t\t\t\t\t\t<ScoreDistribution value=\"&gt;50K\" recordCount=\"229.0\"/>\r\n",
      "\t\t\t\t\t\t\t</Node>\r\n",
      "\t\t\t\t\t\t\t<Node score=\"&lt;=50K\" recordCount=\"1085.0\">\r\n",
      "\t\t\t\t\t\t\t\t<SimplePredicate field=\"education\" operator=\"equal\" value=\"Bachelors\"/>\r\n",
      "\t\t\t\t\t\t\t\t<ScoreDistribution value=\"&lt;=50K\" recordCount=\"849.0\"/>\r\n",
      "\t\t\t\t\t\t\t\t<ScoreDistribution value=\"&gt;50K\" recordCount=\"236.0\"/>\r\n",
      "\t\t\t\t\t\t\t</Node>\r\n",
      "\t\t\t\t\t\t</Node>\r\n",
      "\t\t\t\t\t</Node>\r\n",
      "\t\t\t\t\t<Node score=\"&lt;=50K\" recordCount=\"1347.0\">\r\n",
      "\t\t\t\t\t\t<SimplePredicate field=\"education_num\" operator=\"greaterThan\" value=\"13\"/>\r\n",
      "\t\t\t\t\t\t<ScoreDistribution value=\"&lt;=50K\" recordCount=\"991.0\"/>\r\n",
      "\t\t\t\t\t\t<ScoreDistribution value=\"&gt;50K\" recordCount=\"356.0\"/>\r\n",
      "\t\t\t\t\t\t<Node score=\"&lt;=50K\" recordCount=\"813.0\">\r\n",
      "\t\t\t\t\t\t\t<SimplePredicate field=\"hours_per_week\" operator=\"lessOrEqual\" value=\"43\"/>\r\n",
      "\t\t\t\t\t\t\t<ScoreDistribution value=\"&lt;=50K\" recordCount=\"667.0\"/>\r\n",
      "\t\t\t\t\t\t\t<ScoreDistribution value=\"&gt;50K\" recordCount=\"146.0\"/>\r\n",
      "\t\t\t\t\t\t\t<Node score=\"&lt;=50K\" recordCount=\"210.0\">\r\n",
      "\t\t\t\t\t\t\t\t<SimplePredicate field=\"age\" operator=\"lessOrEqual\" value=\"32\"/>\r\n",
      "\t\t\t\t\t\t\t\t<ScoreDistribution value=\"&lt;=50K\" recordCount=\"200.0\"/>\r\n",
      "\t\t\t\t\t\t\t\t<ScoreDistribution value=\"&gt;50K\" recordCount=\"10.0\"/>\r\n",
      "\t\t\t\t\t\t\t</Node>\r\n",
      "\t\t\t\t\t\t\t<Node score=\"&lt;=50K\" recordCount=\"603.0\">\r\n",
      "\t\t\t\t\t\t\t\t<SimplePredicate field=\"age\" operator=\"greaterThan\" value=\"32\"/>\r\n",
      "\t\t\t\t\t\t\t\t<ScoreDistribution value=\"&lt;=50K\" recordCount=\"467.0\"/>\r\n",
      "\t\t\t\t\t\t\t\t<ScoreDistribution value=\"&gt;50K\" recordCount=\"136.0\"/>\r\n",
      "\t\t\t\t\t\t\t</Node>\r\n",
      "\t\t\t\t\t\t</Node>\r\n",
      "\t\t\t\t\t\t<Node score=\"&lt;=50K\" recordCount=\"534.0\">\r\n",
      "\t\t\t\t\t\t\t<SimplePredicate field=\"hours_per_week\" operator=\"greaterThan\" value=\"43\"/>\r\n",
      "\t\t\t\t\t\t\t<ScoreDistribution value=\"&lt;=50K\" recordCount=\"324.0\"/>\r\n",
      "\t\t\t\t\t\t\t<ScoreDistribution value=\"&gt;50K\" recordCount=\"210.0\"/>\r\n",
      "\t\t\t\t\t\t\t<Node score=\"&lt;=50K\" recordCount=\"133.0\">\r\n",
      "\t\t\t\t\t\t\t\t<SimplePredicate field=\"age\" operator=\"lessOrEqual\" value=\"32\"/>\r\n",
      "\t\t\t\t\t\t\t\t<ScoreDistribution value=\"&lt;=50K\" recordCount=\"110.0\"/>\r\n",
      "\t\t\t\t\t\t\t\t<ScoreDistribution value=\"&gt;50K\" recordCount=\"23.0\"/>\r\n",
      "\t\t\t\t\t\t\t</Node>\r\n",
      "\t\t\t\t\t\t\t<Node score=\"&lt;=50K\" recordCount=\"401.0\">\r\n",
      "\t\t\t\t\t\t\t\t<SimplePredicate field=\"age\" operator=\"greaterThan\" value=\"32\"/>\r\n",
      "\t\t\t\t\t\t\t\t<ScoreDistribution value=\"&lt;=50K\" recordCount=\"214.0\"/>\r\n",
      "\t\t\t\t\t\t\t\t<ScoreDistribution value=\"&gt;50K\" recordCount=\"187.0\"/>\r\n",
      "\t\t\t\t\t\t\t</Node>\r\n",
      "\t\t\t\t\t\t</Node>\r\n",
      "\t\t\t\t\t</Node>\r\n",
      "\t\t\t\t</Node>\r\n",
      "\t\t\t\t<Node score=\"&gt;50K\" recordCount=\"423.0\">\r\n",
      "\t\t\t\t\t<SimplePredicate field=\"capital_gain\" operator=\"greaterThan\" value=\"7688\"/>\r\n",
      "\t\t\t\t\t<ScoreDistribution value=\"&lt;=50K\" recordCount=\"7.0\"/>\r\n",
      "\t\t\t\t\t<ScoreDistribution value=\"&gt;50K\" recordCount=\"416.0\"/>\r\n",
      "\t\t\t\t\t<Node score=\"&lt;=50K\" recordCount=\"4.0\">\r\n",
      "\t\t\t\t\t\t<SimplePredicate field=\"age\" operator=\"lessOrEqual\" value=\"20\"/>\r\n",
      "\t\t\t\t\t\t<ScoreDistribution value=\"&lt;=50K\" recordCount=\"3.0\"/>\r\n",
      "\t\t\t\t\t\t<ScoreDistribution value=\"&gt;50K\" recordCount=\"1.0\"/>\r\n",
      "\t\t\t\t\t\t<Node score=\"&lt;=50K\" recordCount=\"3.0\">\r\n",
      "\t\t\t\t\t\t\t<SimplePredicate field=\"education\" operator=\"notEqual\" value=\"Some-college\"/>\r\n",
      "\t\t\t\t\t\t\t<ScoreDistribution value=\"&lt;=50K\" recordCount=\"3.0\"/>\r\n",
      "\t\t\t\t\t\t</Node>\r\n",
      "\t\t\t\t\t\t<Node score=\"&gt;50K\" recordCount=\"1.0\">\r\n",
      "\t\t\t\t\t\t\t<SimplePredicate field=\"education\" operator=\"equal\" value=\"Some-college\"/>\r\n",
      "\t\t\t\t\t\t\t<ScoreDistribution value=\"&gt;50K\" recordCount=\"1.0\"/>\r\n",
      "\t\t\t\t\t\t</Node>\r\n",
      "\t\t\t\t\t</Node>\r\n",
      "\t\t\t\t\t<Node score=\"&gt;50K\" recordCount=\"419.0\">\r\n",
      "\t\t\t\t\t\t<SimplePredicate field=\"age\" operator=\"greaterThan\" value=\"20\"/>\r\n",
      "\t\t\t\t\t\t<ScoreDistribution value=\"&lt;=50K\" recordCount=\"4.0\"/>\r\n",
      "\t\t\t\t\t\t<ScoreDistribution value=\"&gt;50K\" recordCount=\"415.0\"/>\r\n",
      "\t\t\t\t\t\t<Node score=\"&gt;50K\" recordCount=\"4.0\">\r\n",
      "\t\t\t\t\t\t\t<SimplePredicate field=\"occupation\" operator=\"equal\" value=\"Protective-serv\"/>\r\n",
      "\t\t\t\t\t\t\t<ScoreDistribution value=\"&lt;=50K\" recordCount=\"1.0\"/>\r\n",
      "\t\t\t\t\t\t\t<ScoreDistribution value=\"&gt;50K\" recordCount=\"3.0\"/>\r\n",
      "\t\t\t\t\t\t\t<Node score=\"&gt;50K\" recordCount=\"3.0\">\r\n",
      "\t\t\t\t\t\t\t\t<SimplePredicate field=\"age\" operator=\"lessOrEqual\" value=\"36\"/>\r\n",
      "\t\t\t\t\t\t\t\t<ScoreDistribution value=\"&gt;50K\" recordCount=\"3.0\"/>\r\n",
      "\t\t\t\t\t\t\t</Node>\r\n",
      "\t\t\t\t\t\t\t<Node score=\"&lt;=50K\" recordCount=\"1.0\">\r\n",
      "\t\t\t\t\t\t\t\t<SimplePredicate field=\"age\" operator=\"greaterThan\" value=\"36\"/>\r\n",
      "\t\t\t\t\t\t\t\t<ScoreDistribution value=\"&lt;=50K\" recordCount=\"1.0\"/>\r\n",
      "\t\t\t\t\t\t\t</Node>\r\n",
      "\t\t\t\t\t\t</Node>\r\n",
      "\t\t\t\t\t\t<Node score=\"&gt;50K\" recordCount=\"415.0\">\r\n",
      "\t\t\t\t\t\t\t<SimplePredicate field=\"occupation\" operator=\"notEqual\" value=\"Protective-serv\"/>\r\n",
      "\t\t\t\t\t\t\t<ScoreDistribution value=\"&lt;=50K\" recordCount=\"3.0\"/>\r\n",
      "\t\t\t\t\t\t\t<ScoreDistribution value=\"&gt;50K\" recordCount=\"412.0\"/>\r\n",
      "\t\t\t\t\t\t\t<Node score=\"&gt;50K\" recordCount=\"344.0\">\r\n",
      "\t\t\t\t\t\t\t\t<SimplePredicate field=\"age\" operator=\"lessOrEqual\" value=\"54\"/>\r\n",
      "\t\t\t\t\t\t\t\t<ScoreDistribution value=\"&gt;50K\" recordCount=\"344.0\"/>\r\n",
      "\t\t\t\t\t\t\t</Node>\r\n",
      "\t\t\t\t\t\t\t<Node score=\"&gt;50K\" recordCount=\"71.0\">\r\n",
      "\t\t\t\t\t\t\t\t<SimplePredicate field=\"age\" operator=\"greaterThan\" value=\"54\"/>\r\n",
      "\t\t\t\t\t\t\t\t<ScoreDistribution value=\"&lt;=50K\" recordCount=\"3.0\"/>\r\n",
      "\t\t\t\t\t\t\t\t<ScoreDistribution value=\"&gt;50K\" recordCount=\"68.0\"/>\r\n",
      "\t\t\t\t\t\t\t</Node>\r\n",
      "\t\t\t\t\t\t</Node>\r\n",
      "\t\t\t\t\t</Node>\r\n",
      "\t\t\t\t</Node>\r\n",
      "\t\t\t</Node>\r\n",
      "\t\t\t<Node score=\"&lt;=50K\" recordCount=\"21055.0\">\r\n",
      "\t\t\t\t<SimplePredicate field=\"marital_status\" operator=\"equal\" value=\"Married-civ-spouse\"/>\r\n",
      "\t\t\t\t<ScoreDistribution value=\"&lt;=50K\" recordCount=\"11491.0\"/>\r\n",
      "\t\t\t\t<ScoreDistribution value=\"&gt;50K\" recordCount=\"9564.0\"/>\r\n",
      "\t\t\t\t<Node score=\"&lt;=50K\" recordCount=\"14790.0\">\r\n",
      "\t\t\t\t\t<SimplePredicate field=\"education_num\" operator=\"lessOrEqual\" value=\"12\"/>\r\n",
      "\t\t\t\t\t<ScoreDistribution value=\"&lt;=50K\" recordCount=\"9782.0\"/>\r\n",
      "\t\t\t\t\t<ScoreDistribution value=\"&gt;50K\" recordCount=\"5008.0\"/>\r\n",
      "\t\t\t\t\t<Node score=\"&lt;=50K\" recordCount=\"13867.0\">\r\n",
      "\t\t\t\t\t\t<SimplePredicate field=\"capital_gain\" operator=\"lessOrEqual\" value=\"4064\"/>\r\n",
      "\t\t\t\t\t\t<ScoreDistribution value=\"&lt;=50K\" recordCount=\"9648.0\"/>\r\n",
      "\t\t\t\t\t\t<ScoreDistribution value=\"&gt;50K\" recordCount=\"4219.0\"/>\r\n",
      "\t\t\t\t\t\t<Node score=\"&lt;=50K\" recordCount=\"2272.0\">\r\n",
      "\t\t\t\t\t\t\t<SimplePredicate field=\"education_num\" operator=\"lessOrEqual\" value=\"8\"/>\r\n",
      "\t\t\t\t\t\t\t<ScoreDistribution value=\"&lt;=50K\" recordCount=\"2033.0\"/>\r\n",
      "\t\t\t\t\t\t\t<ScoreDistribution value=\"&gt;50K\" recordCount=\"239.0\"/>\r\n",
      "\t\t\t\t\t\t\t<Node score=\"&lt;=50K\" recordCount=\"1712.0\">\r\n",
      "\t\t\t\t\t\t\t\t<SimplePredicate field=\"hours_per_week\" operator=\"lessOrEqual\" value=\"43\"/>\r\n",
      "\t\t\t\t\t\t\t\t<ScoreDistribution value=\"&lt;=50K\" recordCount=\"1576.0\"/>\r\n",
      "\t\t\t\t\t\t\t\t<ScoreDistribution value=\"&gt;50K\" recordCount=\"136.0\"/>\r\n",
      "\t\t\t\t\t\t\t</Node>\r\n",
      "\t\t\t\t\t\t\t<Node score=\"&lt;=50K\" recordCount=\"560.0\">\r\n",
      "\t\t\t\t\t\t\t\t<SimplePredicate field=\"hours_per_week\" operator=\"greaterThan\" value=\"43\"/>\r\n",
      "\t\t\t\t\t\t\t\t<ScoreDistribution value=\"&lt;=50K\" recordCount=\"457.0\"/>\r\n",
      "\t\t\t\t\t\t\t\t<ScoreDistribution value=\"&gt;50K\" recordCount=\"103.0\"/>\r\n",
      "\t\t\t\t\t\t\t</Node>\r\n",
      "\t\t\t\t\t\t</Node>\r\n",
      "\t\t\t\t\t\t<Node score=\"&lt;=50K\" recordCount=\"11595.0\">\r\n",
      "\t\t\t\t\t\t\t<SimplePredicate field=\"education_num\" operator=\"greaterThan\" value=\"8\"/>\r\n",
      "\t\t\t\t\t\t\t<ScoreDistribution value=\"&lt;=50K\" recordCount=\"7615.0\"/>\r\n",
      "\t\t\t\t\t\t\t<ScoreDistribution value=\"&gt;50K\" recordCount=\"3980.0\"/>\r\n",
      "\t\t\t\t\t\t\t<Node score=\"&lt;=50K\" recordCount=\"3108.0\">\r\n",
      "\t\t\t\t\t\t\t\t<SimplePredicate field=\"age\" operator=\"lessOrEqual\" value=\"33\"/>\r\n",
      "\t\t\t\t\t\t\t\t<ScoreDistribution value=\"&lt;=50K\" recordCount=\"2461.0\"/>\r\n",
      "\t\t\t\t\t\t\t\t<ScoreDistribution value=\"&gt;50K\" recordCount=\"647.0\"/>\r\n",
      "\t\t\t\t\t\t\t</Node>\r\n",
      "\t\t\t\t\t\t\t<Node score=\"&lt;=50K\" recordCount=\"8487.0\">\r\n",
      "\t\t\t\t\t\t\t\t<SimplePredicate field=\"age\" operator=\"greaterThan\" value=\"33\"/>\r\n",
      "\t\t\t\t\t\t\t\t<ScoreDistribution value=\"&lt;=50K\" recordCount=\"5154.0\"/>\r\n",
      "\t\t\t\t\t\t\t\t<ScoreDistribution value=\"&gt;50K\" recordCount=\"3333.0\"/>\r\n",
      "\t\t\t\t\t\t\t</Node>\r\n",
      "\t\t\t\t\t\t</Node>\r\n",
      "\t\t\t\t\t</Node>\r\n",
      "\t\t\t\t\t<Node score=\"&gt;50K\" recordCount=\"923.0\">\r\n",
      "\t\t\t\t\t\t<SimplePredicate field=\"capital_gain\" operator=\"greaterThan\" value=\"4064\"/>\r\n",
      "\t\t\t\t\t\t<ScoreDistribution value=\"&lt;=50K\" recordCount=\"134.0\"/>\r\n",
      "\t\t\t\t\t\t<ScoreDistribution value=\"&gt;50K\" recordCount=\"789.0\"/>\r\n",
      "\t\t\t\t\t\t<Node score=\"&gt;50K\" recordCount=\"694.0\">\r\n",
      "\t\t\t\t\t\t\t<SimplePredicate field=\"capital_gain\" operator=\"lessOrEqual\" value=\"7688\"/>\r\n",
      "\t\t\t\t\t\t\t<ScoreDistribution value=\"&lt;=50K\" recordCount=\"124.0\"/>\r\n",
      "\t\t\t\t\t\t\t<ScoreDistribution value=\"&gt;50K\" recordCount=\"570.0\"/>\r\n",
      "\t\t\t\t\t\t\t<Node score=\"&lt;=50K\" recordCount=\"24.0\">\r\n",
      "\t\t\t\t\t\t\t\t<SimplePredicate field=\"hours_per_week\" operator=\"lessOrEqual\" value=\"30\"/>\r\n",
      "\t\t\t\t\t\t\t\t<ScoreDistribution value=\"&lt;=50K\" recordCount=\"14.0\"/>\r\n",
      "\t\t\t\t\t\t\t\t<ScoreDistribution value=\"&gt;50K\" recordCount=\"10.0\"/>\r\n",
      "\t\t\t\t\t\t\t</Node>\r\n",
      "\t\t\t\t\t\t\t<Node score=\"&gt;50K\" recordCount=\"670.0\">\r\n",
      "\t\t\t\t\t\t\t\t<SimplePredicate field=\"hours_per_week\" operator=\"greaterThan\" value=\"30\"/>\r\n",
      "\t\t\t\t\t\t\t\t<ScoreDistribution value=\"&lt;=50K\" recordCount=\"110.0\"/>\r\n",
      "\t\t\t\t\t\t\t\t<ScoreDistribution value=\"&gt;50K\" recordCount=\"560.0\"/>\r\n",
      "\t\t\t\t\t\t\t</Node>\r\n",
      "\t\t\t\t\t\t</Node>\r\n",
      "\t\t\t\t\t\t<Node score=\"&gt;50K\" recordCount=\"229.0\">\r\n",
      "\t\t\t\t\t\t\t<SimplePredicate field=\"capital_gain\" operator=\"greaterThan\" value=\"7688\"/>\r\n",
      "\t\t\t\t\t\t\t<ScoreDistribution value=\"&lt;=50K\" recordCount=\"10.0\"/>\r\n",
      "\t\t\t\t\t\t\t<ScoreDistribution value=\"&gt;50K\" recordCount=\"219.0\"/>\r\n",
      "\t\t\t\t\t\t\t<Node score=\"&lt;=50K\" recordCount=\"3.0\">\r\n",
      "\t\t\t\t\t\t\t\t<SimplePredicate field=\"education_num\" operator=\"lessOrEqual\" value=\"4\"/>\r\n",
      "\t\t\t\t\t\t\t\t<ScoreDistribution value=\"&lt;=50K\" recordCount=\"2.0\"/>\r\n",
      "\t\t\t\t\t\t\t\t<ScoreDistribution value=\"&gt;50K\" recordCount=\"1.0\"/>\r\n",
      "\t\t\t\t\t\t\t</Node>\r\n",
      "\t\t\t\t\t\t\t<Node score=\"&gt;50K\" recordCount=\"226.0\">\r\n",
      "\t\t\t\t\t\t\t\t<SimplePredicate field=\"education_num\" operator=\"greaterThan\" value=\"4\"/>\r\n",
      "\t\t\t\t\t\t\t\t<ScoreDistribution value=\"&lt;=50K\" recordCount=\"8.0\"/>\r\n",
      "\t\t\t\t\t\t\t\t<ScoreDistribution value=\"&gt;50K\" recordCount=\"218.0\"/>\r\n",
      "\t\t\t\t\t\t\t</Node>\r\n",
      "\t\t\t\t\t\t</Node>\r\n",
      "\t\t\t\t\t</Node>\r\n",
      "\t\t\t\t</Node>\r\n",
      "\t\t\t\t<Node score=\"&gt;50K\" recordCount=\"6265.0\">\r\n",
      "\t\t\t\t\t<SimplePredicate field=\"education_num\" operator=\"greaterThan\" value=\"12\"/>\r\n",
      "\t\t\t\t\t<ScoreDistribution value=\"&lt;=50K\" recordCount=\"1709.0\"/>\r\n",
      "\t\t\t\t\t<ScoreDistribution value=\"&gt;50K\" recordCount=\"4556.0\"/>\r\n",
      "\t\t\t\t\t<Node score=\"&gt;50K\" recordCount=\"5261.0\">\r\n",
      "\t\t\t\t\t\t<SimplePredicate field=\"capital_gain\" operator=\"lessOrEqual\" value=\"4064\"/>\r\n",
      "\t\t\t\t\t\t<ScoreDistribution value=\"&lt;=50K\" recordCount=\"1671.0\"/>\r\n",
      "\t\t\t\t\t\t<ScoreDistribution value=\"&gt;50K\" recordCount=\"3590.0\"/>\r\n",
      "\t\t\t\t\t\t<Node score=\"&gt;50K\" recordCount=\"4730.0\">\r\n",
      "\t\t\t\t\t\t\t<SimplePredicate field=\"capital_loss\" operator=\"lessOrEqual\" value=\"1876\"/>\r\n",
      "\t\t\t\t\t\t\t<ScoreDistribution value=\"&lt;=50K\" recordCount=\"1654.0\"/>\r\n",
      "\t\t\t\t\t\t\t<ScoreDistribution value=\"&gt;50K\" recordCount=\"3076.0\"/>\r\n",
      "\t\t\t\t\t\t\t<Node score=\"&lt;=50K\" recordCount=\"362.0\">\r\n",
      "\t\t\t\t\t\t\t\t<SimplePredicate field=\"hours_per_week\" operator=\"lessOrEqual\" value=\"30\"/>\r\n",
      "\t\t\t\t\t\t\t\t<ScoreDistribution value=\"&lt;=50K\" recordCount=\"220.0\"/>\r\n",
      "\t\t\t\t\t\t\t\t<ScoreDistribution value=\"&gt;50K\" recordCount=\"142.0\"/>\r\n",
      "\t\t\t\t\t\t\t</Node>\r\n",
      "\t\t\t\t\t\t\t<Node score=\"&gt;50K\" recordCount=\"4368.0\">\r\n",
      "\t\t\t\t\t\t\t\t<SimplePredicate field=\"hours_per_week\" operator=\"greaterThan\" value=\"30\"/>\r\n",
      "\t\t\t\t\t\t\t\t<ScoreDistribution value=\"&lt;=50K\" recordCount=\"1434.0\"/>\r\n",
      "\t\t\t\t\t\t\t\t<ScoreDistribution value=\"&gt;50K\" recordCount=\"2934.0\"/>\r\n",
      "\t\t\t\t\t\t\t</Node>\r\n",
      "\t\t\t\t\t\t</Node>\r\n",
      "\t\t\t\t\t\t<Node score=\"&gt;50K\" recordCount=\"531.0\">\r\n",
      "\t\t\t\t\t\t\t<SimplePredicate field=\"capital_loss\" operator=\"greaterThan\" value=\"1876\"/>\r\n",
      "\t\t\t\t\t\t\t<ScoreDistribution value=\"&lt;=50K\" recordCount=\"17.0\"/>\r\n",
      "\t\t\t\t\t\t\t<ScoreDistribution value=\"&gt;50K\" recordCount=\"514.0\"/>\r\n",
      "\t\t\t\t\t\t\t<Node score=\"&lt;=50K\" recordCount=\"2.0\">\r\n",
      "\t\t\t\t\t\t\t\t<SimplePredicate field=\"native_country\" operator=\"equal\" value=\"Iran\"/>\r\n",
      "\t\t\t\t\t\t\t\t<ScoreDistribution value=\"&lt;=50K\" recordCount=\"1.0\"/>\r\n",
      "\t\t\t\t\t\t\t\t<ScoreDistribution value=\"&gt;50K\" recordCount=\"1.0\"/>\r\n",
      "\t\t\t\t\t\t\t</Node>\r\n",
      "\t\t\t\t\t\t\t<Node score=\"&gt;50K\" recordCount=\"529.0\">\r\n",
      "\t\t\t\t\t\t\t\t<SimplePredicate field=\"native_country\" operator=\"notEqual\" value=\"Iran\"/>\r\n",
      "\t\t\t\t\t\t\t\t<ScoreDistribution value=\"&lt;=50K\" recordCount=\"16.0\"/>\r\n",
      "\t\t\t\t\t\t\t\t<ScoreDistribution value=\"&gt;50K\" recordCount=\"513.0\"/>\r\n",
      "\t\t\t\t\t\t\t</Node>\r\n",
      "\t\t\t\t\t\t</Node>\r\n",
      "\t\t\t\t\t</Node>\r\n",
      "\t\t\t\t\t<Node score=\"&gt;50K\" recordCount=\"1004.0\">\r\n",
      "\t\t\t\t\t\t<SimplePredicate field=\"capital_gain\" operator=\"greaterThan\" value=\"4064\"/>\r\n",
      "\t\t\t\t\t\t<ScoreDistribution value=\"&lt;=50K\" recordCount=\"38.0\"/>\r\n",
      "\t\t\t\t\t\t<ScoreDistribution value=\"&gt;50K\" recordCount=\"966.0\"/>\r\n",
      "\t\t\t\t\t\t<Node score=\"&gt;50K\" recordCount=\"459.0\">\r\n",
      "\t\t\t\t\t\t\t<SimplePredicate field=\"capital_gain\" operator=\"lessOrEqual\" value=\"7688\"/>\r\n",
      "\t\t\t\t\t\t\t<ScoreDistribution value=\"&lt;=50K\" recordCount=\"36.0\"/>\r\n",
      "\t\t\t\t\t\t\t<ScoreDistribution value=\"&gt;50K\" recordCount=\"423.0\"/>\r\n",
      "\t\t\t\t\t\t\t<Node score=\"&gt;50K\" recordCount=\"23.0\">\r\n",
      "\t\t\t\t\t\t\t\t<SimplePredicate field=\"hours_per_week\" operator=\"lessOrEqual\" value=\"34\"/>\r\n",
      "\t\t\t\t\t\t\t\t<ScoreDistribution value=\"&lt;=50K\" recordCount=\"8.0\"/>\r\n",
      "\t\t\t\t\t\t\t\t<ScoreDistribution value=\"&gt;50K\" recordCount=\"15.0\"/>\r\n",
      "\t\t\t\t\t\t\t</Node>\r\n",
      "\t\t\t\t\t\t\t<Node score=\"&gt;50K\" recordCount=\"436.0\">\r\n",
      "\t\t\t\t\t\t\t\t<SimplePredicate field=\"hours_per_week\" operator=\"greaterThan\" value=\"34\"/>\r\n",
      "\t\t\t\t\t\t\t\t<ScoreDistribution value=\"&lt;=50K\" recordCount=\"28.0\"/>\r\n",
      "\t\t\t\t\t\t\t\t<ScoreDistribution value=\"&gt;50K\" recordCount=\"408.0\"/>\r\n",
      "\t\t\t\t\t\t\t</Node>\r\n",
      "\t\t\t\t\t\t</Node>\r\n",
      "\t\t\t\t\t\t<Node score=\"&gt;50K\" recordCount=\"545.0\">\r\n",
      "\t\t\t\t\t\t\t<SimplePredicate field=\"capital_gain\" operator=\"greaterThan\" value=\"7688\"/>\r\n",
      "\t\t\t\t\t\t\t<ScoreDistribution value=\"&lt;=50K\" recordCount=\"2.0\"/>\r\n",
      "\t\t\t\t\t\t\t<ScoreDistribution value=\"&gt;50K\" recordCount=\"543.0\"/>\r\n",
      "\t\t\t\t\t\t\t<Node score=\"&gt;50K\" recordCount=\"6.0\">\r\n",
      "\t\t\t\t\t\t\t\t<SimplePredicate field=\"occupation\" operator=\"equal\" value=\"Farming-fishing\"/>\r\n",
      "\t\t\t\t\t\t\t\t<ScoreDistribution value=\"&lt;=50K\" recordCount=\"1.0\"/>\r\n",
      "\t\t\t\t\t\t\t\t<ScoreDistribution value=\"&gt;50K\" recordCount=\"5.0\"/>\r\n",
      "\t\t\t\t\t\t\t</Node>\r\n",
      "\t\t\t\t\t\t\t<Node score=\"&gt;50K\" recordCount=\"539.0\">\r\n",
      "\t\t\t\t\t\t\t\t<SimplePredicate field=\"occupation\" operator=\"notEqual\" value=\"Farming-fishing\"/>\r\n",
      "\t\t\t\t\t\t\t\t<ScoreDistribution value=\"&lt;=50K\" recordCount=\"1.0\"/>\r\n",
      "\t\t\t\t\t\t\t\t<ScoreDistribution value=\"&gt;50K\" recordCount=\"538.0\"/>\r\n",
      "\t\t\t\t\t\t\t</Node>\r\n",
      "\t\t\t\t\t\t</Node>\r\n",
      "\t\t\t\t\t</Node>\r\n",
      "\t\t\t\t</Node>\r\n",
      "\t\t\t</Node>\r\n",
      "\t\t</Node>\r\n",
      "\t</TreeModel>\r\n",
      "</PMML>\r\n"
     ]
    }
   ],
   "source": [
    "with open('/root/census.pmml', 'wb') as f:\n",
    "  f.write(pmmlBytes)\n",
    "\n",
    "!cat /root/census.pmml"
   ]
  },
  {
   "cell_type": "markdown",
   "metadata": {},
   "source": [
    "### Commit to Github and Trigger Canary Model Deployment"
   ]
  },
  {
   "cell_type": "markdown",
   "metadata": {},
   "source": [
    "### Monitor Canary Model Deployment"
   ]
  },
  {
   "cell_type": "code",
   "execution_count": 45,
   "metadata": {
    "collapsed": false,
    "scrolled": true
   },
   "outputs": [
    {
     "data": {
      "text/html": [
       "<iframe width=100% height=500px src=\"http://airflow.demo.pipeline.io\">"
      ],
      "text/plain": [
       "<IPython.core.display.HTML object>"
      ]
     },
     "metadata": {},
     "output_type": "display_data"
    }
   ],
   "source": [
    "from IPython.display import display, HTML\n",
    "\n",
    "html = '<iframe width=100% height=500px src=\"http://airflow.demo.pipeline.io\">'\n",
    "display(HTML(html))"
   ]
  },
  {
   "cell_type": "markdown",
   "metadata": {},
   "source": [
    "## Scale In and Cleanup"
   ]
  },
  {
   "cell_type": "markdown",
   "metadata": {},
   "source": [
    "### Load Test"
   ]
  },
  {
   "cell_type": "code",
   "execution_count": 57,
   "metadata": {
    "collapsed": false
   },
   "outputs": [
    {
     "name": "stdout",
     "output_type": "stream",
     "text": [
      "switched to context \"aws_k8s_training\".\r\n"
     ]
    }
   ],
   "source": [
    "!pipeline cluster switch aws_k8s_training"
   ]
  },
  {
   "cell_type": "code",
   "execution_count": 61,
   "metadata": {
    "collapsed": false
   },
   "outputs": [
    {
     "name": "stdout",
     "output_type": "stream",
     "text": [
      "...Loadtest...\n",
      "...Ignore Any Errors...\n",
      "replicationcontroller \"loadtest\" deleted\n"
     ]
    }
   ],
   "source": [
    "!pipeline service undeploy loadtest"
   ]
  },
  {
   "cell_type": "markdown",
   "metadata": {},
   "source": [
    "### Spark"
   ]
  },
  {
   "cell_type": "code",
   "execution_count": 58,
   "metadata": {
    "collapsed": false
   },
   "outputs": [
    {
     "name": "stdout",
     "output_type": "stream",
     "text": [
      "switched to context \"aws_k8s_training\".\r\n"
     ]
    }
   ],
   "source": [
    "!pipeline cluster switch aws_k8s_training"
   ]
  },
  {
   "cell_type": "code",
   "execution_count": 46,
   "metadata": {
    "collapsed": false,
    "scrolled": false
   },
   "outputs": [
    {
     "name": "stdout",
     "output_type": "stream",
     "text": [
      "Error from server: replicationcontrollers \"spark-worker-2-0-1\" not found\r\n"
     ]
    }
   ],
   "source": [
    "!pipeline service scale spark 1"
   ]
  },
  {
   "cell_type": "code",
   "execution_count": 47,
   "metadata": {
    "collapsed": false,
    "scrolled": false
   },
   "outputs": [
    {
     "name": "stdout",
     "output_type": "stream",
     "text": [
      "Current Cluster:\n",
      "aws_k8s_predictions\n",
      "\n",
      "Services:\n",
      "NAME                    CLUSTER-IP     EXTERNAL-IP        PORT(S)           AGE\n",
      "prediction-codegen      10.0.109.240   a58baa034b267...   80/TCP            12d\n",
      "prediction-pmml         10.0.143.121   a49b9ff63b266...   80/TCP            12d\n",
      "prediction-tensorflow   10.0.173.76    ab0dc9953b31c...   80/TCP            11d\n",
      "turbine                 10.0.106.99    a3ee17de8b266...   80/TCP,8990/TCP   12d\n",
      "weavescope-app          10.0.244.168   a337893b4b266...   80/TCP            12d\n",
      "\n",
      "Replication Controller:\n",
      "NAME                    DESIRED   CURRENT   READY     AGE\n",
      "prediction-codegen      2         2         1         6d\n",
      "prediction-pmml         2         2         1         7d\n",
      "prediction-tensorflow   2         2         1         7d\n",
      "turbine                 1         1         1         12d\n",
      "weavescope-app          1         1         1         12d\n",
      "\n",
      "Pods:\n",
      "NAME                          READY     STATUS              RESTARTS   AGE\n",
      "prediction-codegen-1kyxo      0/1       ContainerCreating   0          3s\n",
      "prediction-codegen-ctxq5      1/1       Running             0          6d\n",
      "prediction-pmml-jzimh         1/1       Running             0          7d\n",
      "prediction-pmml-kiknb         0/1       ContainerCreating   0          3s\n",
      "prediction-tensorflow-2ohws   0/1       ContainerCreating   0          3s\n",
      "prediction-tensorflow-jxe6m   1/1       Running             0          7d\n",
      "turbine-g4j7q                 1/1       Running             0          12d\n",
      "weavescope-app-oh0mh          1/1       Running             0          12d\n",
      "weavescope-probe-jwdo4        1/1       Running             0          12d\n"
     ]
    }
   ],
   "source": [
    "!pipeline cluster view"
   ]
  },
  {
   "cell_type": "markdown",
   "metadata": {},
   "source": [
    "### AWS Predictions"
   ]
  },
  {
   "cell_type": "code",
   "execution_count": 48,
   "metadata": {
    "collapsed": false,
    "scrolled": false
   },
   "outputs": [
    {
     "name": "stdout",
     "output_type": "stream",
     "text": [
      "switched to context \"aws_k8s_predictions\".\r\n"
     ]
    }
   ],
   "source": [
    "!pipeline cluster switch aws_k8s_predictions"
   ]
  },
  {
   "cell_type": "code",
   "execution_count": 49,
   "metadata": {
    "collapsed": false,
    "scrolled": false
   },
   "outputs": [
    {
     "name": "stdout",
     "output_type": "stream",
     "text": [
      "replicationcontroller \"prediction-pmml\" scaled\n",
      "replicationcontroller \"prediction-codegen\" scaled\n",
      "Error from server: replicationcontrollers \"prediction-cache\" not found\n",
      "replicationcontroller \"prediction-tensorflow\" scaled\n"
     ]
    }
   ],
   "source": [
    "!pipeline service scale prediction 1"
   ]
  },
  {
   "cell_type": "code",
   "execution_count": 50,
   "metadata": {
    "collapsed": false
   },
   "outputs": [
    {
     "name": "stdout",
     "output_type": "stream",
     "text": [
      "Current Cluster:\n",
      "aws_k8s_predictions\n",
      "\n",
      "Services:\n",
      "NAME                    CLUSTER-IP     EXTERNAL-IP        PORT(S)           AGE\n",
      "prediction-codegen      10.0.109.240   a58baa034b267...   80/TCP            12d\n",
      "prediction-pmml         10.0.143.121   a49b9ff63b266...   80/TCP            12d\n",
      "prediction-tensorflow   10.0.173.76    ab0dc9953b31c...   80/TCP            11d\n",
      "turbine                 10.0.106.99    a3ee17de8b266...   80/TCP,8990/TCP   12d\n",
      "weavescope-app          10.0.244.168   a337893b4b266...   80/TCP            12d\n",
      "\n",
      "Replication Controller:\n",
      "NAME                    DESIRED   CURRENT   READY     AGE\n",
      "prediction-codegen      1         1         1         6d\n",
      "prediction-pmml         1         1         1         7d\n",
      "prediction-tensorflow   1         1         1         7d\n",
      "turbine                 1         1         1         12d\n",
      "weavescope-app          1         1         1         12d\n",
      "\n",
      "Pods:\n",
      "NAME                          READY     STATUS        RESTARTS   AGE\n",
      "prediction-codegen-1kyxo      1/1       Terminating   0          4s\n",
      "prediction-codegen-ctxq5      1/1       Running       0          6d\n",
      "prediction-pmml-jzimh         1/1       Running       0          7d\n",
      "prediction-pmml-kiknb         1/1       Terminating   0          4s\n",
      "prediction-tensorflow-2ohws   0/1       Terminating   0          4s\n",
      "prediction-tensorflow-jxe6m   1/1       Running       0          7d\n",
      "turbine-g4j7q                 1/1       Running       0          12d\n",
      "weavescope-app-oh0mh          1/1       Running       0          12d\n",
      "weavescope-probe-jwdo4        1/1       Running       0          12d\n"
     ]
    }
   ],
   "source": [
    "!pipeline cluster view"
   ]
  },
  {
   "cell_type": "markdown",
   "metadata": {},
   "source": [
    "### GCP Predictions"
   ]
  },
  {
   "cell_type": "code",
   "execution_count": 66,
   "metadata": {
    "collapsed": false,
    "scrolled": false
   },
   "outputs": [
    {
     "name": "stdout",
     "output_type": "stream",
     "text": [
      "switched to context \"gcp_k8s_predictions\".\r\n"
     ]
    }
   ],
   "source": [
    "!pipeline cluster switch gcp_k8s_predictions"
   ]
  },
  {
   "cell_type": "code",
   "execution_count": 67,
   "metadata": {
    "collapsed": false,
    "scrolled": false
   },
   "outputs": [
    {
     "name": "stdout",
     "output_type": "stream",
     "text": [
      "replicationcontroller \"prediction-pmml\" scaled\n",
      "replicationcontroller \"prediction-codegen\" scaled\n",
      "Error from server: replicationcontrollers \"prediction-cache\" not found\n",
      "replicationcontroller \"prediction-tensorflow\" scaled\n"
     ]
    }
   ],
   "source": [
    "!pipeline service scale prediction 1"
   ]
  },
  {
   "cell_type": "code",
   "execution_count": 53,
   "metadata": {
    "collapsed": false,
    "scrolled": false
   },
   "outputs": [
    {
     "name": "stdout",
     "output_type": "stream",
     "text": [
      "Current Cluster:\n",
      "gcp_k8s_predictions\n",
      "\n",
      "Services:\n",
      "NAME                 CLUSTER-IP       EXTERNAL-IP      PORT(S)           AGE\n",
      "prediction-codegen   10.179.246.129   104.198.6.242    80/TCP            12d\n",
      "prediction-pmml      10.179.241.148   104.196.229.56   80/TCP            12d\n",
      "turbine              10.179.253.175   104.198.108.42   80/TCP,8990/TCP   12d\n",
      "weavescope-app       10.179.245.124   104.196.226.2    80/TCP            12d\n",
      "\n",
      "Replication Controller:\n",
      "NAME                    DESIRED   CURRENT   READY     AGE\n",
      "prediction-codegen      1         1         1         6d\n",
      "prediction-pmml         1         1         1         7d\n",
      "prediction-tensorflow   1         1         1         7d\n",
      "turbine                 1         1         1         12d\n",
      "weavescope-app          1         1         1         12d\n",
      "\n",
      "Pods:\n",
      "NAME                          READY     STATUS    RESTARTS   AGE\n",
      "prediction-codegen-k114g      1/1       Running   0          6d\n",
      "prediction-pmml-uafkm         1/1       Running   0          7d\n",
      "prediction-tensorflow-nobq4   1/1       Running   0          7d\n",
      "turbine-u6588                 1/1       Running   0          12d\n",
      "weavescope-app-nrc6o          1/1       Running   0          12d\n",
      "weavescope-probe-5rogi        1/1       Running   0          12d\n"
     ]
    }
   ],
   "source": [
    "!pipeline cluster view"
   ]
  }
 ],
 "metadata": {
  "anaconda-cloud": {},
  "kernelspec": {
   "display_name": "Python [default]",
   "language": "python",
   "name": "python3"
  },
  "language_info": {
   "codemirror_mode": {
    "name": "ipython",
    "version": 3
   },
   "file_extension": ".py",
   "mimetype": "text/x-python",
   "name": "python",
   "nbconvert_exporter": "python",
   "pygments_lexer": "ipython3",
   "version": "3.5.2"
  }
 },
 "nbformat": 4,
 "nbformat_minor": 0
}
