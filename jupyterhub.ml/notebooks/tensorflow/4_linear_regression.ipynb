{
 "cells": [
  {
   "cell_type": "code",
   "execution_count": 100,
   "metadata": {
    "collapsed": true
   },
   "outputs": [],
   "source": [
    "# 1.1 Import tensorflow and other libraries.\n",
    "import tensorflow as tf\n",
    "from tensorflow.python.client import timeline\n",
    "\n",
    "import numpy as np\n",
    "\n",
    "%matplotlib inline\n",
    "import pylab"
   ]
  },
  {
   "cell_type": "code",
   "execution_count": 101,
   "metadata": {},
   "outputs": [],
   "source": [
    "tf.reset_default_graph()"
   ]
  },
  {
   "cell_type": "code",
   "execution_count": 102,
   "metadata": {
    "collapsed": false
   },
   "outputs": [
    {
     "data": {
      "text/plain": [
       "[<matplotlib.lines.Line2D at 0x7f614004abe0>]"
      ]
     },
     "execution_count": 102,
     "metadata": {},
     "output_type": "execute_result"
    },
    {
     "data": {
      "image/png": "[encoded data removed]",
      "text/plain": [
       "<matplotlib.figure.Figure at 0x7f61400d8198>"
      ]
     },
     "metadata": {},
     "output_type": "display_data"
    }
   ],
   "source": [
    "# 1.2 Create input data using NumPy. y = x * 0.1 + 0.3 + noise\n",
    "x_train = np.random.rand(1000000).astype(np.float32)\n",
    "noise = np.random.normal(scale=0.01, size=len(x_train))\n",
    "y_train = x_train * 0.1 + 0.3 + noise\n",
    "\n",
    "# Pplot our input data.\n",
    "pylab.plot(x_train, y_train, '.')"
   ]
  },
  {
   "cell_type": "code",
   "execution_count": 103,
   "metadata": {
    "collapsed": true
   },
   "outputs": [],
   "source": [
    "# Create some fake test/validation data\n",
    "x_test = np.random.rand(len(x_train)).astype(np.float32)\n",
    "noise = np.random.normal(scale=0.01, size=len(x_train))\n",
    "y_test = x_test * 0.1 + 0.3 + noise"
   ]
  },
  {
   "cell_type": "code",
   "execution_count": 104,
   "metadata": {
    "collapsed": false
   },
   "outputs": [
    {
     "name": "stdout",
     "output_type": "stream",
     "text": [
      "Tensor(\"weights/read:0\", shape=(), dtype=float32, device=/device:CPU:0)\n",
      "Tensor(\"bias/read:0\", shape=(), dtype=float32, device=/device:CPU:0)\n",
      "Tensor(\"x:0\", shape=(?,), dtype=float32)\n"
     ]
    }
   ],
   "source": [
    "# 1.3 Build inference graph.\n",
    "# Create Variables W and b that compute y_data = W * x_data + b\n",
    "with tf.device(\"/cpu:0\"):\n",
    "  W = tf.get_variable(shape=[], name='weights')\n",
    "  print(W)\n",
    "\n",
    "  b = tf.get_variable(shape=[], name='bias')\n",
    "  print(b)\n",
    "\n",
    "# Create a placeholder we'll use later to feed x's into the graph for training and test.\n",
    "# shape=[None] means we can put in any number of examples. \n",
    "# This is used for minibatch training, and to evaluate a lot of examples at once.\n",
    "x = tf.placeholder(shape=[None], dtype=tf.float32, name='x')\n",
    "\n",
    "print(x)\n",
    "\n",
    "# This is the same as tf.add(tf.mul(W, x), b), but looks nicer\n",
    "y = W * x + b\n",
    "    \n",
    "#  print(tf.device.name)"
   ]
  },
  {
   "cell_type": "code",
   "execution_count": 105,
   "metadata": {
    "collapsed": false
   },
   "outputs": [],
   "source": [
    "# Write the graph so we can look at it in TensorBoard\n",
    "# Now is a good time to try that\n",
    "from datetime import datetime \n",
    "\n",
    "time = datetime.now().time()\n",
    "\n",
    "sw = tf.summary.FileWriter('/root/tensorboard/linear/%s' % time, graph=tf.get_default_graph())"
   ]
  },
  {
   "cell_type": "code",
   "execution_count": 106,
   "metadata": {
    "collapsed": false
   },
   "outputs": [
    {
     "name": "stdout",
     "output_type": "stream",
     "text": [
      "Tensor(\"y_:0\", shape=(?,), dtype=float32)\n"
     ]
    }
   ],
   "source": [
    "# Create a placeholder we'll use later to feed the correct y value into the graph\n",
    "y_ = tf.placeholder(shape=[None], dtype=tf.float32, name='y_')\n",
    "print(y_)"
   ]
  },
  {
   "cell_type": "code",
   "execution_count": 107,
   "metadata": {
    "collapsed": false
   },
   "outputs": [
    {
     "name": "stdout",
     "output_type": "stream",
     "text": [
      "loss: Tensor(\"Mean:0\", shape=(), dtype=float32, device=/device:CPU:0)\n",
      "optimizer: <tensorflow.python.training.gradient_descent.GradientDescentOptimizer object at 0x7f61400fcef0>\n",
      "train: name: \"GradientDescent\"\n",
      "op: \"NoOp\"\n",
      "input: \"^GradientDescent/update_weights/ApplyGradientDescent\"\n",
      "input: \"^GradientDescent/update_bias/ApplyGradientDescent\"\n",
      "device: \"/device:CPU:0\"\n",
      "\n"
     ]
    }
   ],
   "source": [
    "# 1.4 Build training graph.\n",
    "# Create an operation that calculates loss.\n",
    "\n",
    "with tf.device('/cpu:0'):\n",
    "  loss = tf.reduce_mean(tf.square(y - y_))  \n",
    "\n",
    "  # Create an optimizer.\n",
    "  optimizer = tf.train.GradientDescentOptimizer(0.5)  \n",
    "\n",
    "  # Create an operation that minimizes loss.\n",
    "  train = optimizer.minimize(loss)  \n",
    "\n",
    "  # 'loss', 'optimizer' and 'train' are.\n",
    "  print(\"loss:\", loss)\n",
    "  print(\"optimizer:\", optimizer)\n",
    "  print(\"train:\", train)"
   ]
  },
  {
   "cell_type": "code",
   "execution_count": 108,
   "metadata": {
    "collapsed": false
   },
   "outputs": [
    {
     "name": "stdout",
     "output_type": "stream",
     "text": [
      "name: \"init\"\n",
      "op: \"NoOp\"\n",
      "input: \"^weights/Assign\"\n",
      "input: \"^bias/Assign\"\n",
      "device: \"/device:CPU:0\"\n",
      "\n"
     ]
    }
   ],
   "source": [
    "# Create an operation to initialize all the variables.\n",
    "init_op = tf.global_variables_initializer()\n",
    "print(init_op)"
   ]
  },
  {
   "cell_type": "code",
   "execution_count": 109,
   "metadata": {},
   "outputs": [],
   "source": [
    "config = tf.ConfigProto(\n",
    "    #device_count={'CPU':1, 'GPU': 1},\n",
    "                        log_device_placement=True)\n",
    "#config.gpu_options.allow_growth=True\n",
    "config.graph_options.optimizer_options.global_jit_level = tf.OptimizerOptions.ON_1\n"
   ]
  },
  {
   "cell_type": "code",
   "execution_count": 110,
   "metadata": {},
   "outputs": [],
   "source": [
    "sess = tf.Session(config=config)\n",
    "sess.run(init_op)"
   ]
  },
  {
   "cell_type": "markdown",
   "metadata": {},
   "source": [
    "## Accuracy of Random Weights"
   ]
  },
  {
   "cell_type": "code",
   "execution_count": 111,
   "metadata": {
    "collapsed": false
   },
   "outputs": [
    {
     "data": {
      "text/plain": [
       "1.9594994"
      ]
     },
     "execution_count": 111,
     "metadata": {},
     "output_type": "execute_result"
    }
   ],
   "source": [
    "# Calculate accuracy on the evaluation data before training\n",
    "def test():\n",
    "  return sess.run(loss, feed_dict={x: x_test, y_: y_test})\n",
    "\n",
    "test()"
   ]
  },
  {
   "cell_type": "code",
   "execution_count": 112,
   "metadata": {
    "collapsed": false
   },
   "outputs": [],
   "source": [
    "# Add a Summary Operation so we can visualize the loss in TensorBoard\n",
    "scalar_summary = tf.summary.scalar('loss', loss)\n",
    "summary_op = tf.summary.merge([scalar_summary])"
   ]
  },
  {
   "cell_type": "code",
   "execution_count": 113,
   "metadata": {},
   "outputs": [],
   "source": [
    "# Write the graph so we can look at it in TensorBoard\n",
    "# Now is a good time to try that\n",
    "sw = tf.summary.FileWriter('/root/tensorboard/linear/%s' % time, graph=sess.graph)"
   ]
  },
  {
   "cell_type": "markdown",
   "metadata": {},
   "source": [
    "# Train Model"
   ]
  },
  {
   "cell_type": "code",
   "execution_count": 114,
   "metadata": {
    "collapsed": false
   },
   "outputs": [
    {
     "name": "stdout",
     "output_type": "stream",
     "text": [
      "CPU times: user 30.8 s, sys: 30.5 s, total: 1min 1s\n",
      "Wall time: 18.3 s\n"
     ]
    }
   ],
   "source": [
    "%%time\n",
    "\n",
    "max_steps = 1001\n",
    "\n",
    "run_metadata = tf.RunMetadata()\n",
    "\n",
    "for step in range(max_steps):\n",
    "  # Run the training op; feed the training data into the graph\n",
    "  if (step == (max_steps - 1)):\n",
    "    summary_str, _ = sess.run([summary_op, train], feed_dict={x: x_train, y_: y_train}, options=tf.RunOptions(trace_level=tf.RunOptions.FULL_TRACE), run_metadata=run_metadata)\n",
    "    trace = timeline.Timeline(step_stats=run_metadata.step_stats)\n",
    "    with open('timeline.ctf.json', 'w') as trace_file:\n",
    "      trace_file.write(trace.generate_chrome_trace_format(show_memory=True))\n",
    "  else:  \n",
    "    summary_str, _ = sess.run([summary_op, train], feed_dict={x: x_train, y_: y_train})\n",
    "\n",
    "  sw.add_summary(summary_str, step)\n",
    "  # Watch training happen real time.\n",
    "#  if step % 20 == 0:\n",
    "#    print(step, sess.run([W, b]))"
   ]
  },
  {
   "cell_type": "code",
   "execution_count": 115,
   "metadata": {},
   "outputs": [],
   "source": [
    "# Write the graph so we can look at it in TensorBoard\n",
    "# Now is a good time to try that\n",
    "sw = tf.summary.FileWriter('/root/tensorboard/linear/%s' % time, graph=sess.graph)"
   ]
  },
  {
   "cell_type": "code",
   "execution_count": 116,
   "metadata": {
    "collapsed": false
   },
   "outputs": [
    {
     "data": {
      "text/plain": [
       "(0, 1.0)"
      ]
     },
     "execution_count": 116,
     "metadata": {},
     "output_type": "execute_result"
    },
    {
     "data": {
      "image/png": "[encoded data removed]",
      "text/plain": [
       "<matplotlib.figure.Figure at 0x7f613878f940>"
      ]
     },
     "metadata": {},
     "output_type": "display_data"
    }
   ],
   "source": [
    "# 1.8 Plot the predicted values\n",
    "pylab.plot(x_train, y_train, '.', label=\"target\")\n",
    "pylab.plot(x_train, sess.run(y, feed_dict={x: x_train, y_: y_train}), \".\", label=\"predicted\")\n",
    "pylab.legend()\n",
    "pylab.ylim(0, 1.0)"
   ]
  },
  {
   "cell_type": "code",
   "execution_count": 117,
   "metadata": {
    "collapsed": false
   },
   "outputs": [
    {
     "data": {
      "text/plain": [
       "9.9948047e-05"
      ]
     },
     "execution_count": 117,
     "metadata": {},
     "output_type": "execute_result"
    }
   ],
   "source": [
    "# Check accuracy on eval data after training\n",
    "test()"
   ]
  },
  {
   "cell_type": "markdown",
   "metadata": {},
   "source": [
    "Demonstrate saving and restoring a model"
   ]
  },
  {
   "cell_type": "code",
   "execution_count": 89,
   "metadata": {
    "collapsed": true
   },
   "outputs": [],
   "source": [
    "#def predict(x_in): return sess.run(y, feed_dict={x: [x_in]})"
   ]
  },
  {
   "cell_type": "code",
   "execution_count": 90,
   "metadata": {
    "collapsed": false
   },
   "outputs": [],
   "source": [
    "# Save the model\n",
    "#saver = tf.train.Saver()\n",
    "#saver.save(sess, './my_checkpoint.ckpt')"
   ]
  },
  {
   "cell_type": "code",
   "execution_count": 91,
   "metadata": {
    "collapsed": false
   },
   "outputs": [],
   "source": [
    "# Current prediction\n",
    "#predict(3)"
   ]
  },
  {
   "cell_type": "code",
   "execution_count": 92,
   "metadata": {
    "collapsed": true
   },
   "outputs": [],
   "source": [
    "# Reset the model by running the init op again\n",
    "#sess.run(init_op) "
   ]
  },
  {
   "cell_type": "code",
   "execution_count": 93,
   "metadata": {
    "collapsed": false
   },
   "outputs": [],
   "source": [
    "# Prediction after variables reinitialized\n",
    "#predict(3)"
   ]
  },
  {
   "cell_type": "code",
   "execution_count": 94,
   "metadata": {
    "collapsed": false
   },
   "outputs": [],
   "source": [
    "#saver.restore(sess, './my_checkpoint.ckpt')"
   ]
  },
  {
   "cell_type": "code",
   "execution_count": 95,
   "metadata": {
    "collapsed": false
   },
   "outputs": [],
   "source": [
    "# Predictions after variables restored\n",
    "#predict(3)"
   ]
  },
  {
   "cell_type": "code",
   "execution_count": 119,
   "metadata": {},
   "outputs": [
    {
     "name": "stdout",
     "output_type": "stream",
     "text": [
      "name: \"x:0\"\n",
      "dtype: DT_FLOAT\n",
      "tensor_shape {\n",
      "  dim {\n",
      "    size: -1\n",
      "  }\n",
      "}\n",
      "\n",
      "name: \"y_:0\"\n",
      "dtype: DT_FLOAT\n",
      "tensor_shape {\n",
      "  dim {\n",
      "    size: -1\n",
      "  }\n",
      "}\n",
      "\n",
      "INFO:tensorflow:No assets to save.\n",
      "INFO:tensorflow:No assets to write.\n"
     ]
    }
   ],
   "source": [
    "#https://github.com/tensorflow/serving/blob/master/tensorflow_serving/example/mnist_saved_model.py\n",
    "\n",
    "from tensorflow.python.saved_model import builder as saved_model_builder\n",
    "from tensorflow.python.saved_model import signature_constants\n",
    "from tensorflow.python.saved_model import signature_def_utils\n",
    "from tensorflow.python.saved_model import tag_constants\n",
    "from tensorflow.python.saved_model import utils\n",
    "from tensorflow.python.util import compat\n",
    "\n",
    "time = datetime.now().time()\n",
    "\n",
    "# Save the model\n",
    "export_path = \"./export/%s\" % time\n",
    "\n",
    "builder = saved_model_builder.SavedModelBuilder(export_path)\n",
    "\n",
    "tensor_info_x = utils.build_tensor_info(x)\n",
    "print(tensor_info_x)\n",
    "\n",
    "tensor_info_y_ = utils.build_tensor_info(y_)\n",
    "print(tensor_info_y_)\n",
    "\n",
    "prediction_signature = \\\n",
    "  signature_def_utils.build_signature_def( \\\n",
    "    inputs = {'images': tensor_info_x}, \\\n",
    "    outputs = {'scores': tensor_info_y_} \\\n",
    "  )                                                               \n",
    "with tf.Session(graph=tf.Graph()) as sess:\n",
    "  builder.add_meta_graph_and_variables(sess,[tag_constants.SERVING], signature_def_map={'predict_images':prediction_signature, signature_constants.DEFAULT_SERVING_SIGNATURE_DEF_KEY:prediction_signature})\n"
   ]
  },
  {
   "cell_type": "code",
   "execution_count": null,
   "metadata": {},
   "outputs": [],
   "source": []
  }
 ],
 "metadata": {
  "anaconda-cloud": {},
  "kernelspec": {
   "display_name": "Python [default]",
   "language": "python",
   "name": "python3"
  },
  "language_info": {
   "codemirror_mode": {
    "name": "ipython",
    "version": 3
   },
   "file_extension": ".py",
   "mimetype": "text/x-python",
   "name": "python",
   "nbconvert_exporter": "python",
   "pygments_lexer": "ipython3",
   "version": "3.5.3"
  }
 },
 "nbformat": 4,
 "nbformat_minor": 2
}
