{
 "cells": [
  {
   "cell_type": "code",
   "execution_count": 1,
   "metadata": {
    "collapsed": false
   },
   "outputs": [],
   "source": [
    "import os.path\n",
    "\n",
    "import numpy as np\n",
    "import tensorflow as tf\n",
    "import matplotlib.pyplot as plt\n",
    "%matplotlib inline\n",
    "%config InlineBackend.figure_format = 'retina'\n",
    "\n",
    "import helpers"
   ]
  },
  {
   "cell_type": "markdown",
   "metadata": {
    "collapsed": true
   },
   "source": [
    "# CIFAR 10\n",
    "\n",
    "The [CIFAR-10 and CIFAR-100](https://www.cs.toronto.edu/~kriz/cifar.html) datasets consist of images comprising 10 or 100 different classes, respectively. The task here is to "
   ]
  },
  {
   "cell_type": "code",
   "execution_count": 2,
   "metadata": {
    "collapsed": false
   },
   "outputs": [
    {
     "name": "stdout",
     "output_type": "stream",
     "text": [
      "Extracting data for data/cifar-10-python. This may take a while. Please wait.\n"
     ]
    },
    {
     "data": {
      "text/plain": [
       "'data/cifar-10-python'"
      ]
     },
     "execution_count": 2,
     "metadata": {},
     "output_type": "execute_result"
    }
   ],
   "source": [
    "helpers.mkdir('data')\n",
    "path = helpers.download('https://www.cs.toronto.edu/~kriz/cifar-10-python.tar.gz', \n",
    "                        os.path.join('data', 'cifar-10-python.tar.gz'))\n",
    "helpers.extract_tar(path)"
   ]
  },
  {
   "cell_type": "code",
   "execution_count": null,
   "metadata": {
    "collapsed": false
   },
   "outputs": [],
   "source": []
  },
  {
   "cell_type": "code",
   "execution_count": 23,
   "metadata": {
    "collapsed": false
   },
   "outputs": [],
   "source": [
    "# Load training data and labels\n",
    "data_dir = os.path.join('data', 'cifar-10-batches-py')\n",
    "train_data = []\n",
    "train_labels = []\n",
    "for i in range(1,6):\n",
    "    batch_path = os.path.join(data_dir, 'data_batch_{}'.format(i))\n",
    "    data_dict = helpers.cifar_unpickle(batch_path)\n",
    "    train_data.append(data_dict['data'])\n",
    "    train_labels.append(data_dict['labels'])\n",
    "train_data = np.concatenate(train_data)\n",
    "train_labels = np.concatenate(train_labels).astype(np.int32)\n",
    "# Load test data and labels\n",
    "test_path = os.path.join(data_dir, 'test_batch')\n",
    "test_dict = helpers.cifar_unpickle(test_path)\n",
    "test_data = test_dict['data']\n",
    "test_labels = np.array(test_dict['labels'], dtype=np.int32)"
   ]
  },
  {
   "cell_type": "markdown",
   "metadata": {},
   "source": [
    "### Optional: Save CIFAR-10 data as NumPy format"
   ]
  },
  {
   "cell_type": "code",
   "execution_count": 24,
   "metadata": {
    "collapsed": false
   },
   "outputs": [],
   "source": [
    "np.save('data/cifar-train-images.npy', train_data)\n",
    "np.save('data/cifar-train-labels.npy', train_labels)\n",
    "np.save('data/cifar-test-images.npy', test_data)\n",
    "np.save('data/cifar-test-labels.npy', test_labels)    "
   ]
  },
  {
   "cell_type": "code",
   "execution_count": 27,
   "metadata": {
    "collapsed": true
   },
   "outputs": [],
   "source": [
    "# Load human-readable id array\n",
    "ids_path = os.path.join(data_dir, 'batches.meta')\n",
    "id2string = helpers.cifar_unpickle(ids_path)['label_names']"
   ]
  },
  {
   "cell_type": "code",
   "execution_count": 28,
   "metadata": {
    "collapsed": false
   },
   "outputs": [
    {
     "data": {
      "text/plain": [
       "['airplane',\n",
       " 'automobile',\n",
       " 'bird',\n",
       " 'cat',\n",
       " 'deer',\n",
       " 'dog',\n",
       " 'frog',\n",
       " 'horse',\n",
       " 'ship',\n",
       " 'truck']"
      ]
     },
     "execution_count": 28,
     "metadata": {},
     "output_type": "execute_result"
    }
   ],
   "source": [
    "id2string"
   ]
  },
  {
   "cell_type": "code",
   "execution_count": null,
   "metadata": {
    "collapsed": false
   },
   "outputs": [],
   "source": [
    "# Note: Depending on the specifics of your model\n",
    "# you'll need to adjust how many inputs go into each function\n",
    "# E.g. the \"model\" function might need a placeholder for input data\n",
    "#      as well as a placeholder for the dropout rate\n",
    "\n",
    "def inputs():\n",
    "    pass\n",
    "\n",
    "def preprocess(inputs):\n",
    "    pass\n",
    "\n",
    "def model(inputs):\n",
    "    pass\n",
    "\n",
    "def loss(inputs):\n",
    "    pass\n",
    "\n",
    "def train(inputs):\n",
    "    pass\n",
    "\n",
    "def summaries(inputs):\n",
    "    pass\n",
    "\n",
    "def train(inputs):\n",
    "    pass"
   ]
  },
  {
   "cell_type": "code",
   "execution_count": null,
   "metadata": {
    "collapsed": true
   },
   "outputs": [],
   "source": []
  }
 ],
 "metadata": {
  "kernelspec": {
   "display_name": "Python 3",
   "language": "python",
   "name": "python3"
  },
  "language_info": {
   "codemirror_mode": {
    "name": "ipython",
    "version": 3
   },
   "file_extension": ".py",
   "mimetype": "text/x-python",
   "name": "python",
   "nbconvert_exporter": "python",
   "pygments_lexer": "ipython3",
   "version": "3.5.2"
  }
 },
 "nbformat": 4,
 "nbformat_minor": 2
}
