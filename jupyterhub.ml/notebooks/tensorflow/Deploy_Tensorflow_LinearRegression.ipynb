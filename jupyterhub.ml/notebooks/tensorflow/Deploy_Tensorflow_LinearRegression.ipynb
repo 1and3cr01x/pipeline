{
 "cells": [
  {
   "cell_type": "markdown",
   "metadata": {},
   "source": [
    "Uncomment lines from this notebook to learn more."
   ]
  },
  {
   "cell_type": "code",
   "execution_count": null,
   "metadata": {
    "collapsed": true
   },
   "outputs": [],
   "source": [
    "# 1.1 Import tensorflow and other libraries.\n",
    "import tensorflow as tf\n",
    "import numpy as np\n",
    "\n",
    "%matplotlib inline\n",
    "import pylab"
   ]
  },
  {
   "cell_type": "code",
<<<<<<< HEAD
   "execution_count": 52,
   "metadata": {
    "collapsed": false
   },
   "outputs": [
    {
     "data": {
      "text/plain": [
       "[<matplotlib.lines.Line2D at 0x7f4cec0ebc18>]"
      ]
     },
     "execution_count": 52,
     "metadata": {},
     "output_type": "execute_result"
    },
    {
     "data": {
      "image/png": "iVBORw0KGgoAAAANSUhEUgAAAX4AAAD8CAYAAABw1c+bAAAABHNCSVQICAgIfAhkiAAAAAlwSFlz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\nM6sYB34zs4px4Dczq5j/D7akxTNJiX3gAAAAAElFTkSuQmCC\n",
      "text/plain": [
       "<matplotlib.figure.Figure at 0x7f4cec10b400>"
      ]
     },
     "metadata": {},
     "output_type": "display_data"
    }
   ],
=======
   "execution_count": null,
   "metadata": {
    "collapsed": false
   },
   "outputs": [],
>>>>>>> 1ec51f0ba67ee41f2dd9b8a4fe6f38636c29c840
   "source": [
    "# 1.2 Create input data using NumPy. y = x * 0.1 + 0.3 + noise\n",
    "x_train = np.random.rand(100).astype(np.float32)\n",
    "noise = np.random.normal(scale=0.01, size=len(x_train))\n",
    "y_train = x_train * 0.1 + 0.3 + noise\n",
    "\n",
    "# Pplot our input data.\n",
    "pylab.plot(x_train, y_train, '.')"
   ]
  },
  {
   "cell_type": "code",
<<<<<<< HEAD
   "execution_count": 53,
=======
   "execution_count": null,
>>>>>>> 1ec51f0ba67ee41f2dd9b8a4fe6f38636c29c840
   "metadata": {
    "collapsed": true
   },
   "outputs": [],
   "source": [
    "# Create some fake evaluation data\n",
    "x_eval = np.random.rand(len(x_train)).astype(np.float32)\n",
    "noise = np.random.normal(scale=0.01, size=len(x_train))\n",
    "y_eval = x_eval * 0.1 + 0.3 + noise"
   ]
  },
  {
   "cell_type": "code",
<<<<<<< HEAD
   "execution_count": 54,
=======
   "execution_count": null,
>>>>>>> 1ec51f0ba67ee41f2dd9b8a4fe6f38636c29c840
   "metadata": {
    "collapsed": false
   },
   "outputs": [
    {
     "ename": "ValueError",
     "evalue": "Variable weights already exists, disallowed. Did you mean to set reuse=True in VarScope? Originally defined at:\n\n  File \"<ipython-input-7-f4b970fcedbc>\", line 3, in <module>\n    W = tf.get_variable(shape=[], name='weights')\n  File \"/opt/conda/lib/python3.5/site-packages/IPython/core/interactiveshell.py\", line 2881, in run_code\n    exec(code_obj, self.user_global_ns, self.user_ns)\n  File \"/opt/conda/lib/python3.5/site-packages/IPython/core/interactiveshell.py\", line 2821, in run_ast_nodes\n    if self.run_code(code, result):\n",
     "output_type": "error",
     "traceback": [
      "\u001b[0;31m---------------------------------------------------------------------------\u001b[0m",
      "\u001b[0;31mValueError\u001b[0m                                Traceback (most recent call last)",
      "\u001b[0;32m<ipython-input-54-f4b970fcedbc>\u001b[0m in \u001b[0;36m<module>\u001b[0;34m()\u001b[0m\n\u001b[1;32m      1\u001b[0m \u001b[0;31m# 1.3 Buld inference graph.\u001b[0m\u001b[0;34m\u001b[0m\u001b[0;34m\u001b[0m\u001b[0m\n\u001b[1;32m      2\u001b[0m \u001b[0;31m# Create Variables W and b that compute y_data = W * x_data + b\u001b[0m\u001b[0;34m\u001b[0m\u001b[0;34m\u001b[0m\u001b[0m\n\u001b[0;32m----> 3\u001b[0;31m \u001b[0mW\u001b[0m \u001b[0;34m=\u001b[0m \u001b[0mtf\u001b[0m\u001b[0;34m.\u001b[0m\u001b[0mget_variable\u001b[0m\u001b[0;34m(\u001b[0m\u001b[0mshape\u001b[0m\u001b[0;34m=\u001b[0m\u001b[0;34m[\u001b[0m\u001b[0;34m]\u001b[0m\u001b[0;34m,\u001b[0m \u001b[0mname\u001b[0m\u001b[0;34m=\u001b[0m\u001b[0;34m'weights'\u001b[0m\u001b[0;34m)\u001b[0m\u001b[0;34m\u001b[0m\u001b[0m\n\u001b[0m\u001b[1;32m      4\u001b[0m \u001b[0mb\u001b[0m \u001b[0;34m=\u001b[0m \u001b[0mtf\u001b[0m\u001b[0;34m.\u001b[0m\u001b[0mget_variable\u001b[0m\u001b[0;34m(\u001b[0m\u001b[0mshape\u001b[0m\u001b[0;34m=\u001b[0m\u001b[0;34m[\u001b[0m\u001b[0;34m]\u001b[0m\u001b[0;34m,\u001b[0m \u001b[0mname\u001b[0m\u001b[0;34m=\u001b[0m\u001b[0;34m'bias'\u001b[0m\u001b[0;34m)\u001b[0m\u001b[0;34m\u001b[0m\u001b[0m\n\u001b[1;32m      5\u001b[0m \u001b[0;34m\u001b[0m\u001b[0m\n",
      "\u001b[0;32m/opt/conda/lib/python3.5/site-packages/tensorflow/python/ops/variable_scope.py\u001b[0m in \u001b[0;36mget_variable\u001b[0;34m(name, shape, dtype, initializer, regularizer, trainable, collections, caching_device, partitioner, validate_shape, custom_getter)\u001b[0m\n\u001b[1;32m    986\u001b[0m       \u001b[0mcollections\u001b[0m\u001b[0;34m=\u001b[0m\u001b[0mcollections\u001b[0m\u001b[0;34m,\u001b[0m \u001b[0mcaching_device\u001b[0m\u001b[0;34m=\u001b[0m\u001b[0mcaching_device\u001b[0m\u001b[0;34m,\u001b[0m\u001b[0;34m\u001b[0m\u001b[0m\n\u001b[1;32m    987\u001b[0m       \u001b[0mpartitioner\u001b[0m\u001b[0;34m=\u001b[0m\u001b[0mpartitioner\u001b[0m\u001b[0;34m,\u001b[0m \u001b[0mvalidate_shape\u001b[0m\u001b[0;34m=\u001b[0m\u001b[0mvalidate_shape\u001b[0m\u001b[0;34m,\u001b[0m\u001b[0;34m\u001b[0m\u001b[0m\n\u001b[0;32m--> 988\u001b[0;31m       custom_getter=custom_getter)\n\u001b[0m\u001b[1;32m    989\u001b[0m get_variable_or_local_docstring = (\n\u001b[1;32m    990\u001b[0m     \"\"\"%s\n",
      "\u001b[0;32m/opt/conda/lib/python3.5/site-packages/tensorflow/python/ops/variable_scope.py\u001b[0m in \u001b[0;36mget_variable\u001b[0;34m(self, var_store, name, shape, dtype, initializer, regularizer, trainable, collections, caching_device, partitioner, validate_shape, custom_getter)\u001b[0m\n\u001b[1;32m    888\u001b[0m           \u001b[0mcollections\u001b[0m\u001b[0;34m=\u001b[0m\u001b[0mcollections\u001b[0m\u001b[0;34m,\u001b[0m \u001b[0mcaching_device\u001b[0m\u001b[0;34m=\u001b[0m\u001b[0mcaching_device\u001b[0m\u001b[0;34m,\u001b[0m\u001b[0;34m\u001b[0m\u001b[0m\n\u001b[1;32m    889\u001b[0m           \u001b[0mpartitioner\u001b[0m\u001b[0;34m=\u001b[0m\u001b[0mpartitioner\u001b[0m\u001b[0;34m,\u001b[0m \u001b[0mvalidate_shape\u001b[0m\u001b[0;34m=\u001b[0m\u001b[0mvalidate_shape\u001b[0m\u001b[0;34m,\u001b[0m\u001b[0;34m\u001b[0m\u001b[0m\n\u001b[0;32m--> 890\u001b[0;31m           custom_getter=custom_getter)\n\u001b[0m\u001b[1;32m    891\u001b[0m \u001b[0;34m\u001b[0m\u001b[0m\n\u001b[1;32m    892\u001b[0m   def _get_partitioned_variable(self,\n",
      "\u001b[0;32m/opt/conda/lib/python3.5/site-packages/tensorflow/python/ops/variable_scope.py\u001b[0m in \u001b[0;36mget_variable\u001b[0;34m(self, name, shape, dtype, initializer, regularizer, reuse, trainable, collections, caching_device, partitioner, validate_shape, custom_getter)\u001b[0m\n\u001b[1;32m    346\u001b[0m           \u001b[0mreuse\u001b[0m\u001b[0;34m=\u001b[0m\u001b[0mreuse\u001b[0m\u001b[0;34m,\u001b[0m \u001b[0mtrainable\u001b[0m\u001b[0;34m=\u001b[0m\u001b[0mtrainable\u001b[0m\u001b[0;34m,\u001b[0m \u001b[0mcollections\u001b[0m\u001b[0;34m=\u001b[0m\u001b[0mcollections\u001b[0m\u001b[0;34m,\u001b[0m\u001b[0;34m\u001b[0m\u001b[0m\n\u001b[1;32m    347\u001b[0m           \u001b[0mcaching_device\u001b[0m\u001b[0;34m=\u001b[0m\u001b[0mcaching_device\u001b[0m\u001b[0;34m,\u001b[0m \u001b[0mpartitioner\u001b[0m\u001b[0;34m=\u001b[0m\u001b[0mpartitioner\u001b[0m\u001b[0;34m,\u001b[0m\u001b[0;34m\u001b[0m\u001b[0m\n\u001b[0;32m--> 348\u001b[0;31m           validate_shape=validate_shape)\n\u001b[0m\u001b[1;32m    349\u001b[0m \u001b[0;34m\u001b[0m\u001b[0m\n\u001b[1;32m    350\u001b[0m   def _get_partitioned_variable(\n",
      "\u001b[0;32m/opt/conda/lib/python3.5/site-packages/tensorflow/python/ops/variable_scope.py\u001b[0m in \u001b[0;36m_true_getter\u001b[0;34m(name, shape, dtype, initializer, regularizer, reuse, trainable, collections, caching_device, partitioner, validate_shape)\u001b[0m\n\u001b[1;32m    331\u001b[0m           \u001b[0minitializer\u001b[0m\u001b[0;34m=\u001b[0m\u001b[0minitializer\u001b[0m\u001b[0;34m,\u001b[0m \u001b[0mregularizer\u001b[0m\u001b[0;34m=\u001b[0m\u001b[0mregularizer\u001b[0m\u001b[0;34m,\u001b[0m \u001b[0mreuse\u001b[0m\u001b[0;34m=\u001b[0m\u001b[0mreuse\u001b[0m\u001b[0;34m,\u001b[0m\u001b[0;34m\u001b[0m\u001b[0m\n\u001b[1;32m    332\u001b[0m           \u001b[0mtrainable\u001b[0m\u001b[0;34m=\u001b[0m\u001b[0mtrainable\u001b[0m\u001b[0;34m,\u001b[0m \u001b[0mcollections\u001b[0m\u001b[0;34m=\u001b[0m\u001b[0mcollections\u001b[0m\u001b[0;34m,\u001b[0m\u001b[0;34m\u001b[0m\u001b[0m\n\u001b[0;32m--> 333\u001b[0;31m           caching_device=caching_device, validate_shape=validate_shape)\n\u001b[0m\u001b[1;32m    334\u001b[0m \u001b[0;34m\u001b[0m\u001b[0m\n\u001b[1;32m    335\u001b[0m     \u001b[0;32mif\u001b[0m \u001b[0mcustom_getter\u001b[0m \u001b[0;32mis\u001b[0m \u001b[0;32mnot\u001b[0m \u001b[0;32mNone\u001b[0m\u001b[0;34m:\u001b[0m\u001b[0;34m\u001b[0m\u001b[0m\n",
      "\u001b[0;32m/opt/conda/lib/python3.5/site-packages/tensorflow/python/ops/variable_scope.py\u001b[0m in \u001b[0;36m_get_single_variable\u001b[0;34m(self, name, shape, dtype, initializer, regularizer, partition_info, reuse, trainable, collections, caching_device, validate_shape)\u001b[0m\n\u001b[1;32m    637\u001b[0m                          \u001b[0;34m\" Did you mean to set reuse=True in VarScope? \"\u001b[0m\u001b[0;34m\u001b[0m\u001b[0m\n\u001b[1;32m    638\u001b[0m                          \"Originally defined at:\\n\\n%s\" % (\n\u001b[0;32m--> 639\u001b[0;31m                              name, \"\".join(traceback.format_list(tb))))\n\u001b[0m\u001b[1;32m    640\u001b[0m       \u001b[0mfound_var\u001b[0m \u001b[0;34m=\u001b[0m \u001b[0mself\u001b[0m\u001b[0;34m.\u001b[0m\u001b[0m_vars\u001b[0m\u001b[0;34m[\u001b[0m\u001b[0mname\u001b[0m\u001b[0;34m]\u001b[0m\u001b[0;34m\u001b[0m\u001b[0m\n\u001b[1;32m    641\u001b[0m       \u001b[0;32mif\u001b[0m \u001b[0;32mnot\u001b[0m \u001b[0mshape\u001b[0m\u001b[0;34m.\u001b[0m\u001b[0mis_compatible_with\u001b[0m\u001b[0;34m(\u001b[0m\u001b[0mfound_var\u001b[0m\u001b[0;34m.\u001b[0m\u001b[0mget_shape\u001b[0m\u001b[0;34m(\u001b[0m\u001b[0;34m)\u001b[0m\u001b[0;34m)\u001b[0m\u001b[0;34m:\u001b[0m\u001b[0;34m\u001b[0m\u001b[0m\n",
      "\u001b[0;31mValueError\u001b[0m: Variable weights already exists, disallowed. Did you mean to set reuse=True in VarScope? Originally defined at:\n\n  File \"<ipython-input-7-f4b970fcedbc>\", line 3, in <module>\n    W = tf.get_variable(shape=[], name='weights')\n  File \"/opt/conda/lib/python3.5/site-packages/IPython/core/interactiveshell.py\", line 2881, in run_code\n    exec(code_obj, self.user_global_ns, self.user_ns)\n  File \"/opt/conda/lib/python3.5/site-packages/IPython/core/interactiveshell.py\", line 2821, in run_ast_nodes\n    if self.run_code(code, result):\n"
     ]
    }
   ],
   "source": [
    "# 1.3 Buld inference graph.\n",
    "# Create Variables W and b that compute y_data = W * x_data + b\n",
    "W = tf.get_variable(shape=[], name='weights')\n",
    "b = tf.get_variable(shape=[], name='bias')\n",
    "\n",
    "print(W)\n",
    "print(b)\n",
    "\n",
    "# Create a placeholder we'll use later to feed x's into the graph for training and eval.\n",
    "# shape=[None] means we can put in any number of examples. \n",
    "# This is used for minibatch training, and to evaluate a lot of examples at once.\n",
    "x = tf.placeholder(shape=[None], dtype=tf.float32, name='x')\n",
    "\n",
    "print(x)\n",
    "\n",
    "# This is the same as tf.add(tf.mul(W, x), b), but looks nicer\n",
    "y = W * x + b"
   ]
  },
  {
   "cell_type": "code",
   "execution_count": null,
   "metadata": {
    "collapsed": false
   },
   "outputs": [],
   "source": [
    "# Write the graph so we can look at it in TensorBoard\n",
    "# Now is a good time to try that\n",
    "sw = tf.summary.FileWriter('/root/tensorboard/linear', graph=tf.get_default_graph())"
   ]
  },
  {
   "cell_type": "code",
   "execution_count": null,
   "metadata": {
    "collapsed": false
   },
   "outputs": [],
   "source": [
    "# Create a placeholder we'll use later to feed the correct y value into the graph\n",
    "y_label = tf.placeholder(shape=[None], dtype=tf.float32, name='y_label')\n",
    "print(y_label)"
   ]
  },
  {
   "cell_type": "code",
<<<<<<< HEAD
   "execution_count": 55,
=======
   "execution_count": null,
>>>>>>> 1ec51f0ba67ee41f2dd9b8a4fe6f38636c29c840
   "metadata": {
    "collapsed": false
   },
   "outputs": [
    {
     "name": "stdout",
     "output_type": "stream",
     "text": [
      "loss: Tensor(\"Mean_1:0\", shape=(), dtype=float32)\n",
      "optimizer: <tensorflow.python.training.gradient_descent.GradientDescentOptimizer object at 0x7f4cec1d6c50>\n",
      "train: name: \"GradientDescent_1\"\n",
      "op: \"NoOp\"\n",
      "input: \"^GradientDescent_1/update_weights/ApplyGradientDescent\"\n",
      "input: \"^GradientDescent_1/update_bias/ApplyGradientDescent\"\n",
      "\n"
     ]
    }
   ],
   "source": [
    "# 1.4 Build training graph.\n",
    "loss = tf.reduce_mean(tf.square(y - y_label))  # Create an operation that calculates loss.\n",
    "optimizer = tf.train.GradientDescentOptimizer(0.5)  # Create an optimizer.\n",
    "train = optimizer.minimize(loss)  # Create an operation that minimizes loss.\n",
    "\n",
    "# 'loss', 'optimizer' and 'train' are.\n",
    "print(\"loss:\", loss)\n",
    "print(\"optimizer:\", optimizer)\n",
    "print(\"train:\", train)"
   ]
  },
  {
   "cell_type": "code",
<<<<<<< HEAD
   "execution_count": 56,
=======
   "execution_count": null,
>>>>>>> 1ec51f0ba67ee41f2dd9b8a4fe6f38636c29c840
   "metadata": {
    "collapsed": false
   },
   "outputs": [
    {
     "name": "stdout",
     "output_type": "stream",
     "text": [
      "name: \"init_1\"\n",
      "op: \"NoOp\"\n",
      "input: \"^weights/Assign\"\n",
      "input: \"^bias/Assign\"\n",
      "\n"
     ]
    }
   ],
   "source": [
    "# Create an operation to initialize all the variables.\n",
    "init = tf.global_variables_initializer()\n",
    "print(init)"
   ]
  },
  {
   "cell_type": "code",
<<<<<<< HEAD
   "execution_count": 57,
=======
   "execution_count": null,
>>>>>>> 1ec51f0ba67ee41f2dd9b8a4fe6f38636c29c840
   "metadata": {
    "collapsed": false
   },
   "outputs": [
    {
     "name": "stdout",
     "output_type": "stream",
     "text": [
      "[-1.2081385, 0.035148144]\n"
     ]
    }
   ],
   "source": [
    "# 1.6 Create a session and launch the graph.\n",
    "sess = tf.InteractiveSession()\n",
    "sess.run(init)\n",
    "\n",
    "# Initial W and b values.\n",
    "print(sess.run([W, b]))"
   ]
  },
  {
   "cell_type": "code",
<<<<<<< HEAD
   "execution_count": 58,
=======
   "execution_count": null,
>>>>>>> 1ec51f0ba67ee41f2dd9b8a4fe6f38636c29c840
   "metadata": {
    "collapsed": false
   },
   "outputs": [
    {
     "data": {
      "text/plain": [
       "array([-3.58926725], dtype=float32)"
      ]
     },
     "execution_count": 58,
     "metadata": {},
     "output_type": "execute_result"
    }
   ],
   "source": [
    "# test that we can compute a y from an x (without having trained anything). \n",
    "# x must be a vector, hence [3] not just 3.\n",
    "x_in = [3]\n",
    "sess.run(y, feed_dict={x: x_in})"
   ]
  },
  {
   "cell_type": "code",
<<<<<<< HEAD
   "execution_count": 59,
   "metadata": {
    "collapsed": false
   },
   "outputs": [
    {
     "data": {
      "text/plain": [
       "0.95596385"
      ]
     },
     "execution_count": 59,
     "metadata": {},
     "output_type": "execute_result"
    }
   ],
=======
   "execution_count": null,
   "metadata": {
    "collapsed": false
   },
   "outputs": [],
>>>>>>> 1ec51f0ba67ee41f2dd9b8a4fe6f38636c29c840
   "source": [
    "# Calculate accuracy on the evaluation data before training\n",
    "def eval():\n",
    "    return sess.run(loss, feed_dict={x: x_eval, y_label: y_eval})\n",
    "eval()"
   ]
  },
  {
   "cell_type": "code",
<<<<<<< HEAD
   "execution_count": 60,
=======
   "execution_count": null,
>>>>>>> 1ec51f0ba67ee41f2dd9b8a4fe6f38636c29c840
   "metadata": {
    "collapsed": false
   },
   "outputs": [],
   "source": [
    "# Add a Summary Operation so we can visualize the loss in TensorBoard\n",
    "scalar_summary = tf.summary.scalar('loss', loss)\n",
    "summary_op = tf.summary.merge([scalar_summary])"
   ]
  },
  {
   "cell_type": "code",
   "execution_count": 61,
   "metadata": {},
   "outputs": [],
   "source": [
    "# Write the graph so we can look at it in TensorBoard\n",
    "# Now is a good time to try that\n",
    "sw = tf.summary.FileWriter('/root/tensorboard/linear', graph=sess.graph)"
   ]
  },
  {
   "cell_type": "code",
<<<<<<< HEAD
   "execution_count": 62,
   "metadata": {
    "collapsed": false
   },
   "outputs": [
    {
     "name": "stdout",
     "output_type": "stream",
     "text": [
      "0 [-0.62807298, 0.96209425]\n",
      "20 [-0.1107046, 0.41511509]\n",
      "40 [0.04612118, 0.33016548]\n",
      "60 [0.085217223, 0.30898789]\n",
      "80 [0.0949637, 0.3037084]\n",
      "100 [0.097393453, 0.30239224]\n",
      "120 [0.09799917, 0.30206415]\n",
      "140 [0.098150194, 0.30198234]\n",
      "160 [0.098187849, 0.30196193]\n",
      "180 [0.098197237, 0.30195686]\n",
      "200 [0.098199554, 0.30195561]\n"
     ]
    }
   ],
=======
   "execution_count": null,
   "metadata": {
    "collapsed": false
   },
   "outputs": [],
>>>>>>> 1ec51f0ba67ee41f2dd9b8a4fe6f38636c29c840
   "source": [
    "# 1.7 Perform training.\n",
    "for step in range(201):\n",
    "  # Run the training op; feed the training data into the graph\n",
    "  summary_str, _ = sess.run([summary_op, train], feed_dict={x: x_train, y_label: y_train})\n",
    "  sw.add_summary(summary_str, step)\n",
    "  # Watch training happen real time.\n",
    "  if step % 20 == 0:\n",
    "    print(step, sess.run([W, b]))"
   ]
  },
  {
   "cell_type": "code",
<<<<<<< HEAD
   "execution_count": 63,
   "metadata": {},
   "outputs": [],
   "source": [
    "# Write the graph so we can look at it in TensorBoard\n",
    "# Now is a good time to try that\n",
    "sw = tf.summary.FileWriter('/root/tensorboard/linear', graph=sess.graph)"
   ]
  },
  {
   "cell_type": "code",
   "execution_count": 44,
=======
   "execution_count": null,
>>>>>>> 1ec51f0ba67ee41f2dd9b8a4fe6f38636c29c840
   "metadata": {
    "collapsed": false
   },
   "outputs": [
    {
     "data": {
      "text/plain": [
       "(0, 1.0)"
      ]
     },
     "execution_count": 44,
     "metadata": {},
     "output_type": "execute_result"
    },
    {
     "data": {
      "image/png": "iVBORw0KGgoAAAANSUhEUgAAAXcAAAD8CAYAAACMwORRAAAABHNCSVQICAgIfAhkiAAAAAlwSFlz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\n",
      "text/plain": [
       "<matplotlib.figure.Figure at 0x7f4cef4186a0>"
      ]
     },
     "metadata": {},
     "output_type": "display_data"
    }
   ],
   "source": [
    "# 1.8 Plot the predicted values\n",
    "pylab.plot(x_train, y_train, '.', label=\"target\")\n",
    "pylab.plot(x_train, sess.run(y, feed_dict={x: x_train, y_label: y_train}), \".\", label=\"predicted\")\n",
    "pylab.legend()\n",
    "pylab.ylim(0, 1.0)"
   ]
  },
  {
   "cell_type": "code",
<<<<<<< HEAD
   "execution_count": 45,
   "metadata": {
    "collapsed": false
   },
   "outputs": [
    {
     "data": {
      "text/plain": [
       "0.00011113229"
      ]
     },
     "execution_count": 45,
     "metadata": {},
     "output_type": "execute_result"
    }
   ],
=======
   "execution_count": null,
   "metadata": {
    "collapsed": false
   },
   "outputs": [],
>>>>>>> 1ec51f0ba67ee41f2dd9b8a4fe6f38636c29c840
   "source": [
    "# Check accuracy on eval data after training\n",
    "eval()"
   ]
  },
  {
   "cell_type": "markdown",
   "metadata": {},
   "source": [
    "Demonstrate saving and restoring a model"
   ]
  },
  {
   "cell_type": "code",
<<<<<<< HEAD
   "execution_count": 19,
=======
   "execution_count": null,
>>>>>>> 1ec51f0ba67ee41f2dd9b8a4fe6f38636c29c840
   "metadata": {
    "collapsed": true
   },
   "outputs": [],
   "source": [
    "def predict(x_in): return sess.run(y, feed_dict={x: [x_in]})"
   ]
  },
  {
   "cell_type": "code",
<<<<<<< HEAD
   "execution_count": 20,
   "metadata": {
    "collapsed": false
   },
   "outputs": [
    {
     "data": {
      "text/plain": [
       "'./my_checkpoint.ckpt'"
      ]
     },
     "execution_count": 20,
     "metadata": {},
     "output_type": "execute_result"
    }
   ],
=======
   "execution_count": null,
   "metadata": {
    "collapsed": false
   },
   "outputs": [],
>>>>>>> 1ec51f0ba67ee41f2dd9b8a4fe6f38636c29c840
   "source": [
    "# Save the model\n",
    "saver = tf.train.Saver()\n",
    "saver.save(sess, './my_checkpoint.ckpt')"
   ]
  },
  {
   "cell_type": "code",
<<<<<<< HEAD
   "execution_count": 21,
   "metadata": {
    "collapsed": false
   },
   "outputs": [
    {
     "data": {
      "text/plain": [
       "array([ 3.86561513], dtype=float32)"
      ]
     },
     "execution_count": 21,
     "metadata": {},
     "output_type": "execute_result"
    }
   ],
=======
   "execution_count": null,
   "metadata": {
    "collapsed": false
   },
   "outputs": [],
>>>>>>> 1ec51f0ba67ee41f2dd9b8a4fe6f38636c29c840
   "source": [
    "# Current prediction\n",
    "predict(3)"
   ]
  },
  {
   "cell_type": "code",
<<<<<<< HEAD
   "execution_count": 22,
=======
   "execution_count": null,
>>>>>>> 1ec51f0ba67ee41f2dd9b8a4fe6f38636c29c840
   "metadata": {
    "collapsed": true
   },
   "outputs": [],
   "source": [
    "# Reset the model by running the init op again\n",
    "sess.run(init) "
   ]
  },
  {
   "cell_type": "code",
<<<<<<< HEAD
   "execution_count": 23,
   "metadata": {
    "collapsed": false
   },
   "outputs": [
    {
     "data": {
      "text/plain": [
       "array([ 5.21431971], dtype=float32)"
      ]
     },
     "execution_count": 23,
     "metadata": {},
     "output_type": "execute_result"
    }
   ],
=======
   "execution_count": null,
   "metadata": {
    "collapsed": false
   },
   "outputs": [],
>>>>>>> 1ec51f0ba67ee41f2dd9b8a4fe6f38636c29c840
   "source": [
    "# Prediction after variables reinitialized\n",
    "predict(3)"
   ]
  },
  {
   "cell_type": "code",
<<<<<<< HEAD
   "execution_count": 24,
=======
   "execution_count": null,
>>>>>>> 1ec51f0ba67ee41f2dd9b8a4fe6f38636c29c840
   "metadata": {
    "collapsed": false
   },
   "outputs": [],
   "source": [
    "saver.restore(sess, './my_checkpoint.ckpt')"
   ]
  },
  {
   "cell_type": "code",
<<<<<<< HEAD
   "execution_count": 25,
   "metadata": {
    "collapsed": false
   },
   "outputs": [
    {
     "data": {
      "text/plain": [
       "array([ 3.86561513], dtype=float32)"
      ]
     },
     "execution_count": 25,
     "metadata": {},
     "output_type": "execute_result"
    }
   ],
=======
   "execution_count": null,
   "metadata": {
    "collapsed": false
   },
   "outputs": [],
>>>>>>> 1ec51f0ba67ee41f2dd9b8a4fe6f38636c29c840
   "source": [
    "# Predictions after variables restored\n",
    "predict(3)"
   ]
  },
  {
   "cell_type": "code",
   "execution_count": null,
   "metadata": {},
   "outputs": [],
   "source": []
  }
 ],
 "metadata": {
  "anaconda-cloud": {},
  "kernelspec": {
   "display_name": "Python [default]",
   "language": "python",
   "name": "python3"
  },
  "language_info": {
   "codemirror_mode": {
    "name": "ipython",
    "version": 3
   },
   "file_extension": ".py",
   "mimetype": "text/x-python",
   "name": "python",
   "nbconvert_exporter": "python",
   "pygments_lexer": "ipython3",
   "version": "3.5.3"
  }
 },
 "nbformat": 4,
<<<<<<< HEAD
 "nbformat_minor": 2
=======
 "nbformat_minor": 1
>>>>>>> 1ec51f0ba67ee41f2dd9b8a4fe6f38636c29c840
}
